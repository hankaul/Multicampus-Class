{
 "cells": [
  {
   "cell_type": "markdown",
   "id": "514e5285",
   "metadata": {},
   "source": [
    "csv 파일\n",
    "- 엑셀 파일\n",
    " - 어디서나 사용할 수 있는 텍스트 데이터를 사용\n",
    " - 사용 이유 : 사용 난이도가 낮고, 활용도는 높음\n",
    "- xlsx 파일\n",
    " - MS 오피스에서만 동작\n",
    "- csv 파일 만든 다음 xlsx 파일로 변환 후 사용하면 됨"
   ]
  },
  {
   "cell_type": "markdown",
   "id": "bbec77ef",
   "metadata": {},
   "source": [
    "csv 파일 만들기 예제"
   ]
  },
  {
   "cell_type": "code",
   "execution_count": 2,
   "id": "06166776",
   "metadata": {},
   "outputs": [],
   "source": [
    "header = \",\".join([\"name\", \"age\", \"email\"])"
   ]
  },
  {
   "cell_type": "code",
   "execution_count": 3,
   "id": "eb14134e",
   "metadata": {},
   "outputs": [
    {
     "name": "stdout",
     "output_type": "stream",
     "text": [
      "name,age,email\n"
     ]
    }
   ],
   "source": [
    "print(header)"
   ]
  },
  {
   "cell_type": "markdown",
   "id": "1fe98367",
   "metadata": {},
   "source": [
    "- 텍스트 기반의 데이터를 csv 파일로 저장하기 위해서는 데이터가 , (쉼표)로 구분지어 있어야 함\n",
    "- 쉼표가 셸을 구분 지어주는 역할"
   ]
  },
  {
   "cell_type": "code",
   "execution_count": 4,
   "id": "2f37161a",
   "metadata": {},
   "outputs": [],
   "source": [
    "f = open(\"test.csv\",\"w\")\n",
    "f.write(header)\n",
    "f.close()"
   ]
  },
  {
   "cell_type": "markdown",
   "id": "2c9e2600",
   "metadata": {},
   "source": [
    "예제용 CSV 파일 100개, 1초 만에 만들어보기"
   ]
  },
  {
   "cell_type": "code",
   "execution_count": 7,
   "id": "77809355",
   "metadata": {},
   "outputs": [
    {
     "name": "stdout",
     "output_type": "stream",
     "text": [
      "작업을 시작합니다.\n",
      "작업이 끝났습니다.\n",
      "작업 시간이 0.03091716766357422초 걸렸습니다.\n"
     ]
    }
   ],
   "source": [
    "import time\n",
    "import random\n",
    "import os\n",
    "\n",
    "# 작업 시작 메세지를 출력\n",
    "print(\"작업을 시작합니다.\")\n",
    "\n",
    "# 시작 지점의 시간을 기록\n",
    "start_time = time.time()\n",
    "\n",
    "# 파일의 갯수를 지정\n",
    "FILE_NUMBER = 100\n",
    "\n",
    "# 이메일 생성에 사용할 샘플 글자 정의\n",
    "alphabet_samples = \"abcdefghijklmnopqrstuvwxyz1234567890\"\n",
    "\n",
    "# 이름 샘플 지정\n",
    "first_name_samples = \"이정최임김지장정허안황유고조박원오신전\"\n",
    "middle_name_samples = \"재세진소광정영인태정지\"\n",
    "last_name_samples = \"헌영석진열수신서환재혜\"\n",
    "\n",
    "# 나이와 핸드폰 번호 생성에 사용할 샘플 번호 정의\n",
    "int_samples = \"1234567890\"\n",
    "\n",
    "# 무작위로 선택된 영어 글자를 생성하는 함수\n",
    "def random_string(length):\n",
    "    result = \"\"\n",
    "    for i in range(length):\n",
    "        # result = result + random.choice(alphabet_samples)\n",
    "        result +=random.choice(alphabet_samples)\n",
    "    return result\n",
    "\n",
    "# 무작위 사람 이름을 생성하는 함수\n",
    "def random_name():\n",
    "    result = \"\"\n",
    "    result += random.choice(first_name_samples)\n",
    "    result += random.choice(middle_name_samples)\n",
    "    result += random.choice(last_name_samples)\n",
    "    return result\n",
    "\n",
    "# 무작위로 선택된 숫자(문자열 형태)를 생성하는 함수\n",
    "def random_int(length):\n",
    "    result = \"\"\n",
    "    for i in range(length):\n",
    "        result +=random.choice(int_samples)\n",
    "    return result\n",
    "\n",
    "# 결과물을 저장할 폴더 생성\n",
    "folder = \"샘플_폴더\"\n",
    "if folder not in os.listdir():\n",
    "    os.mkdir(folder)\n",
    "\n",
    "# 헤더 정의(맨 윗 행에 들어갈 내용)\n",
    "header = \",\".join([\"name\", \"age\", \"email\", \"division\", \"telephone\", \"sex\"]) + \"\\n\"\n",
    "\n",
    "# 개인정보 파일을 csv 파일로 자동 생성\n",
    "# FILE_NUMBER 수만큼 반복해서 생성\n",
    "for i in range(FILE_NUMBER):\n",
    "    \n",
    "    # 무작위 사람 이름 생성\n",
    "    name = random_name()\n",
    "    \n",
    "    # 파일 이름 정의\n",
    "    filename = \"샘플_폴더/\" + str(i) + \"_\" + name + \".csv\"\n",
    "    # ex) 샘플_폴더/0_이재헌.csv\n",
    "    \n",
    "    # 작성할 파일을 생성(빈파일 생성)\n",
    "    outfile = open(filename, \"w\")\n",
    "    \n",
    "    # 파일에 헤더 기재(첫번째 행)\n",
    "    outfile.write(header)\n",
    "    \n",
    "    # 파일에 이름 기재(두번째 행)\n",
    "    outfile.write(name + \",\")\n",
    "    \n",
    "    # 파일에 무작위로 나이를 기재\n",
    "    outfile.write(random_int(2) +\",\")\n",
    "    \n",
    "    # 파일에 무작위로 이메일 기재\n",
    "    outfile.write(random_string(8) + \"@gmail.com\" + \",\")\n",
    "    \n",
    "    # 파일에 무작위로 부서 기재\n",
    "    outfile.write(random_string(3) + \",\")\n",
    "    \n",
    "    # 파일에 무작위로 핸드폰 번호 기재\n",
    "    outfile.write(\"010-\" + random_int(4) + \"-\" + random_int(4) + \",\")\n",
    "    \n",
    "    # 파일에 무작위로 성별 기재\n",
    "    outfile.write(random.choice([\"남\", \"여\"]))\n",
    "    \n",
    "    # 파일 수정 마무리\n",
    "    outfile.close()\n",
    "    \n",
    "# 작업 종료 메세지를 출력\n",
    "print(\"작업이 끝났습니다.\")\n",
    "\n",
    "# 시작 지점의 시간을 기록\n",
    "end_time = time.time()\n",
    "print(\"작업 시간이 \" + str(end_time - start_time) + \"초 걸렸습니다.\")"
   ]
  },
  {
   "cell_type": "code",
   "execution_count": 6,
   "id": "9373f3b6",
   "metadata": {},
   "outputs": [
    {
     "name": "stdout",
     "output_type": "stream",
     "text": [
      "1644552860.7674985\n"
     ]
    }
   ],
   "source": [
    "import time\n",
    "print(time.time())"
   ]
  },
  {
   "cell_type": "markdown",
   "id": "ec3350dd",
   "metadata": {},
   "source": [
    "코딩 에러가 날 경우<br>\n",
    "#-*-coding:utf-8<br>\n",
    "#-*-coding:euc-kr"
   ]
  },
  {
   "cell_type": "markdown",
   "id": "3ffd6095",
   "metadata": {},
   "source": [
    "작성한 csv 파일 읽기"
   ]
  },
  {
   "cell_type": "code",
   "execution_count": 9,
   "id": "0755d443",
   "metadata": {
    "scrolled": true
   },
   "outputs": [
    {
     "name": "stdout",
     "output_type": "stream",
     "text": [
      "['name', 'age', 'email', 'division', 'telephone', 'sex']\n",
      "['조진진', '83', '7jr4c4ap@gmail.com', 'li9', '010-7332-5208', '남']\n"
     ]
    }
   ],
   "source": [
    "import csv\n",
    "\n",
    "f = open(\"샘플_폴더/0_조진진.csv\", \"r\")\n",
    "rdc = csv.reader(f)\n",
    "for i in rdc:\n",
    "    print(i)\n",
    "f.close()"
   ]
  },
  {
   "cell_type": "markdown",
   "id": "41916b4d",
   "metadata": {},
   "source": [
    "sys.argv 테스트해보기\n",
    "- sys.py 파일로 만들어서 실습"
   ]
  },
  {
   "cell_type": "code",
   "execution_count": 13,
   "id": "da7dbf90",
   "metadata": {},
   "outputs": [
    {
     "name": "stdout",
     "output_type": "stream",
     "text": [
      "-f\n",
      "C:\\Users\\student\\AppData\\Roaming\\jupyter\\runtime\\kernel-a086be43-fe58-47c8-8ecf-64405615bd69.json\n"
     ]
    }
   ],
   "source": [
    "# sys.py\n",
    "import sys\n",
    "\n",
    "args = sys.argv[1:]\n",
    "for i in args:\n",
    "    print(i)"
   ]
  },
  {
   "cell_type": "markdown",
   "id": "b468eee1",
   "metadata": {},
   "source": [
    "csv 파일을 하나로 합쳐보기 예제\n",
    "- merge.py 파일로 만들어서 실습"
   ]
  },
  {
   "cell_type": "code",
   "execution_count": 21,
   "id": "4b614585",
   "metadata": {},
   "outputs": [
    {
     "ename": "FileNotFoundError",
     "evalue": "[WinError 3] 지정된 경로를 찾을 수 없습니다: '-f'",
     "output_type": "error",
     "traceback": [
      "\u001b[1;31m----------------------------------------------------\u001b[0m",
      "\u001b[1;31mFileNotFoundError\u001b[0m  Traceback (most recent call last)",
      "\u001b[1;32m~\\AppData\\Local\\Temp/ipykernel_8752/1394536413.py\u001b[0m in \u001b[0;36m<module>\u001b[1;34m\u001b[0m\n\u001b[0;32m      9\u001b[0m \u001b[0mout_file\u001b[0m \u001b[1;33m=\u001b[0m \u001b[0mopen\u001b[0m\u001b[1;33m(\u001b[0m\u001b[0moutfile_name\u001b[0m\u001b[1;33m,\u001b[0m \u001b[1;34m\"w\"\u001b[0m\u001b[1;33m)\u001b[0m\u001b[1;33m\u001b[0m\u001b[1;33m\u001b[0m\u001b[0m\n\u001b[0;32m     10\u001b[0m \u001b[1;33m\u001b[0m\u001b[0m\n\u001b[1;32m---> 11\u001b[1;33m \u001b[0minput_files\u001b[0m \u001b[1;33m=\u001b[0m \u001b[0mos\u001b[0m\u001b[1;33m.\u001b[0m\u001b[0mlistdir\u001b[0m\u001b[1;33m(\u001b[0m\u001b[0mdirectory\u001b[0m\u001b[1;33m)\u001b[0m\u001b[1;33m\u001b[0m\u001b[1;33m\u001b[0m\u001b[0m\n\u001b[0m\u001b[0;32m     12\u001b[0m \u001b[1;33m\u001b[0m\u001b[0m\n\u001b[0;32m     13\u001b[0m \u001b[0moutfile_header\u001b[0m \u001b[1;33m=\u001b[0m \u001b[1;32mFalse\u001b[0m\u001b[1;33m\u001b[0m\u001b[1;33m\u001b[0m\u001b[0m\n",
      "\u001b[1;31mFileNotFoundError\u001b[0m: [WinError 3] 지정된 경로를 찾을 수 없습니다: '-f'"
     ]
    }
   ],
   "source": [
    "import os\n",
    "import sys\n",
    "\n",
    "# 하나로 합칠 파일들이 저장된 폴더 이름을 시스템으로부터 입력\n",
    "directory = sys.argv[1]\n",
    "\n",
    "# 하나로 합쳐진 파일의 이름을 정의\n",
    "outfile_name = \"합친_파일.csv\"\n",
    "\n",
    "# 결과물 파일을 생성\n",
    "output_file = open(outfile_name, \"w\")\n",
    "\n",
    "# 폴더의 내용물을 열람해서 목록을 생성\n",
    "input_files = os.listdir(directory)\n",
    "\n",
    "# 헤더를 분리하기 위한 변수를 정의\n",
    "# 밑에 for 문이 한 번 실행된 후 False 전환 예정\n",
    "outfile_header = False\n",
    "\n",
    "# 폴더의 내용물을 하나 하나 불러와서 합치는 작업을 수행\n",
    "for filename in input_files:\n",
    "    # csv 파일이 아닌 것은 걸러줌\n",
    "    if \".csv\" not in filename:\n",
    "        continue\n",
    "    \n",
    "    # csv 파일이 맞다면, 파일을 읽어옴\n",
    "    # 샘플_폴더/파일명\n",
    "    file = open(directory + \"/\" + filename)\n",
    "    \n",
    "    # 첫 번째 줄 헤더를 정의\n",
    "    # 포커스가 헤더 다음 줄에 맞춰짐\n",
    "    header = file.readline()\n",
    "    \n",
    "    # 첫 번재 줄 헤더를 파일에 입력, 최초 1회만 실행\n",
    "    if not outfile_header:\n",
    "        output_file.write(header.strip())\n",
    "        outfile_header = True\n",
    "        \n",
    "    # 결과물 파일에 내용물을 입력\n",
    "    output_file.write(\"\\n\" + file.read())\n",
    "    \n",
    "    # 읽어온 파일들을 종료\n",
    "    file.close()\n",
    "    \n",
    "# 결과물 파일을 종료\n",
    "output_file.close()"
   ]
  },
  {
   "cell_type": "code",
   "execution_count": 19,
   "id": "182e36c8",
   "metadata": {},
   "outputs": [
    {
     "data": {
      "text/plain": [
       "'C:\\\\Users\\\\student\\\\Python'"
      ]
     },
     "execution_count": 19,
     "metadata": {},
     "output_type": "execute_result"
    }
   ],
   "source": [
    "os.getcwd()"
   ]
  },
  {
   "cell_type": "code",
   "execution_count": 14,
   "id": "916c8f51",
   "metadata": {},
   "outputs": [],
   "source": [
    "directory = sys.argv[1]"
   ]
  },
  {
   "cell_type": "code",
   "execution_count": 15,
   "id": "87b6c24a",
   "metadata": {},
   "outputs": [
    {
     "name": "stdout",
     "output_type": "stream",
     "text": [
      "-f\n"
     ]
    }
   ],
   "source": [
    "print(directory)"
   ]
  },
  {
   "cell_type": "code",
   "execution_count": null,
   "id": "a7ee6419",
   "metadata": {},
   "outputs": [],
   "source": []
  }
 ],
 "metadata": {
  "kernelspec": {
   "display_name": "Python 3 (ipykernel)",
   "language": "python",
   "name": "python3"
  },
  "language_info": {
   "codemirror_mode": {
    "name": "ipython",
    "version": 3
   },
   "file_extension": ".py",
   "mimetype": "text/x-python",
   "name": "python",
   "nbconvert_exporter": "python",
   "pygments_lexer": "ipython3",
   "version": "3.9.7"
  }
 },
 "nbformat": 4,
 "nbformat_minor": 5
}
