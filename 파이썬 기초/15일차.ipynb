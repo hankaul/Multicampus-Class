{
 "cells": [
  {
   "cell_type": "markdown",
   "id": "a0ae6a74",
   "metadata": {},
   "source": [
    "# 데이터프레임의 구조\n",
    "- auto-mpg.csv 데이터셋 사용\n",
    "- mpg(연비), cylindes(실린더 수), displacement(배기량), horsepower(출력), weight(차중), acceleration(가속 능력), model_year(출시 년도), origin(제조국), model_name(모델 명) 순으로 나열"
   ]
  },
  {
   "cell_type": "markdown",
   "id": "f2c4a054",
   "metadata": {},
   "source": [
    "## 데이터프레임의 내용 확인\n",
    "- 앞부분 미리보기 : DataFrame 객체.head(n)\n",
    "- 뒷부분 미리보기 : DataFrame 객체.tail(n)"
   ]
  },
  {
   "cell_type": "markdown",
   "id": "061f7be9",
   "metadata": {},
   "source": [
    "데이터 살펴보기 예제"
   ]
  },
  {
   "cell_type": "code",
   "execution_count": 8,
   "id": "999f4e7a",
   "metadata": {},
   "outputs": [],
   "source": [
    "import pandas as pd\n",
    "\n",
    "# read_csv() 함수로 df 생성\n",
    "# 열을 따로 지정해주지 않기 위해 header=None 옵션 사용\n",
    "df = pd.read_csv('./auto-mpg.csv', header=None)\n",
    "\n",
    "# print(df)\n",
    "\n",
    "# 열이름 지정\n",
    "df.columns = ['mpg', 'cylinders', 'displacement', 'horsepower', 'weight', \n",
    "              'acceleration', 'model year', 'origin', 'name']"
   ]
  },
  {
   "cell_type": "code",
   "execution_count": 9,
   "id": "8928c45d",
   "metadata": {},
   "outputs": [
    {
     "name": "stdout",
     "output_type": "stream",
     "text": [
      "    mpg  cylinders  displacement horsepower  weight  acceleration  model year  \\\n",
      "0  18.0          8         307.0      130.0  3504.0          12.0          70   \n",
      "1  15.0          8         350.0      165.0  3693.0          11.5          70   \n",
      "2  18.0          8         318.0      150.0  3436.0          11.0          70   \n",
      "3  16.0          8         304.0      150.0  3433.0          12.0          70   \n",
      "4  17.0          8         302.0      140.0  3449.0          10.5          70   \n",
      "\n",
      "   origin                       name  \n",
      "0       1  chevrolet chevelle malibu  \n",
      "1       1          buick skylark 320  \n",
      "2       1         plymouth satellite  \n",
      "3       1              amc rebel sst  \n",
      "4       1                ford torino  \n"
     ]
    }
   ],
   "source": [
    "# 처음 5개 행 출력\n",
    "print(df.head())"
   ]
  },
  {
   "cell_type": "code",
   "execution_count": 10,
   "id": "0d66c1db",
   "metadata": {},
   "outputs": [
    {
     "name": "stdout",
     "output_type": "stream",
     "text": [
      "      mpg  cylinders  displacement horsepower  weight  acceleration  \\\n",
      "393  27.0          4         140.0      86.00  2790.0          15.6   \n",
      "394  44.0          4          97.0      52.00  2130.0          24.6   \n",
      "395  32.0          4         135.0      84.00  2295.0          11.6   \n",
      "396  28.0          4         120.0      79.00  2625.0          18.6   \n",
      "397  31.0          4         119.0      82.00  2720.0          19.4   \n",
      "\n",
      "     model year  origin             name  \n",
      "393          82       1  ford mustang gl  \n",
      "394          82       2        vw pickup  \n",
      "395          82       1    dodge rampage  \n",
      "396          82       1      ford ranger  \n",
      "397          82       1       chevy s-10  \n"
     ]
    }
   ],
   "source": [
    "# 마지막 5개 행 출력\n",
    "print(df.tail())"
   ]
  },
  {
   "cell_type": "markdown",
   "id": "6ca1c08d",
   "metadata": {},
   "source": [
    "## 데이터의 요약 정보 확인하기\n",
    "### 데이터 프레임의 크기(행, 열)\n",
    "- 데이터프레임의 shape 속성은 행과 열의 개수를 튜플 형태로 출력\n",
    "- 데이터프레임의 크기 확인 : DataFrame 객체.shape\n",
    "\n",
    "데이터 살펴보기 예제"
   ]
  },
  {
   "cell_type": "code",
   "execution_count": 11,
   "id": "32f82d0b",
   "metadata": {},
   "outputs": [],
   "source": [
    "import pandas as pd\n",
    "\n",
    "# read_csv() 함수로 df 생성\n",
    "# 열을 따로 지정해주지 않기 위해 header=None 옵션 사용\n",
    "df = pd.read_csv('./auto-mpg.csv', header=None)\n",
    "\n",
    "# print(df)\n",
    "\n",
    "# 열이름 지정\n",
    "df.columns = ['mpg', 'cylinders', 'displacement', 'horsepower', 'weight', \n",
    "              'acceleration', 'model year', 'origin', 'name']"
   ]
  },
  {
   "cell_type": "code",
   "execution_count": 12,
   "id": "acb58124",
   "metadata": {},
   "outputs": [
    {
     "name": "stdout",
     "output_type": "stream",
     "text": [
      "(398, 9)\n"
     ]
    }
   ],
   "source": [
    "# df의 모양과 크기 확인: (행의 개수, 열의 개수)를 튜플로 반환\n",
    "print(df.shape)"
   ]
  },
  {
   "cell_type": "markdown",
   "id": "6a86ee94",
   "metadata": {},
   "source": [
    "### 데이터프레임의 기본 정보\n",
    "- info() 함수를 데이터프레임에 적용하면 데이터프레임에 관한 기본 정보를 화면에 출력\n",
    " - 클래스 유형, 행 인덱스 구성, 열 이름의 종류와 개수, 각 열의 자료형과 개수, 메모리 할당량에 관한 정보 포함\n",
    "- 데이터프레임의 기본 정보 출력 : DataFrame 객체.info()"
   ]
  },
  {
   "cell_type": "markdown",
   "id": "3964181e",
   "metadata": {},
   "source": [
    "데이터 살펴보기 예제"
   ]
  },
  {
   "cell_type": "code",
   "execution_count": 13,
   "id": "75fe5bd5",
   "metadata": {},
   "outputs": [],
   "source": [
    "import pandas as pd\n",
    "\n",
    "# read_csv() 함수로 df 생성\n",
    "# 열을 따로 지정해주지 않기 위해 header=None 옵션 사용\n",
    "df = pd.read_csv('./auto-mpg.csv', header=None)\n",
    "\n",
    "# print(df)\n",
    "\n",
    "# 열이름 지정\n",
    "df.columns = ['mpg', 'cylinders', 'displacement', 'horsepower', 'weight', \n",
    "              'acceleration', 'model year', 'origin', 'name']"
   ]
  },
  {
   "cell_type": "code",
   "execution_count": 14,
   "id": "7381b6a9",
   "metadata": {},
   "outputs": [
    {
     "name": "stdout",
     "output_type": "stream",
     "text": [
      "<class 'pandas.core.frame.DataFrame'>\n",
      "RangeIndex: 398 entries, 0 to 397\n",
      "Data columns (total 9 columns):\n",
      " #   Column        Non-Null Count  Dtype  \n",
      "---  ------        --------------  -----  \n",
      " 0   mpg           398 non-null    float64\n",
      " 1   cylinders     398 non-null    int64  \n",
      " 2   displacement  398 non-null    float64\n",
      " 3   horsepower    398 non-null    object \n",
      " 4   weight        398 non-null    float64\n",
      " 5   acceleration  398 non-null    float64\n",
      " 6   model year    398 non-null    int64  \n",
      " 7   origin        398 non-null    int64  \n",
      " 8   name          398 non-null    object \n",
      "dtypes: float64(4), int64(3), object(2)\n",
      "memory usage: 28.1+ KB\n",
      "None\n"
     ]
    }
   ],
   "source": [
    "# 데이터프레임의 기본 정보 확인\n",
    "print(df.info())"
   ]
  },
  {
   "cell_type": "markdown",
   "id": "5d3edc17",
   "metadata": {},
   "source": [
    "- 판다스 자료형\n",
    " - int64 : 정수형 데이터\n",
    " - float64 : 실수형 데이터\n",
    " - object : 문자열 데이터\n",
    " - datetime64, timedelta64 : 시간 데이터\n",
    "- dtypes 속성에는 각 열에 대한 자료형의 개수가 포함"
   ]
  },
  {
   "cell_type": "markdown",
   "id": "6c97f056",
   "metadata": {},
   "source": [
    "dtypes 속성을 활용하여 각 열의 자료형 확인 예제"
   ]
  },
  {
   "cell_type": "code",
   "execution_count": 19,
   "id": "34cf9a78",
   "metadata": {},
   "outputs": [],
   "source": [
    "import pandas as pd\n",
    "\n",
    "# read_csv() 함수로 df 생성\n",
    "# 열을 따로 지정해주지 않기 위해 header=None 옵션 사용\n",
    "df = pd.read_csv('./auto-mpg.csv', header=None)\n",
    "\n",
    "# print(df)\n",
    "\n",
    "# 열이름 지정\n",
    "df.columns = ['mpg', 'cylinders', 'displacement', 'horsepower', 'weight', \n",
    "              'acceleration', 'model year', 'origin', 'name']"
   ]
  },
  {
   "cell_type": "code",
   "execution_count": 16,
   "id": "e646ad45",
   "metadata": {},
   "outputs": [
    {
     "name": "stdout",
     "output_type": "stream",
     "text": [
      "mpg             float64\n",
      "cylinders         int64\n",
      "displacement    float64\n",
      "horsepower       object\n",
      "weight          float64\n",
      "acceleration    float64\n",
      "model year        int64\n",
      "origin            int64\n",
      "name             object\n",
      "dtype: object\n"
     ]
    }
   ],
   "source": [
    "# 데이터프레임 df의 자료형 확인\n",
    "print(df.dtypes)"
   ]
  },
  {
   "cell_type": "code",
   "execution_count": 20,
   "id": "f97c9ff2",
   "metadata": {},
   "outputs": [
    {
     "name": "stdout",
     "output_type": "stream",
     "text": [
      "int64\n"
     ]
    }
   ],
   "source": [
    "# 데이터프레임의 특정 열(mpg)의 자료형 확인\n",
    "print(df.mpg.dtypes)"
   ]
  },
  {
   "cell_type": "markdown",
   "id": "e9ebb899",
   "metadata": {},
   "source": [
    "### 데이터프레임의 기술 통계 정보 요약\n",
    "- 데이터프레임에 describe() 함수 적용시, 산술(숫자) 데이터를 갖는 열에 대한 주요 기술 통계 정보(평균, 표준편차, 최대값, 중간값 등)을 요약하여 출력<br>\n",
    "<code>데이터프레임의 기술 통계 정보 요약 : DataFrame 객체.describe()</code>"
   ]
  },
  {
   "cell_type": "markdown",
   "id": "4048d4a1",
   "metadata": {},
   "source": [
    "데이터 살펴보기 예제"
   ]
  },
  {
   "cell_type": "code",
   "execution_count": null,
   "id": "e4eb99f8",
   "metadata": {},
   "outputs": [],
   "source": [
    "import pandas as pd\n",
    "\n",
    "# read_csv() 함수로 df 생성\n",
    "# 열을 따로 지정해주지 않기 위해 header=None 옵션 사용\n",
    "df = pd.read_csv('./auto-mpg.csv', header=None)\n",
    "\n",
    "# print(df)\n",
    "\n",
    "# 열이름 지정\n",
    "df.columns = ['mpg', 'cylinders', 'displacement', 'horsepower', 'weight', \n",
    "              'acceleration', 'model year', 'origin', 'name']"
   ]
  },
  {
   "cell_type": "code",
   "execution_count": 21,
   "id": "61afcf3c",
   "metadata": {},
   "outputs": [
    {
     "name": "stdout",
     "output_type": "stream",
     "text": [
      "              mpg   cylinders  displacement       weight  acceleration  \\\n",
      "count  398.000000  398.000000    398.000000   398.000000    398.000000   \n",
      "mean    23.514573    5.454774    193.425879  2970.424623     15.568090   \n",
      "std      7.815984    1.701004    104.269838   846.841774      2.757689   \n",
      "min      9.000000    3.000000     68.000000  1613.000000      8.000000   \n",
      "25%     17.500000    4.000000    104.250000  2223.750000     13.825000   \n",
      "50%     23.000000    4.000000    148.500000  2803.500000     15.500000   \n",
      "75%     29.000000    8.000000    262.000000  3608.000000     17.175000   \n",
      "max     46.600000    8.000000    455.000000  5140.000000     24.800000   \n",
      "\n",
      "       model_year      origin  \n",
      "count  398.000000  398.000000  \n",
      "mean    76.010050    1.572864  \n",
      "std      3.697627    0.802055  \n",
      "min     70.000000    1.000000  \n",
      "25%     73.000000    1.000000  \n",
      "50%     76.000000    1.000000  \n",
      "75%     79.000000    2.000000  \n",
      "max     82.000000    3.000000  \n"
     ]
    }
   ],
   "source": [
    "# 데이터프레임 df의 기술 통계 정보 확인\n",
    "print(df.describe())"
   ]
  },
  {
   "cell_type": "code",
   "execution_count": 22,
   "id": "35c6a7ab",
   "metadata": {},
   "outputs": [
    {
     "name": "stdout",
     "output_type": "stream",
     "text": [
      "               mpg   cylinders  displacement horsepower       weight  \\\n",
      "count   398.000000  398.000000    398.000000        398   398.000000   \n",
      "unique         NaN         NaN           NaN         94          NaN   \n",
      "top            NaN         NaN           NaN      150.0          NaN   \n",
      "freq           NaN         NaN           NaN         22          NaN   \n",
      "mean     23.514573    5.454774    193.425879        NaN  2970.424623   \n",
      "std       7.815984    1.701004    104.269838        NaN   846.841774   \n",
      "min       9.000000    3.000000     68.000000        NaN  1613.000000   \n",
      "25%      17.500000    4.000000    104.250000        NaN  2223.750000   \n",
      "50%      23.000000    4.000000    148.500000        NaN  2803.500000   \n",
      "75%      29.000000    8.000000    262.000000        NaN  3608.000000   \n",
      "max      46.600000    8.000000    455.000000        NaN  5140.000000   \n",
      "\n",
      "        acceleration  model_year      origin        name  \n",
      "count     398.000000  398.000000  398.000000         398  \n",
      "unique           NaN         NaN         NaN         305  \n",
      "top              NaN         NaN         NaN  ford pinto  \n",
      "freq             NaN         NaN         NaN           6  \n",
      "mean       15.568090   76.010050    1.572864         NaN  \n",
      "std         2.757689    3.697627    0.802055         NaN  \n",
      "min         8.000000   70.000000    1.000000         NaN  \n",
      "25%        13.825000   73.000000    1.000000         NaN  \n",
      "50%        15.500000   76.000000    1.000000         NaN  \n",
      "75%        17.175000   79.000000    2.000000         NaN  \n",
      "max        24.800000   82.000000    3.000000         NaN  \n"
     ]
    }
   ],
   "source": [
    "# 데이터프레임 df의 기술 통계 정보 확인\n",
    "print(df.describe(include='all'))"
   ]
  },
  {
   "cell_type": "markdown",
   "id": "74f3d413",
   "metadata": {},
   "source": [
    "- 기본 describe() 함수 사용시 데이터 수(count), 평균(mean), 표준편차(std), 분위수(25%, 50%, 75%), 최대최소(max, min) 출력\n",
    "- include='all' 옵션 사용시 고유값 개수(unique), 최빈값(top), 빈도수(freq) 추가로 출력"
   ]
  },
  {
   "cell_type": "markdown",
   "id": "a7295302",
   "metadata": {},
   "source": [
    "## 통계 함수 적용\n",
    "### 평균값\n",
    "- 데이터프레임에 mean() 함수를 사용하면, 산술 데이터를 갖는 모든 열의 평균값을 계산하여 시리즈 객체로 반환\n",
    "- 전체 평균값을 확인 가능, 특정 열의 평균값도 확인 가능<br>\n",
    "<code>모든 열의 평균값 : DataFrame 객체.mean()</code><br>\n",
    "<code>특정 열의 평균값 : DataFrame 객체[\"열 이름\"].mean()</code>"
   ]
  },
  {
   "cell_type": "markdown",
   "id": "be3e5c5f",
   "metadata": {},
   "source": [
    "통계 함수 예제"
   ]
  },
  {
   "cell_type": "code",
   "execution_count": 32,
   "id": "9d7d71e1",
   "metadata": {},
   "outputs": [],
   "source": [
    "import pandas as pd\n",
    "\n",
    "# read_csv() 함수로 df 생성\n",
    "# 열을 따로 지정해주지 않기 위해 header=None 옵션 사용\n",
    "df = pd.read_csv('./auto-mpg.csv', header=None)\n",
    "\n",
    "# print(df)\n",
    "\n",
    "# 열이름 지정\n",
    "df.columns = ['mpg', 'cylinders', 'displacement', 'horsepower', 'weight', \n",
    "              'acceleration', 'model year', 'origin', 'name']"
   ]
  },
  {
   "cell_type": "code",
   "execution_count": 33,
   "id": "6395c94b",
   "metadata": {},
   "outputs": [
    {
     "name": "stdout",
     "output_type": "stream",
     "text": [
      "mpg               23.514573\n",
      "cylinders          5.454774\n",
      "displacement     193.425879\n",
      "weight          2970.424623\n",
      "acceleration      15.568090\n",
      "model year        76.010050\n",
      "origin             1.572864\n",
      "dtype: float64\n"
     ]
    },
    {
     "name": "stderr",
     "output_type": "stream",
     "text": [
      "C:\\Users\\student\\AppData\\Local\\Temp/ipykernel_2160/3459733852.py:2: FutureWarning: Dropping of nuisance columns in DataFrame reductions (with 'numeric_only=None') is deprecated; in a future version this will raise TypeError.  Select only valid columns before calling the reduction.\n",
      "  print(df.mean())\n"
     ]
    }
   ],
   "source": [
    "# 열 전체 평균값\n",
    "print(df.mean())"
   ]
  },
  {
   "cell_type": "code",
   "execution_count": 28,
   "id": "5ba63f38",
   "metadata": {},
   "outputs": [
    {
     "name": "stdout",
     "output_type": "stream",
     "text": [
      "23.514572864321615\n"
     ]
    }
   ],
   "source": [
    "# 특정 열 평균값\n",
    "print(df['mpg'].mean())"
   ]
  },
  {
   "cell_type": "code",
   "execution_count": 29,
   "id": "790c175b",
   "metadata": {},
   "outputs": [
    {
     "name": "stdout",
     "output_type": "stream",
     "text": [
      "mpg         23.514573\n",
      "weight    2970.424623\n",
      "dtype: float64\n"
     ]
    }
   ],
   "source": [
    "# 특정 열 두 개 평균값\n",
    "print(df[['mpg', 'weight']].mean())"
   ]
  },
  {
   "cell_type": "markdown",
   "id": "bf773f15",
   "metadata": {},
   "source": [
    "### 중간값\n",
    "- 데이터프레임에 median() 함수를 사용하면 산술 데이터를 갖는 모든 열의 중간값을 계산하여 시리즈로 반환\n",
    "- 데이터프레임의 모든 열의 중간값 계산 가능, 특정 열의 중간값 계산 가능<br>\n",
    "<code>모든 열의 중간값 : DataFrame 객체.median()</code><br>\n",
    "<code>특정 열의 중간값 : DataFrame 객체[\"열 이름\"].median()</code>"
   ]
  },
  {
   "cell_type": "markdown",
   "id": "bfcfc665",
   "metadata": {},
   "source": [
    "통계 함수 예제"
   ]
  },
  {
   "cell_type": "code",
   "execution_count": null,
   "id": "801d32cf",
   "metadata": {},
   "outputs": [],
   "source": [
    "import pandas as pd\n",
    "\n",
    "# read_csv() 함수로 df 생성\n",
    "# 열을 따로 지정해주지 않기 위해 header=None 옵션 사용\n",
    "df = pd.read_csv('./auto-mpg.csv', header=None)\n",
    "\n",
    "# print(df)\n",
    "\n",
    "# 열이름 지정\n",
    "df.columns = ['mpg', 'cylinders', 'displacement', 'horsepower', 'weight', \n",
    "              'acceleration', 'model year', 'origin', 'name']"
   ]
  },
  {
   "cell_type": "code",
   "execution_count": 34,
   "id": "e44a9e48",
   "metadata": {},
   "outputs": [
    {
     "name": "stdout",
     "output_type": "stream",
     "text": [
      "mpg               23.0\n",
      "cylinders          4.0\n",
      "displacement     148.5\n",
      "weight          2803.5\n",
      "acceleration      15.5\n",
      "model year        76.0\n",
      "origin             1.0\n",
      "dtype: float64\n"
     ]
    },
    {
     "name": "stderr",
     "output_type": "stream",
     "text": [
      "C:\\Users\\student\\AppData\\Local\\Temp/ipykernel_2160/4259369830.py:1: FutureWarning: Dropping of nuisance columns in DataFrame reductions (with 'numeric_only=None') is deprecated; in a future version this will raise TypeError.  Select only valid columns before calling the reduction.\n",
      "  print(df.median())\n"
     ]
    }
   ],
   "source": [
    "print(df.median())"
   ]
  },
  {
   "cell_type": "code",
   "execution_count": 35,
   "id": "b48b1e54",
   "metadata": {},
   "outputs": [
    {
     "name": "stdout",
     "output_type": "stream",
     "text": [
      "23.0\n"
     ]
    }
   ],
   "source": [
    "print(df['mpg'].median())"
   ]
  },
  {
   "cell_type": "markdown",
   "id": "add28fcd",
   "metadata": {},
   "source": [
    "데이터의 개수가 짝수일 경우 중간값 구하기 예제"
   ]
  },
  {
   "cell_type": "code",
   "execution_count": 36,
   "id": "dec9dde7",
   "metadata": {},
   "outputs": [
    {
     "name": "stdout",
     "output_type": "stream",
     "text": [
      "X     5.5\n",
      "Y    10.0\n",
      "dtype: float64\n"
     ]
    }
   ],
   "source": [
    "import pandas as pd\n",
    "\n",
    "df = pd.DataFrame({'X' : [1, 2, 4, 7, 10, 13],\n",
    "                   'Y' : [3, 5, 9, 11, 12, 15]})\n",
    "\n",
    "medians = df.median()\n",
    "print(medians)"
   ]
  },
  {
   "cell_type": "markdown",
   "id": "c04d89b3",
   "metadata": {},
   "source": [
    "- 데이터의 개수가 짝수일 경우 중간값(2개) 사이의 값을 출력해줌"
   ]
  },
  {
   "cell_type": "markdown",
   "id": "061ab919",
   "metadata": {},
   "source": [
    "### 최대값\n",
    "- 데이터프레임에 max() 함수를 사용하면 산술 데이터를 갖는 모든 열의 최대값을 계산하여 시리즈로 반환\n",
    "- 데이터프레임의 모든 열의 최대값 계산 가능, 특정 열의 최대값 계산 가능<br>\n",
    "<code>모든 열의 최대값 : DataFrame 객체.max()</code><br>\n",
    "<code>특정 열의 최대값 : DataFrame 객체[\"열 이름\"].max()</code>"
   ]
  },
  {
   "cell_type": "markdown",
   "id": "7b499f35",
   "metadata": {},
   "source": [
    "통계 함수 예제"
   ]
  },
  {
   "cell_type": "code",
   "execution_count": 38,
   "id": "0bcf4a34",
   "metadata": {},
   "outputs": [],
   "source": [
    "import pandas as pd\n",
    "\n",
    "# read_csv() 함수로 df 생성\n",
    "# 열을 따로 지정해주지 않기 위해 header=None 옵션 사용\n",
    "df = pd.read_csv('./auto-mpg.csv', header=None)\n",
    "\n",
    "# print(df)\n",
    "\n",
    "# 열이름 지정\n",
    "df.columns = ['mpg', 'cylinders', 'displacement', 'horsepower', 'weight', \n",
    "              'acceleration', 'model year', 'origin', 'name']"
   ]
  },
  {
   "cell_type": "code",
   "execution_count": 39,
   "id": "4f78d569",
   "metadata": {},
   "outputs": [
    {
     "name": "stdout",
     "output_type": "stream",
     "text": [
      "mpg                         46.6\n",
      "cylinders                      8\n",
      "displacement               455.0\n",
      "horsepower                     ?\n",
      "weight                      5140\n",
      "acceleration                24.8\n",
      "model year                    82\n",
      "origin                         3\n",
      "name            vw rabbit custom\n",
      "dtype: object\n"
     ]
    }
   ],
   "source": [
    "print(df.max())"
   ]
  },
  {
   "cell_type": "code",
   "execution_count": 41,
   "id": "ac39384e",
   "metadata": {},
   "outputs": [
    {
     "name": "stdout",
     "output_type": "stream",
     "text": [
      "46.6\n"
     ]
    }
   ],
   "source": [
    "print(df['mpg'].max())"
   ]
  },
  {
   "cell_type": "markdown",
   "id": "feead22e",
   "metadata": {},
   "source": [
    "- 문자열은 ASCII 숫자로 변환하여 크고 작음을 비교\n",
    "- 'horsepower' 열에는 '?' 문자가 포함되어 있기 때문에 최대값도 '?' 출력"
   ]
  },
  {
   "cell_type": "markdown",
   "id": "3f2533d4",
   "metadata": {},
   "source": [
    "### 최소값\n",
    "- 데이터프레임에 min() 함수를 사용하면 산술 데이터를 갖는 모든 열의 최소값을 계산하여 시리즈로 반환\n",
    "- 데이터프레임의 모든 열의 최소값 계산 가능, 특정 열의 최소값 계산 가능<br>\n",
    "<code>모든 열의 최소값 : DataFrame 객체.min()</code><br>\n",
    "<code>특정 열의 최소값 : DataFrame 객체[\"열 이름\"].min()</code>"
   ]
  },
  {
   "cell_type": "markdown",
   "id": "4d9f87d3",
   "metadata": {},
   "source": [
    "통계 함수 예제"
   ]
  },
  {
   "cell_type": "code",
   "execution_count": 44,
   "id": "670a1cd7",
   "metadata": {},
   "outputs": [],
   "source": [
    "import pandas as pd\n",
    "\n",
    "# read_csv() 함수로 df 생성\n",
    "# 열을 따로 지정해주지 않기 위해 header=None 옵션 사용\n",
    "df = pd.read_csv('./auto-mpg.csv', header=None)\n",
    "\n",
    "# print(df)\n",
    "\n",
    "# 열이름 지정\n",
    "df.columns = ['mpg', 'cylinders', 'displacement', 'horsepower', 'weight', \n",
    "              'acceleration', 'model year', 'origin', 'name']"
   ]
  },
  {
   "cell_type": "code",
   "execution_count": 45,
   "id": "093c83b6",
   "metadata": {},
   "outputs": [
    {
     "name": "stdout",
     "output_type": "stream",
     "text": [
      "mpg                                 9.0\n",
      "cylinders                             3\n",
      "displacement                       68.0\n",
      "horsepower                          100\n",
      "weight                             1613\n",
      "acceleration                        8.0\n",
      "model year                           70\n",
      "origin                                1\n",
      "name            amc ambassador brougham\n",
      "dtype: object\n"
     ]
    }
   ],
   "source": [
    "print(df.min())"
   ]
  },
  {
   "cell_type": "code",
   "execution_count": 46,
   "id": "aee369be",
   "metadata": {},
   "outputs": [
    {
     "name": "stdout",
     "output_type": "stream",
     "text": [
      "9.0\n"
     ]
    }
   ],
   "source": [
    "print(df['mpg'].min())"
   ]
  },
  {
   "cell_type": "markdown",
   "id": "5ab04713",
   "metadata": {},
   "source": [
    "- 실제 데이터 분석 과정에서 \"?\"를 사용하는 경우가 거의 없음(신경쓰지 않아도 됨)"
   ]
  },
  {
   "cell_type": "markdown",
   "id": "90bcfa29",
   "metadata": {},
   "source": [
    "### 표준편차\n",
    "- 데이터프레임에 std() 함수를 사용하면 산술 데이터를 갖는 열의 표준 편차를 계산하여 시리즈로 반환\n",
    "- 데이터프레임의 열의 표준편차 계산 가능, 특정 열의 표준편차 계산 가능<br>\n",
    "<code>모든 열의 표준편차 : DataFrame 객체.std()</code><br>\n",
    "<code>특정 열의 표준편차 : DataFrame 객체[\"열 이름\"].std()</code>\n",
    "- 편차 : 기본 데이터가 평균으로부터 얼마나 떨어져 있는지를 알 수 있는 척도"
   ]
  },
  {
   "cell_type": "markdown",
   "id": "e668f476",
   "metadata": {},
   "source": [
    "통계 함수 예제"
   ]
  },
  {
   "cell_type": "code",
   "execution_count": null,
   "id": "55698f54",
   "metadata": {},
   "outputs": [],
   "source": [
    "import pandas as pd\n",
    "\n",
    "# read_csv() 함수로 df 생성\n",
    "# 열을 따로 지정해주지 않기 위해 header=None 옵션 사용\n",
    "df = pd.read_csv('./auto-mpg.csv', header=None)\n",
    "\n",
    "# print(df)\n",
    "\n",
    "# 열이름 지정\n",
    "df.columns = ['mpg', 'cylinders', 'displacement', 'horsepower', 'weight', \n",
    "              'acceleration', 'model year', 'origin', 'name']"
   ]
  },
  {
   "cell_type": "code",
   "execution_count": 47,
   "id": "d9feb125",
   "metadata": {},
   "outputs": [
    {
     "name": "stdout",
     "output_type": "stream",
     "text": [
      "mpg               7.815984\n",
      "cylinders         1.701004\n",
      "displacement    104.269838\n",
      "weight          846.841774\n",
      "acceleration      2.757689\n",
      "model year        3.697627\n",
      "origin            0.802055\n",
      "dtype: float64\n"
     ]
    },
    {
     "name": "stderr",
     "output_type": "stream",
     "text": [
      "C:\\Users\\student\\AppData\\Local\\Temp/ipykernel_2160/2597523637.py:1: FutureWarning: Dropping of nuisance columns in DataFrame reductions (with 'numeric_only=None') is deprecated; in a future version this will raise TypeError.  Select only valid columns before calling the reduction.\n",
      "  print(df.std())\n"
     ]
    }
   ],
   "source": [
    "print(df.std())"
   ]
  },
  {
   "cell_type": "code",
   "execution_count": 48,
   "id": "5604f806",
   "metadata": {},
   "outputs": [
    {
     "name": "stdout",
     "output_type": "stream",
     "text": [
      "7.815984312565782\n"
     ]
    }
   ],
   "source": [
    "print(df['mpg'].std())"
   ]
  },
  {
   "cell_type": "markdown",
   "id": "d58ea871",
   "metadata": {},
   "source": [
    "### 상관계수\n",
    "- 데이터프레임에 corr() 함수를 사용하면 두 열 간의 상관계수를 계산\n",
    "- 산술 데이터를 갖는 모든 열에 대해서 2개씩 서로 짝을 짓고, 각각의 경우에 대하여 상관계수를 계산<br>\n",
    "<code>모든 열의 상관계수 : DataFrame 객체.corr()</code><br>\n",
    "<code>특정 열의 상관계수 : DataFrame 객체[열 이름 리스트].corr()</code>\n",
    "\n",
    "- 상관계수 절대값의 크기는 직선관계와 가까운 정도를 표현, 부호는 직선관계의 방향을 나타냄\n",
    " - r > 0 : 양의 상관관계, 산점도에서 점들이 우상향방향으로 띠를 형성(기울기 양수)\n",
    " - r < 0 : 음의 상관관계, 산점도에서 점들이 우하향방향으로 띠를 형성(기울기 음수)\n",
    " - r = +1 : 모든 점이 정확히 기울기가 양수인 직선 위에 위치\n",
    " - r = -1 : 모든 점이 정확히 기울기가 음수인 직선 위에 위치"
   ]
  },
  {
   "cell_type": "markdown",
   "id": "18d7a573",
   "metadata": {},
   "source": [
    "공통 함수 예제"
   ]
  },
  {
   "cell_type": "code",
   "execution_count": null,
   "id": "198da1cb",
   "metadata": {},
   "outputs": [],
   "source": [
    "import pandas as pd\n",
    "\n",
    "# read_csv() 함수로 df 생성\n",
    "# 열을 따로 지정해주지 않기 위해 header=None 옵션 사용\n",
    "df = pd.read_csv('./auto-mpg.csv', header=None)\n",
    "\n",
    "# print(df)\n",
    "\n",
    "# 열이름 지정\n",
    "df.columns = ['mpg', 'cylinders', 'displacement', 'horsepower', 'weight', \n",
    "              'acceleration', 'model year', 'origin', 'name']"
   ]
  },
  {
   "cell_type": "code",
   "execution_count": 49,
   "id": "4cdf53e3",
   "metadata": {},
   "outputs": [
    {
     "name": "stdout",
     "output_type": "stream",
     "text": [
      "                   mpg  cylinders  displacement    weight  acceleration  \\\n",
      "mpg           1.000000  -0.775396     -0.804203 -0.831741      0.420289   \n",
      "cylinders    -0.775396   1.000000      0.950721  0.896017     -0.505419   \n",
      "displacement -0.804203   0.950721      1.000000  0.932824     -0.543684   \n",
      "weight       -0.831741   0.896017      0.932824  1.000000     -0.417457   \n",
      "acceleration  0.420289  -0.505419     -0.543684 -0.417457      1.000000   \n",
      "model year    0.579267  -0.348746     -0.370164 -0.306564      0.288137   \n",
      "origin        0.563450  -0.562543     -0.609409 -0.581024      0.205873   \n",
      "\n",
      "              model year    origin  \n",
      "mpg             0.579267  0.563450  \n",
      "cylinders      -0.348746 -0.562543  \n",
      "displacement   -0.370164 -0.609409  \n",
      "weight         -0.306564 -0.581024  \n",
      "acceleration    0.288137  0.205873  \n",
      "model year      1.000000  0.180662  \n",
      "origin          0.180662  1.000000  \n"
     ]
    }
   ],
   "source": [
    "print(df.corr())"
   ]
  },
  {
   "cell_type": "code",
   "execution_count": 50,
   "id": "bd0d1915",
   "metadata": {},
   "outputs": [
    {
     "name": "stdout",
     "output_type": "stream",
     "text": [
      "             mpg    weight\n",
      "mpg     1.000000 -0.831741\n",
      "weight -0.831741  1.000000\n"
     ]
    }
   ],
   "source": [
    "print(df[['mpg', 'weight']].corr())"
   ]
  },
  {
   "cell_type": "markdown",
   "id": "d5b3867e",
   "metadata": {},
   "source": [
    "## 판다스 내장 그래프 도구 활용\n",
    "- 데이터를 그래프로 표현하는 것은 매우 효과적인 정보 전달 방식\n",
    "- 시리즈 또는 데이터프레임 객체에 plot() 함수를 적용하여 그래프를 생성\n",
    "- kind 옵션으로 그래프의 종류 선택\n",
    " - \"line\" : 선 그래프\n",
    " - \"bar\" : 수직 막대 그래프\n",
    " - \"bath\" : 수평 막대 그래프\n",
    " - \"his\" : 히스토그램\n",
    " - \"box\" : 박스 플롯\n",
    " - \"kde\" : 커널 밀도 그래프\n",
    " - \"area\" : 면적 그래프\n",
    " - \"pie\" : 파이 그래프\n",
    " - \"scatter\" : 산점도\n",
    " - \"hexbin\" : 고밀도 산점도"
   ]
  },
  {
   "cell_type": "markdown",
   "id": "ba29fe3d",
   "metadata": {},
   "source": [
    "### 선 그래프\n",
    "- 데이터프레임(또는 시리즈) 객체에 plot() 함수를 사용할 경우, 다른 옵션을 추가하지 않으면 가장 기본적인 선 그래프를 그림<br>\n",
    "<code>선 그래프 : DataFrame 객체.plot()</code>"
   ]
  },
  {
   "cell_type": "markdown",
   "id": "29b14404",
   "metadata": {},
   "source": [
    "선 그래프 그리기 예제"
   ]
  },
  {
   "cell_type": "code",
   "execution_count": 51,
   "id": "5fcd71a4",
   "metadata": {},
   "outputs": [],
   "source": [
    "import pandas as pd\n",
    "\n",
    "df = pd.read_excel('./남북한발전전력량.xlsx', engine='openpyxl')\n",
    "\n",
    "# 남북한 발전량 합계 데이터를 추출\n",
    "df_ns = df.iloc[[0, 5], 2:]\n",
    "\n",
    "# 행 인덱스 변경\n",
    "df_ns.index = ['South', 'North']\n",
    "\n",
    "# 열 이름의 자료형을 정수형으로 변경\n",
    "df_ns.columns = df_ns.columns.map(int)"
   ]
  },
  {
   "cell_type": "code",
   "execution_count": 52,
   "id": "946fed4d",
   "metadata": {},
   "outputs": [
    {
     "name": "stdout",
     "output_type": "stream",
     "text": [
      "       1990  1991  1992  1993  1994  1995  1996  1997  1998  1999  ...  2007  \\\n",
      "South  1077  1186  1310  1444  1650  1847  2055  2244  2153  2393  ...  4031   \n",
      "North   277   263   247   221   231   230   213   193   170   186  ...   236   \n",
      "\n",
      "       2008  2009  2010  2011  2012  2013  2014  2015  2016  \n",
      "South  4224  4336  4747  4969  5096  5171  5220  5281  5404  \n",
      "North   255   235   237   211   215   221   216   190   239  \n",
      "\n",
      "[2 rows x 27 columns]\n"
     ]
    }
   ],
   "source": [
    "# 추출 데이터 확인\n",
    "print(df_ns)"
   ]
  },
  {
   "cell_type": "code",
   "execution_count": 53,
   "id": "be2d8a3a",
   "metadata": {},
   "outputs": [
    {
     "name": "stdout",
     "output_type": "stream",
     "text": [
      "AxesSubplot(0.125,0.125;0.775x0.755)\n"
     ]
    },
    {
     "data": {
      "image/png": "[encoded data removed]",
      "text/plain": [
       "<Figure size 432x288 with 1 Axes>"
      ]
     },
     "metadata": {
      "needs_background": "light"
     },
     "output_type": "display_data"
    }
   ],
   "source": [
    "# 선 그래프 그리기\n",
    "print(df_ns.plot())"
   ]
  },
  {
   "cell_type": "markdown",
   "id": "66fa7495",
   "metadata": {},
   "source": [
    "- 시간의 흐름에 따른 연도별 발전량 변화 추이를 보기 위해서는 연도 값을 x축에 표시하는 것이 적절\n",
    "- 연도 값이 행 인덱스에 위치하도록 행렬을 전치하여 데이터프레임 제작"
   ]
  },
  {
   "cell_type": "markdown",
   "id": "05f0bf36",
   "metadata": {},
   "source": [
    "선 그래프 그리기 예제"
   ]
  },
  {
   "cell_type": "code",
   "execution_count": null,
   "id": "54739db6",
   "metadata": {},
   "outputs": [],
   "source": [
    "import pandas as pd\n",
    "\n",
    "df = pd.read_excel('./남북한발전전력량.xlsx', engine='openpyxl')\n",
    "\n",
    "# 남북한 발전량 합계 데이터를 추출\n",
    "df_ns = df.iloc[[0, 5], 2:]\n",
    "\n",
    "# 행 인덱스 변경\n",
    "df_ns.index = ['South', 'North']\n",
    "\n",
    "# 열 이름의 자료형을 정수형으로 변경\n",
    "df_ns.columns = df_ns.columns.map(int)"
   ]
  },
  {
   "cell_type": "code",
   "execution_count": 56,
   "id": "3c477c63",
   "metadata": {},
   "outputs": [
    {
     "name": "stdout",
     "output_type": "stream",
     "text": [
      "     South North\n",
      "1990  1077   277\n",
      "1991  1186   263\n",
      "1992  1310   247\n",
      "1993  1444   221\n",
      "1994  1650   231\n"
     ]
    }
   ],
   "source": [
    "# 행, 열 전치하여 다시 그리기\n",
    "tdf_ns = df_ns.T\n",
    "print(tdf_ns.head())"
   ]
  },
  {
   "cell_type": "code",
   "execution_count": 57,
   "id": "978e3b74",
   "metadata": {},
   "outputs": [
    {
     "name": "stdout",
     "output_type": "stream",
     "text": [
      "AxesSubplot(0.125,0.125;0.775x0.755)\n"
     ]
    },
    {
     "data": {
      "image/png": "[encoded data removed]",
      "text/plain": [
       "<Figure size 432x288 with 1 Axes>"
      ]
     },
     "metadata": {
      "needs_background": "light"
     },
     "output_type": "display_data"
    }
   ],
   "source": [
    "print(tdf_ns.plot())"
   ]
  },
  {
   "cell_type": "markdown",
   "id": "10ccf3ca",
   "metadata": {},
   "source": [
    "### 막대 그래프\n",
    "- plot() 함수로 선 그래프가 아닌 다른 종류의 그래프를 그리려면 kind 옵션에 그래프 종류를 지정<br>\n",
    "kind=\"bar\"<br>\n",
    "<code>막대 그래프 : DataFrame 객체.plot(kind=\"bar\")</code>"
   ]
  },
  {
   "cell_type": "markdown",
   "id": "34b440db",
   "metadata": {},
   "source": [
    "막대 그래프 그리기 예제"
   ]
  },
  {
   "cell_type": "code",
   "execution_count": 58,
   "id": "8d1f7275",
   "metadata": {},
   "outputs": [
    {
     "name": "stdout",
     "output_type": "stream",
     "text": [
      "     South North\n",
      "1990  1077   277\n",
      "1991  1186   263\n",
      "1992  1310   247\n",
      "1993  1444   221\n",
      "1994  1650   231\n"
     ]
    }
   ],
   "source": [
    "import pandas as pd\n",
    "\n",
    "df = pd.read_excel('./남북한발전전력량.xlsx', engine='openpyxl')\n",
    "\n",
    "# 남북한 발전량 합계 데이터를 추출\n",
    "df_ns = df.iloc[[0, 5], 2:]\n",
    "\n",
    "# 행 인덱스 변경\n",
    "df_ns.index = ['South', 'North']\n",
    "\n",
    "# 열 이름의 자료형을 정수형으로 변경\n",
    "df_ns.columns = df_ns.columns.map(int)\n",
    "\n",
    "# 행, 열 전치하여 다시 그리기\n",
    "tdf_ns = df_ns.T\n",
    "print(tdf_ns.head())"
   ]
  },
  {
   "cell_type": "code",
   "execution_count": 59,
   "id": "3c9d2f7d",
   "metadata": {},
   "outputs": [
    {
     "name": "stdout",
     "output_type": "stream",
     "text": [
      "AxesSubplot(0.125,0.125;0.775x0.755)\n"
     ]
    },
    {
     "data": {
      "image/png": "[encoded data removed]",
      "text/plain": [
       "<Figure size 432x288 with 1 Axes>"
      ]
     },
     "metadata": {
      "needs_background": "light"
     },
     "output_type": "display_data"
    }
   ],
   "source": [
    "print(tdf_ns.plot(kind=\"bar\"))"
   ]
  },
  {
   "cell_type": "markdown",
   "id": "3ac151dd",
   "metadata": {},
   "source": [
    "### 히스토그램\n",
    "- 빈도와 관련\n",
    "- plot() 함수에 kind=\"hist\" 옵션 추가<br>\n",
    "<code>히스토그램 : DataFrame 객체.plot(kind=\"hist\")</code>"
   ]
  },
  {
   "cell_type": "markdown",
   "id": "b6f4a1aa",
   "metadata": {},
   "source": [
    "히스토그램 예제"
   ]
  },
  {
   "cell_type": "code",
   "execution_count": 60,
   "id": "92cb063e",
   "metadata": {},
   "outputs": [
    {
     "name": "stdout",
     "output_type": "stream",
     "text": [
      "     South North\n",
      "1990  1077   277\n",
      "1991  1186   263\n",
      "1992  1310   247\n",
      "1993  1444   221\n",
      "1994  1650   231\n"
     ]
    }
   ],
   "source": [
    "import pandas as pd\n",
    "\n",
    "df = pd.read_excel('./남북한발전전력량.xlsx', engine='openpyxl')\n",
    "\n",
    "# 남북한 발전량 합계 데이터를 추출\n",
    "df_ns = df.iloc[[0, 5], 2:]\n",
    "\n",
    "# 행 인덱스 변경\n",
    "df_ns.index = ['South', 'North']\n",
    "\n",
    "# 열 이름의 자료형을 정수형으로 변경\n",
    "df_ns.columns = df_ns.columns.map(int)\n",
    "\n",
    "# 행, 열 전치하여 다시 그리기\n",
    "tdf_ns = df_ns.T\n",
    "print(tdf_ns.head())"
   ]
  },
  {
   "cell_type": "code",
   "execution_count": 61,
   "id": "c94566b9",
   "metadata": {},
   "outputs": [
    {
     "name": "stdout",
     "output_type": "stream",
     "text": [
      "AxesSubplot(0.125,0.125;0.775x0.755)\n"
     ]
    },
    {
     "data": {
      "image/png": "[encoded data removed]",
      "text/plain": [
       "<Figure size 432x288 with 1 Axes>"
      ]
     },
     "metadata": {
      "needs_background": "light"
     },
     "output_type": "display_data"
    }
   ],
   "source": [
    "print(tdf_ns.plot(kind=\"hist\"))"
   ]
  },
  {
   "cell_type": "markdown",
   "id": "7fdffac4",
   "metadata": {},
   "source": [
    "### 산점도\n",
    "- 자동차 연비 데이터셋을 이용하여 두 변수의 관계를 나타내는 산점도 제작\n",
    "\n",
    "코드 항목\n",
    "1. plot() 함수에 kind=\"scatter\" 옵션 추가\n",
    "2. 데이터프레임의 열 중에서 서로 비교할 두 변수를 선택\n",
    "- x축에 차량 무게 'weight' 열을 지정\n",
    "- y축에 연비 'mpg' 열을 지정"
   ]
  },
  {
   "cell_type": "markdown",
   "id": "cb176d7c",
   "metadata": {},
   "source": [
    "산점도 그리기 예제"
   ]
  },
  {
   "cell_type": "code",
   "execution_count": 62,
   "id": "e2b35e6c",
   "metadata": {},
   "outputs": [],
   "source": [
    "import pandas as pd\n",
    "\n",
    "# read_csv() 함수로 df 생성\n",
    "# 열을 따로 지정해주지 않기 위해 header=None 옵션 사용\n",
    "df = pd.read_csv('./auto-mpg.csv', header=None)\n",
    "\n",
    "# print(df)\n",
    "\n",
    "# 열이름 지정\n",
    "df.columns = ['mpg', 'cylinders', 'displacement', 'horsepower', 'weight', \n",
    "              'acceleration', 'model year', 'origin', 'name']"
   ]
  },
  {
   "cell_type": "code",
   "execution_count": 63,
   "id": "7810ebc4",
   "metadata": {},
   "outputs": [
    {
     "data": {
      "text/plain": [
       "<AxesSubplot:xlabel='weight', ylabel='mpg'>"
      ]
     },
     "execution_count": 63,
     "metadata": {},
     "output_type": "execute_result"
    },
    {
     "data": {
      "image/png": "[encoded data removed]",
      "text/plain": [
       "<Figure size 432x288 with 1 Axes>"
      ]
     },
     "metadata": {
      "needs_background": "light"
     },
     "output_type": "display_data"
    }
   ],
   "source": [
    "# 2개의 열을 선택하여 산점도 그리기\n",
    "df.plot(x = 'weight', y = 'mpg', kind='scatter')"
   ]
  },
  {
   "cell_type": "markdown",
   "id": "0a54a60a",
   "metadata": {},
   "source": [
    "### 박스 플롯\n",
    "- 특정 변수의 데이터 분포와 분산 정도에 대한 정보를 제공\n",
    " - 변수들의 데이터가 퍼져 있는 정도를 확인할 때 사용\n",
    "- plot() 함수에 kind=\"box\" 옵션을 입력"
   ]
  },
  {
   "cell_type": "markdown",
   "id": "47d91353",
   "metadata": {},
   "source": [
    "박스 플롯 예제"
   ]
  },
  {
   "cell_type": "code",
   "execution_count": 64,
   "id": "4e102918",
   "metadata": {},
   "outputs": [],
   "source": [
    "import pandas as pd\n",
    "\n",
    "# read_csv() 함수로 df 생성\n",
    "# 열을 따로 지정해주지 않기 위해 header=None 옵션 사용\n",
    "df = pd.read_csv('./auto-mpg.csv', header=None)\n",
    "\n",
    "# print(df)\n",
    "\n",
    "# 열이름 지정\n",
    "df.columns = ['mpg', 'cylinders', 'displacement', 'horsepower', 'weight', \n",
    "              'acceleration', 'model year', 'origin', 'name']"
   ]
  },
  {
   "cell_type": "code",
   "execution_count": 65,
   "id": "97aa6bcf",
   "metadata": {},
   "outputs": [
    {
     "name": "stdout",
     "output_type": "stream",
     "text": [
      "AxesSubplot(0.125,0.125;0.775x0.755)\n"
     ]
    },
    {
     "data": {
      "image/png": "[encoded data removed]",
      "text/plain": [
       "<Figure size 432x288 with 1 Axes>"
      ]
     },
     "metadata": {
      "needs_background": "light"
     },
     "output_type": "display_data"
    }
   ],
   "source": [
    "# 열을 선택하여 박스 플롯 그리기\n",
    "print(df[['mpg', 'cylinders']].plot(kind='box'))"
   ]
  },
  {
   "cell_type": "markdown",
   "id": "a7c3a720",
   "metadata": {},
   "source": [
    "- 맨 위에 원은 수치에서 벗어난 수 표현\n",
    "- 박스 플롯 최상단은 최댓값 max를 의미\n",
    "- 박스의 윗부분은 분위수 75%를 의미\n",
    "- 박스의 가운데 부분은 중간값 50%를 의미\n",
    "- 박스의 아랫부분은 분위수 25%를 의미\n",
    "- 박스 플롯 최하단은 최솟값 min을 의미<br><br>\n",
    "- cylinders 의 박스 플롯\n",
    " - 최댓값 == 분위수 75%\n",
    " - 중간값 == 분위수 25%"
   ]
  },
  {
   "cell_type": "markdown",
   "id": "e8f9fcb7",
   "metadata": {},
   "source": [
    "# Matplotlib - 기본 그래프 도구\n",
    "- 시각화 도구를 사용하면 다양한 종류의 데이터 분석 가능\n",
    " - 데이터에는 수천, 수만 개를 넘기는 경우가 많음\n",
    "- 그래프를 이용하면 데이터의 구조와 패턴을 파악하기가 용이\n",
    "- 다양한 관점에서 데이터에 관한 통찰력 제공\n",
    "- 판다스는 데이터 시각화를 지원하는 내장 기능이 존재하지만 풍부하진 않음\n",
    " - 다른 시각화 도구와 함게 사용하는 것을 추천"
   ]
  },
  {
   "cell_type": "markdown",
   "id": "c7785d6b",
   "metadata": {},
   "source": [
    "## Matplotlib\n",
    "- 2D 평면 그래프에 관한 다양한 포맷과 기능을 지원\n",
    "- 그래프 요소를 세세하게 꾸미기 가능"
   ]
  },
  {
   "cell_type": "markdown",
   "id": "62be0828",
   "metadata": {},
   "source": [
    "### 선 그래프\n",
    "- 선 그래프(line plot)는 연속하는 데이터 값들을 직선 또는 곡선으로 연결하여 데이터 값 사이의 관계를 표현\n",
    "- 시계열 데이터와 같이 연속적인 값의 변화와 패턴을 파악하는데 적합"
   ]
  },
  {
   "cell_type": "markdown",
   "id": "992f09a2",
   "metadata": {},
   "source": [
    "선 그래프 예제(파일 읽어오기)"
   ]
  },
  {
   "cell_type": "code",
   "execution_count": 71,
   "id": "0ade899d",
   "metadata": {},
   "outputs": [
    {
     "data": {
      "text/html": [
       "<div>\n",
       "<style scoped>\n",
       "    .dataframe tbody tr th:only-of-type {\n",
       "        vertical-align: middle;\n",
       "    }\n",
       "\n",
       "    .dataframe tbody tr th {\n",
       "        vertical-align: top;\n",
       "    }\n",
       "\n",
       "    .dataframe thead th {\n",
       "        text-align: right;\n",
       "    }\n",
       "</style>\n",
       "<table border=\"1\" class=\"dataframe\">\n",
       "  <thead>\n",
       "    <tr style=\"text-align: right;\">\n",
       "      <th></th>\n",
       "      <th>전출지별</th>\n",
       "      <th>전입지별</th>\n",
       "      <th>1970</th>\n",
       "      <th>1971</th>\n",
       "      <th>1972</th>\n",
       "      <th>1973</th>\n",
       "      <th>1974</th>\n",
       "      <th>1975</th>\n",
       "      <th>1976</th>\n",
       "      <th>1977</th>\n",
       "      <th>...</th>\n",
       "      <th>2008</th>\n",
       "      <th>2009</th>\n",
       "      <th>2010</th>\n",
       "      <th>2011</th>\n",
       "      <th>2012</th>\n",
       "      <th>2013</th>\n",
       "      <th>2014</th>\n",
       "      <th>2015</th>\n",
       "      <th>2016</th>\n",
       "      <th>2017</th>\n",
       "    </tr>\n",
       "  </thead>\n",
       "  <tbody>\n",
       "    <tr>\n",
       "      <th>0</th>\n",
       "      <td>전출지별</td>\n",
       "      <td>전입지별</td>\n",
       "      <td>이동자수 (명)</td>\n",
       "      <td>이동자수 (명)</td>\n",
       "      <td>이동자수 (명)</td>\n",
       "      <td>이동자수 (명)</td>\n",
       "      <td>이동자수 (명)</td>\n",
       "      <td>이동자수 (명)</td>\n",
       "      <td>이동자수 (명)</td>\n",
       "      <td>이동자수 (명)</td>\n",
       "      <td>...</td>\n",
       "      <td>이동자수 (명)</td>\n",
       "      <td>이동자수 (명)</td>\n",
       "      <td>이동자수 (명)</td>\n",
       "      <td>이동자수 (명)</td>\n",
       "      <td>이동자수 (명)</td>\n",
       "      <td>이동자수 (명)</td>\n",
       "      <td>이동자수 (명)</td>\n",
       "      <td>이동자수 (명)</td>\n",
       "      <td>이동자수 (명)</td>\n",
       "      <td>이동자수 (명)</td>\n",
       "    </tr>\n",
       "    <tr>\n",
       "      <th>1</th>\n",
       "      <td>전국</td>\n",
       "      <td>전국</td>\n",
       "      <td>4046536</td>\n",
       "      <td>4210164</td>\n",
       "      <td>3687938</td>\n",
       "      <td>4860418</td>\n",
       "      <td>5297969</td>\n",
       "      <td>9011440</td>\n",
       "      <td>6773250</td>\n",
       "      <td>7397623</td>\n",
       "      <td>...</td>\n",
       "      <td>8808256</td>\n",
       "      <td>8487275</td>\n",
       "      <td>8226594</td>\n",
       "      <td>8127195</td>\n",
       "      <td>7506691</td>\n",
       "      <td>7411784</td>\n",
       "      <td>7629098</td>\n",
       "      <td>7755286</td>\n",
       "      <td>7378430</td>\n",
       "      <td>7154226</td>\n",
       "    </tr>\n",
       "    <tr>\n",
       "      <th>2</th>\n",
       "      <td>NaN</td>\n",
       "      <td>서울특별시</td>\n",
       "      <td>1742813</td>\n",
       "      <td>1671705</td>\n",
       "      <td>1349333</td>\n",
       "      <td>1831858</td>\n",
       "      <td>2050392</td>\n",
       "      <td>3396662</td>\n",
       "      <td>2756510</td>\n",
       "      <td>2893403</td>\n",
       "      <td>...</td>\n",
       "      <td>2025358</td>\n",
       "      <td>1873188</td>\n",
       "      <td>1733015</td>\n",
       "      <td>1721748</td>\n",
       "      <td>1555281</td>\n",
       "      <td>1520090</td>\n",
       "      <td>1573594</td>\n",
       "      <td>1589431</td>\n",
       "      <td>1515602</td>\n",
       "      <td>1472937</td>\n",
       "    </tr>\n",
       "    <tr>\n",
       "      <th>3</th>\n",
       "      <td>NaN</td>\n",
       "      <td>부산광역시</td>\n",
       "      <td>448577</td>\n",
       "      <td>389797</td>\n",
       "      <td>362202</td>\n",
       "      <td>482061</td>\n",
       "      <td>680984</td>\n",
       "      <td>805979</td>\n",
       "      <td>724664</td>\n",
       "      <td>785117</td>\n",
       "      <td>...</td>\n",
       "      <td>514502</td>\n",
       "      <td>519310</td>\n",
       "      <td>519334</td>\n",
       "      <td>508043</td>\n",
       "      <td>461042</td>\n",
       "      <td>478451</td>\n",
       "      <td>485710</td>\n",
       "      <td>507031</td>\n",
       "      <td>459015</td>\n",
       "      <td>439073</td>\n",
       "    </tr>\n",
       "    <tr>\n",
       "      <th>4</th>\n",
       "      <td>NaN</td>\n",
       "      <td>대구광역시</td>\n",
       "      <td>-</td>\n",
       "      <td>-</td>\n",
       "      <td>-</td>\n",
       "      <td>-</td>\n",
       "      <td>-</td>\n",
       "      <td>-</td>\n",
       "      <td>-</td>\n",
       "      <td>-</td>\n",
       "      <td>...</td>\n",
       "      <td>409938</td>\n",
       "      <td>398626</td>\n",
       "      <td>370817</td>\n",
       "      <td>370563</td>\n",
       "      <td>348642</td>\n",
       "      <td>351873</td>\n",
       "      <td>350213</td>\n",
       "      <td>351424</td>\n",
       "      <td>328228</td>\n",
       "      <td>321182</td>\n",
       "    </tr>\n",
       "  </tbody>\n",
       "</table>\n",
       "<p>5 rows × 50 columns</p>\n",
       "</div>"
      ],
      "text/plain": [
       "   전출지별   전입지별      1970      1971      1972      1973      1974      1975  \\\n",
       "0  전출지별   전입지별  이동자수 (명)  이동자수 (명)  이동자수 (명)  이동자수 (명)  이동자수 (명)  이동자수 (명)   \n",
       "1    전국     전국   4046536   4210164   3687938   4860418   5297969   9011440   \n",
       "2   NaN  서울특별시   1742813   1671705   1349333   1831858   2050392   3396662   \n",
       "3   NaN  부산광역시    448577    389797    362202    482061    680984    805979   \n",
       "4   NaN  대구광역시         -         -         -         -         -         -   \n",
       "\n",
       "       1976      1977  ...      2008      2009      2010      2011      2012  \\\n",
       "0  이동자수 (명)  이동자수 (명)  ...  이동자수 (명)  이동자수 (명)  이동자수 (명)  이동자수 (명)  이동자수 (명)   \n",
       "1   6773250   7397623  ...   8808256   8487275   8226594   8127195   7506691   \n",
       "2   2756510   2893403  ...   2025358   1873188   1733015   1721748   1555281   \n",
       "3    724664    785117  ...    514502    519310    519334    508043    461042   \n",
       "4         -         -  ...    409938    398626    370817    370563    348642   \n",
       "\n",
       "       2013      2014      2015      2016      2017  \n",
       "0  이동자수 (명)  이동자수 (명)  이동자수 (명)  이동자수 (명)  이동자수 (명)  \n",
       "1   7411784   7629098   7755286   7378430   7154226  \n",
       "2   1520090   1573594   1589431   1515602   1472937  \n",
       "3    478451    485710    507031    459015    439073  \n",
       "4    351873    350213    351424    328228    321182  \n",
       "\n",
       "[5 rows x 50 columns]"
      ]
     },
     "execution_count": 71,
     "metadata": {},
     "output_type": "execute_result"
    }
   ],
   "source": [
    "import pandas as pd\n",
    "\n",
    "# 데이터 시각화에 사용할 matplotlib.pyplot 모듈을 import\n",
    "import matplotlib.pyplot as plt\n",
    "\n",
    "# Excel 데이터를 데이터프레임 변환\n",
    "# 첫 열을 헤더로 사용\n",
    "df = pd.read_excel(\"./시도별 전출입 인구수.xlsx\", engine = \"openpyxl\", header = 0)\n",
    "df.head()"
   ]
  },
  {
   "cell_type": "markdown",
   "id": "2d0f4ff0",
   "metadata": {},
   "source": [
    "- '전출지별' 열에는 누락 데이터(NaN) 다수 존재\n",
    " - Excel 파일에서 병합된 셀을 데이터프레임으로 변환할 때 적절한 값을 찾지 못해 발생\n",
    " - method='ffill' 옵션을 사용하여 누락 데이터가 있는 행의 바로 앞에 위치한 데이터 값으로 채움\n",
    " - 3행의 NaN 값을 2행의 데이터('전국')로 대체 가능\n",
    " \n",
    "서울 -> 다른 지역 조건\n",
    "1. method='ffill'\n",
    "2. 서울에서 다른 지역으로 이동한 데이터만 추출(A 열은 서울, B 열은 서울 X)\n",
    "3. 전출지별 열 제거\n",
    "4. 전입지별 -> 전입지\n",
    "5. 전입지를 행 인덱스로 지정"
   ]
  },
  {
   "cell_type": "markdown",
   "id": "adc48a46",
   "metadata": {},
   "source": [
    "선 그래프 예제(데이터 추출)"
   ]
  },
  {
   "cell_type": "code",
   "execution_count": 77,
   "id": "573b18c2",
   "metadata": {},
   "outputs": [],
   "source": [
    "import pandas as pd\n",
    "\n",
    "# 데이터 시각화에 사용할 matplotlib.pyplot 모듈을 import\n",
    "import matplotlib.pyplot as plt\n",
    "\n",
    "# Excel 데이터를 데이터프레임 변환\n",
    "# 첫 열을 헤더로 사용\n",
    "df = pd.read_excel(\"./시도별 전출입 인구수.xlsx\", engine = \"openpyxl\", header = 0)\n",
    "\n",
    "# 누락값(NaN)을 앞 데이터로 채움(엑셀 양식 병합)\n",
    "df = df.fillna(method='ffill')\n",
    "\n",
    "# 서울에서 다른 지역으로 이동한 데이터만 추출\n",
    "mask = (df['전출지별'] == '서울특별시') & (df['전입지별'] != '서울특별시')\n",
    "df_seoul = df[mask]\n",
    "df_seoul = df_seoul.drop(['전출지별'], axis=1)\n",
    "df_seoul.rename({'전입지별':'전입지'}, axis=1, inplace=True)\n",
    "df_seoul.set_index('전입지', inplace=True)"
   ]
  },
  {
   "cell_type": "code",
   "execution_count": 75,
   "id": "8d68ee31",
   "metadata": {},
   "outputs": [
    {
     "name": "stdout",
     "output_type": "stream",
     "text": [
      "            1970     1971     1972     1973     1974     1975     1976  \\\n",
      "전입지                                                                      \n",
      "전국       1448985  1419016  1210559  1647268  1819660  2937093  2495620   \n",
      "부산광역시      11568    11130    11768    16307    22220    27515    23732   \n",
      "대구광역시          -        -        -        -        -        -        -   \n",
      "인천광역시          -        -        -        -        -        -        -   \n",
      "광주광역시          -        -        -        -        -        -        -   \n",
      "대전광역시          -        -        -        -        -        -        -   \n",
      "울산광역시          -        -        -        -        -        -        -   \n",
      "세종특별자치시        -        -        -        -        -        -        -   \n",
      "경기도       130149   150313    93333   143234   149045   253705   202276   \n",
      "강원도         9352    12885    13561    16481    15479    27837    25927   \n",
      "충청북도        6700     9457    10853    12617    11786    21073    18029   \n",
      "충청남도       15954    18943    23406    27139    25509    51205    41447   \n",
      "전라북도       10814    13192    16583    18642    16647    34411    29835   \n",
      "전라남도       10513    16755    20157    22160    21314    46610    46251   \n",
      "경상북도       11868    16459    22073    27531    26902    46177    40376   \n",
      "경상남도        8409    10001    11263    15193    16771    23150    22400   \n",
      "제주특별자치도     1039     1325     1617     2456     2261     3440     3623   \n",
      "\n",
      "            1977     1978     1979  ...     2008     2009     2010     2011  \\\n",
      "전입지                                 ...                                       \n",
      "전국       2678007  3028911  2441242  ...  2083352  1925452  1848038  1834806   \n",
      "부산광역시      27213    29856    28542  ...    17353    17738    17418    18816   \n",
      "대구광역시          -        -        -  ...     9720    10464    10277    10397   \n",
      "인천광역시          -        -        -  ...    50493    45392    46082    51641   \n",
      "광주광역시          -        -        -  ...    10846    11725    11095    10587   \n",
      "대전광역시          -        -        -  ...    13515    13632    13819    13900   \n",
      "울산광역시          -        -        -  ...     5057     4845     4742     5188   \n",
      "세종특별자치시        -        -        -  ...        -        -        -        -   \n",
      "경기도       207722   237684   278411  ...   412408   398282   410735   373771   \n",
      "강원도        25415    26700    27599  ...    23668    23331    22736    23624   \n",
      "충청북도       17478    18420    20047  ...    15294    15295    15461    15318   \n",
      "충청남도       43993    48091    45388  ...    27458    24889    24522    24723   \n",
      "전라북도       28444    29676    31570  ...    18390    18332    17569    17755   \n",
      "전라남도       43430    44624    47934  ...    16601    17468    16429    15974   \n",
      "경상북도       41155    42940    43565  ...    15425    16569    16042    15818   \n",
      "경상남도       27393    28697    30183  ...    15438    15303    15689    16039   \n",
      "제주특별자치도     3551     3937     4261  ...     5473     5332     5714     6133   \n",
      "\n",
      "            2012     2013     2014     2015     2016     2017  \n",
      "전입지                                                            \n",
      "전국       1658928  1620640  1661425  1726687  1655859  1571423  \n",
      "부산광역시      16135    16153    17320    17009    15062    14484  \n",
      "대구광역시      10135    10631    10062    10191     9623     8891  \n",
      "인천광역시      49640    47424    43212    44915    43745    40485  \n",
      "광주광역시      10154     9129     9759     9216     8354     7932  \n",
      "대전광역시      14080    13440    13403    13453    12619    11815  \n",
      "울산광역시       5691     5542     6047     5950     5102     4260  \n",
      "세종특별자치시     2998     2851     6481     7550     5943     5813  \n",
      "경기도       354135   340801   332785   359337   370760   342433  \n",
      "강원도        22332    20601    21173    22659    21590    21016  \n",
      "충청북도       14555    13783    14244    14379    14087    13302  \n",
      "충청남도       22269    21486    21473    22299    21741    21020  \n",
      "전라북도       16120    14909    14566    14835    13835    13179  \n",
      "전라남도       14765    14187    14591    14598    13065    12426  \n",
      "경상북도       15191    14420    14456    15113    14236    12464  \n",
      "경상남도       14474    14447    14799    15220    13717    12692  \n",
      "제주특별자치도     6954     7828     9031    10434    10465    10404  \n",
      "\n",
      "[17 rows x 48 columns]\n"
     ]
    }
   ],
   "source": [
    "print(df_seoul)"
   ]
  },
  {
   "cell_type": "markdown",
   "id": "a7fb5781",
   "metadata": {},
   "source": [
    "선 그래프 예제(서울 -> 경기)"
   ]
  },
  {
   "cell_type": "code",
   "execution_count": 78,
   "id": "5e2c7904",
   "metadata": {},
   "outputs": [
    {
     "data": {
      "text/plain": [
       "1970    130149\n",
       "1971    150313\n",
       "1972     93333\n",
       "1973    143234\n",
       "1974    149045\n",
       "Name: 경기도, dtype: object"
      ]
     },
     "execution_count": 78,
     "metadata": {},
     "output_type": "execute_result"
    }
   ],
   "source": [
    "import pandas as pd\n",
    "\n",
    "# 데이터 시각화에 사용할 matplotlib.pyplot 모듈을 import\n",
    "import matplotlib.pyplot as plt\n",
    "\n",
    "# Excel 데이터를 데이터프레임 변환\n",
    "# 첫 열을 헤더로 사용\n",
    "df = pd.read_excel(\"./시도별 전출입 인구수.xlsx\", engine = \"openpyxl\", header = 0)\n",
    "\n",
    "# 누락값(NaN)을 앞 데이터로 채움(엑셀 양식 병합)\n",
    "df = df.fillna(method='ffill')\n",
    "\n",
    "# 서울에서 다른 지역으로 이동한 데이터만 추출\n",
    "mask = (df['전출지별'] == '서울특별시') & (df['전입지별'] != '서울특별시')\n",
    "df_seoul = df[mask]\n",
    "df_seoul = df_seoul.drop(['전출지별'], axis=1)\n",
    "df_seoul.rename({'전입지별':'전입지'}, axis=1, inplace=True)\n",
    "df_seoul.set_index('전입지', inplace=True)\n",
    "\n",
    "# 서울에서 경기도로 이동한 인구 데이터 값만 선택\n",
    "dt_g = df_seoul.loc['경기도']\n",
    "dt_g.head()"
   ]
  },
  {
   "cell_type": "markdown",
   "id": "8835da02",
   "metadata": {},
   "source": [
    "선 그래프 예제(선 그래프 그리기)"
   ]
  },
  {
   "cell_type": "code",
   "execution_count": 82,
   "id": "de3a71e4",
   "metadata": {},
   "outputs": [
    {
     "name": "stdout",
     "output_type": "stream",
     "text": [
      "[<matplotlib.lines.Line2D object at 0x00000229355321C0>]\n"
     ]
    },
    {
     "data": {
      "image/png": "[encoded data removed]",
      "text/plain": [
       "<Figure size 432x288 with 1 Axes>"
      ]
     },
     "metadata": {
      "needs_background": "light"
     },
     "output_type": "display_data"
    }
   ],
   "source": [
    "import pandas as pd\n",
    "\n",
    "# 데이터 시각화에 사용할 matplotlib.pyplot 모듈을 import\n",
    "import matplotlib.pyplot as plt\n",
    "\n",
    "# Excel 데이터를 데이터프레임 변환\n",
    "# 첫 열을 헤더로 사용\n",
    "df = pd.read_excel(\"./시도별 전출입 인구수.xlsx\", engine = \"openpyxl\", header = 0)\n",
    "\n",
    "# 누락값(NaN)을 앞 데이터로 채움(엑셀 양식 병합)\n",
    "df = df.fillna(method='ffill')\n",
    "\n",
    "# 서울에서 다른 지역으로 이동한 데이터만 추출\n",
    "mask = (df['전출지별'] == '서울특별시') & (df['전입지별'] != '서울특별시')\n",
    "df_seoul = df[mask]\n",
    "df_seoul = df_seoul.drop(['전출지별'], axis=1)\n",
    "df_seoul.rename({'전입지별':'전입지'}, axis=1, inplace=True)\n",
    "df_seoul.set_index('전입지', inplace=True)\n",
    "\n",
    "# 서울에서 경기도로 이동한 인구 데이터 값만 선택\n",
    "dt_g = df_seoul.loc['경기도']\n",
    "\n",
    "# x, y축 데이터를 plot() 함수에 직접 입력\n",
    "# print(plt.plot(dt_g.index, dt_g.values))\n",
    "\n",
    "# 판다스 객체를 plot() 함수에 입력\n",
    "print(plt.plot(dt_g))"
   ]
  },
  {
   "cell_type": "markdown",
   "id": "b80c4552",
   "metadata": {},
   "source": [
    "### 차트 제목, 축 이름 추가\n",
    "- 그래프 객체에 차트 제목을 추가할 때는 title() 함수 사용\n",
    "- x축 이름은 xlabel() 함수 사용\n",
    "- y축 이름은 ylabel() 함수 사용"
   ]
  },
  {
   "cell_type": "markdown",
   "id": "3e68fe4f",
   "metadata": {},
   "source": [
    "차트 제목, 축 이름 추가 예제"
   ]
  },
  {
   "cell_type": "code",
   "execution_count": 84,
   "id": "38f54590",
   "metadata": {},
   "outputs": [
    {
     "name": "stderr",
     "output_type": "stream",
     "text": [
      "C:\\Users\\student\\anaconda3\\lib\\site-packages\\matplotlib\\backends\\backend_agg.py:240: RuntimeWarning: Glyph 49436 missing from current font.\n",
      "  font.set_text(s, 0.0, flags=flags)\n",
      "C:\\Users\\student\\anaconda3\\lib\\site-packages\\matplotlib\\backends\\backend_agg.py:240: RuntimeWarning: Glyph 50872 missing from current font.\n",
      "  font.set_text(s, 0.0, flags=flags)\n",
      "C:\\Users\\student\\anaconda3\\lib\\site-packages\\matplotlib\\backends\\backend_agg.py:240: RuntimeWarning: Glyph 44221 missing from current font.\n",
      "  font.set_text(s, 0.0, flags=flags)\n",
      "C:\\Users\\student\\anaconda3\\lib\\site-packages\\matplotlib\\backends\\backend_agg.py:240: RuntimeWarning: Glyph 44592 missing from current font.\n",
      "  font.set_text(s, 0.0, flags=flags)\n",
      "C:\\Users\\student\\anaconda3\\lib\\site-packages\\matplotlib\\backends\\backend_agg.py:240: RuntimeWarning: Glyph 51064 missing from current font.\n",
      "  font.set_text(s, 0.0, flags=flags)\n",
      "C:\\Users\\student\\anaconda3\\lib\\site-packages\\matplotlib\\backends\\backend_agg.py:240: RuntimeWarning: Glyph 44396 missing from current font.\n",
      "  font.set_text(s, 0.0, flags=flags)\n",
      "C:\\Users\\student\\anaconda3\\lib\\site-packages\\matplotlib\\backends\\backend_agg.py:240: RuntimeWarning: Glyph 51060 missing from current font.\n",
      "  font.set_text(s, 0.0, flags=flags)\n",
      "C:\\Users\\student\\anaconda3\\lib\\site-packages\\matplotlib\\backends\\backend_agg.py:240: RuntimeWarning: Glyph 46041 missing from current font.\n",
      "  font.set_text(s, 0.0, flags=flags)\n",
      "C:\\Users\\student\\anaconda3\\lib\\site-packages\\matplotlib\\backends\\backend_agg.py:240: RuntimeWarning: Glyph 44036 missing from current font.\n",
      "  font.set_text(s, 0.0, flags=flags)\n",
      "C:\\Users\\student\\anaconda3\\lib\\site-packages\\matplotlib\\backends\\backend_agg.py:240: RuntimeWarning: Glyph 49688 missing from current font.\n",
      "  font.set_text(s, 0.0, flags=flags)\n",
      "C:\\Users\\student\\anaconda3\\lib\\site-packages\\matplotlib\\backends\\backend_agg.py:203: RuntimeWarning: Glyph 44592 missing from current font.\n",
      "  font.set_text(s, 0, flags=flags)\n",
      "C:\\Users\\student\\anaconda3\\lib\\site-packages\\matplotlib\\backends\\backend_agg.py:203: RuntimeWarning: Glyph 44036 missing from current font.\n",
      "  font.set_text(s, 0, flags=flags)\n",
      "C:\\Users\\student\\anaconda3\\lib\\site-packages\\matplotlib\\backends\\backend_agg.py:203: RuntimeWarning: Glyph 51060 missing from current font.\n",
      "  font.set_text(s, 0, flags=flags)\n",
      "C:\\Users\\student\\anaconda3\\lib\\site-packages\\matplotlib\\backends\\backend_agg.py:203: RuntimeWarning: Glyph 46041 missing from current font.\n",
      "  font.set_text(s, 0, flags=flags)\n",
      "C:\\Users\\student\\anaconda3\\lib\\site-packages\\matplotlib\\backends\\backend_agg.py:203: RuntimeWarning: Glyph 51064 missing from current font.\n",
      "  font.set_text(s, 0, flags=flags)\n",
      "C:\\Users\\student\\anaconda3\\lib\\site-packages\\matplotlib\\backends\\backend_agg.py:203: RuntimeWarning: Glyph 44396 missing from current font.\n",
      "  font.set_text(s, 0, flags=flags)\n",
      "C:\\Users\\student\\anaconda3\\lib\\site-packages\\matplotlib\\backends\\backend_agg.py:203: RuntimeWarning: Glyph 49688 missing from current font.\n",
      "  font.set_text(s, 0, flags=flags)\n",
      "C:\\Users\\student\\anaconda3\\lib\\site-packages\\matplotlib\\backends\\backend_agg.py:203: RuntimeWarning: Glyph 49436 missing from current font.\n",
      "  font.set_text(s, 0, flags=flags)\n",
      "C:\\Users\\student\\anaconda3\\lib\\site-packages\\matplotlib\\backends\\backend_agg.py:203: RuntimeWarning: Glyph 50872 missing from current font.\n",
      "  font.set_text(s, 0, flags=flags)\n",
      "C:\\Users\\student\\anaconda3\\lib\\site-packages\\matplotlib\\backends\\backend_agg.py:203: RuntimeWarning: Glyph 44221 missing from current font.\n",
      "  font.set_text(s, 0, flags=flags)\n"
     ]
    },
    {
     "data": {
      "image/png": "[encoded data removed]",
      "text/plain": [
       "<Figure size 432x288 with 1 Axes>"
      ]
     },
     "metadata": {
      "needs_background": "light"
     },
     "output_type": "display_data"
    }
   ],
   "source": [
    "import pandas as pd\n",
    "\n",
    "# 데이터 시각화에 사용할 matplotlib.pyplot 모듈을 import\n",
    "import matplotlib.pyplot as plt\n",
    "\n",
    "# Excel 데이터를 데이터프레임 변환\n",
    "# 첫 열을 헤더로 사용\n",
    "df = pd.read_excel(\"./시도별 전출입 인구수.xlsx\", engine = \"openpyxl\", header = 0)\n",
    "\n",
    "# 누락값(NaN)을 앞 데이터로 채움(엑셀 양식 병합)\n",
    "df = df.fillna(method='ffill')\n",
    "\n",
    "# 서울에서 다른 지역으로 이동한 데이터만 추출\n",
    "mask = (df['전출지별'] == '서울특별시') & (df['전입지별'] != '서울특별시')\n",
    "df_seoul = df[mask]\n",
    "df_seoul = df_seoul.drop(['전출지별'], axis=1)\n",
    "df_seoul.rename({'전입지별':'전입지'}, axis=1, inplace=True)\n",
    "df_seoul.set_index('전입지', inplace=True)\n",
    "\n",
    "# 서울에서 경기도로 이동한 인구 데이터 값만 선택\n",
    "dt_g = df_seoul.loc['경기도']\n",
    "\n",
    "# x, y축 데이터를 plot() 함수에 직접 입력\n",
    "plt.plot(dt_g.index, dt_g.values)\n",
    "\n",
    "# 차트 제목 추가\n",
    "plt.title('서울 -> 경기 인구 이동')\n",
    "\n",
    "# 축이름 추가\n",
    "plt.xlabel('기간')\n",
    "plt.ylabel('이동 인구수')\n",
    "\n",
    "# 차트를 시각화\n",
    "plt.show()"
   ]
  },
  {
   "cell_type": "markdown",
   "id": "85f938ff",
   "metadata": {},
   "source": [
    "### Matplotlib 한글 폰트 문제 해결\n",
    "- Matplotlib은 한글 폰트 지원 X\n",
    "- 파이썬 프로그램의 앞부분에 한글 폰트를 지정하는 코드 추가"
   ]
  },
  {
   "cell_type": "markdown",
   "id": "73bda0a8",
   "metadata": {},
   "source": [
    "폰트 오류 해결 예제"
   ]
  },
  {
   "cell_type": "code",
   "execution_count": 85,
   "id": "673b431d",
   "metadata": {},
   "outputs": [
    {
     "data": {
      "image/png": "[encoded data removed]",
      "text/plain": [
       "<Figure size 432x288 with 1 Axes>"
      ]
     },
     "metadata": {
      "needs_background": "light"
     },
     "output_type": "display_data"
    }
   ],
   "source": [
    "import pandas as pd\n",
    "\n",
    "# 데이터 시각화에 사용할 matplotlib.pyplot 모듈을 import\n",
    "import matplotlib.pyplot as plt\n",
    "\n",
    "# matplotlib 한글 폰트 오류 문제 해결\n",
    "# font_manager는 경로와 이름을 가지고 폰트를 지정\n",
    "# rc는 폰트를 적용\n",
    "from matplotlib import font_manager, rc\n",
    "font_path = \"./malgun.ttf\"\n",
    "font_name = font_manager.FontProperties(fname=font_path).get_name()\n",
    "rc('font', family=font_name)\n",
    "\n",
    "# Excel 데이터를 데이터프레임 변환\n",
    "# 첫 열을 헤더로 사용\n",
    "df = pd.read_excel(\"./시도별 전출입 인구수.xlsx\", engine = \"openpyxl\", header = 0)\n",
    "\n",
    "# 누락값(NaN)을 앞 데이터로 채움(엑셀 양식 병합)\n",
    "df = df.fillna(method='ffill')\n",
    "\n",
    "# 서울에서 다른 지역으로 이동한 데이터만 추출\n",
    "mask = (df['전출지별'] == '서울특별시') & (df['전입지별'] != '서울특별시')\n",
    "df_seoul = df[mask]\n",
    "df_seoul = df_seoul.drop(['전출지별'], axis=1)\n",
    "df_seoul.rename({'전입지별':'전입지'}, axis=1, inplace=True)\n",
    "df_seoul.set_index('전입지', inplace=True)\n",
    "\n",
    "# 서울에서 경기도로 이동한 인구 데이터 값만 선택\n",
    "dt_g = df_seoul.loc['경기도']\n",
    "\n",
    "# x, y축 데이터를 plot() 함수에 직접 입력\n",
    "plt.plot(dt_g.index, dt_g.values)\n",
    "\n",
    "# 차트 제목 추가\n",
    "plt.title('서울 -> 경기 인구 이동')\n",
    "\n",
    "# 축이름 추가\n",
    "plt.xlabel('기간')\n",
    "plt.ylabel('이동 인구수')\n",
    "\n",
    "# 차트를 시각화\n",
    "plt.show()"
   ]
  },
  {
   "cell_type": "markdown",
   "id": "286d9573",
   "metadata": {},
   "source": [
    "---\n",
    "**mac 사용시 한글 폰트 지정 방법**<br><br>\n",
    "from matplotlib import rc<br>\n",
    "rc('font', family='AppleGothic')\n",
    "\n",
    "---"
   ]
  },
  {
   "cell_type": "markdown",
   "id": "b7cc0eb4",
   "metadata": {},
   "source": [
    "### 그래프 꾸미\n",
    "x축 눈금 라벨의 글씨가 서로 겹쳐 잘 보이지 않는 문제를 해결\n",
    "- 눈금 라벨이 들어갈 만한 충분한 여유 공간이 없기 때문에 발생하는 문제\n",
    "\n",
    "해결방법 2가지\n",
    "1. 공간을 만들기 위해 figure() 함수를 사용하여 그림틀의 가로 사이즈를 더 크게 설정\n",
    "2. xticks() 함수를 사용하여 x축 눈금 라벨을 반시계 방향으로 90도 회전하여 글씨가 겹치지 않게 하기"
   ]
  },
  {
   "cell_type": "code",
   "execution_count": 89,
   "id": "50f4149e",
   "metadata": {},
   "outputs": [
    {
     "data": {
      "image/png": "[encoded data removed]",
      "text/plain": [
       "<Figure size 1008x360 with 1 Axes>"
      ]
     },
     "metadata": {
      "needs_background": "light"
     },
     "output_type": "display_data"
    }
   ],
   "source": [
    "import pandas as pd\n",
    "\n",
    "# 데이터 시각화에 사용할 matplotlib.pyplot 모듈을 import\n",
    "import matplotlib.pyplot as plt\n",
    "\n",
    "# matplotlib 한글 폰트 오류 문제 해결\n",
    "# font_manager는 경로와 이름을 가지고 폰트를 지정\n",
    "# rc는 폰트를 적용\n",
    "from matplotlib import font_manager, rc\n",
    "font_path = \"./malgun.ttf\"\n",
    "font_name = font_manager.FontProperties(fname=font_path).get_name()\n",
    "rc('font', family=font_name)\n",
    "\n",
    "# Excel 데이터를 데이터프레임 변환\n",
    "# 첫 열을 헤더로 사용\n",
    "df = pd.read_excel(\"./시도별 전출입 인구수.xlsx\", engine = \"openpyxl\", header = 0)\n",
    "\n",
    "# 누락값(NaN)을 앞 데이터로 채움(엑셀 양식 병합)\n",
    "df = df.fillna(method='ffill')\n",
    "\n",
    "# 서울에서 다른 지역으로 이동한 데이터만 추출\n",
    "mask = (df['전출지별'] == '서울특별시') & (df['전입지별'] != '서울특별시')\n",
    "df_seoul = df[mask]\n",
    "df_seoul = df_seoul.drop(['전출지별'], axis=1)\n",
    "df_seoul.rename({'전입지별':'전입지'}, axis=1, inplace=True)\n",
    "df_seoul.set_index('전입지', inplace=True)\n",
    "\n",
    "# 서울에서 경기도로 이동한 인구 데이터 값만 선택\n",
    "dt_g = df_seoul.loc['경기도']\n",
    "\n",
    "# 그림 사이즈를 지정(가로 14인치, 세로 5인치)\n",
    "plt.figure(figsize=(14, 5))\n",
    "\n",
    "# x축 눈금 라벨 회전\n",
    "# plt.xticks(rotation=90)\n",
    "plt.xticks(rotation='vertical')\n",
    "\n",
    "# x, y축 데이터를 plot() 함수에 직접 입력\n",
    "plt.plot(dt_g.index, dt_g.values)\n",
    "\n",
    "# 차트 제목 추가\n",
    "plt.title('서울 -> 경기 인구 이동')\n",
    "\n",
    "# 축이름 추가\n",
    "plt.xlabel('기간')\n",
    "plt.ylabel('이동 인구수')\n",
    "\n",
    "# 차트를 시각화\n",
    "plt.show()"
   ]
  },
  {
   "cell_type": "markdown",
   "id": "de3584f6",
   "metadata": {},
   "source": [
    "- 글씨를 회전하기 위해 사용한 rotation='vertical' 옵션에 'vertical' 대신 각도를 나타내는 숫자를 입력해도 됨\n",
    " - ex) rotation=90 -> 반시계 방향으로 90도 회전"
   ]
  },
  {
   "cell_type": "markdown",
   "id": "ebc9551a",
   "metadata": {},
   "source": [
    "### Matplotlib의 스타일 서식 지정\n",
    "- 색, 스타일 등 디자인적 요소를 사전에 지정된 스타일로 빠르게 변경 가능\n",
    " - 스타일 서식을 지정하는 것은 Matplotlib 실행 환경 설정을 변경하는 것이므로 다른 파일을 실행할 때도 계속 적용되는 점 유의\n",
    " - 예제에서는 'ggplot'이라는 스타일 서식 지정\n",
    " - x축 눈금 라벨을 지정하는 xticks() 함수에 size=10 옵션을 추가하여 폰트 크기를 10으로 설정\n",
    " - plot() 함수에 marker='o' 옵션을 추가하면 원 모양의 점을 마커로 표시"
   ]
  },
  {
   "cell_type": "markdown",
   "id": "25afd2cd",
   "metadata": {},
   "source": [
    "스타일 서식 지정 예제"
   ]
  },
  {
   "cell_type": "code",
   "execution_count": 90,
   "id": "70e7a494",
   "metadata": {},
   "outputs": [
    {
     "data": {
      "image/png": "[encoded data removed]",
      "text/plain": [
       "<Figure size 1008x360 with 1 Axes>"
      ]
     },
     "metadata": {},
     "output_type": "display_data"
    }
   ],
   "source": [
    "import pandas as pd\n",
    "\n",
    "# 데이터 시각화에 사용할 matplotlib.pyplot 모듈을 import\n",
    "import matplotlib.pyplot as plt\n",
    "\n",
    "# matplotlib 한글 폰트 오류 문제 해결\n",
    "# font_manager는 경로와 이름을 가지고 폰트를 지정\n",
    "# rc는 폰트를 적용\n",
    "from matplotlib import font_manager, rc\n",
    "font_path = \"./malgun.ttf\"\n",
    "font_name = font_manager.FontProperties(fname=font_path).get_name()\n",
    "rc('font', family=font_name)\n",
    "\n",
    "# Excel 데이터를 데이터프레임 변환\n",
    "# 첫 열을 헤더로 사용\n",
    "df = pd.read_excel(\"./시도별 전출입 인구수.xlsx\", engine = \"openpyxl\", header = 0)\n",
    "\n",
    "# 누락값(NaN)을 앞 데이터로 채움(엑셀 양식 병합)\n",
    "df = df.fillna(method='ffill')\n",
    "\n",
    "# 서울에서 다른 지역으로 이동한 데이터만 추출\n",
    "mask = (df['전출지별'] == '서울특별시') & (df['전입지별'] != '서울특별시')\n",
    "df_seoul = df[mask]\n",
    "df_seoul = df_seoul.drop(['전출지별'], axis=1)\n",
    "df_seoul.rename({'전입지별':'전입지'}, axis=1, inplace=True)\n",
    "df_seoul.set_index('전입지', inplace=True)\n",
    "\n",
    "# 서울에서 경기도로 이동한 인구 데이터 값만 선택\n",
    "dt_g = df_seoul.loc['경기도']\n",
    "\n",
    "# 스타일 서식 지정\n",
    "plt.style.use('ggplot')\n",
    "\n",
    "# 그림 사이즈를 지정(가로 14인치, 세로 5인치)\n",
    "plt.figure(figsize=(14, 5))\n",
    "\n",
    "# x축 눈금 라벨 회전\n",
    "# plt.xticks(rotation=90)\n",
    "plt.xticks(rotation='vertical')\n",
    "\n",
    "# x, y축 데이터를 plot() 함수에 직접 입력\n",
    "plt.plot(dt_g.index, dt_g.values, marker='o', markersize=10)  # 마커표시 추가\n",
    "\n",
    "# 차트 제목 추가\n",
    "plt.title('서울 -> 경기 인구 이동', size=30)\n",
    "\n",
    "# 축이름 추가\n",
    "plt.xlabel('기간', size=20)\n",
    "plt.ylabel('이동 인구수', size=20)\n",
    "\n",
    "# 범례 추가\n",
    "plt.legend(labels=['서울 -> 경기'], loc='best', fontsize=15)\n",
    "\n",
    "# 차트를 시각화\n",
    "plt.show()"
   ]
  },
  {
   "cell_type": "markdown",
   "id": "81120a8b",
   "metadata": {},
   "source": [
    "스타일 서식을 지정하는 것은 Matplotlib 실행 환경 설정을 변경하는 것이므로 다른 파일을 실행할 때도 계속 적용되는 점 유의"
   ]
  },
  {
   "cell_type": "markdown",
   "id": "92fe179d",
   "metadata": {},
   "source": [
    "예제"
   ]
  },
  {
   "cell_type": "code",
   "execution_count": 91,
   "id": "6c6f61e2",
   "metadata": {},
   "outputs": [
    {
     "data": {
      "image/png": "[encoded data removed]",
      "text/plain": [
       "<Figure size 432x288 with 1 Axes>"
      ]
     },
     "metadata": {},
     "output_type": "display_data"
    }
   ],
   "source": [
    "x = [1, 2, 3, 4, 5]\n",
    "y = [6, 7, 8, 9, 10]\n",
    "\n",
    "plt.plot(x, y)\n",
    "\n",
    "plt.show()"
   ]
  },
  {
   "cell_type": "markdown",
   "id": "d8fe6762",
   "metadata": {},
   "source": [
    "- 앞에 코드에서 스타일 서식을 지정할 경우 다음 코드에 전에 지정해놓은 스타일 서식 그대로 지정됨"
   ]
  },
  {
   "cell_type": "markdown",
   "id": "bf00ef7b",
   "metadata": {},
   "source": [
    "---\n",
    "**Matplotlib 스타일 서식 종류**\n",
    "- default, classic, bmh, dark_background, fast, grayscale, seaborn 등\n",
    "\n",
    "---"
   ]
  }
 ],
 "metadata": {
  "kernelspec": {
   "display_name": "Python 3 (ipykernel)",
   "language": "python",
   "name": "python3"
  },
  "language_info": {
   "codemirror_mode": {
    "name": "ipython",
    "version": 3
   },
   "file_extension": ".py",
   "mimetype": "text/x-python",
   "name": "python",
   "nbconvert_exporter": "python",
   "pygments_lexer": "ipython3",
   "version": "3.9.7"
  }
 },
 "nbformat": 4,
 "nbformat_minor": 5
}
