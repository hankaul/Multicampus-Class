{
 "cells": [
  {
   "cell_type": "markdown",
   "id": "0d626108",
   "metadata": {},
   "source": [
    "8일차 merge.py 실행 순서\n",
    "1. merge.py 코드를 메모장에 복사\n",
    "2. 주피터 노트북과 같은 경로에 코드 저장(merge.py)\n",
    "- 샘플_폴더가 있는 위치에 맞춰 저장해줘야 함\n",
    "\n",
    "3. 저장 완료 후 cmd 창 열기\n",
    "4. 주피터 노트북 경로로 이동\n",
    "- cd Python\n",
    "\n",
    "5. 파일썬 파일 실행\n",
    "- python merge.py 샘플_폴더"
   ]
  },
  {
   "cell_type": "markdown",
   "id": "4f0dbb69",
   "metadata": {},
   "source": [
    "# 크롤링"
   ]
  },
  {
   "cell_type": "markdown",
   "id": "309f5456",
   "metadata": {},
   "source": [
    "- 인터넷에서 정보를 자동으로 수집하는 행위\n",
    "- 유명 검색 엔진들에서 크롤러를 활용\n",
    " - 네이버 구글 같은 대형 검색 엔진들 방대한 사이트의 정보를 수집, 한군데 정렬하여 제공\n",
    "- 크롤링 : 정보를 수집하는 행위\n",
    "- 크롤러 : 정보를 수집하는 도구"
   ]
  },
  {
   "cell_type": "markdown",
   "id": "87ae6b3d",
   "metadata": {},
   "source": [
    "크롤링 시 주의사항\n",
    "- 크롤러는 신중하게 사용\n",
    " - 대부분의 웹페이지는 영리적인 목적으로 운영\n",
    " - ex) 네이버에서 무언가를 검색하면 화면 곳곳에서 광고를 발견\n",
    " - 네이버에서 광고를 클릭하는 순간 발생하는 트래픽에 의해 수익으로 연결\n",
    "- 크롤러는 알짜배기 정보만 가져오고 광고는 클릭 X\n",
    "- 실습(연습)용으로 사용하는 것은 문제가 되지 않음\n",
    "- 무단 미러링은 법에 위반\n",
    " - 무단 미러링 : 자료를 크롤링하여 무단으로 복제"
   ]
  },
  {
   "cell_type": "markdown",
   "id": "6f02ff3e",
   "metadata": {},
   "source": [
    "크롤러 제작\n",
    "- 만드는 방법은 다양\n",
    "- 셀레늄 모듈을 활용하여 제작\n",
    "\n",
    "셀레늄 라이브러리 설치\n",
    "- cmd 창에서 진행\n",
    "- pip install selenium 입력\n",
    "\n",
    "크롬 설치<br><br>\n",
    "크롤링을 위한 크롬 드라이버 설치\n",
    "1. 크롬을 열고 우측 상단 점 세 개 클릭\n",
    "2. [도움말] 클릭\n",
    "3. [Chrome 정보] 클릭\n",
    "4. 크롬 버전 확인\n",
    "5. 새 창에서 https://chromedriver.chromium.org 접속\n",
    "6. 화면 내에서 [Downloads] 클릭\n",
    "7. 크롬 버전과 맞게 다운로드 진행\n",
    "- 98버전이면 98버전에 맞게 다운로드 진행\n",
    "- 압축 풀기 위치 : 주피터 노트북과 같은 위치"
   ]
  },
  {
   "cell_type": "markdown",
   "id": "8f404c05",
   "metadata": {},
   "source": [
    "셀레니움 모듈과 크롬 드라이버를 이용하여 브라우저 제어"
   ]
  },
  {
   "cell_type": "code",
   "execution_count": 2,
   "id": "0dcb8ce0",
   "metadata": {},
   "outputs": [
    {
     "name": "stdout",
     "output_type": "stream",
     "text": [
      "Collecting selenium\n",
      "  Using cached selenium-4.1.0-py3-none-any.whl (958 kB)\n",
      "Collecting trio~=0.17\n",
      "  Using cached trio-0.19.0-py3-none-any.whl (356 kB)\n",
      "Requirement already satisfied: urllib3[secure]~=1.26 in c:\\users\\student\\anaconda3\\lib\\site-packages (from selenium) (1.26.7)\n",
      "Collecting trio-websocket~=0.9\n",
      "  Using cached trio_websocket-0.9.2-py3-none-any.whl (16 kB)\n",
      "Requirement already satisfied: idna in c:\\users\\student\\anaconda3\\lib\\site-packages (from trio~=0.17->selenium) (3.2)\n",
      "Requirement already satisfied: attrs>=19.2.0 in c:\\users\\student\\anaconda3\\lib\\site-packages (from trio~=0.17->selenium) (21.2.0)\n",
      "Requirement already satisfied: cffi>=1.14 in c:\\users\\student\\anaconda3\\lib\\site-packages (from trio~=0.17->selenium) (1.14.6)\n",
      "Requirement already satisfied: sortedcontainers in c:\\users\\student\\anaconda3\\lib\\site-packages (from trio~=0.17->selenium) (2.4.0)\n",
      "Requirement already satisfied: async-generator>=1.9 in c:\\users\\student\\anaconda3\\lib\\site-packages (from trio~=0.17->selenium) (1.10)\n",
      "Collecting outcome\n",
      "  Using cached outcome-1.1.0-py2.py3-none-any.whl (9.7 kB)\n",
      "Requirement already satisfied: sniffio in c:\\users\\student\\anaconda3\\lib\\site-packages (from trio~=0.17->selenium) (1.2.0)\n",
      "Requirement already satisfied: pycparser in c:\\users\\student\\anaconda3\\lib\\site-packages (from cffi>=1.14->trio~=0.17->selenium) (2.20)\n",
      "Collecting wsproto>=0.14\n",
      "  Using cached wsproto-1.0.0-py3-none-any.whl (24 kB)\n",
      "Requirement already satisfied: pyOpenSSL>=0.14 in c:\\users\\student\\anaconda3\\lib\\site-packages (from urllib3[secure]~=1.26->selenium) (21.0.0)\n",
      "Requirement already satisfied: cryptography>=1.3.4 in c:\\users\\student\\anaconda3\\lib\\site-packages (from urllib3[secure]~=1.26->selenium) (3.4.8)\n",
      "Requirement already satisfied: certifi in c:\\users\\student\\anaconda3\\lib\\site-packages (from urllib3[secure]~=1.26->selenium) (2021.10.8)\n",
      "Requirement already satisfied: six>=1.5.2 in c:\\users\\student\\anaconda3\\lib\\site-packages (from pyOpenSSL>=0.14->urllib3[secure]~=1.26->selenium) (1.16.0)\n",
      "Collecting h11<1,>=0.9.0\n",
      "  Using cached h11-0.13.0-py3-none-any.whl (58 kB)\n",
      "Installing collected packages: outcome, h11, wsproto, trio, trio-websocket, selenium\n",
      "Successfully installed h11-0.13.0 outcome-1.1.0 selenium-4.1.0 trio-0.19.0 trio-websocket-0.9.2 wsproto-1.0.0\n"
     ]
    }
   ],
   "source": [
    "!pip install selenium"
   ]
  },
  {
   "cell_type": "code",
   "execution_count": 4,
   "id": "50e3a9ed",
   "metadata": {},
   "outputs": [],
   "source": [
    "from selenium import webdriver"
   ]
  },
  {
   "cell_type": "code",
   "execution_count": 5,
   "id": "d3cea61b",
   "metadata": {},
   "outputs": [
    {
     "name": "stderr",
     "output_type": "stream",
     "text": [
      "C:\\Users\\student\\AppData\\Local\\Temp/ipykernel_10196/3727980596.py:1: DeprecationWarning: executable_path has been deprecated, please pass in a Service object\n",
      "  driver = webdriver.Chrome(executable_path=\"chromedriver_win32/chromedriver.exe\")\n"
     ]
    }
   ],
   "source": [
    "driver = webdriver.Chrome(executable_path=\"chromedriver_win32/chromedriver.exe\")"
   ]
  },
  {
   "cell_type": "code",
   "execution_count": 6,
   "id": "8c2f953a",
   "metadata": {},
   "outputs": [],
   "source": [
    "driver.get(\"https://www.naver.com\")"
   ]
  },
  {
   "cell_type": "markdown",
   "id": "32eb40b2",
   "metadata": {},
   "source": [
    "홈페이지를 띄우고 로그인해보기"
   ]
  },
  {
   "cell_type": "markdown",
   "id": "2f621ab1",
   "metadata": {},
   "source": [
    "알고리즘 순서도\n",
    "1. 시작\n",
    "2. 로그인 할 사이트를 입력 받음\n",
    "3. 아이디와 비밀번호를 입력 받음\n",
    "4. 로그인 사이트로 이동\n",
    "5. 아이디 입력\n",
    "6. tab 키 누름\n",
    "7. 비밀번호 입력\n",
    "8. 엔터키 누름\n",
    "9. 종료\n",
    "- 파일을 두 개 만들어서 진행"
   ]
  },
  {
   "cell_type": "code",
   "execution_count": 9,
   "id": "64e8bb9d",
   "metadata": {},
   "outputs": [
    {
     "name": "stdout",
     "output_type": "stream",
     "text": [
      "Requirement already satisfied: pywin32 in c:\\users\\student\\anaconda3\\lib\\site-packages (228)\n",
      "Collecting pyperclip\n",
      "  Using cached pyperclip-1.8.2.tar.gz (20 kB)\n",
      "Building wheels for collected packages: pyperclip\n",
      "  Building wheel for pyperclip (setup.py): started\n",
      "  Building wheel for pyperclip (setup.py): finished with status 'done'\n",
      "  Created wheel for pyperclip: filename=pyperclip-1.8.2-py3-none-any.whl size=11136 sha256=f2c56ea04a4b17a8541eb6ed89ec673e11822ac84c894f84745df1f4aa48b09b\n",
      "  Stored in directory: c:\\users\\student\\appdata\\local\\pip\\cache\\wheels\\0c\\09\\9e\\49e21a6840ef7955b06d47394afef0058f0378c0914e48b8b8\n",
      "Successfully built pyperclip\n",
      "Installing collected packages: pyperclip\n",
      "Successfully installed pyperclip-1.8.2\n"
     ]
    }
   ],
   "source": [
    "!pip install pywin32 pyperclip"
   ]
  },
  {
   "cell_type": "markdown",
   "id": "7ba23205",
   "metadata": {},
   "source": [
    "- pywin32 : Win32 API의 기능을 파이썬에서 사용할 수 있도록 해주는 라이브러리\n",
    "- pyperclip : 파이썬으로 클립보드에 복사, 붙여넣기를 할 수 있도록 해주는 라이브러리"
   ]
  },
  {
   "cell_type": "markdown",
   "id": "0ecd7ecc",
   "metadata": {},
   "source": [
    "모듈 파일 작성"
   ]
  },
  {
   "cell_type": "code",
   "execution_count": null,
   "id": "c272a769",
   "metadata": {},
   "outputs": [],
   "source": [
    "from selenium import webdriver\n",
    "from selenium.webdriver.chrome.options import Options\n",
    "import pywinmacro as pw\n",
    "import time\n",
    "\n",
    "# 사이트의 로그인 주소를 미리 저장\n",
    "LOGIN_URLS = {\n",
    "    \"daum\" : \"https://logins.daum.net/accounts/signinform.do\",\n",
    "    \"naver\" : \"https://nid.naver.com/nidlogin.login?\"\n",
    "}\n",
    "\n",
    "class LoginBot:\n",
    "    def __init__(self, site):\n",
    "        # 셀레늄 웹드라이버에 입력할 옵션을 지정\n",
    "        self.options = Options()\n",
    "        # 옵션에 해상도를 입력\n",
    "        self.options.add_argument(\"--window-size=1920, 1080\")\n",
    "        # 옵션을 이용하여 크롬 웹드라이버를 불러옴\n",
    "        self.driver = webdriver.Chrome(executable_path=\"chromedriver_win32/chromedriver.exe\",\n",
    "                                 chrome_options=self.options)\n",
    "        # 로그인하려는 사이트로 이동해 로그인창을 켬\n",
    "        try:\n",
    "            self.driver.get(LOGIN_URLS[site.lower()])   # TWITTER  -> twitter\n",
    "            # 로딩이 오래 걸릴 것을 대비하여 잠시 대기\n",
    "            time.sleep(7)\n",
    "        except KeyError:\n",
    "            # 세팅되지 않은 주소가 나올 경우 주소창에 입력하게 함\n",
    "            self.driver.get(site)\n",
    "            # 로딩이 오래 걸릴 것을 대비하여 잠시 대기\n",
    "            time.sleep(7)\n",
    "        \n",
    "    # 로그인 메서드\n",
    "    def login(self, id, ps):\n",
    "        # 아이디 입력\n",
    "        pw.typing(id)\n",
    "        # 비밀번호 입력을 위해 탭 키 사용\n",
    "        pw.key_press_once(\"tab\")\n",
    "        # 비밀번호 입력\n",
    "        pw.typing(ps)\n",
    "        # 로그인을 위한 엔터키 사용\n",
    "        pw.key_press_once(\"enter\")\n",
    "        # 로딩이 오래 걸릴 것을 대비하여 잠시 대기\n",
    "        time.sleep(7)\n",
    "        \n",
    "    # 크롤러 종료 메서드\n",
    "    def kill(self):\n",
    "        self.driver.quit()"
   ]
  },
  {
   "cell_type": "markdown",
   "id": "2e49088d",
   "metadata": {},
   "source": [
    "실제 구동할 파일 작성"
   ]
  },
  {
   "cell_type": "code",
   "execution_count": null,
   "id": "dcde15a6",
   "metadata": {},
   "outputs": [],
   "source": [
    "import sys\n",
    "import login_macro as lm\n",
    "\n",
    "# 로그인 할 사이트를 입력받기\n",
    "site = sys.argv[1]\n",
    "\n",
    "# 아이디 입력받기\n",
    "id = sys.argv[2]\n",
    "\n",
    "# 패스워드 입력받기\n",
    "ps = sys.argv[3]\n",
    "\n",
    "# lm 모듈에 있는 클래스를 객체화\n",
    "crawler = lm.LoginBot(site)\n",
    "\n",
    "# 로그인\n",
    "crawler.login(id, ps)"
   ]
  },
  {
   "cell_type": "markdown",
   "id": "2c006f39",
   "metadata": {},
   "source": [
    "주피터 노트북에서 코드를 실행시킬 시 입력해야 하는 명령어 코드"
   ]
  },
  {
   "cell_type": "code",
   "execution_count": 10,
   "id": "e41cef98",
   "metadata": {},
   "outputs": [],
   "source": [
    "!python login.py naver ogs1316 qwer1234"
   ]
  },
  {
   "cell_type": "markdown",
   "id": "c1489103",
   "metadata": {},
   "source": [
    "인스타그램 특정 태그가 달린 게시물 캡쳐"
   ]
  },
  {
   "cell_type": "markdown",
   "id": "ea7598fe",
   "metadata": {},
   "source": [
    "목표\n",
    "1. 인스타그램 로그인\n",
    "2. 인스타그램에서 태그 검색\n",
    "3. 게시물 클릭\n",
    "4. 게시물 스크린샷 캡쳐\n",
    "5. 다음 게시물로 이동"
   ]
  },
  {
   "cell_type": "markdown",
   "id": "87e8223f",
   "metadata": {},
   "source": [
    "1. 인스타그램 로그인"
   ]
  },
  {
   "cell_type": "code",
   "execution_count": 15,
   "id": "b43d19bd",
   "metadata": {},
   "outputs": [
    {
     "name": "stderr",
     "output_type": "stream",
     "text": [
      "C:\\Users\\student\\AppData\\Local\\Temp/ipykernel_10196/830898596.py:2: DeprecationWarning: executable_path has been deprecated, please pass in a Service object\n",
      "  driver = webdriver.Chrome(executable_path=\"chromedriver_win32/chromedriver.exe\")\n"
     ]
    }
   ],
   "source": [
    "from selenium import webdriver\n",
    "driver = webdriver.Chrome(executable_path=\"chromedriver_win32/chromedriver.exe\")"
   ]
  },
  {
   "cell_type": "markdown",
   "id": "1c1eb9ea",
   "metadata": {},
   "source": [
    "2. 열린 브라우저로 인스타그램 로그인 사이트 접속<br>\n",
    "https://www.instagram.com/accounts/login"
   ]
  },
  {
   "cell_type": "markdown",
   "id": "bb35b26d",
   "metadata": {},
   "source": [
    "3. input 태그 찾기(F12 누른 후 진행)"
   ]
  },
  {
   "cell_type": "code",
   "execution_count": 18,
   "id": "c8f280d3",
   "metadata": {},
   "outputs": [
    {
     "name": "stderr",
     "output_type": "stream",
     "text": [
      "C:\\Users\\student\\AppData\\Local\\Temp/ipykernel_10196/4159672381.py:1: DeprecationWarning: find_elements_by_* commands are deprecated. Please use find_elements() instead\n",
      "  input_tags = driver.find_elements_by_tag_name(\"input\")\n"
     ]
    }
   ],
   "source": [
    "input_tags = driver.find_elements_by_tag_name(\"input\")"
   ]
  },
  {
   "cell_type": "markdown",
   "id": "7b241e9c",
   "metadata": {},
   "source": [
    "결과 :<br>\n",
    "\\<input aria-label=\"전화번호, 사용자 이름 또는 이메일\" ...<br><br>\n",
    "\\<input aria-label=\"비밀번호 ...\n",
    "\n",
    "4. 해당 필드를 객체에 대입"
   ]
  },
  {
   "cell_type": "code",
   "execution_count": 19,
   "id": "6d34a6a8",
   "metadata": {},
   "outputs": [
    {
     "data": {
      "text/plain": [
       "2"
      ]
     },
     "execution_count": 19,
     "metadata": {},
     "output_type": "execute_result"
    }
   ],
   "source": [
    "len(input_tags)"
   ]
  },
  {
   "cell_type": "code",
   "execution_count": 21,
   "id": "e1840828",
   "metadata": {},
   "outputs": [],
   "source": [
    "id_field = input_tags[0]  # 아이디 필드\n",
    "ps_field = input_tags[1]  # 비밀번호 필드"
   ]
  },
  {
   "cell_type": "markdown",
   "id": "cb94f0ce",
   "metadata": {},
   "source": [
    "5. 아이디 필드와 비밀번호 필드에 값을 입력"
   ]
  },
  {
   "cell_type": "code",
   "execution_count": 22,
   "id": "12ef2202",
   "metadata": {},
   "outputs": [],
   "source": [
    "id_field.send_keys(\"01094391316\")\n",
    "ps_field.send_keys(\"...\") # 실제 비밀번호 입력"
   ]
  },
  {
   "cell_type": "markdown",
   "id": "1703d49f",
   "metadata": {},
   "source": [
    "- send_keys : input 태그에 값을 자동으로 입력"
   ]
  },
  {
   "cell_type": "markdown",
   "id": "b97f44e2",
   "metadata": {},
   "source": [
    "6. 로그인 진행"
   ]
  },
  {
   "cell_type": "markdown",
   "id": "15176352",
   "metadata": {},
   "source": [
    "7. 태그 검색\n",
    "- https://www.instagram.com/explore/tags/고양이\n",
    " - 인기 게시물 9개\n",
    " - 최근 게시물\n",
    "  - 최근 게시물이 하나씩 불러들여 크롤링하기 좋음"
   ]
  },
  {
   "cell_type": "markdown",
   "id": "0afea7eb",
   "metadata": {},
   "source": [
    "8. 최근 게시물의 첫 번째 사진 태그 찾기<br>\n",
    "- 사진에 마우스를 올려놓고 우클릭 후 [검사] 클릭<br>\n",
    "\\<div class=\"v1Nh3 kIKUG _bz0w\" ..."
   ]
  },
  {
   "cell_type": "markdown",
   "id": "1ab29cf3",
   "metadata": {},
   "source": [
    "9. 찾은 태그에서 우클릭 후 copy -> copy Xpath\n",
    "- Xpath는 마크업 언어에서 특정 요소를 찾기 위한 경로를 나타내는 것\n",
    " - 마크업 언어 : 태그 등을 사용하여 문서나 데이터의 구조를 표현하는 언어\n",
    " - ex) 마크다운, html, xml 등등\n",
    "- Xpath를 이용하여 쉽게 특정 요소 지정 가능"
   ]
  },
  {
   "cell_type": "markdown",
   "id": "bca19792",
   "metadata": {},
   "source": [
    "10. Xpath 경로를 변수에 저장"
   ]
  },
  {
   "cell_type": "code",
   "execution_count": 29,
   "id": "813ae19b",
   "metadata": {},
   "outputs": [],
   "source": [
    "xpath = '//*[@id=\"react-root\"]/section/main/article/div[2]/div/div[1]/div[1]'"
   ]
  },
  {
   "cell_type": "markdown",
   "id": "91cdc8a9",
   "metadata": {},
   "source": [
    "11. 첫 번째 게시물 클릭"
   ]
  },
  {
   "cell_type": "code",
   "execution_count": 30,
   "id": "84d4d54e",
   "metadata": {},
   "outputs": [
    {
     "name": "stderr",
     "output_type": "stream",
     "text": [
      "C:\\Users\\student\\AppData\\Local\\Temp/ipykernel_10196/2110935984.py:1: DeprecationWarning: find_element_by_* commands are deprecated. Please use find_element() instead\n",
      "  el = driver.find_element_by_xpath(xpath)\n"
     ]
    }
   ],
   "source": [
    "el = driver.find_element_by_xpath(xpath)"
   ]
  },
  {
   "cell_type": "markdown",
   "id": "d6732ea0",
   "metadata": {},
   "source": [
    "- xpath 요소들을 찾아서 el에 저장"
   ]
  },
  {
   "cell_type": "code",
   "execution_count": 32,
   "id": "9f380d16",
   "metadata": {},
   "outputs": [],
   "source": [
    "el.click()"
   ]
  },
  {
   "cell_type": "markdown",
   "id": "1cc2838a",
   "metadata": {},
   "source": [
    "12. 고양이 사진만 태그를 찾아서 Xpath 지정\n",
    "- 고양이만 있는 사진에서 우클릭 후 [검사]를 누르면 해당하는 태그로 이동\n",
    "- 태그에서 우클릭 후 copy -> copy Xpath"
   ]
  },
  {
   "cell_type": "code",
   "execution_count": 33,
   "id": "2c3ffc67",
   "metadata": {},
   "outputs": [],
   "source": [
    "xpath = '/html/body/div[6]/div[3]/div/article/div/div[1]/div/div/div[2]'"
   ]
  },
  {
   "cell_type": "code",
   "execution_count": 34,
   "id": "f0603b4e",
   "metadata": {},
   "outputs": [
    {
     "name": "stderr",
     "output_type": "stream",
     "text": [
      "C:\\Users\\student\\AppData\\Local\\Temp/ipykernel_10196/3817762962.py:1: DeprecationWarning: find_element_by_* commands are deprecated. Please use find_element() instead\n",
      "  article = driver.find_element_by_xpath(xpath)\n"
     ]
    }
   ],
   "source": [
    "article = driver.find_element_by_xpath(xpath)"
   ]
  },
  {
   "cell_type": "code",
   "execution_count": 35,
   "id": "417c3a08",
   "metadata": {},
   "outputs": [
    {
     "data": {
      "text/plain": [
       "True"
      ]
     },
     "execution_count": 35,
     "metadata": {},
     "output_type": "execute_result"
    }
   ],
   "source": [
    "article.screenshot(\"test.png\")"
   ]
  },
  {
   "cell_type": "markdown",
   "id": "c21f61c7",
   "metadata": {},
   "source": [
    "13. 다음 버튼 클릭"
   ]
  },
  {
   "cell_type": "code",
   "execution_count": 49,
   "id": "d31c9f98",
   "metadata": {},
   "outputs": [],
   "source": [
    "xpath = '/html/body/div[6]/div[2]/div/div[2]/button/div/span'"
   ]
  },
  {
   "cell_type": "code",
   "execution_count": 50,
   "id": "2384a26e",
   "metadata": {},
   "outputs": [
    {
     "name": "stderr",
     "output_type": "stream",
     "text": [
      "C:\\Users\\student\\AppData\\Local\\Temp/ipykernel_10196/2110935984.py:1: DeprecationWarning: find_element_by_* commands are deprecated. Please use find_element() instead\n",
      "  el = driver.find_element_by_xpath(xpath)\n"
     ]
    }
   ],
   "source": [
    "el = driver.find_element_by_xpath(xpath)"
   ]
  },
  {
   "cell_type": "code",
   "execution_count": 51,
   "id": "6e25dbdc",
   "metadata": {},
   "outputs": [],
   "source": [
    "el.click()"
   ]
  },
  {
   "cell_type": "markdown",
   "id": "6387d775",
   "metadata": {},
   "source": [
    "위에서 진행한 작업을 코드로 옮기기"
   ]
  },
  {
   "cell_type": "markdown",
   "id": "3d977eb3",
   "metadata": {},
   "source": [
    "모듈 파일 작성"
   ]
  },
  {
   "cell_type": "code",
   "execution_count": null,
   "id": "ef855071",
   "metadata": {},
   "outputs": [],
   "source": [
    "from selenium import webdriver\n",
    "from selenium.webdriver.chrome.options import Options\n",
    "from selenium.webdriver.common.keys import Keys\n",
    "import time\n",
    "\n",
    "class CaptureBot:\n",
    "    def __init__(self):\n",
    "        # 홈페이지를 변수에 저장\n",
    "        self.querry = \"https://www.instagram.com/explore/tags/\"\n",
    "        # 셀레늄 웹드라이버에 입력할 옵션을 지정\n",
    "        self.options = Options()\n",
    "        # 옵션에 해상도를 입력\n",
    "        self.options.add_argument(\"--window-size=1920, 1080\")\n",
    "        # 화면이 존재하지 않는 서버에서 사용한다면 해상도 입력 옵션 사용 X\n",
    "        # 아래 headless 옵션을 사용\n",
    "        # self.options.add_argument(\"headless\")"
   ]
  }
 ],
 "metadata": {
  "kernelspec": {
   "display_name": "Python 3 (ipykernel)",
   "language": "python",
   "name": "python3"
  },
  "language_info": {
   "codemirror_mode": {
    "name": "ipython",
    "version": 3
   },
   "file_extension": ".py",
   "mimetype": "text/x-python",
   "name": "python",
   "nbconvert_exporter": "python",
   "pygments_lexer": "ipython3",
   "version": "3.9.7"
  }
 },
 "nbformat": 4,
 "nbformat_minor": 5
}
