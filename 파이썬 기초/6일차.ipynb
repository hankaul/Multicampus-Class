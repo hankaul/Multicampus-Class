{
 "cells": [
  {
   "cell_type": "markdown",
   "id": "13fee8bd",
   "metadata": {},
   "source": [
    "# 모듈"
   ]
  },
  {
   "cell_type": "code",
   "execution_count": 20,
   "id": "2cd17da9",
   "metadata": {},
   "outputs": [
    {
     "name": "stdout",
     "output_type": "stream",
     "text": [
      "['C:\\\\Users\\\\student\\\\Python', 'C:\\\\Users\\\\student\\\\anaconda3\\\\python39.zip', 'C:\\\\Users\\\\student\\\\anaconda3\\\\DLLs', 'C:\\\\Users\\\\student\\\\anaconda3\\\\lib', 'C:\\\\Users\\\\student\\\\anaconda3', '', 'C:\\\\Users\\\\student\\\\anaconda3\\\\lib\\\\site-packages', 'C:\\\\Users\\\\student\\\\anaconda3\\\\lib\\\\site-packages\\\\locket-0.2.1-py3.9.egg', 'C:\\\\Users\\\\student\\\\anaconda3\\\\lib\\\\site-packages\\\\win32', 'C:\\\\Users\\\\student\\\\anaconda3\\\\lib\\\\site-packages\\\\win32\\\\lib', 'C:\\\\Users\\\\student\\\\anaconda3\\\\lib\\\\site-packages\\\\Pythonwin', 'C:\\\\Users\\\\student\\\\anaconda3\\\\lib\\\\site-packages\\\\IPython\\\\extensions', 'C:\\\\Users\\\\student\\\\.ipython']\n"
     ]
    }
   ],
   "source": [
    "import sys\n",
    "print(sys.path)"
   ]
  },
  {
   "cell_type": "markdown",
   "id": "2d103981",
   "metadata": {},
   "source": [
    "모듈 생성 방법\n",
    "1. 메모장 열기\n",
    "2. 코드 입력\n",
    "\n",
    "def add(a, b):<br>\n",
    "&nbsp;&nbsp;&nbsp;&nbsp;return a + b<br>\n",
    "\n",
    "def sub(a, b):<br>\n",
    "&nbsp;&nbsp;&nbsp;&nbsp;return a - b<br>\n",
    "    \n",
    "3. 주피터 노트북 위치에 저장(mod1.py)"
   ]
  },
  {
   "cell_type": "code",
   "execution_count": null,
   "id": "47f3bf82",
   "metadata": {},
   "outputs": [],
   "source": [
    "모듈 불러오기 예제"
   ]
  },
  {
   "cell_type": "code",
   "execution_count": 3,
   "id": "650f31e6",
   "metadata": {},
   "outputs": [],
   "source": [
    "import mod1"
   ]
  },
  {
   "cell_type": "markdown",
   "id": "aa5b026b",
   "metadata": {},
   "source": [
    "모듈 vs 라이브러리\n",
    "- 기능상의 차이는 없음(비슷한 느낌)\n",
    "- 모듈\n",
    " - 작은 부품으로 비유\n",
    " - mod1.py\n",
    "- 라이브러리\n",
    " - 자주 사용되는 로직을 잘 정리한 집합 느낌\n",
    " - 흐름이 잘 짜여진 집합 느낌\n",
    " - 모듈이라고 부를 수 있음\n",
    " - sys.py"
   ]
  },
  {
   "cell_type": "markdown",
   "id": "bd12a744",
   "metadata": {},
   "source": [
    "\\_\\_name\\_\\_ 변수는 파이썬에서 자동으로 사용할 수 있도록 등록된 변수\n",
    "- 파일을 생성할 시 자동으로 생성되는 변수"
   ]
  },
  {
   "cell_type": "code",
   "execution_count": 4,
   "id": "195bef6d",
   "metadata": {},
   "outputs": [
    {
     "name": "stdout",
     "output_type": "stream",
     "text": [
      "__main__\n"
     ]
    }
   ],
   "source": [
    "print(__name__)"
   ]
  },
  {
   "cell_type": "markdown",
   "id": "6ee60f35",
   "metadata": {},
   "source": [
    "- \\_\\_main\\_\\_의 의미 : 현재 작업 공간이 main이라는 뜻"
   ]
  },
  {
   "cell_type": "markdown",
   "id": "04f6da85",
   "metadata": {},
   "source": [
    "\\_\\_name\\_\\_ 변수 사용 예제 순서\n",
    "1. 메모장 열기\n",
    "2. 코드 입력\n",
    "\n",
    "print(\\_\\_name\\_\\_)<br><br>\n",
    "if \\_\\_name\\_\\_ == '\\_\\_main\\_\\_':<br>\n",
    "&nbsp;&nbsp;&nbsp;&nbsp;print('실행합니다')<br>\n",
    "\n",
    "else:<br>\n",
    "&nbsp;&nbsp;&nbsp;&nbsp;print('실행하지 않습니다')<br>\n",
    "    \n",
    "3. 주피터 노트북 위치에 저장(test.py)\n",
    "4. cmd 창에서 test.py 실행시켜보기\n",
    "- C:\\Users\\student\\Python>python test.py\n",
    "- 결과<br>\n",
    "\\_\\_main\\_\\_<br>\n",
    "실행합니다"
   ]
  },
  {
   "cell_type": "code",
   "execution_count": 16,
   "id": "63021715",
   "metadata": {},
   "outputs": [
    {
     "name": "stdout",
     "output_type": "stream",
     "text": [
      "test\n",
      "실행합니다.\n"
     ]
    },
    {
     "data": {
      "text/plain": [
       "<module 'test' from 'C:\\\\Users\\\\student\\\\Python\\\\test.py'>"
      ]
     },
     "execution_count": 16,
     "metadata": {},
     "output_type": "execute_result"
    }
   ],
   "source": [
    "from importlib import reload\n",
    "import test\n",
    "reload(test)"
   ]
  },
  {
   "cell_type": "markdown",
   "id": "8f5588a2",
   "metadata": {},
   "source": [
    "\\_\\_name\\_\\_ 변수를 사용하는 목적?\n",
    " - 메인 환경에서 실행시킬 수 있는 코드와 import 시켜서 실행시킬 수 있는 코드를 구분지어 주고 싶을 때 사용"
   ]
  },
  {
   "cell_type": "markdown",
   "id": "a8bf1117",
   "metadata": {},
   "source": [
    "모듈 사용해보기 예제"
   ]
  },
  {
   "cell_type": "markdown",
   "id": "7ffe5913",
   "metadata": {},
   "source": [
    "1. 메모장 열기\n",
    "2. 코드 입력\n",
    "\n",
    "PI = 3.141592<br><br>\n",
    "class Math:<br>\n",
    "&nbsp;&nbsp;&nbsp;&nbsp;def solv(self, r):<br>\n",
    "&nbsp;&nbsp;&nbsp;&nbsp;&nbsp;&nbsp;&nbsp;&nbsp;return PI * (r ** 2)<br>\n",
    "\n",
    "def add(a, b):<br>\n",
    "&nbsp;&nbsp;&nbsp;&nbsp;return a + b\n",
    "    \n",
    "3. 주피터 노트북 위치에 저장(mod2.py)"
   ]
  },
  {
   "cell_type": "code",
   "execution_count": 1,
   "id": "cae10e9c",
   "metadata": {},
   "outputs": [],
   "source": [
    "import mod2"
   ]
  },
  {
   "cell_type": "code",
   "execution_count": 18,
   "id": "c213f1dd",
   "metadata": {},
   "outputs": [
    {
     "name": "stdout",
     "output_type": "stream",
     "text": [
      "3.141592\n"
     ]
    }
   ],
   "source": [
    "print(mod2.PI)"
   ]
  },
  {
   "cell_type": "markdown",
   "id": "11c5f818",
   "metadata": {},
   "source": [
    "- 사용 방법 : 모듈이름.모듈변수\n",
    "- 모듈 mod2의 PI 변수 출력"
   ]
  },
  {
   "cell_type": "code",
   "execution_count": 20,
   "id": "a99df0ef",
   "metadata": {},
   "outputs": [
    {
     "name": "stdout",
     "output_type": "stream",
     "text": [
      "12.566368\n"
     ]
    }
   ],
   "source": [
    "a = mod2.Math()\n",
    "print(a.solv(2))"
   ]
  },
  {
   "cell_type": "code",
   "execution_count": 23,
   "id": "93468f5e",
   "metadata": {},
   "outputs": [
    {
     "name": "stdout",
     "output_type": "stream",
     "text": [
      "12.566368\n"
     ]
    }
   ],
   "source": [
    "print(mod2.Math.solv(a, 2))"
   ]
  },
  {
   "cell_type": "markdown",
   "id": "632699be",
   "metadata": {},
   "source": [
    "- 모듈 내에 있는 클래스를 객체로 지정\n",
    "- 클래스 내의 메서드를 사용할 수 있음"
   ]
  },
  {
   "cell_type": "code",
   "execution_count": 22,
   "id": "cd872a3b",
   "metadata": {},
   "outputs": [
    {
     "name": "stdout",
     "output_type": "stream",
     "text": [
      "7.5415920000000005\n"
     ]
    }
   ],
   "source": [
    "print(mod2.add(mod2.PI, 4.4))"
   ]
  },
  {
   "cell_type": "markdown",
   "id": "441ba0b0",
   "metadata": {},
   "source": [
    "- 모듈 mod2의 add() 함수 사용\n",
    " - 매개변수 a자리에 mod2의 PI 변수 대입\n",
    " - 매개변수 b자리에 일반 숫자 4.4 대입"
   ]
  },
  {
   "cell_type": "markdown",
   "id": "3b79cf59",
   "metadata": {},
   "source": [
    "모듈 내용 변경 후에는 모듈을 다시 불러들여야 함"
   ]
  },
  {
   "cell_type": "code",
   "execution_count": null,
   "id": "a72b05fe",
   "metadata": {},
   "outputs": [],
   "source": [
    "from importlib import reload\n",
    "import mod2\n",
    "reload(mod2)"
   ]
  },
  {
   "cell_type": "markdown",
   "id": "477118ad",
   "metadata": {},
   "source": [
    "모듈 경로 추가하기 예제(sys 모듈 사용)\n",
    "- 선행) 주피터 노트북으로 사용중인 폴더의 상위 폴더에 mymod 폴더 생성"
   ]
  },
  {
   "cell_type": "code",
   "execution_count": 24,
   "id": "02b83f93",
   "metadata": {},
   "outputs": [
    {
     "name": "stdout",
     "output_type": "stream",
     "text": [
      "['C:\\\\Users\\\\student\\\\Python', 'C:\\\\Users\\\\student\\\\anaconda3\\\\python39.zip', 'C:\\\\Users\\\\student\\\\anaconda3\\\\DLLs', 'C:\\\\Users\\\\student\\\\anaconda3\\\\lib', 'C:\\\\Users\\\\student\\\\anaconda3', '', 'C:\\\\Users\\\\student\\\\anaconda3\\\\lib\\\\site-packages', 'C:\\\\Users\\\\student\\\\anaconda3\\\\lib\\\\site-packages\\\\locket-0.2.1-py3.9.egg', 'C:\\\\Users\\\\student\\\\anaconda3\\\\lib\\\\site-packages\\\\win32', 'C:\\\\Users\\\\student\\\\anaconda3\\\\lib\\\\site-packages\\\\win32\\\\lib', 'C:\\\\Users\\\\student\\\\anaconda3\\\\lib\\\\site-packages\\\\Pythonwin', 'C:\\\\Users\\\\student\\\\anaconda3\\\\lib\\\\site-packages\\\\IPython\\\\extensions', 'C:\\\\Users\\\\student\\\\.ipython']\n"
     ]
    }
   ],
   "source": [
    "import sys\n",
    "print(sys.path)"
   ]
  },
  {
   "cell_type": "markdown",
   "id": "1576f887",
   "metadata": {},
   "source": [
    "- 모듈을 사용할 수 있는 경로를 먼저 확인"
   ]
  },
  {
   "cell_type": "code",
   "execution_count": 25,
   "id": "b7026afa",
   "metadata": {},
   "outputs": [],
   "source": [
    "sys.path.append(\"C:/Users/student/mymod\")"
   ]
  },
  {
   "cell_type": "markdown",
   "id": "a4d71a8d",
   "metadata": {},
   "source": [
    "- 모듈을 사용할 수 있는 경로를 추가"
   ]
  },
  {
   "cell_type": "code",
   "execution_count": 27,
   "id": "26cd45f6",
   "metadata": {},
   "outputs": [
    {
     "data": {
      "text/plain": [
       "['C:\\\\Users\\\\student\\\\Python',\n",
       " 'C:\\\\Users\\\\student\\\\anaconda3\\\\python39.zip',\n",
       " 'C:\\\\Users\\\\student\\\\anaconda3\\\\DLLs',\n",
       " 'C:\\\\Users\\\\student\\\\anaconda3\\\\lib',\n",
       " 'C:\\\\Users\\\\student\\\\anaconda3',\n",
       " '',\n",
       " 'C:\\\\Users\\\\student\\\\anaconda3\\\\lib\\\\site-packages',\n",
       " 'C:\\\\Users\\\\student\\\\anaconda3\\\\lib\\\\site-packages\\\\locket-0.2.1-py3.9.egg',\n",
       " 'C:\\\\Users\\\\student\\\\anaconda3\\\\lib\\\\site-packages\\\\win32',\n",
       " 'C:\\\\Users\\\\student\\\\anaconda3\\\\lib\\\\site-packages\\\\win32\\\\lib',\n",
       " 'C:\\\\Users\\\\student\\\\anaconda3\\\\lib\\\\site-packages\\\\Pythonwin',\n",
       " 'C:\\\\Users\\\\student\\\\anaconda3\\\\lib\\\\site-packages\\\\IPython\\\\extensions',\n",
       " 'C:\\\\Users\\\\student\\\\.ipython',\n",
       " 'C:/Users/student/mymod']"
      ]
     },
     "execution_count": 27,
     "metadata": {},
     "output_type": "execute_result"
    }
   ],
   "source": [
    "sys.path"
   ]
  },
  {
   "cell_type": "markdown",
   "id": "433e95e5",
   "metadata": {},
   "source": [
    "모듈 경로 제거하기 예제(두 가지)"
   ]
  },
  {
   "cell_type": "code",
   "execution_count": null,
   "id": "3b9a9073",
   "metadata": {},
   "outputs": [],
   "source": [
    "sys.path.remove(\"C:/Users/student/mymod\")"
   ]
  },
  {
   "cell_type": "code",
   "execution_count": null,
   "id": "282431e8",
   "metadata": {},
   "outputs": [],
   "source": [
    "sys.path.remove(sys.path[-1])"
   ]
  },
  {
   "cell_type": "markdown",
   "id": "83dd414f",
   "metadata": {},
   "source": [
    "- 지울 때도 경로를 직접 입력해서 지울 수 있음\n",
    "- 리스트를 인덱싱하여 제거하는 것도 가능"
   ]
  },
  {
   "cell_type": "markdown",
   "id": "fd0d9a2d",
   "metadata": {},
   "source": [
    "모듈 경로 추가하기 예제(윈도우 gui 환경)\n",
    "1. 왼쪽 돋보기에서 \"고급 시스템 설정 보기\" 검색\n",
    "2. [환경 변수] 클릭\n",
    "3. [시스템 변수] 항목에서 [Path] 항목을 찾고 클릭\n",
    "4. [편집] 클릭\n",
    "5. [새로 만들기] 클릭 후 경로 추가"
   ]
  },
  {
   "cell_type": "markdown",
   "id": "83ddcd5a",
   "metadata": {},
   "source": [
    "모듈 경로 추가하기 예제(리눅스, Mac(?))\n",
    "\n",
    "vim /etc/profile<br>\n",
    "vim /etc/bashrc<br>\n",
    "PATH = \"경로\" 추가\n",
    "\n",
    "or\n",
    "\n",
    "export PYTHONPATH=\"&{PYTHONPATH}:경로\""
   ]
  },
  {
   "cell_type": "markdown",
   "id": "7cf43e63",
   "metadata": {},
   "source": [
    "**189page 7번째 줄 글자 깨짐 -> 호출하게**"
   ]
  },
  {
   "cell_type": "markdown",
   "id": "60ae2083",
   "metadata": {},
   "source": [
    "재귀함수"
   ]
  },
  {
   "cell_type": "code",
   "execution_count": null,
   "id": "63e27191",
   "metadata": {},
   "outputs": [],
   "source": [
    "def hello():\n",
    "    print(\"Hello world\")\n",
    "    hello()\n",
    "    \n",
    "hello()"
   ]
  },
  {
   "cell_type": "markdown",
   "id": "c9adf293",
   "metadata": {},
   "source": [
    "# 예외처리"
   ]
  },
  {
   "cell_type": "markdown",
   "id": "ac925257",
   "metadata": {},
   "source": [
    "**193page 3번째 줄 글자 깨짐 -> 오류를**"
   ]
  },
  {
   "cell_type": "markdown",
   "id": "def4f668",
   "metadata": {},
   "source": [
    "try ~ except 문 예제(에러 지정 X) - 모든 예외를 다 잡아냄"
   ]
  },
  {
   "cell_type": "code",
   "execution_count": 2,
   "id": "098e4900",
   "metadata": {},
   "outputs": [
    {
     "name": "stdout",
     "output_type": "stream",
     "text": [
      "error\n"
     ]
    }
   ],
   "source": [
    "a, b = 5, 0\n",
    "try:\n",
    "    c = a / b\n",
    "    print(c)\n",
    "except:\n",
    "    print(\"error\")"
   ]
  },
  {
   "cell_type": "markdown",
   "id": "41f72d7c",
   "metadata": {},
   "source": [
    "try ~ except 문 예제(에러 지정)"
   ]
  },
  {
   "cell_type": "code",
   "execution_count": 3,
   "id": "2af1e857",
   "metadata": {},
   "outputs": [
    {
     "name": "stdout",
     "output_type": "stream",
     "text": [
      "error\n"
     ]
    }
   ],
   "source": [
    "a, b = 5, 0\n",
    "try:\n",
    "    c = a / b\n",
    "    print(c)\n",
    "except ZeroDivisionError:\n",
    "    print(\"error\")"
   ]
  },
  {
   "cell_type": "markdown",
   "id": "f17fedc5",
   "metadata": {},
   "source": [
    "try ~ except 문 예제(에러 지정, as 사용)"
   ]
  },
  {
   "cell_type": "code",
   "execution_count": 7,
   "id": "b9a040e8",
   "metadata": {},
   "outputs": [
    {
     "name": "stdout",
     "output_type": "stream",
     "text": [
      "name 'spam' is not defined\n"
     ]
    }
   ],
   "source": [
    "try:\n",
    "    spam()\n",
    "except NameError as x:\n",
    "    print(x)"
   ]
  },
  {
   "cell_type": "markdown",
   "id": "6d7270b1",
   "metadata": {},
   "source": [
    "여러 개의 예외 발생\n",
    "- except 문을 여러번 사용할 수 있음\n",
    "\n",
    "형식)<br><br>\n",
    "try:<br>\n",
    "&nbsp;&nbsp;&nbsp;&nbsp;some_job()<br>\n",
    "except ZeroDivisionError:<br>\n",
    "&nbsp;&nbsp;&nbsp;&nbsp;<구문><br>\n",
    "except NameError:<br>\n",
    "&nbsp;&nbsp;&nbsp;&nbsp;<구문><br>\n",
    "except (TypeError, IOError):&nbsp;&nbsp;&nbsp;&nbsp;# 두가지 에러를 동시에 잡아냄<br>\n",
    "&nbsp;&nbsp;&nbsp;&nbsp;<구문>"
   ]
  },
  {
   "cell_type": "markdown",
   "id": "3558543d",
   "metadata": {},
   "source": [
    "두 가지의 예외를 한 번에 묶어서 처리하기 예제"
   ]
  },
  {
   "cell_type": "code",
   "execution_count": 9,
   "id": "5a59b306",
   "metadata": {},
   "outputs": [
    {
     "name": "stdout",
     "output_type": "stream",
     "text": [
      "list index out of range\n"
     ]
    }
   ],
   "source": [
    "try:\n",
    "    a = [1, 2]\n",
    "    print(a[3])\n",
    "    4/0\n",
    "except (ZeroDivisionError, IndexError) as e:\n",
    "    print(e)"
   ]
  },
  {
   "cell_type": "markdown",
   "id": "bf95d170",
   "metadata": {},
   "source": [
    "try ~ finally 문\n",
    "- try, except, finally 문 세 개가 다 들어갈 수 있음\n",
    "- try 문에서 정상 동작 중인 코드가 에러를 만날 경우\n",
    " - except 문을 수행\n",
    " - except 문 수행이 끝나면 finally 문이 수행\n",
    "- try 문에서 코드가 끝까지 정상 동작할 경우\n",
    " - try 문 수행이 끝나면 finally 문이 수행"
   ]
  },
  {
   "cell_type": "markdown",
   "id": "7bf04cb4",
   "metadata": {},
   "source": [
    "try ~ finally 문 예제"
   ]
  },
  {
   "cell_type": "code",
   "execution_count": 8,
   "id": "39124cee",
   "metadata": {},
   "outputs": [
    {
     "name": "stdout",
     "output_type": "stream",
     "text": [
      "0\n",
      "error\n",
      "어떤 경우에도 호출이 된다\n"
     ]
    }
   ],
   "source": [
    "x = 0\n",
    "try:\n",
    "    print(x)\n",
    "    1/x\n",
    "except:\n",
    "    print(\"error\")\n",
    "finally:\n",
    "    print(\"어떤 경우에도 호출이 된다\")"
   ]
  },
  {
   "cell_type": "markdown",
   "id": "65d9c346",
   "metadata": {},
   "source": [
    "오류 회피하기 예제"
   ]
  },
  {
   "cell_type": "code",
   "execution_count": 10,
   "id": "c63960ff",
   "metadata": {},
   "outputs": [],
   "source": [
    "try:\n",
    "    f = open(\"없는파일\", \"r\")\n",
    "except FileNotFoundError:\n",
    "    pass"
   ]
  },
  {
   "cell_type": "markdown",
   "id": "455d0462",
   "metadata": {},
   "source": [
    "예외 만들기 예제"
   ]
  },
  {
   "cell_type": "code",
   "execution_count": 13,
   "id": "29364ba4",
   "metadata": {},
   "outputs": [],
   "source": [
    "class MyError(Exception):\n",
    "    pass\n",
    "\n",
    "def say_nick(nick):\n",
    "    if nick == \"바보\":\n",
    "        raise MyError()\n",
    "    print(nick)"
   ]
  },
  {
   "cell_type": "code",
   "execution_count": 14,
   "id": "e1a0a208",
   "metadata": {},
   "outputs": [
    {
     "ename": "MyError",
     "evalue": "",
     "output_type": "error",
     "traceback": [
      "\u001b[1;31m----------------------------------------------------\u001b[0m",
      "\u001b[1;31mMyError\u001b[0m            Traceback (most recent call last)",
      "\u001b[1;32m~\\AppData\\Local\\Temp/ipykernel_14116/2260926799.py\u001b[0m in \u001b[0;36m<module>\u001b[1;34m\u001b[0m\n\u001b[1;32m----> 1\u001b[1;33m \u001b[0msay_nick\u001b[0m\u001b[1;33m(\u001b[0m\u001b[1;34m\"바보\"\u001b[0m\u001b[1;33m)\u001b[0m\u001b[1;33m\u001b[0m\u001b[1;33m\u001b[0m\u001b[0m\n\u001b[0m",
      "\u001b[1;32m~\\AppData\\Local\\Temp/ipykernel_14116/2473751018.py\u001b[0m in \u001b[0;36msay_nick\u001b[1;34m(nick)\u001b[0m\n\u001b[0;32m      4\u001b[0m \u001b[1;32mdef\u001b[0m \u001b[0msay_nick\u001b[0m\u001b[1;33m(\u001b[0m\u001b[0mnick\u001b[0m\u001b[1;33m)\u001b[0m\u001b[1;33m:\u001b[0m\u001b[1;33m\u001b[0m\u001b[1;33m\u001b[0m\u001b[0m\n\u001b[0;32m      5\u001b[0m     \u001b[1;32mif\u001b[0m \u001b[0mnick\u001b[0m \u001b[1;33m==\u001b[0m \u001b[1;34m\"바보\"\u001b[0m\u001b[1;33m:\u001b[0m\u001b[1;33m\u001b[0m\u001b[1;33m\u001b[0m\u001b[0m\n\u001b[1;32m----> 6\u001b[1;33m         \u001b[1;32mraise\u001b[0m \u001b[0mMyError\u001b[0m\u001b[1;33m(\u001b[0m\u001b[1;33m)\u001b[0m\u001b[1;33m\u001b[0m\u001b[1;33m\u001b[0m\u001b[0m\n\u001b[0m\u001b[0;32m      7\u001b[0m     \u001b[0mprint\u001b[0m\u001b[1;33m(\u001b[0m\u001b[0mnick\u001b[0m\u001b[1;33m)\u001b[0m\u001b[1;33m\u001b[0m\u001b[1;33m\u001b[0m\u001b[0m\n",
      "\u001b[1;31mMyError\u001b[0m: "
     ]
    }
   ],
   "source": [
    "say_nick(\"바보\")"
   ]
  },
  {
   "cell_type": "markdown",
   "id": "8669864c",
   "metadata": {},
   "source": [
    "- raise 문을 사용하여 예외를 발생시킬 수 있음\n",
    "- raise 뒤에 쓰여진 클래스는 예외 클래스의 인스턴스 객체처럼 받아들여짐"
   ]
  },
  {
   "cell_type": "markdown",
   "id": "bbd367f7",
   "metadata": {},
   "source": [
    "만든 예외를 실제 코드에 적용하기 예제"
   ]
  },
  {
   "cell_type": "code",
   "execution_count": 16,
   "id": "5307cdd9",
   "metadata": {},
   "outputs": [
    {
     "name": "stdout",
     "output_type": "stream",
     "text": [
      "천사\n",
      "허용되지 않는 별명입니다.\n"
     ]
    }
   ],
   "source": [
    "try:\n",
    "    say_nick(\"천사\")\n",
    "    say_nick(\"바보\")\n",
    "except MyError:\n",
    "    print(\"허용되지 않는 별명입니다.\")"
   ]
  },
  {
   "cell_type": "markdown",
   "id": "1d001416",
   "metadata": {},
   "source": [
    "오류 메세지를 작성하여 출력하기 예제"
   ]
  },
  {
   "cell_type": "code",
   "execution_count": 17,
   "id": "a79157e2",
   "metadata": {},
   "outputs": [],
   "source": [
    "class MyError(Exception):\n",
    "    def __str__(self):\n",
    "        return \"허용되지 않는 별명입니다.\"\n",
    "\n",
    "def say_nick(nick):\n",
    "    if nick == \"바보\":\n",
    "        raise MyError()\n",
    "    print(nick)"
   ]
  },
  {
   "cell_type": "code",
   "execution_count": 18,
   "id": "61675a63",
   "metadata": {},
   "outputs": [
    {
     "ename": "MyError",
     "evalue": "허용되지 않는 별명입니다.",
     "output_type": "error",
     "traceback": [
      "\u001b[1;31m----------------------------------------------------\u001b[0m",
      "\u001b[1;31mMyError\u001b[0m            Traceback (most recent call last)",
      "\u001b[1;32m~\\AppData\\Local\\Temp/ipykernel_14116/2260926799.py\u001b[0m in \u001b[0;36m<module>\u001b[1;34m\u001b[0m\n\u001b[1;32m----> 1\u001b[1;33m \u001b[0msay_nick\u001b[0m\u001b[1;33m(\u001b[0m\u001b[1;34m\"바보\"\u001b[0m\u001b[1;33m)\u001b[0m\u001b[1;33m\u001b[0m\u001b[1;33m\u001b[0m\u001b[0m\n\u001b[0m",
      "\u001b[1;32m~\\AppData\\Local\\Temp/ipykernel_14116/2941642125.py\u001b[0m in \u001b[0;36msay_nick\u001b[1;34m(nick)\u001b[0m\n\u001b[0;32m      5\u001b[0m \u001b[1;32mdef\u001b[0m \u001b[0msay_nick\u001b[0m\u001b[1;33m(\u001b[0m\u001b[0mnick\u001b[0m\u001b[1;33m)\u001b[0m\u001b[1;33m:\u001b[0m\u001b[1;33m\u001b[0m\u001b[1;33m\u001b[0m\u001b[0m\n\u001b[0;32m      6\u001b[0m     \u001b[1;32mif\u001b[0m \u001b[0mnick\u001b[0m \u001b[1;33m==\u001b[0m \u001b[1;34m\"바보\"\u001b[0m\u001b[1;33m:\u001b[0m\u001b[1;33m\u001b[0m\u001b[1;33m\u001b[0m\u001b[0m\n\u001b[1;32m----> 7\u001b[1;33m         \u001b[1;32mraise\u001b[0m \u001b[0mMyError\u001b[0m\u001b[1;33m(\u001b[0m\u001b[1;33m)\u001b[0m\u001b[1;33m\u001b[0m\u001b[1;33m\u001b[0m\u001b[0m\n\u001b[0m\u001b[0;32m      8\u001b[0m     \u001b[0mprint\u001b[0m\u001b[1;33m(\u001b[0m\u001b[0mnick\u001b[0m\u001b[1;33m)\u001b[0m\u001b[1;33m\u001b[0m\u001b[1;33m\u001b[0m\u001b[0m\n",
      "\u001b[1;31mMyError\u001b[0m: 허용되지 않는 별명입니다."
     ]
    }
   ],
   "source": [
    "say_nick(\"바보\")"
   ]
  },
  {
   "cell_type": "code",
   "execution_count": 19,
   "id": "f695b6f5",
   "metadata": {},
   "outputs": [
    {
     "name": "stdout",
     "output_type": "stream",
     "text": [
      "천사\n",
      "허용되지 않는 별명입니다.\n"
     ]
    }
   ],
   "source": [
    "try:\n",
    "    say_nick(\"천사\")\n",
    "    say_nick(\"바보\")\n",
    "except MyError as e:\n",
    "    print(e)"
   ]
  },
  {
   "cell_type": "markdown",
   "id": "905e9dde",
   "metadata": {},
   "source": [
    "번외) 에러 종류 확인하는 코드"
   ]
  },
  {
   "cell_type": "code",
   "execution_count": 31,
   "id": "65b93011",
   "metadata": {},
   "outputs": [
    {
     "name": "stdout",
     "output_type": "stream",
     "text": [
      "Exception class : <class 'TypeError'>\n",
      "value : can only concatenate list (not \"int\") to list\n",
      "traceback object : <traceback object at 0x0000015F62C7B500>\n",
      "==========\n"
     ]
    },
    {
     "name": "stderr",
     "output_type": "stream",
     "text": [
      "Traceback (most recent call last):\n",
      "  File \"C:\\Users\\student\\AppData\\Local\\Temp/ipykernel_14116/3745968140.py\", line 9, in <module>\n",
      "    add(a, b)\n",
      "  File \"C:\\Users\\student\\AppData\\Local\\Temp/ipykernel_14116/3745968140.py\", line 5, in add\n",
      "    return a + b\n",
      "TypeError: can only concatenate list (not \"int\") to list\n"
     ]
    }
   ],
   "source": [
    "import sys\n",
    "import traceback\n",
    "\n",
    "x = 0\n",
    "try:\n",
    "    1/x\n",
    "except:\n",
    "    etype, evalue, tb = sys.exc_info()\n",
    "    print(\"Exception class :\", etype)\n",
    "    print(\"value :\", evalue)\n",
    "    print(\"traceback object :\", tb)\n",
    "    print(\"=\"*10)\n",
    "    traceback.print_exc()"
   ]
  },
  {
   "cell_type": "markdown",
   "id": "1b1ff5a4",
   "metadata": {},
   "source": [
    "# 내장함수, 외장함수"
   ]
  },
  {
   "cell_type": "markdown",
   "id": "e1f30709",
   "metadata": {},
   "source": [
    "내장함수"
   ]
  },
  {
   "cell_type": "markdown",
   "id": "06fe2162",
   "metadata": {},
   "source": [
    "abs() 함수 예제"
   ]
  },
  {
   "cell_type": "code",
   "execution_count": 21,
   "id": "10ee6cc5",
   "metadata": {},
   "outputs": [
    {
     "data": {
      "text/plain": [
       "3"
      ]
     },
     "execution_count": 21,
     "metadata": {},
     "output_type": "execute_result"
    }
   ],
   "source": [
    "abs(3)"
   ]
  },
  {
   "cell_type": "code",
   "execution_count": 22,
   "id": "f77b8853",
   "metadata": {},
   "outputs": [
    {
     "data": {
      "text/plain": [
       "3"
      ]
     },
     "execution_count": 22,
     "metadata": {},
     "output_type": "execute_result"
    }
   ],
   "source": [
    "abs(-3)"
   ]
  },
  {
   "cell_type": "code",
   "execution_count": 23,
   "id": "7ceeab71",
   "metadata": {},
   "outputs": [
    {
     "data": {
      "text/plain": [
       "1.2"
      ]
     },
     "execution_count": 23,
     "metadata": {},
     "output_type": "execute_result"
    }
   ],
   "source": [
    "abs(-1.2)"
   ]
  },
  {
   "cell_type": "markdown",
   "id": "fe57ea41",
   "metadata": {},
   "source": [
    "**206page 5번째 줄 글자 깨짐 -> 반복**"
   ]
  },
  {
   "cell_type": "markdown",
   "id": "75ee8566",
   "metadata": {},
   "source": [
    "all() 함수 예제"
   ]
  },
  {
   "cell_type": "code",
   "execution_count": 24,
   "id": "8ce3621c",
   "metadata": {},
   "outputs": [
    {
     "data": {
      "text/plain": [
       "True"
      ]
     },
     "execution_count": 24,
     "metadata": {},
     "output_type": "execute_result"
    }
   ],
   "source": [
    "all([1, 2, 3])"
   ]
  },
  {
   "cell_type": "code",
   "execution_count": 25,
   "id": "1f5f0417",
   "metadata": {},
   "outputs": [
    {
     "data": {
      "text/plain": [
       "False"
      ]
     },
     "execution_count": 25,
     "metadata": {},
     "output_type": "execute_result"
    }
   ],
   "source": [
    "all([1, 2, 3, 0])"
   ]
  },
  {
   "cell_type": "markdown",
   "id": "f6af245e",
   "metadata": {},
   "source": [
    "- 대부분의 시스템과 프로그래밍 언어에서 0은 거짓을 의미, 0을 제외한 모든 수는 참을 의미 "
   ]
  },
  {
   "cell_type": "markdown",
   "id": "0a7bedeb",
   "metadata": {},
   "source": [
    "any() 함수 예제"
   ]
  },
  {
   "cell_type": "code",
   "execution_count": 32,
   "id": "7a826176",
   "metadata": {},
   "outputs": [
    {
     "data": {
      "text/plain": [
       "True"
      ]
     },
     "execution_count": 32,
     "metadata": {},
     "output_type": "execute_result"
    }
   ],
   "source": [
    "any([1, 2, 3, 0])"
   ]
  },
  {
   "cell_type": "code",
   "execution_count": 33,
   "id": "a9ba854a",
   "metadata": {},
   "outputs": [
    {
     "data": {
      "text/plain": [
       "False"
      ]
     },
     "execution_count": 33,
     "metadata": {},
     "output_type": "execute_result"
    }
   ],
   "source": [
    "any([0, \"\"])"
   ]
  },
  {
   "cell_type": "markdown",
   "id": "6c1ed689",
   "metadata": {},
   "source": [
    "chr() 함수 예제"
   ]
  },
  {
   "cell_type": "code",
   "execution_count": 34,
   "id": "3d910aac",
   "metadata": {},
   "outputs": [
    {
     "data": {
      "text/plain": [
       "'a'"
      ]
     },
     "execution_count": 34,
     "metadata": {},
     "output_type": "execute_result"
    }
   ],
   "source": [
    "chr(97)"
   ]
  },
  {
   "cell_type": "code",
   "execution_count": 35,
   "id": "7b6c608f",
   "metadata": {},
   "outputs": [
    {
     "data": {
      "text/plain": [
       "'0'"
      ]
     },
     "execution_count": 35,
     "metadata": {},
     "output_type": "execute_result"
    }
   ],
   "source": [
    "chr(48)"
   ]
  },
  {
   "cell_type": "markdown",
   "id": "be396c6c",
   "metadata": {},
   "source": [
    "dir() 함수 예제"
   ]
  },
  {
   "cell_type": "code",
   "execution_count": 37,
   "id": "0cdb44d0",
   "metadata": {},
   "outputs": [
    {
     "data": {
      "text/plain": [
       "['__add__',\n",
       " '__class__',\n",
       " '__class_getitem__',\n",
       " '__contains__',\n",
       " '__delattr__',\n",
       " '__delitem__',\n",
       " '__dir__',\n",
       " '__doc__',\n",
       " '__eq__',\n",
       " '__format__',\n",
       " '__ge__',\n",
       " '__getattribute__',\n",
       " '__getitem__',\n",
       " '__gt__',\n",
       " '__hash__',\n",
       " '__iadd__',\n",
       " '__imul__',\n",
       " '__init__',\n",
       " '__init_subclass__',\n",
       " '__iter__',\n",
       " '__le__',\n",
       " '__len__',\n",
       " '__lt__',\n",
       " '__mul__',\n",
       " '__ne__',\n",
       " '__new__',\n",
       " '__reduce__',\n",
       " '__reduce_ex__',\n",
       " '__repr__',\n",
       " '__reversed__',\n",
       " '__rmul__',\n",
       " '__setattr__',\n",
       " '__setitem__',\n",
       " '__sizeof__',\n",
       " '__str__',\n",
       " '__subclasshook__',\n",
       " 'append',\n",
       " 'clear',\n",
       " 'copy',\n",
       " 'count',\n",
       " 'extend',\n",
       " 'index',\n",
       " 'insert',\n",
       " 'pop',\n",
       " 'remove',\n",
       " 'reverse',\n",
       " 'sort']"
      ]
     },
     "execution_count": 37,
     "metadata": {},
     "output_type": "execute_result"
    }
   ],
   "source": [
    "dir([1, 2, 3])"
   ]
  },
  {
   "cell_type": "code",
   "execution_count": 38,
   "id": "5d534551",
   "metadata": {},
   "outputs": [
    {
     "data": {
      "text/plain": [
       "['__class__',\n",
       " '__class_getitem__',\n",
       " '__contains__',\n",
       " '__delattr__',\n",
       " '__delitem__',\n",
       " '__dir__',\n",
       " '__doc__',\n",
       " '__eq__',\n",
       " '__format__',\n",
       " '__ge__',\n",
       " '__getattribute__',\n",
       " '__getitem__',\n",
       " '__gt__',\n",
       " '__hash__',\n",
       " '__init__',\n",
       " '__init_subclass__',\n",
       " '__ior__',\n",
       " '__iter__',\n",
       " '__le__',\n",
       " '__len__',\n",
       " '__lt__',\n",
       " '__ne__',\n",
       " '__new__',\n",
       " '__or__',\n",
       " '__reduce__',\n",
       " '__reduce_ex__',\n",
       " '__repr__',\n",
       " '__reversed__',\n",
       " '__ror__',\n",
       " '__setattr__',\n",
       " '__setitem__',\n",
       " '__sizeof__',\n",
       " '__str__',\n",
       " '__subclasshook__',\n",
       " 'clear',\n",
       " 'copy',\n",
       " 'fromkeys',\n",
       " 'get',\n",
       " 'items',\n",
       " 'keys',\n",
       " 'pop',\n",
       " 'popitem',\n",
       " 'setdefault',\n",
       " 'update',\n",
       " 'values']"
      ]
     },
     "execution_count": 38,
     "metadata": {},
     "output_type": "execute_result"
    }
   ],
   "source": [
    "dir({'1':'a'})"
   ]
  },
  {
   "cell_type": "markdown",
   "id": "6279a4a4",
   "metadata": {},
   "source": [
    "divmod() 함수 예제"
   ]
  },
  {
   "cell_type": "code",
   "execution_count": 39,
   "id": "85d77e16",
   "metadata": {},
   "outputs": [
    {
     "data": {
      "text/plain": [
       "(2, 1)"
      ]
     },
     "execution_count": 39,
     "metadata": {},
     "output_type": "execute_result"
    }
   ],
   "source": [
    "divmod(7, 3)"
   ]
  },
  {
   "cell_type": "markdown",
   "id": "25dadaee",
   "metadata": {},
   "source": [
    "enumerate() 함수 예제"
   ]
  },
  {
   "cell_type": "code",
   "execution_count": 40,
   "id": "7e01da91",
   "metadata": {},
   "outputs": [
    {
     "name": "stdout",
     "output_type": "stream",
     "text": [
      "0 body\n",
      "1 foo\n",
      "2 bar\n"
     ]
    }
   ],
   "source": [
    "for i, name in enumerate(['body', 'foo', 'bar']):\n",
    "    print(i, name)"
   ]
  },
  {
   "cell_type": "markdown",
   "id": "35e4d296",
   "metadata": {},
   "source": [
    "eval() 함수 예제"
   ]
  },
  {
   "cell_type": "code",
   "execution_count": 41,
   "id": "619d00c4",
   "metadata": {},
   "outputs": [],
   "source": [
    "a = '1 + 2'"
   ]
  },
  {
   "cell_type": "code",
   "execution_count": 42,
   "id": "8c1ab5b7",
   "metadata": {},
   "outputs": [
    {
     "name": "stdout",
     "output_type": "stream",
     "text": [
      "1 + 2\n"
     ]
    }
   ],
   "source": [
    "print(a)"
   ]
  },
  {
   "cell_type": "code",
   "execution_count": 43,
   "id": "54656997",
   "metadata": {},
   "outputs": [],
   "source": [
    "b = 'hi' + 'a'"
   ]
  },
  {
   "cell_type": "code",
   "execution_count": 44,
   "id": "1f3408f8",
   "metadata": {},
   "outputs": [
    {
     "name": "stdout",
     "output_type": "stream",
     "text": [
      "hia\n"
     ]
    }
   ],
   "source": [
    "print(b)"
   ]
  },
  {
   "cell_type": "code",
   "execution_count": 45,
   "id": "4c68583f",
   "metadata": {},
   "outputs": [
    {
     "data": {
      "text/plain": [
       "3"
      ]
     },
     "execution_count": 45,
     "metadata": {},
     "output_type": "execute_result"
    }
   ],
   "source": [
    "eval('1 + 2')"
   ]
  },
  {
   "cell_type": "markdown",
   "id": "76ffa80e",
   "metadata": {},
   "source": [
    "filter() 함수 예제(filter 사용 전)"
   ]
  },
  {
   "cell_type": "code",
   "execution_count": 46,
   "id": "3c15b7a6",
   "metadata": {},
   "outputs": [],
   "source": [
    "# 필터링하는 함수\n",
    "def positive(l):\n",
    "    result = []\n",
    "    for i in l:\n",
    "        if i > 0:\n",
    "            result.append(i)\n",
    "    return result"
   ]
  },
  {
   "cell_type": "code",
   "execution_count": 47,
   "id": "82ae745f",
   "metadata": {},
   "outputs": [
    {
     "name": "stdout",
     "output_type": "stream",
     "text": [
      "[1, 2, 6]\n"
     ]
    }
   ],
   "source": [
    "print(positive([1, -3, 2, 0, -5, 6]))"
   ]
  },
  {
   "cell_type": "markdown",
   "id": "0b1a8fca",
   "metadata": {},
   "source": [
    "filter() 함수 예제(filter 사용)"
   ]
  },
  {
   "cell_type": "code",
   "execution_count": 49,
   "id": "8924dd0f",
   "metadata": {},
   "outputs": [],
   "source": [
    "def positive(x):\n",
    "    return x > 0"
   ]
  },
  {
   "cell_type": "code",
   "execution_count": 50,
   "id": "b1de290f",
   "metadata": {},
   "outputs": [
    {
     "data": {
      "text/plain": [
       "True"
      ]
     },
     "execution_count": 50,
     "metadata": {},
     "output_type": "execute_result"
    }
   ],
   "source": [
    "positive(1)"
   ]
  },
  {
   "cell_type": "code",
   "execution_count": 51,
   "id": "74b96894",
   "metadata": {},
   "outputs": [
    {
     "data": {
      "text/plain": [
       "False"
      ]
     },
     "execution_count": 51,
     "metadata": {},
     "output_type": "execute_result"
    }
   ],
   "source": [
    "positive(-1)"
   ]
  },
  {
   "cell_type": "code",
   "execution_count": 52,
   "id": "5f9f6786",
   "metadata": {},
   "outputs": [
    {
     "name": "stdout",
     "output_type": "stream",
     "text": [
      "[1, 2, 6]\n"
     ]
    }
   ],
   "source": [
    "print(list(filter(positive, [1, -3, 2, 0, -5, 6])))"
   ]
  },
  {
   "cell_type": "markdown",
   "id": "bf1cca65",
   "metadata": {},
   "source": [
    "filter() 함수 예제(filter 사용) - 람다함수"
   ]
  },
  {
   "cell_type": "code",
   "execution_count": 53,
   "id": "b7030b13",
   "metadata": {},
   "outputs": [
    {
     "name": "stdout",
     "output_type": "stream",
     "text": [
      "[1, 2, 6]\n"
     ]
    }
   ],
   "source": [
    "print(list(filter(lambda x:x > 0, [1, -3, 2, 0, -5, 6])))"
   ]
  },
  {
   "cell_type": "markdown",
   "id": "06ddabb4",
   "metadata": {},
   "source": [
    "int() 함수 예제"
   ]
  },
  {
   "cell_type": "code",
   "execution_count": 60,
   "id": "92c0553a",
   "metadata": {},
   "outputs": [
    {
     "data": {
      "text/plain": [
       "3"
      ]
     },
     "execution_count": 60,
     "metadata": {},
     "output_type": "execute_result"
    }
   ],
   "source": [
    "int('3')"
   ]
  },
  {
   "cell_type": "code",
   "execution_count": 65,
   "id": "964b9d04",
   "metadata": {},
   "outputs": [
    {
     "data": {
      "text/plain": [
       "3"
      ]
     },
     "execution_count": 65,
     "metadata": {},
     "output_type": "execute_result"
    }
   ],
   "source": [
    "int(3.4)"
   ]
  },
  {
   "cell_type": "code",
   "execution_count": 62,
   "id": "63d7b762",
   "metadata": {},
   "outputs": [
    {
     "data": {
      "text/plain": [
       "3"
      ]
     },
     "execution_count": 62,
     "metadata": {},
     "output_type": "execute_result"
    }
   ],
   "source": [
    "int('11', 2)"
   ]
  },
  {
   "cell_type": "code",
   "execution_count": 63,
   "id": "aa3096db",
   "metadata": {},
   "outputs": [
    {
     "data": {
      "text/plain": [
       "26"
      ]
     },
     "execution_count": 63,
     "metadata": {},
     "output_type": "execute_result"
    }
   ],
   "source": [
    "int('1A', 16)"
   ]
  },
  {
   "cell_type": "markdown",
   "id": "8f8e7e7c",
   "metadata": {},
   "source": [
    "isinstance() 함수 예제"
   ]
  },
  {
   "cell_type": "code",
   "execution_count": 66,
   "id": "12ad4f81",
   "metadata": {},
   "outputs": [],
   "source": [
    "class Person:\n",
    "    pass"
   ]
  },
  {
   "cell_type": "code",
   "execution_count": 67,
   "id": "ece8496e",
   "metadata": {},
   "outputs": [],
   "source": [
    "a = Person()"
   ]
  },
  {
   "cell_type": "code",
   "execution_count": 68,
   "id": "e6e80f2e",
   "metadata": {},
   "outputs": [
    {
     "data": {
      "text/plain": [
       "True"
      ]
     },
     "execution_count": 68,
     "metadata": {},
     "output_type": "execute_result"
    }
   ],
   "source": [
    "isinstance(a, Person)"
   ]
  },
  {
   "cell_type": "code",
   "execution_count": 69,
   "id": "637d8983",
   "metadata": {},
   "outputs": [],
   "source": [
    "b = 3"
   ]
  },
  {
   "cell_type": "code",
   "execution_count": 70,
   "id": "4ef3189b",
   "metadata": {},
   "outputs": [
    {
     "data": {
      "text/plain": [
       "False"
      ]
     },
     "execution_count": 70,
     "metadata": {},
     "output_type": "execute_result"
    }
   ],
   "source": [
    "isinstance(b, Person)"
   ]
  },
  {
   "cell_type": "markdown",
   "id": "244443c4",
   "metadata": {},
   "source": [
    "질문) Calculator는 객체로 봐야하는 것인지에 대한 의문"
   ]
  },
  {
   "cell_type": "code",
   "execution_count": 71,
   "id": "f005c783",
   "metadata": {},
   "outputs": [
    {
     "name": "stdout",
     "output_type": "stream",
     "text": [
      "['__class__', '__delattr__', '__dict__', '__dir__', '__doc__', '__eq__', '__format__', '__ge__', '__getattribute__', '__gt__', '__hash__', '__init__', '__init_subclass__', '__le__', '__lt__', '__module__', '__ne__', '__new__', '__reduce__', '__reduce_ex__', '__repr__', '__setattr__', '__sizeof__', '__str__', '__subclasshook__', '__weakref__', 'add']\n"
     ]
    }
   ],
   "source": [
    "class Calculator:                  #no class parameter\n",
    "    def __init__(self):            #self: placeholder for the instance itself\n",
    "        self.result = 0\n",
    "        \n",
    "    def add(self, num):\n",
    "        self.result = num + self.result\n",
    "        return self.result\n",
    "print(dir(Calculator))"
   ]
  },
  {
   "cell_type": "markdown",
   "id": "4189c12e",
   "metadata": {},
   "source": [
    "- 함수를 호출하는 순간 메모리에 올라가므로 pdf 자료에서 객체라고 표현함"
   ]
  },
  {
   "cell_type": "markdown",
   "id": "049b28b1",
   "metadata": {},
   "source": [
    "map() 함수 예제(map 사용 X)"
   ]
  },
  {
   "cell_type": "code",
   "execution_count": 72,
   "id": "264ce968",
   "metadata": {},
   "outputs": [],
   "source": [
    "def two_times(numberList):\n",
    "    result = []\n",
    "    for number in numberList:\n",
    "        result.append(number * 2)\n",
    "    return result"
   ]
  },
  {
   "cell_type": "code",
   "execution_count": 73,
   "id": "0e2b1f29",
   "metadata": {},
   "outputs": [],
   "source": [
    "result = two_times([1, 2, 3, 4])"
   ]
  },
  {
   "cell_type": "code",
   "execution_count": 74,
   "id": "114724f9",
   "metadata": {},
   "outputs": [
    {
     "name": "stdout",
     "output_type": "stream",
     "text": [
      "[2, 4, 6, 8]\n"
     ]
    }
   ],
   "source": [
    "print(result)"
   ]
  },
  {
   "cell_type": "markdown",
   "id": "80f8d117",
   "metadata": {},
   "source": [
    "map() 함수 예제(map 사용)"
   ]
  },
  {
   "cell_type": "code",
   "execution_count": 76,
   "id": "7a3b4e52",
   "metadata": {},
   "outputs": [],
   "source": [
    "def two_times(x):\n",
    "    return x * 2"
   ]
  },
  {
   "cell_type": "code",
   "execution_count": 81,
   "id": "ad64c717",
   "metadata": {},
   "outputs": [
    {
     "name": "stdout",
     "output_type": "stream",
     "text": [
      "[2, 4, 6, 8]\n"
     ]
    }
   ],
   "source": [
    "print(list(map(two_times, [1, 2, 3, 4])))"
   ]
  },
  {
   "cell_type": "markdown",
   "id": "693f5e34",
   "metadata": {},
   "source": [
    "map() 함수 예제(map 사용) - 람다함수"
   ]
  },
  {
   "cell_type": "code",
   "execution_count": 79,
   "id": "bdc72df0",
   "metadata": {},
   "outputs": [
    {
     "name": "stdout",
     "output_type": "stream",
     "text": [
      "[2, 4, 6, 8]\n"
     ]
    }
   ],
   "source": [
    "print(list(map(lambda a:a*2, [1, 2, 3, 4])))"
   ]
  },
  {
   "cell_type": "markdown",
   "id": "f930808f",
   "metadata": {},
   "source": [
    "- map() 함수는 연산을 위한 함수\n",
    "- 결과값을 따로 반환해주진 않음"
   ]
  },
  {
   "cell_type": "markdown",
   "id": "679e4971",
   "metadata": {},
   "source": [
    "max() 함수 예제"
   ]
  },
  {
   "cell_type": "code",
   "execution_count": 82,
   "id": "a6e6bab4",
   "metadata": {},
   "outputs": [
    {
     "data": {
      "text/plain": [
       "3"
      ]
     },
     "execution_count": 82,
     "metadata": {},
     "output_type": "execute_result"
    }
   ],
   "source": [
    "max([1, 2, 3])"
   ]
  },
  {
   "cell_type": "code",
   "execution_count": 83,
   "id": "beabd03c",
   "metadata": {},
   "outputs": [
    {
     "data": {
      "text/plain": [
       "'y'"
      ]
     },
     "execution_count": 83,
     "metadata": {},
     "output_type": "execute_result"
    }
   ],
   "source": [
    "max(\"python\")"
   ]
  },
  {
   "cell_type": "code",
   "execution_count": 87,
   "id": "1642d07b",
   "metadata": {},
   "outputs": [
    {
     "data": {
      "text/plain": [
       "3"
      ]
     },
     "execution_count": 87,
     "metadata": {},
     "output_type": "execute_result"
    }
   ],
   "source": [
    "max(1, 2, 3)"
   ]
  },
  {
   "cell_type": "markdown",
   "id": "b7c96c2c",
   "metadata": {},
   "source": [
    "min() 함수 예제"
   ]
  },
  {
   "cell_type": "code",
   "execution_count": 88,
   "id": "55167744",
   "metadata": {},
   "outputs": [
    {
     "data": {
      "text/plain": [
       "1"
      ]
     },
     "execution_count": 88,
     "metadata": {},
     "output_type": "execute_result"
    }
   ],
   "source": [
    "min([1, 2, 3])"
   ]
  },
  {
   "cell_type": "code",
   "execution_count": 89,
   "id": "55017714",
   "metadata": {},
   "outputs": [
    {
     "data": {
      "text/plain": [
       "'h'"
      ]
     },
     "execution_count": 89,
     "metadata": {},
     "output_type": "execute_result"
    }
   ],
   "source": [
    "min('python')"
   ]
  },
  {
   "cell_type": "markdown",
   "id": "25ab0f21",
   "metadata": {},
   "source": [
    "ord() 함수 예제"
   ]
  },
  {
   "cell_type": "code",
   "execution_count": 90,
   "id": "fd843203",
   "metadata": {},
   "outputs": [
    {
     "data": {
      "text/plain": [
       "97"
      ]
     },
     "execution_count": 90,
     "metadata": {},
     "output_type": "execute_result"
    }
   ],
   "source": [
    "ord('a')"
   ]
  },
  {
   "cell_type": "code",
   "execution_count": 91,
   "id": "03ab7b5d",
   "metadata": {},
   "outputs": [
    {
     "data": {
      "text/plain": [
       "48"
      ]
     },
     "execution_count": 91,
     "metadata": {},
     "output_type": "execute_result"
    }
   ],
   "source": [
    "ord('0')"
   ]
  },
  {
   "cell_type": "markdown",
   "id": "284ca4a3",
   "metadata": {},
   "source": [
    "pow() 함수 예제"
   ]
  },
  {
   "cell_type": "code",
   "execution_count": 92,
   "id": "74d1a642",
   "metadata": {},
   "outputs": [
    {
     "data": {
      "text/plain": [
       "16"
      ]
     },
     "execution_count": 92,
     "metadata": {},
     "output_type": "execute_result"
    }
   ],
   "source": [
    "pow(2, 4)"
   ]
  },
  {
   "cell_type": "code",
   "execution_count": 94,
   "id": "ec6cde45",
   "metadata": {},
   "outputs": [
    {
     "data": {
      "text/plain": [
       "27"
      ]
     },
     "execution_count": 94,
     "metadata": {},
     "output_type": "execute_result"
    }
   ],
   "source": [
    "pow(3, 3)"
   ]
  },
  {
   "cell_type": "markdown",
   "id": "56b30b6f",
   "metadata": {},
   "source": [
    "range() 함수 예제"
   ]
  },
  {
   "cell_type": "code",
   "execution_count": 95,
   "id": "d506ae1a",
   "metadata": {},
   "outputs": [
    {
     "data": {
      "text/plain": [
       "[0, 1, 2, 3, 4]"
      ]
     },
     "execution_count": 95,
     "metadata": {},
     "output_type": "execute_result"
    }
   ],
   "source": [
    "list(range(5))"
   ]
  },
  {
   "cell_type": "code",
   "execution_count": 96,
   "id": "3dcce091",
   "metadata": {},
   "outputs": [
    {
     "data": {
      "text/plain": [
       "[5, 6, 7, 8, 9]"
      ]
     },
     "execution_count": 96,
     "metadata": {},
     "output_type": "execute_result"
    }
   ],
   "source": [
    "list(range(5, 10))"
   ]
  },
  {
   "cell_type": "code",
   "execution_count": 97,
   "id": "66f13017",
   "metadata": {},
   "outputs": [
    {
     "data": {
      "text/plain": [
       "[1, 3, 5, 7, 9]"
      ]
     },
     "execution_count": 97,
     "metadata": {},
     "output_type": "execute_result"
    }
   ],
   "source": [
    "list(range(1, 10, 2))"
   ]
  },
  {
   "cell_type": "code",
   "execution_count": 102,
   "id": "5cdd48a5",
   "metadata": {},
   "outputs": [
    {
     "data": {
      "text/plain": [
       "[0, -1, -2, -3, -4, -5, -6, -7, -8, -9]"
      ]
     },
     "execution_count": 102,
     "metadata": {},
     "output_type": "execute_result"
    }
   ],
   "source": [
    "list(range(0, -10, -1))"
   ]
  },
  {
   "cell_type": "markdown",
   "id": "c905134b",
   "metadata": {},
   "source": [
    "- 초깃값이 0으로 세팅된 상태에서 -10으로 거꾸로 범위 지정하는 것은 불가능\n",
    "- 마지막 값을 -10으로 범위 지정하고 싶은 경우 step 자리에 -1을 명시해줘야 함"
   ]
  },
  {
   "cell_type": "code",
   "execution_count": 103,
   "id": "59a4b2db",
   "metadata": {},
   "outputs": [
    {
     "data": {
      "text/plain": [
       "[]"
      ]
     },
     "execution_count": 103,
     "metadata": {},
     "output_type": "execute_result"
    }
   ],
   "source": [
    "list(range(0, -10))"
   ]
  },
  {
   "cell_type": "raw",
   "id": "44bdde07",
   "metadata": {},
   "source": [
    "round() 함수 예제"
   ]
  },
  {
   "cell_type": "code",
   "execution_count": 104,
   "id": "10c58f28",
   "metadata": {},
   "outputs": [
    {
     "data": {
      "text/plain": [
       "5"
      ]
     },
     "execution_count": 104,
     "metadata": {},
     "output_type": "execute_result"
    }
   ],
   "source": [
    "round(4.6)"
   ]
  },
  {
   "cell_type": "code",
   "execution_count": 105,
   "id": "83f8cef0",
   "metadata": {},
   "outputs": [
    {
     "data": {
      "text/plain": [
       "4"
      ]
     },
     "execution_count": 105,
     "metadata": {},
     "output_type": "execute_result"
    }
   ],
   "source": [
    "round(4.2)"
   ]
  },
  {
   "cell_type": "code",
   "execution_count": 106,
   "id": "f8fc8429",
   "metadata": {},
   "outputs": [
    {
     "data": {
      "text/plain": [
       "6"
      ]
     },
     "execution_count": 106,
     "metadata": {},
     "output_type": "execute_result"
    }
   ],
   "source": [
    "round(5.678)"
   ]
  },
  {
   "cell_type": "code",
   "execution_count": 107,
   "id": "77c8a788",
   "metadata": {},
   "outputs": [
    {
     "data": {
      "text/plain": [
       "55"
      ]
     },
     "execution_count": 107,
     "metadata": {},
     "output_type": "execute_result"
    }
   ],
   "source": [
    "round(55)"
   ]
  },
  {
   "cell_type": "markdown",
   "id": "3b95e5a4",
   "metadata": {},
   "source": [
    "- round() 함수를 사용하여 반올림 할 경우 정수까지 반올림됨"
   ]
  },
  {
   "cell_type": "code",
   "execution_count": 108,
   "id": "2e26de98",
   "metadata": {},
   "outputs": [
    {
     "data": {
      "text/plain": [
       "5.68"
      ]
     },
     "execution_count": 108,
     "metadata": {},
     "output_type": "execute_result"
    }
   ],
   "source": [
    "round(5.678, 2)"
   ]
  },
  {
   "cell_type": "code",
   "execution_count": null,
   "id": "d61daa89",
   "metadata": {},
   "outputs": [],
   "source": []
  }
 ],
 "metadata": {
  "kernelspec": {
   "display_name": "Python 3 (ipykernel)",
   "language": "python",
   "name": "python3"
  },
  "language_info": {
   "codemirror_mode": {
    "name": "ipython",
    "version": 3
   },
   "file_extension": ".py",
   "mimetype": "text/x-python",
   "name": "python",
   "nbconvert_exporter": "python",
   "pygments_lexer": "ipython3",
   "version": "3.9.7"
  }
 },
 "nbformat": 4,
 "nbformat_minor": 5
}
