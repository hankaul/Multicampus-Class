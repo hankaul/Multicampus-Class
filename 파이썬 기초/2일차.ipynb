{
 "cells": [
  {
   "cell_type": "markdown",
   "id": "a1940f3a",
   "metadata": {},
   "source": [
    "# 파이썬의 탄생"
   ]
  },
  {
   "cell_type": "code",
   "execution_count": null,
   "id": "26dc2c38",
   "metadata": {},
   "outputs": [],
   "source": [
    "a = 3\n",
    "b = 4\n",
    "print(a+b)"
   ]
  },
  {
   "cell_type": "markdown",
   "id": "c2c6f214",
   "metadata": {},
   "source": [
    "- 파이썬에서는 파일화 시킬 때 반드시 print() 함수를 써줘야 함\n",
    " - ex) print(a+b) O\n",
    " - ex) a+b X\n",
    "\n",
    "print()\n",
    " - 함수 안에 있는 내용을 출력해줌\n",
    "  \n",
    "예제"
   ]
  },
  {
   "cell_type": "code",
   "execution_count": 4,
   "id": "f1fd2fa6",
   "metadata": {},
   "outputs": [
    {
     "name": "stdout",
     "output_type": "stream",
     "text": [
      "lifeisshort\n"
     ]
    }
   ],
   "source": [
    "print(\"life\" \"is\" \"short\")"
   ]
  },
  {
   "cell_type": "code",
   "execution_count": 5,
   "id": "064188d2",
   "metadata": {},
   "outputs": [
    {
     "name": "stdout",
     "output_type": "stream",
     "text": [
      "life is short\n"
     ]
    }
   ],
   "source": [
    "print(\"life\", \"is\", \"short\")"
   ]
  },
  {
   "cell_type": "code",
   "execution_count": 6,
   "id": "0fa8acd1",
   "metadata": {},
   "outputs": [
    {
     "name": "stdout",
     "output_type": "stream",
     "text": [
      "life is short\n"
     ]
    }
   ],
   "source": [
    "print(\"life is short\")"
   ]
  },
  {
   "cell_type": "markdown",
   "id": "b1bb0fb3",
   "metadata": {},
   "source": [
    "input()\n",
    "- 입력값을 받음\n",
    "\n",
    "예제"
   ]
  },
  {
   "cell_type": "code",
   "execution_count": 2,
   "id": "c9b806e7",
   "metadata": {},
   "outputs": [
    {
     "name": "stdout",
     "output_type": "stream",
     "text": [
      "a 값을 입력해주세요 : 20\n"
     ]
    }
   ],
   "source": [
    "a = input(\"a 값을 입력해주세요 : \")"
   ]
  },
  {
   "cell_type": "code",
   "execution_count": 3,
   "id": "38f5dc14",
   "metadata": {},
   "outputs": [
    {
     "name": "stdout",
     "output_type": "stream",
     "text": [
      "20\n"
     ]
    }
   ],
   "source": [
    "print(a)"
   ]
  },
  {
   "cell_type": "code",
   "execution_count": 4,
   "id": "f232599d",
   "metadata": {},
   "outputs": [
    {
     "name": "stdout",
     "output_type": "stream",
     "text": [
      "2030\n"
     ]
    }
   ],
   "source": [
    "b = input(a)"
   ]
  },
  {
   "cell_type": "code",
   "execution_count": 5,
   "id": "d5f41aff",
   "metadata": {},
   "outputs": [
    {
     "name": "stdout",
     "output_type": "stream",
     "text": [
      "30\n"
     ]
    }
   ],
   "source": [
    "print(b)"
   ]
  },
  {
   "cell_type": "markdown",
   "id": "4b880076",
   "metadata": {},
   "source": [
    "주석 예제"
   ]
  },
  {
   "cell_type": "code",
   "execution_count": 7,
   "id": "c7125e65",
   "metadata": {},
   "outputs": [
    {
     "name": "stdout",
     "output_type": "stream",
     "text": [
      "지구인\n",
      "10\n",
      "안녕\n"
     ]
    }
   ],
   "source": [
    "identity = \"지구인\" # 정체1\n",
    "number_of_legs = 10 # 다리의 수\n",
    "print(identity)\n",
    "print(number_of_legs)\n",
    "print(\"안녕\")\n",
    "#print(\"너는 누구니?\")"
   ]
  },
  {
   "cell_type": "markdown",
   "id": "c7a3d17e",
   "metadata": {},
   "source": [
    "- 한 줄 주석 처리는 # 을 사용"
   ]
  },
  {
   "cell_type": "code",
   "execution_count": 8,
   "id": "e45f377d",
   "metadata": {},
   "outputs": [
    {
     "name": "stdout",
     "output_type": "stream",
     "text": [
      "hello\n"
     ]
    }
   ],
   "source": [
    "\"\"\"\n",
    "주석 내용입니다.\n",
    "\"\"\"\n",
    "print(\"hello\")"
   ]
  },
  {
   "cell_type": "markdown",
   "id": "95bf5595",
   "metadata": {},
   "source": [
    "- 여러줄 주석 처리는 \"\"\" or ''' 사용"
   ]
  },
  {
   "cell_type": "markdown",
   "id": "fd2cb50a",
   "metadata": {},
   "source": [
    "변수 예제"
   ]
  },
  {
   "cell_type": "code",
   "execution_count": 9,
   "id": "20ac5dd3",
   "metadata": {},
   "outputs": [],
   "source": [
    "identity = \"지구인\""
   ]
  },
  {
   "cell_type": "code",
   "execution_count": null,
   "id": "0b2c3fa2",
   "metadata": {},
   "outputs": [],
   "source": [
    "identity = \"외계인\""
   ]
  },
  {
   "cell_type": "code",
   "execution_count": 10,
   "id": "ccf35d12",
   "metadata": {},
   "outputs": [
    {
     "name": "stdout",
     "output_type": "stream",
     "text": [
      "외계인\n"
     ]
    }
   ],
   "source": [
    "print(identity)"
   ]
  },
  {
   "cell_type": "markdown",
   "id": "0dedf05d",
   "metadata": {},
   "source": [
    "- 똑같은 이름의 변수에 새로운 값을 저장할 경우 변수의 값이 변경 X, 새로운 변수 생성 O\n",
    " - 기존 변수의 값을 불러 올 수는 없음\n",
    "\n",
    "변수 생성시 특징\n",
    "- 변수명의 첫문자는 영문자 또는 언더바('_')로 시작\n",
    "- 예약어 사용 불가\n",
    "\n",
    "변수 생성 특징 예제"
   ]
  },
  {
   "cell_type": "code",
   "execution_count": 43,
   "id": "71cc678f",
   "metadata": {},
   "outputs": [
    {
     "ename": "SyntaxError",
     "evalue": "invalid decimal literal (Temp/ipykernel_1272/3004061797.py, line 1)",
     "output_type": "error",
     "traceback": [
      "\u001b[1;36m  File \u001b[1;32m\"C:\\Users\\student\\AppData\\Local\\Temp/ipykernel_1272/3004061797.py\"\u001b[1;36m, line \u001b[1;32m1\u001b[0m\n\u001b[1;33m    1_unit = 1\u001b[0m\n\u001b[1;37m     ^\u001b[0m\n\u001b[1;31mSyntaxError\u001b[0m\u001b[1;31m:\u001b[0m invalid decimal literal\n"
     ]
    }
   ],
   "source": [
    "1_unit = 1 # 변수명이 숫자로 시작하는 경우"
   ]
  },
  {
   "cell_type": "code",
   "execution_count": 44,
   "id": "7b353027",
   "metadata": {},
   "outputs": [],
   "source": [
    "_unit = 1 # 변수명이 언더바로 시작하는 경우"
   ]
  },
  {
   "cell_type": "code",
   "execution_count": 45,
   "id": "a5b9e359",
   "metadata": {},
   "outputs": [
    {
     "ename": "SyntaxError",
     "evalue": "invalid syntax (Temp/ipykernel_1272/3948788947.py, line 1)",
     "output_type": "error",
     "traceback": [
      "\u001b[1;36m  File \u001b[1;32m\"C:\\Users\\student\\AppData\\Local\\Temp/ipykernel_1272/3948788947.py\"\u001b[1;36m, line \u001b[1;32m1\u001b[0m\n\u001b[1;33m    @unit = 1\u001b[0m\n\u001b[1;37m          ^\u001b[0m\n\u001b[1;31mSyntaxError\u001b[0m\u001b[1;31m:\u001b[0m invalid syntax\n"
     ]
    }
   ],
   "source": [
    "@unit = 1 # 변수명이 특수문자로 시작하는 경우"
   ]
  },
  {
   "cell_type": "code",
   "execution_count": 46,
   "id": "0dbe84b4",
   "metadata": {},
   "outputs": [
    {
     "ename": "SyntaxError",
     "evalue": "invalid syntax (Temp/ipykernel_1272/2589573702.py, line 1)",
     "output_type": "error",
     "traceback": [
      "\u001b[1;36m  File \u001b[1;32m\"C:\\Users\\student\\AppData\\Local\\Temp/ipykernel_1272/2589573702.py\"\u001b[1;36m, line \u001b[1;32m1\u001b[0m\n\u001b[1;33m    and = 1\u001b[0m\n\u001b[1;37m    ^\u001b[0m\n\u001b[1;31mSyntaxError\u001b[0m\u001b[1;31m:\u001b[0m invalid syntax\n"
     ]
    }
   ],
   "source": [
    "and = 1 # 변수명 예약어 사용 불가"
   ]
  },
  {
   "cell_type": "code",
   "execution_count": 47,
   "id": "afa41b78",
   "metadata": {},
   "outputs": [
    {
     "ename": "SyntaxError",
     "evalue": "invalid syntax (Temp/ipykernel_1272/1069989890.py, line 1)",
     "output_type": "error",
     "traceback": [
      "\u001b[1;36m  File \u001b[1;32m\"C:\\Users\\student\\AppData\\Local\\Temp/ipykernel_1272/1069989890.py\"\u001b[1;36m, line \u001b[1;32m1\u001b[0m\n\u001b[1;33m    for = 1\u001b[0m\n\u001b[1;37m        ^\u001b[0m\n\u001b[1;31mSyntaxError\u001b[0m\u001b[1;31m:\u001b[0m invalid syntax\n"
     ]
    }
   ],
   "source": [
    "for = 1 # 변수명 예약어 사용 불가"
   ]
  },
  {
   "cell_type": "markdown",
   "id": "c00a3c8e",
   "metadata": {},
   "source": [
    "변수 제거 예제"
   ]
  },
  {
   "cell_type": "code",
   "execution_count": 11,
   "id": "d2dad6f1",
   "metadata": {},
   "outputs": [],
   "source": [
    "a = 3\n",
    "b = 4"
   ]
  },
  {
   "cell_type": "code",
   "execution_count": 12,
   "id": "7c121652",
   "metadata": {},
   "outputs": [
    {
     "name": "stdout",
     "output_type": "stream",
     "text": [
      "3\n",
      "4\n"
     ]
    }
   ],
   "source": [
    "print(a)\n",
    "print(b)"
   ]
  },
  {
   "cell_type": "code",
   "execution_count": 13,
   "id": "2354811b",
   "metadata": {},
   "outputs": [],
   "source": [
    "del(a)\n",
    "del(b)"
   ]
  },
  {
   "cell_type": "code",
   "execution_count": 14,
   "id": "c7f79bf3",
   "metadata": {},
   "outputs": [
    {
     "ename": "NameError",
     "evalue": "name 'a' is not defined",
     "output_type": "error",
     "traceback": [
      "\u001b[1;31m----------------------------------------------------\u001b[0m",
      "\u001b[1;31mNameError\u001b[0m          Traceback (most recent call last)",
      "\u001b[1;32m~\\AppData\\Local\\Temp/ipykernel_1272/2921613868.py\u001b[0m in \u001b[0;36m<module>\u001b[1;34m\u001b[0m\n\u001b[1;32m----> 1\u001b[1;33m \u001b[0mprint\u001b[0m\u001b[1;33m(\u001b[0m\u001b[0ma\u001b[0m\u001b[1;33m)\u001b[0m\u001b[1;33m\u001b[0m\u001b[1;33m\u001b[0m\u001b[0m\n\u001b[0m\u001b[0;32m      2\u001b[0m \u001b[0mprint\u001b[0m\u001b[1;33m(\u001b[0m\u001b[0mb\u001b[0m\u001b[1;33m)\u001b[0m\u001b[1;33m\u001b[0m\u001b[1;33m\u001b[0m\u001b[0m\n",
      "\u001b[1;31mNameError\u001b[0m: name 'a' is not defined"
     ]
    }
   ],
   "source": [
    "print(a)\n",
    "print(b)"
   ]
  },
  {
   "cell_type": "markdown",
   "id": "09e7f400",
   "metadata": {},
   "source": [
    "- 변수 a 를 제거했기 때문에 print() 함수로 출력 되지 않음\n",
    "\n",
    "파이썬 대소문자 구분 예제"
   ]
  },
  {
   "cell_type": "code",
   "execution_count": 16,
   "id": "90ca7b34",
   "metadata": {},
   "outputs": [
    {
     "name": "stdout",
     "output_type": "stream",
     "text": [
      "python\n"
     ]
    }
   ],
   "source": [
    "a = \"python\"\n",
    "print(a)"
   ]
  },
  {
   "cell_type": "code",
   "execution_count": 17,
   "id": "5b5065f6",
   "metadata": {},
   "outputs": [
    {
     "ename": "NameError",
     "evalue": "name 'PRINT' is not defined",
     "output_type": "error",
     "traceback": [
      "\u001b[1;31m----------------------------------------------------\u001b[0m",
      "\u001b[1;31mNameError\u001b[0m          Traceback (most recent call last)",
      "\u001b[1;32m~\\AppData\\Local\\Temp/ipykernel_1272/1884753074.py\u001b[0m in \u001b[0;36m<module>\u001b[1;34m\u001b[0m\n\u001b[1;32m----> 1\u001b[1;33m \u001b[0mPRINT\u001b[0m\u001b[1;33m(\u001b[0m\u001b[0ma\u001b[0m\u001b[1;33m)\u001b[0m\u001b[1;33m\u001b[0m\u001b[1;33m\u001b[0m\u001b[0m\n\u001b[0m",
      "\u001b[1;31mNameError\u001b[0m: name 'PRINT' is not defined"
     ]
    }
   ],
   "source": [
    "PRINT(a)"
   ]
  },
  {
   "cell_type": "markdown",
   "id": "eae7d4a2",
   "metadata": {},
   "source": [
    "비교 연산자 예제"
   ]
  },
  {
   "cell_type": "code",
   "execution_count": 23,
   "id": "03d37938",
   "metadata": {},
   "outputs": [
    {
     "name": "stdout",
     "output_type": "stream",
     "text": [
      "True\n",
      "False\n"
     ]
    }
   ],
   "source": [
    "X = 3\n",
    "Y = 4\n",
    "print(X < Y)\n",
    "print(X > Y)"
   ]
  },
  {
   "cell_type": "markdown",
   "id": "78cc317a",
   "metadata": {},
   "source": [
    "X = 3\n",
    "Y = 4\n",
    "Z = 5\n",
    "\n",
    "X < Y or Z < Y<br>\n",
    "true or false<br>\n",
    "=> 참<br><br>\n",
    "in, not in 예제"
   ]
  },
  {
   "cell_type": "code",
   "execution_count": 25,
   "id": "8070cf58",
   "metadata": {},
   "outputs": [
    {
     "name": "stdout",
     "output_type": "stream",
     "text": [
      "True\n"
     ]
    }
   ],
   "source": [
    "print(1 in [1, 2, 3])"
   ]
  },
  {
   "cell_type": "code",
   "execution_count": 26,
   "id": "b2b15eb5",
   "metadata": {},
   "outputs": [
    {
     "name": "stdout",
     "output_type": "stream",
     "text": [
      "False\n"
     ]
    }
   ],
   "source": [
    "print(1 not in [1, 2, 3])"
   ]
  },
  {
   "cell_type": "code",
   "execution_count": 27,
   "id": "14d5c1de",
   "metadata": {},
   "outputs": [
    {
     "name": "stdout",
     "output_type": "stream",
     "text": [
      "True\n"
     ]
    }
   ],
   "source": [
    "print('a' in ('a', 'b', 'c'))"
   ]
  },
  {
   "cell_type": "code",
   "execution_count": 28,
   "id": "285c1d4b",
   "metadata": {},
   "outputs": [
    {
     "name": "stdout",
     "output_type": "stream",
     "text": [
      "False\n"
     ]
    }
   ],
   "source": [
    "print('j' in 'python')"
   ]
  },
  {
   "cell_type": "markdown",
   "id": "683c9882",
   "metadata": {},
   "source": [
    "if 문 예제"
   ]
  },
  {
   "cell_type": "code",
   "execution_count": 31,
   "id": "21736f8c",
   "metadata": {},
   "outputs": [
    {
     "name": "stdout",
     "output_type": "stream",
     "text": [
      "a is greater than 1\n"
     ]
    }
   ],
   "source": [
    "a = 3\n",
    "if a > 1:\n",
    "    print(\"a is greater than 1\")"
   ]
  },
  {
   "cell_type": "code",
   "execution_count": 32,
   "id": "a288e992",
   "metadata": {},
   "outputs": [],
   "source": [
    "a = 0\n",
    "if a > 1:\n",
    "    print(\"a is greater than 1\")"
   ]
  },
  {
   "cell_type": "markdown",
   "id": "6f7e8d50",
   "metadata": {},
   "source": [
    "- 조건문이 참일 경우에만 하위 코드 실행\n",
    "\n",
    "for문 예제"
   ]
  },
  {
   "cell_type": "code",
   "execution_count": 34,
   "id": "dac4315f",
   "metadata": {},
   "outputs": [
    {
     "name": "stdout",
     "output_type": "stream",
     "text": [
      "1\n",
      "2\n",
      "3\n"
     ]
    }
   ],
   "source": [
    "for apple in [1, 2, 3]:\n",
    "    print(apple)"
   ]
  },
  {
   "cell_type": "markdown",
   "id": "73a80690",
   "metadata": {},
   "source": [
    "while문 예제"
   ]
  },
  {
   "cell_type": "code",
   "execution_count": 37,
   "id": "02156157",
   "metadata": {},
   "outputs": [
    {
     "name": "stdout",
     "output_type": "stream",
     "text": [
      "나무를 1번 찍었습니다.\n",
      "나무를 2번 찍었습니다.\n",
      "나무를 3번 찍었습니다.\n",
      "나무를 4번 찍었습니다.\n",
      "나무를 5번 찍었습니다.\n",
      "나무를 6번 찍었습니다.\n",
      "나무를 7번 찍었습니다.\n",
      "나무를 8번 찍었습니다.\n",
      "나무를 9번 찍었습니다.\n",
      "나무를 10번 찍었습니다.\n",
      "나무 넘어갑니다.\n"
     ]
    }
   ],
   "source": [
    "treeHit = 0\n",
    "while treeHit < 10:\n",
    "    treeHit = treeHit + 1\n",
    "    print(\"나무를 %d번 찍었습니다.\" % treeHit)\n",
    "    if treeHit == 10:\n",
    "        print(\"나무 넘어갑니다.\")"
   ]
  },
  {
   "cell_type": "code",
   "execution_count": 38,
   "id": "34023e7e",
   "metadata": {},
   "outputs": [
    {
     "name": "stdout",
     "output_type": "stream",
     "text": [
      "나무를 1번 찍었습니다.\n",
      "나무를 2번 찍었습니다.\n",
      "나무를 3번 찍었습니다.\n",
      "나무를 4번 찍었습니다.\n",
      "나무를 5번 찍었습니다.\n",
      "나무를 6번 찍었습니다.\n",
      "나무를 7번 찍었습니다.\n",
      "나무를 8번 찍었습니다.\n",
      "나무를 9번 찍었습니다.\n",
      "나무를 10번 찍었습니다.\n",
      "나무 넘어갑니다.\n"
     ]
    }
   ],
   "source": [
    "treeHit = 1\n",
    "while treeHit <= 10:\n",
    "    print(\"나무를 %d번 찍었습니다.\" % treeHit)\n",
    "    if treeHit == 10:\n",
    "        print(\"나무 넘어갑니다.\")\n",
    "    treeHit = treeHit + 1"
   ]
  },
  {
   "cell_type": "code",
   "execution_count": 40,
   "id": "9bfadee9",
   "metadata": {},
   "outputs": [
    {
     "name": "stdout",
     "output_type": "stream",
     "text": [
      "나무가지가 10개 남았습니다.\n",
      "나무를 1번 찍었습니다.\n",
      "나무가지가 9개 남았습니다.\n",
      "나무를 2번 찍었습니다.\n",
      "나무가지가 8개 남았습니다.\n",
      "나무를 3번 찍었습니다.\n",
      "나무가지가 7개 남았습니다.\n",
      "나무를 4번 찍었습니다.\n",
      "나무가지가 6개 남았습니다.\n",
      "나무를 5번 찍었습니다.\n",
      "나무가지가 5개 남았습니다.\n",
      "나무를 6번 찍었습니다.\n",
      "나무가지가 4개 남았습니다.\n",
      "나무를 7번 찍었습니다.\n",
      "나무가지가 3개 남았습니다.\n",
      "나무를 8번 찍었습니다.\n",
      "나무가지가 2개 남았습니다.\n",
      "나무를 9번 찍었습니다.\n",
      "나무가지가 1개 남았습니다.\n",
      "나무를 10번 찍었습니다.\n",
      "나무가지가 0개 남았습니다.\n",
      "Success\n",
      "Success\n"
     ]
    }
   ],
   "source": [
    "TreeHit = 0\n",
    "TreeBranch = 10\n",
    "print(\"나무가지가 %d개 남았습니다.\" % TreeBranch)\n",
    "while TreeHit < 10:\n",
    "    TreeHit = TreeHit + 1\n",
    "    TreeBranch = TreeBranch - 1\n",
    "    print(\"나무를 %d번 찍었습니다.\" % TreeHit)\n",
    "    print(\"나무가지가 %d개 남았습니다.\" % TreeBranch)\n",
    "    if TreeHit == 10:\n",
    "        print(\"Success\")\n",
    "    if TreeBranch == 0:\n",
    "        print(\"Success\")"
   ]
  },
  {
   "cell_type": "markdown",
   "id": "1ef78319",
   "metadata": {},
   "source": [
    "- for문은 리스트, 튜플, 문자열과 함께 쓰이는 반복문\n",
    "- while문은 조건문과 함께 쓰이는 반복문\n",
    "\n",
    "함수\n",
    "- 함수는 인자를 입력받아 결과를 도출하는 목적으로 사용\n",
    "- 사용자가 편리하게 사용하기 위해 만드는 목적도 있음\n",
    "\n",
    "함수 만들기 예제"
   ]
  },
  {
   "cell_type": "code",
   "execution_count": 41,
   "id": "0adc893a",
   "metadata": {},
   "outputs": [],
   "source": [
    "def add(a, b):\n",
    "    return a + b"
   ]
  },
  {
   "cell_type": "code",
   "execution_count": 42,
   "id": "c088646a",
   "metadata": {},
   "outputs": [
    {
     "data": {
      "text/plain": [
       "7"
      ]
     },
     "execution_count": 42,
     "metadata": {},
     "output_type": "execute_result"
    }
   ],
   "source": [
    "add(3, 4)"
   ]
  },
  {
   "cell_type": "markdown",
   "id": "f73d23be",
   "metadata": {},
   "source": [
    "파이썬이 객체 지향이라고 부르는 이유?"
   ]
  },
  {
   "cell_type": "code",
   "execution_count": 52,
   "id": "a6bbd7df",
   "metadata": {},
   "outputs": [
    {
     "name": "stdout",
     "output_type": "stream",
     "text": [
      "2264535231056\n"
     ]
    }
   ],
   "source": [
    "a = 10\n",
    "print(id(a)) # a 변수 메모리 주소 확인"
   ]
  },
  {
   "cell_type": "code",
   "execution_count": 53,
   "id": "227387cb",
   "metadata": {},
   "outputs": [
    {
     "name": "stdout",
     "output_type": "stream",
     "text": [
      "2264535231056\n"
     ]
    }
   ],
   "source": [
    "b = 10\n",
    "print(id(b)) # b 변수 메모리 주소 확인"
   ]
  },
  {
   "cell_type": "markdown",
   "id": "35df198d",
   "metadata": {},
   "source": [
    "# 자료형"
   ]
  },
  {
   "cell_type": "markdown",
   "id": "ad31e86f",
   "metadata": {},
   "source": [
    "정수\n",
    "- 정수는 int로 나타냄\n",
    "- 파이썬 정수의 크기는 32bit(=4byte)\n",
    "\n",
    "정수 확인 예제"
   ]
  },
  {
   "cell_type": "code",
   "execution_count": 54,
   "id": "1a24b032",
   "metadata": {},
   "outputs": [],
   "source": [
    "a = 123"
   ]
  },
  {
   "cell_type": "code",
   "execution_count": 55,
   "id": "bd6d0f63",
   "metadata": {},
   "outputs": [
    {
     "name": "stdout",
     "output_type": "stream",
     "text": [
      "<class 'int'>\n"
     ]
    }
   ],
   "source": [
    "print(type(a))"
   ]
  },
  {
   "cell_type": "code",
   "execution_count": 56,
   "id": "6dfd9057",
   "metadata": {},
   "outputs": [
    {
     "name": "stdout",
     "output_type": "stream",
     "text": [
      "4\n"
     ]
    }
   ],
   "source": [
    "print((9).bit_length())"
   ]
  },
  {
   "cell_type": "markdown",
   "id": "a237280b",
   "metadata": {},
   "source": [
    "부동소수점(실수)\n",
    "- 부동소수점(실수)은 float으로 나타냄\n",
    "\n",
    "부동소수점(실수) 확인 예제"
   ]
  },
  {
   "cell_type": "code",
   "execution_count": 57,
   "id": "b208dcd3",
   "metadata": {},
   "outputs": [],
   "source": [
    "b = -1.23"
   ]
  },
  {
   "cell_type": "code",
   "execution_count": 58,
   "id": "b84cf820",
   "metadata": {},
   "outputs": [
    {
     "name": "stdout",
     "output_type": "stream",
     "text": [
      "<class 'float'>\n"
     ]
    }
   ],
   "source": [
    "print(type(b))"
   ]
  },
  {
   "cell_type": "markdown",
   "id": "1ac85247",
   "metadata": {},
   "source": [
    "2진수 확인 예제"
   ]
  },
  {
   "cell_type": "code",
   "execution_count": 60,
   "id": "d5df04e1",
   "metadata": {},
   "outputs": [
    {
     "name": "stdout",
     "output_type": "stream",
     "text": [
      "0b11111111\n"
     ]
    }
   ],
   "source": [
    "print(bin(255))"
   ]
  },
  {
   "cell_type": "markdown",
   "id": "c83554ad",
   "metadata": {},
   "source": [
    "8진수 확인 예제"
   ]
  },
  {
   "cell_type": "code",
   "execution_count": 61,
   "id": "b32624af",
   "metadata": {},
   "outputs": [
    {
     "name": "stdout",
     "output_type": "stream",
     "text": [
      "0o377\n"
     ]
    }
   ],
   "source": [
    "print(oct(255))"
   ]
  },
  {
   "cell_type": "markdown",
   "id": "7cf72ca5",
   "metadata": {},
   "source": [
    "16진수 확인 예제"
   ]
  },
  {
   "cell_type": "code",
   "execution_count": 62,
   "id": "6221a30f",
   "metadata": {},
   "outputs": [
    {
     "name": "stdout",
     "output_type": "stream",
     "text": [
      "0xff\n"
     ]
    }
   ],
   "source": [
    "print(hex(255))"
   ]
  },
  {
   "cell_type": "markdown",
   "id": "4d1e781b",
   "metadata": {},
   "source": [
    "사칙연산 예제"
   ]
  },
  {
   "cell_type": "code",
   "execution_count": 64,
   "id": "66fc831d",
   "metadata": {},
   "outputs": [],
   "source": [
    "a = 3\n",
    "b = 4"
   ]
  },
  {
   "cell_type": "code",
   "execution_count": 66,
   "id": "d20fbab6",
   "metadata": {},
   "outputs": [
    {
     "name": "stdout",
     "output_type": "stream",
     "text": [
      "7\n",
      "-1\n",
      "12\n",
      "0.75\n"
     ]
    }
   ],
   "source": [
    "print(a+b)\n",
    "print(a-b)\n",
    "print(a*b)\n",
    "print(a/b)"
   ]
  },
  {
   "cell_type": "markdown",
   "id": "c3e43665",
   "metadata": {},
   "source": [
    "x의 y제곱을 나타내는 ** 연산자"
   ]
  },
  {
   "cell_type": "code",
   "execution_count": 67,
   "id": "53dac0b6",
   "metadata": {},
   "outputs": [],
   "source": [
    "a = 3\n",
    "b = 4"
   ]
  },
  {
   "cell_type": "code",
   "execution_count": 68,
   "id": "b4b313f1",
   "metadata": {},
   "outputs": [
    {
     "name": "stdout",
     "output_type": "stream",
     "text": [
      "81\n"
     ]
    }
   ],
   "source": [
    "print(a**b)"
   ]
  },
  {
   "cell_type": "markdown",
   "id": "14975259",
   "metadata": {},
   "source": [
    "나눗셈 후 몫을 반환하는 // 연산자"
   ]
  },
  {
   "cell_type": "code",
   "execution_count": 69,
   "id": "1dee17eb",
   "metadata": {},
   "outputs": [],
   "source": [
    "a = 7\n",
    "b = 3"
   ]
  },
  {
   "cell_type": "code",
   "execution_count": 70,
   "id": "cbc1a327",
   "metadata": {},
   "outputs": [
    {
     "name": "stdout",
     "output_type": "stream",
     "text": [
      "2\n"
     ]
    }
   ],
   "source": [
    "print(a//b)"
   ]
  },
  {
   "cell_type": "markdown",
   "id": "f177a6e8",
   "metadata": {},
   "source": [
    "나눗셈 후 나머지를 반환하는 % 연산자"
   ]
  },
  {
   "cell_type": "code",
   "execution_count": 72,
   "id": "b104a8e4",
   "metadata": {},
   "outputs": [],
   "source": [
    "a = 7\n",
    "b = 3"
   ]
  },
  {
   "cell_type": "code",
   "execution_count": 73,
   "id": "b6d470f5",
   "metadata": {},
   "outputs": [
    {
     "name": "stdout",
     "output_type": "stream",
     "text": [
      "1\n"
     ]
    }
   ],
   "source": [
    "print(a%b)"
   ]
  },
  {
   "cell_type": "markdown",
   "id": "f0fb69a0",
   "metadata": {},
   "source": [
    "**33page 6번째 줄 글자 깨짐 -> 문자열끼리**"
   ]
  },
  {
   "cell_type": "markdown",
   "id": "7a1fde7b",
   "metadata": {},
   "source": [
    "문자열 자체를 표현할 때 ', \" 따옴표와 큰따옴표는 차이점 없음(사용자 마음)<br>\n",
    "\n",
    "문자열에 큰따옴표(\") 포함시키기 예제"
   ]
  },
  {
   "cell_type": "code",
   "execution_count": 90,
   "id": "464ebd7d",
   "metadata": {},
   "outputs": [
    {
     "ename": "SyntaxError",
     "evalue": "invalid syntax (Temp/ipykernel_1272/3819334516.py, line 1)",
     "output_type": "error",
     "traceback": [
      "\u001b[1;36m  File \u001b[1;32m\"C:\\Users\\student\\AppData\\Local\\Temp/ipykernel_1272/3819334516.py\"\u001b[1;36m, line \u001b[1;32m1\u001b[0m\n\u001b[1;33m    say = \"\"Python is very easy.\" he says\"\u001b[0m\n\u001b[1;37m            ^\u001b[0m\n\u001b[1;31mSyntaxError\u001b[0m\u001b[1;31m:\u001b[0m invalid syntax\n"
     ]
    }
   ],
   "source": [
    "say = \"\"Python is very easy.\" he says\""
   ]
  },
  {
   "cell_type": "code",
   "execution_count": 76,
   "id": "3421b50e",
   "metadata": {},
   "outputs": [
    {
     "name": "stdout",
     "output_type": "stream",
     "text": [
      "\"Python is very easy.\" he says\n"
     ]
    }
   ],
   "source": [
    "say2 = '\"Python is very easy.\" he says'\n",
    "print(say2)"
   ]
  },
  {
   "cell_type": "code",
   "execution_count": 89,
   "id": "ab90951d",
   "metadata": {},
   "outputs": [
    {
     "name": "stdout",
     "output_type": "stream",
     "text": [
      "\"Python is very easy.\" he says\n"
     ]
    }
   ],
   "source": [
    "say3 = \"\\\"Python is very easy.\\\" he says\"\n",
    "print(say3)"
   ]
  },
  {
   "cell_type": "markdown",
   "id": "8ce49359",
   "metadata": {},
   "source": [
    "특수 기호 표기 예제"
   ]
  },
  {
   "cell_type": "code",
   "execution_count": 82,
   "id": "e8b4e27d",
   "metadata": {},
   "outputs": [
    {
     "ename": "SyntaxError",
     "evalue": "EOL while scanning string literal (Temp/ipykernel_1272/3501535323.py, line 1)",
     "output_type": "error",
     "traceback": [
      "\u001b[1;36m  File \u001b[1;32m\"C:\\Users\\student\\AppData\\Local\\Temp/ipykernel_1272/3501535323.py\"\u001b[1;36m, line \u001b[1;32m1\u001b[0m\n\u001b[1;33m    money = \"10000\\\"\u001b[0m\n\u001b[1;37m                    ^\u001b[0m\n\u001b[1;31mSyntaxError\u001b[0m\u001b[1;31m:\u001b[0m EOL while scanning string literal\n"
     ]
    }
   ],
   "source": [
    "money = \"10000\\\""
   ]
  },
  {
   "cell_type": "code",
   "execution_count": 83,
   "id": "4cd6b14a",
   "metadata": {},
   "outputs": [
    {
     "name": "stdout",
     "output_type": "stream",
     "text": [
      "10000\\\n"
     ]
    }
   ],
   "source": [
    "money = \"10000\\\\\"\n",
    "print(money)"
   ]
  },
  {
   "cell_type": "markdown",
   "id": "f37dd68b",
   "metadata": {},
   "source": [
    "- 특수 기호의 역할을 하지 못하게 하고 싶을 때 ￦ 를 앞에 붙여줌\n",
    "\n",
    "여러 줄인 문자열을 변수에 대입하고 싶은 경우"
   ]
  },
  {
   "cell_type": "markdown",
   "id": "d2489222",
   "metadata": {},
   "source": [
    "1. 줄을 바꾸기 위한 이스케이프 문자 사용"
   ]
  },
  {
   "cell_type": "code",
   "execution_count": 84,
   "id": "713e5c83",
   "metadata": {},
   "outputs": [],
   "source": [
    "multiline = \"Life is short\\nYou need python\""
   ]
  },
  {
   "cell_type": "code",
   "execution_count": 85,
   "id": "3bb92aab",
   "metadata": {},
   "outputs": [
    {
     "name": "stdout",
     "output_type": "stream",
     "text": [
      "Life is short\n",
      "You need python\n"
     ]
    }
   ],
   "source": [
    "print(multiline)"
   ]
  },
  {
   "cell_type": "markdown",
   "id": "0e218388",
   "metadata": {},
   "source": [
    "- 읽기가 불편하고 줄이 길어지는 단점 존재"
   ]
  },
  {
   "cell_type": "markdown",
   "id": "66139b40",
   "metadata": {},
   "source": [
    "2. 연속된 작은 따옴표 세 개(''') or 큰 따옴표 세 개(\"\"\") 사용"
   ]
  },
  {
   "cell_type": "code",
   "execution_count": 86,
   "id": "4130f70d",
   "metadata": {},
   "outputs": [],
   "source": [
    "multiline=\"\"\"\n",
    "Life is short\n",
    "You need python\n",
    "\"\"\""
   ]
  },
  {
   "cell_type": "code",
   "execution_count": 87,
   "id": "b5b3fa46",
   "metadata": {},
   "outputs": [
    {
     "name": "stdout",
     "output_type": "stream",
     "text": [
      "\n",
      "Life is short\n",
      "You need python\n",
      "\n"
     ]
    }
   ],
   "source": [
    "print(multiline)"
   ]
  },
  {
   "cell_type": "markdown",
   "id": "1362152f",
   "metadata": {},
   "source": [
    "문자열 합치기 예제"
   ]
  },
  {
   "cell_type": "code",
   "execution_count": 91,
   "id": "6b87714d",
   "metadata": {},
   "outputs": [
    {
     "name": "stdout",
     "output_type": "stream",
     "text": [
      "Python is fun!\n"
     ]
    }
   ],
   "source": [
    "head = \"Python\"\n",
    "tail = \" is fun!\"\n",
    "print(head + tail)"
   ]
  },
  {
   "cell_type": "markdown",
   "id": "dc2e2da0",
   "metadata": {},
   "source": [
    "문자열 곱하기 예제"
   ]
  },
  {
   "cell_type": "code",
   "execution_count": 92,
   "id": "e82d7aae",
   "metadata": {},
   "outputs": [
    {
     "name": "stdout",
     "output_type": "stream",
     "text": [
      "PythonPython\n"
     ]
    }
   ],
   "source": [
    "a = \"Python\"\n",
    "print(a*2)"
   ]
  },
  {
   "cell_type": "markdown",
   "id": "b06e0147",
   "metadata": {},
   "source": [
    "문자열 곱하기 응용 예제"
   ]
  },
  {
   "cell_type": "code",
   "execution_count": 94,
   "id": "09d0764e",
   "metadata": {},
   "outputs": [
    {
     "name": "stdout",
     "output_type": "stream",
     "text": [
      "==============================\n",
      "My Program\n",
      "==============================\n"
     ]
    }
   ],
   "source": [
    "print(\"=\" * 30)\n",
    "print(\"My Program\")\n",
    "print(\"=\" * 30)"
   ]
  },
  {
   "cell_type": "markdown",
   "id": "239afada",
   "metadata": {},
   "source": [
    "문자열 길이 구하기 예제"
   ]
  },
  {
   "cell_type": "code",
   "execution_count": 96,
   "id": "e82cbbad",
   "metadata": {},
   "outputs": [
    {
     "name": "stdout",
     "output_type": "stream",
     "text": [
      "17\n"
     ]
    }
   ],
   "source": [
    "a = \"Life is too short\"\n",
    "print(len(a))"
   ]
  },
  {
   "cell_type": "markdown",
   "id": "d7d3af6a",
   "metadata": {},
   "source": [
    "문자열 인덱싱 예제"
   ]
  },
  {
   "cell_type": "code",
   "execution_count": 97,
   "id": "cc8a87e1",
   "metadata": {},
   "outputs": [],
   "source": [
    "a = \"Life is too short, You need Python\""
   ]
  },
  {
   "cell_type": "code",
   "execution_count": 98,
   "id": "dddceae1",
   "metadata": {},
   "outputs": [
    {
     "name": "stdout",
     "output_type": "stream",
     "text": [
      "o\n"
     ]
    }
   ],
   "source": [
    "print(a[10])"
   ]
  },
  {
   "cell_type": "code",
   "execution_count": 99,
   "id": "18591dce",
   "metadata": {},
   "outputs": [
    {
     "name": "stdout",
     "output_type": "stream",
     "text": [
      "e\n"
     ]
    }
   ],
   "source": [
    "print(a[-10])"
   ]
  },
  {
   "cell_type": "markdown",
   "id": "689827cc",
   "metadata": {},
   "source": [
    "문자열 슬라이싱 예제"
   ]
  },
  {
   "cell_type": "code",
   "execution_count": 100,
   "id": "3a181fd4",
   "metadata": {},
   "outputs": [],
   "source": [
    "a = \"Life is too short, You need Python\""
   ]
  },
  {
   "cell_type": "code",
   "execution_count": 101,
   "id": "d08befc0",
   "metadata": {},
   "outputs": [
    {
     "name": "stdout",
     "output_type": "stream",
     "text": [
      "Life\n"
     ]
    }
   ],
   "source": [
    "print(a[0:4])"
   ]
  },
  {
   "cell_type": "code",
   "execution_count": 102,
   "id": "b366a235",
   "metadata": {},
   "outputs": [
    {
     "name": "stdout",
     "output_type": "stream",
     "text": [
      "Life\n"
     ]
    }
   ],
   "source": [
    "print(a[:4])"
   ]
  },
  {
   "cell_type": "code",
   "execution_count": 103,
   "id": "1a5b6f41",
   "metadata": {},
   "outputs": [
    {
     "name": "stdout",
     "output_type": "stream",
     "text": [
      "o short, You need Python\n"
     ]
    }
   ],
   "source": [
    "print(a[10:])"
   ]
  },
  {
   "cell_type": "markdown",
   "id": "df690c7a",
   "metadata": {},
   "source": [
    "a = \"Pithon\" -> \"Python\" 예제"
   ]
  },
  {
   "cell_type": "code",
   "execution_count": 104,
   "id": "1d745513",
   "metadata": {},
   "outputs": [],
   "source": [
    "a = \"Pithon\""
   ]
  },
  {
   "cell_type": "code",
   "execution_count": 105,
   "id": "b2f362ae",
   "metadata": {},
   "outputs": [
    {
     "ename": "TypeError",
     "evalue": "'str' object does not support item assignment",
     "output_type": "error",
     "traceback": [
      "\u001b[1;31m----------------------------------------------------\u001b[0m",
      "\u001b[1;31mTypeError\u001b[0m          Traceback (most recent call last)",
      "\u001b[1;32m~\\AppData\\Local\\Temp/ipykernel_1272/2631417332.py\u001b[0m in \u001b[0;36m<module>\u001b[1;34m\u001b[0m\n\u001b[1;32m----> 1\u001b[1;33m \u001b[0ma\u001b[0m\u001b[1;33m[\u001b[0m\u001b[1;36m1\u001b[0m\u001b[1;33m]\u001b[0m \u001b[1;33m=\u001b[0m \u001b[1;34m\"y\"\u001b[0m\u001b[1;33m\u001b[0m\u001b[1;33m\u001b[0m\u001b[0m\n\u001b[0m",
      "\u001b[1;31mTypeError\u001b[0m: 'str' object does not support item assignment"
     ]
    }
   ],
   "source": [
    "a[1] = \"y\""
   ]
  },
  {
   "cell_type": "code",
   "execution_count": 108,
   "id": "06c1b2e3",
   "metadata": {},
   "outputs": [
    {
     "data": {
      "text/plain": [
       "'Python'"
      ]
     },
     "execution_count": 108,
     "metadata": {},
     "output_type": "execute_result"
    }
   ],
   "source": [
    "a[:1] + \"y\" + a[2:]"
   ]
  },
  {
   "cell_type": "markdown",
   "id": "b5a6385d",
   "metadata": {},
   "source": [
    "문자열 포매팅 예제"
   ]
  },
  {
   "cell_type": "markdown",
   "id": "5e9dd37e",
   "metadata": {},
   "source": [
    "1. 숫자 바로 대입"
   ]
  },
  {
   "cell_type": "code",
   "execution_count": 109,
   "id": "600a29cb",
   "metadata": {},
   "outputs": [
    {
     "name": "stdout",
     "output_type": "stream",
     "text": [
      "I eat 3 apples\n"
     ]
    }
   ],
   "source": [
    "print(\"I eat %d apples\" % 3)"
   ]
  },
  {
   "cell_type": "markdown",
   "id": "eb4909cc",
   "metadata": {},
   "source": [
    "2. 문자열 바로 대입"
   ]
  },
  {
   "cell_type": "code",
   "execution_count": 110,
   "id": "c2ac64db",
   "metadata": {},
   "outputs": [
    {
     "name": "stdout",
     "output_type": "stream",
     "text": [
      "I eat three apples\n"
     ]
    }
   ],
   "source": [
    "print(\"I eat %s apples\" % \"three\")"
   ]
  },
  {
   "cell_type": "markdown",
   "id": "e4eddd0f",
   "metadata": {},
   "source": [
    "3. 숫자 값을 나타내는 변수로 대입"
   ]
  },
  {
   "cell_type": "code",
   "execution_count": 113,
   "id": "20d5c0bc",
   "metadata": {},
   "outputs": [
    {
     "name": "stdout",
     "output_type": "stream",
     "text": [
      "I eat 3 apples\n"
     ]
    }
   ],
   "source": [
    "number = 3\n",
    "print(\"I eat %d apples\" % number)"
   ]
  },
  {
   "cell_type": "markdown",
   "id": "f423f1d6",
   "metadata": {},
   "source": [
    "4. 2개 이상의 값을 대입"
   ]
  },
  {
   "cell_type": "code",
   "execution_count": 114,
   "id": "35b2aa03",
   "metadata": {},
   "outputs": [
    {
     "name": "stdout",
     "output_type": "stream",
     "text": [
      "I eat 3 apples, so I was sick for three days\n"
     ]
    }
   ],
   "source": [
    "number = 3\n",
    "day = \"three\"\n",
    "print(\"I eat %d apples, so I was sick for %s days\" % (number, day))"
   ]
  },
  {
   "cell_type": "markdown",
   "id": "5d5da2fd",
   "metadata": {},
   "source": [
    "%d와 %를 같이 사용하는 예제"
   ]
  },
  {
   "cell_type": "code",
   "execution_count": 117,
   "id": "6dbe5d23",
   "metadata": {},
   "outputs": [
    {
     "name": "stdout",
     "output_type": "stream",
     "text": [
      "Error is 98%\n"
     ]
    }
   ],
   "source": [
    "print(\"Error is %d%%\" % 98)"
   ]
  },
  {
   "cell_type": "markdown",
   "id": "eae15424",
   "metadata": {},
   "source": [
    "**33page 3번째 줄 글자 깨짐 -> \"**<br>\n",
    "**33page 5번째 줄 글자 깨짐 -> 소숫점**"
   ]
  },
  {
   "cell_type": "markdown",
   "id": "6b0aed33",
   "metadata": {},
   "source": [
    "정렬과 공백 예제"
   ]
  },
  {
   "cell_type": "code",
   "execution_count": 119,
   "id": "bf257c04",
   "metadata": {},
   "outputs": [
    {
     "name": "stdout",
     "output_type": "stream",
     "text": [
      "hi\n"
     ]
    }
   ],
   "source": [
    "print(\"%s\" %\"hi\")"
   ]
  },
  {
   "cell_type": "code",
   "execution_count": 120,
   "id": "df69508a",
   "metadata": {},
   "outputs": [
    {
     "name": "stdout",
     "output_type": "stream",
     "text": [
      "        hi\n"
     ]
    }
   ],
   "source": [
    "print(\"%10s\" %\"hi\")"
   ]
  },
  {
   "cell_type": "code",
   "execution_count": 121,
   "id": "480cf083",
   "metadata": {},
   "outputs": [
    {
     "name": "stdout",
     "output_type": "stream",
     "text": [
      "hi        \n"
     ]
    }
   ],
   "source": [
    "print(\"%-10s\" %\"hi\")"
   ]
  },
  {
   "cell_type": "markdown",
   "id": "3f1f3a73",
   "metadata": {},
   "source": [
    "소수점 표현하기 예제"
   ]
  },
  {
   "cell_type": "code",
   "execution_count": 122,
   "id": "7ee2b0e5",
   "metadata": {},
   "outputs": [
    {
     "name": "stdout",
     "output_type": "stream",
     "text": [
      "3.421342\n"
     ]
    }
   ],
   "source": [
    "print(\"%f\" % 3.42134234)"
   ]
  },
  {
   "cell_type": "code",
   "execution_count": 123,
   "id": "f46d7e0c",
   "metadata": {},
   "outputs": [
    {
     "name": "stdout",
     "output_type": "stream",
     "text": [
      "3.4213\n"
     ]
    }
   ],
   "source": [
    "print(\"%0.4f\" % 3.42134234)"
   ]
  },
  {
   "cell_type": "code",
   "execution_count": 124,
   "id": "4948ca43",
   "metadata": {},
   "outputs": [
    {
     "name": "stdout",
     "output_type": "stream",
     "text": [
      "    3.4213\n"
     ]
    }
   ],
   "source": [
    "print(\"%10.4f\" % 3.42134234)"
   ]
  },
  {
   "cell_type": "markdown",
   "id": "a1a2720c",
   "metadata": {},
   "source": [
    "format() 함수를 이용한 포매팅 예제"
   ]
  },
  {
   "cell_type": "code",
   "execution_count": 125,
   "id": "862b84c2",
   "metadata": {},
   "outputs": [
    {
     "name": "stdout",
     "output_type": "stream",
     "text": [
      "11 22 33\n"
     ]
    }
   ],
   "source": [
    "print(\"{} {} {}\".format(11, 22, 33))"
   ]
  },
  {
   "cell_type": "code",
   "execution_count": 127,
   "id": "94c2f606",
   "metadata": {},
   "outputs": [
    {
     "name": "stdout",
     "output_type": "stream",
     "text": [
      "I eat three apples, so I was sick for 3 days\n"
     ]
    }
   ],
   "source": [
    "number = 3\n",
    "day = \"three\"\n",
    "print(\"I eat {1} apples, so I was sick for {0} days\".format(number, day))"
   ]
  },
  {
   "cell_type": "markdown",
   "id": "b7afe038",
   "metadata": {},
   "source": [
    "- 순서를 이용하여 포매팅 가능"
   ]
  },
  {
   "cell_type": "code",
   "execution_count": 128,
   "id": "912318af",
   "metadata": {},
   "outputs": [
    {
     "name": "stdout",
     "output_type": "stream",
     "text": [
      "I eat 10 apples, so I was sick for 3 days\n"
     ]
    }
   ],
   "source": [
    "print(\"I eat {number} apples, so I was sick for {day} days\".format(number=10, day=3))"
   ]
  },
  {
   "cell_type": "markdown",
   "id": "e4a6c484",
   "metadata": {},
   "source": [
    "- 변수 이름을 이용하여 포매팅 가능"
   ]
  },
  {
   "cell_type": "markdown",
   "id": "4ecc65db",
   "metadata": {},
   "source": [
    "f문자열 포매팅 예제"
   ]
  },
  {
   "cell_type": "code",
   "execution_count": 130,
   "id": "b50bc4e7",
   "metadata": {},
   "outputs": [
    {
     "name": "stdout",
     "output_type": "stream",
     "text": [
      "나의 이름은 홍길동입니다. 나이는 19입니다.\n"
     ]
    }
   ],
   "source": [
    "name = \"홍길동\"\n",
    "age = 19\n",
    "print(f'나의 이름은 {name}입니다. 나이는 {age}입니다.')"
   ]
  },
  {
   "cell_type": "code",
   "execution_count": 131,
   "id": "5dfa38ac",
   "metadata": {},
   "outputs": [
    {
     "name": "stdout",
     "output_type": "stream",
     "text": [
      "나의 이름은 홍길동입니다. 나이는 20입니다.\n"
     ]
    }
   ],
   "source": [
    "name = \"홍길동\"\n",
    "age = 19\n",
    "print(f'나의 이름은 {name}입니다. 나이는 {age+1}입니다.')"
   ]
  },
  {
   "cell_type": "markdown",
   "id": "41d97ef5",
   "metadata": {},
   "source": [
    "문자열 갯수 세기 예제(count)"
   ]
  },
  {
   "cell_type": "code",
   "execution_count": 132,
   "id": "5b978a9a",
   "metadata": {},
   "outputs": [
    {
     "name": "stdout",
     "output_type": "stream",
     "text": [
      "2\n"
     ]
    }
   ],
   "source": [
    "a = \"hobby\"\n",
    "print(a.count(\"b\"))"
   ]
  },
  {
   "cell_type": "markdown",
   "id": "c1705a5e",
   "metadata": {},
   "source": [
    "문자 위치 알려주기 예제 1(find)"
   ]
  },
  {
   "cell_type": "code",
   "execution_count": 135,
   "id": "d468e793",
   "metadata": {},
   "outputs": [
    {
     "name": "stdout",
     "output_type": "stream",
     "text": [
      "14\n"
     ]
    }
   ],
   "source": [
    "a = \"Python is the best choice\"\n",
    "print(a.find(\"b\"))"
   ]
  },
  {
   "cell_type": "code",
   "execution_count": 136,
   "id": "14acb98c",
   "metadata": {},
   "outputs": [
    {
     "name": "stdout",
     "output_type": "stream",
     "text": [
      "-1\n"
     ]
    }
   ],
   "source": [
    "a = \"Python is the best choice\"\n",
    "print(a.find(\"j\"))"
   ]
  },
  {
   "cell_type": "markdown",
   "id": "22527de4",
   "metadata": {},
   "source": [
    "- 문자열 중 문자 b가 처음 나온 위치를 반환, 찾는 문자나 문자열이 없을 경우 -1 을 반환\n",
    "\n",
    "문자 위치 알려주기 예제 2(index)"
   ]
  },
  {
   "cell_type": "code",
   "execution_count": 137,
   "id": "09ea1ba7",
   "metadata": {},
   "outputs": [
    {
     "name": "stdout",
     "output_type": "stream",
     "text": [
      "8\n"
     ]
    }
   ],
   "source": [
    "a = \"Life is too short\"\n",
    "print(a.index(\"t\"))"
   ]
  },
  {
   "cell_type": "code",
   "execution_count": 138,
   "id": "c0db839a",
   "metadata": {},
   "outputs": [
    {
     "ename": "ValueError",
     "evalue": "substring not found",
     "output_type": "error",
     "traceback": [
      "\u001b[1;31m----------------------------------------------------\u001b[0m",
      "\u001b[1;31mValueError\u001b[0m         Traceback (most recent call last)",
      "\u001b[1;32m~\\AppData\\Local\\Temp/ipykernel_1272/2331082524.py\u001b[0m in \u001b[0;36m<module>\u001b[1;34m\u001b[0m\n\u001b[0;32m      1\u001b[0m \u001b[0ma\u001b[0m \u001b[1;33m=\u001b[0m \u001b[1;34m\"Life is too short\"\u001b[0m\u001b[1;33m\u001b[0m\u001b[1;33m\u001b[0m\u001b[0m\n\u001b[1;32m----> 2\u001b[1;33m \u001b[0mprint\u001b[0m\u001b[1;33m(\u001b[0m\u001b[0ma\u001b[0m\u001b[1;33m.\u001b[0m\u001b[0mindex\u001b[0m\u001b[1;33m(\u001b[0m\u001b[1;34m\"j\"\u001b[0m\u001b[1;33m)\u001b[0m\u001b[1;33m)\u001b[0m\u001b[1;33m\u001b[0m\u001b[1;33m\u001b[0m\u001b[0m\n\u001b[0m",
      "\u001b[1;31mValueError\u001b[0m: substring not found"
     ]
    }
   ],
   "source": [
    "a = \"Life is too short\"\n",
    "print(a.index(\"j\"))"
   ]
  },
  {
   "cell_type": "markdown",
   "id": "a9e9a573",
   "metadata": {},
   "source": [
    "- 문자열 중 문자 t가 처음 나온 위치를 반환, 찾는 문자나 문자열이 없을 경우 에러를 반환\n",
    "\n",
    "문자열 삽입 예제(join)"
   ]
  },
  {
   "cell_type": "code",
   "execution_count": 139,
   "id": "c2a55af3",
   "metadata": {},
   "outputs": [
    {
     "name": "stdout",
     "output_type": "stream",
     "text": [
      "a,b,c,d\n"
     ]
    }
   ],
   "source": [
    "a = \",\"\n",
    "print(a.join(\"abcd\"))"
   ]
  },
  {
   "cell_type": "code",
   "execution_count": 140,
   "id": "48e386ed",
   "metadata": {},
   "outputs": [
    {
     "name": "stdout",
     "output_type": "stream",
     "text": [
      "a:b:c:d\n"
     ]
    }
   ],
   "source": [
    "a = \":\"\n",
    "print(a.join([\"a\", \"b\", \"c\", \"d\"]))"
   ]
  },
  {
   "cell_type": "markdown",
   "id": "54b8eac9",
   "metadata": {},
   "source": [
    "- join() 함수의 입력으로 리스트 사용 가능\n",
    "\n",
    "소문자를 대문자로 바꾸기 예제(upper)"
   ]
  },
  {
   "cell_type": "code",
   "execution_count": 141,
   "id": "1f56aec7",
   "metadata": {},
   "outputs": [
    {
     "name": "stdout",
     "output_type": "stream",
     "text": [
      "HI\n"
     ]
    }
   ],
   "source": [
    "a = \"hi\"\n",
    "print(a.upper())"
   ]
  },
  {
   "cell_type": "markdown",
   "id": "a6d4d219",
   "metadata": {},
   "source": [
    "대문자를 소문자로 바꾸기 예제(lower)"
   ]
  },
  {
   "cell_type": "code",
   "execution_count": 142,
   "id": "4be5cfbe",
   "metadata": {},
   "outputs": [
    {
     "name": "stdout",
     "output_type": "stream",
     "text": [
      "hi\n"
     ]
    }
   ],
   "source": [
    "a = \"HI\"\n",
    "print(a.lower())"
   ]
  },
  {
   "cell_type": "markdown",
   "id": "14b8c02f",
   "metadata": {},
   "source": [
    "왼쪽 공백 지우기 예제(lstrip)"
   ]
  },
  {
   "cell_type": "code",
   "execution_count": 143,
   "id": "a1d2253d",
   "metadata": {},
   "outputs": [
    {
     "name": "stdout",
     "output_type": "stream",
     "text": [
      "hi \n"
     ]
    }
   ],
   "source": [
    "a = \" hi \"\n",
    "print(a.lstrip())"
   ]
  },
  {
   "cell_type": "markdown",
   "id": "5257bb57",
   "metadata": {},
   "source": [
    "오른쪽 공백 지우기 예제(rstrip)"
   ]
  },
  {
   "cell_type": "code",
   "execution_count": 144,
   "id": "7a714571",
   "metadata": {},
   "outputs": [
    {
     "name": "stdout",
     "output_type": "stream",
     "text": [
      " hi\n"
     ]
    }
   ],
   "source": [
    "a = \" hi \"\n",
    "print(a.rstrip())"
   ]
  },
  {
   "cell_type": "markdown",
   "id": "f02565c2",
   "metadata": {},
   "source": [
    "**44page 1번째 줄 글자 깨짐 -> 문자열**"
   ]
  },
  {
   "cell_type": "markdown",
   "id": "d5cff4de",
   "metadata": {},
   "source": [
    "양쪽 공백 지우기 예제(strip)"
   ]
  },
  {
   "cell_type": "code",
   "execution_count": 146,
   "id": "c0b85c72",
   "metadata": {},
   "outputs": [
    {
     "name": "stdout",
     "output_type": "stream",
     "text": [
      "hi\n"
     ]
    }
   ],
   "source": [
    "a = \" hi \"\n",
    "print(a.strip())"
   ]
  },
  {
   "cell_type": "markdown",
   "id": "1729ab38",
   "metadata": {},
   "source": [
    "문자열 바꾸기 예제(replace)"
   ]
  },
  {
   "cell_type": "code",
   "execution_count": 147,
   "id": "6a26aade",
   "metadata": {},
   "outputs": [
    {
     "name": "stdout",
     "output_type": "stream",
     "text": [
      "Your leg is too short\n"
     ]
    }
   ],
   "source": [
    "a = \"Life is too short\"\n",
    "print(a.replace(\"Life\", \"Your leg\"))"
   ]
  },
  {
   "cell_type": "markdown",
   "id": "7714622f",
   "metadata": {},
   "source": [
    "문자열 나누기 예제(split)"
   ]
  },
  {
   "cell_type": "code",
   "execution_count": 148,
   "id": "5da77411",
   "metadata": {},
   "outputs": [
    {
     "name": "stdout",
     "output_type": "stream",
     "text": [
      "['Life', 'is', 'too', 'short']\n"
     ]
    }
   ],
   "source": [
    "a = \"Life is too short\"\n",
    "print(a.split())"
   ]
  },
  {
   "cell_type": "code",
   "execution_count": 149,
   "id": "3f605be6",
   "metadata": {},
   "outputs": [
    {
     "name": "stdout",
     "output_type": "stream",
     "text": [
      "['a', 'b', 'c', 'd']\n"
     ]
    }
   ],
   "source": [
    "b = \"a:b:c:d\"\n",
    "print(b.split(\":\"))"
   ]
  },
  {
   "cell_type": "markdown",
   "id": "7d65470d",
   "metadata": {},
   "source": [
    "- split() 함수는 괄호 안에 아무것도 넣어 주지 않을 경우 공백을 기준으로 나눔\n",
    "- split() 함수의 괄호 안에 특정 값이 있는 경우 특정 값을 기준으로 나눔"
   ]
  }
 ],
 "metadata": {
  "kernelspec": {
   "display_name": "Python 3 (ipykernel)",
   "language": "python",
   "name": "python3"
  },
  "language_info": {
   "codemirror_mode": {
    "name": "ipython",
    "version": 3
   },
   "file_extension": ".py",
   "mimetype": "text/x-python",
   "name": "python",
   "nbconvert_exporter": "python",
   "pygments_lexer": "ipython3",
   "version": "3.9.7"
  },
  "widgets": {
   "application/vnd.jupyter.widget-state+json": {
    "state": {},
    "version_major": 2,
    "version_minor": 0
   }
  }
 },
 "nbformat": 4,
 "nbformat_minor": 5
}
