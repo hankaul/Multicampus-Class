{
 "cells": [
  {
   "cell_type": "markdown",
   "id": "f8b63446",
   "metadata": {},
   "source": [
    "# 판다스 자료구조\n",
    "- 서로 다른 형식을 갖는 여러 종류의 데이터를 컴퓨터가 이해할 수 있도록 동일한 형식을 갖는 구조로 통합할 필요가 있음\n",
    "- 판다스는 시리즈(Series)와 데이터프레임(DataFrame)이라는 데이터 형식을 제공\n",
    "- Numpy : 배열 및 연산\n",
    "- pandas : 자료구조 및 시각화\n",
    "\n",
    "## 시리즈\n",
    "- 데이터가 순차적으로 나열된 1차원 배열(열벡터)\n",
    "- 인덱스(index)는 데이터 값(value)과 일대일 대응"
   ]
  },
  {
   "cell_type": "markdown",
   "id": "17794fab",
   "metadata": {},
   "source": [
    "정리\n",
    "- 시리즈의 인덱스는 데이터 값의 위치를 나타내는 이름표(주소) 역할\n",
    "- 'index 2'의 주소를 알고 있다면 'Data 2'라는 원소 데이터 값에 접근 가능"
   ]
  },
  {
   "cell_type": "markdown",
   "id": "9c7203e0",
   "metadata": {},
   "source": [
    "시리즈 만들기\n",
    "- 딕셔너리와 시리즈의 구조가 비슷하기 때문에 딕셔너리를 시리즈로 변환하는 방법을 많이 사용\n",
    "- 판다스 내장 함수인 Series() 사용\n",
    " - 딕셔너리를 함수의 인자로 전달\n",
    " \n",
    "형식<br>\n",
    "<code> 딕셔너리 -> 시리즈 변환 : pandas.Series(딕셔너리) </code>"
   ]
  },
  {
   "cell_type": "markdown",
   "id": "595e6a28",
   "metadata": {},
   "source": [
    "딕셔너리를 시리즈로 변환하는 예제"
   ]
  },
  {
   "cell_type": "code",
   "execution_count": 4,
   "id": "11745eb5",
   "metadata": {},
   "outputs": [],
   "source": [
    "# 판다스 import\n",
    "import pandas as pd\n",
    "\n",
    "# key:value 를 쌍으로 갖는 딕셔너리를 생성, 변수 dict_data에 저장\n",
    "dict_data = {'a' : 1, 'b' : 2, 'c' : 3}\n",
    "\n",
    "# 판다스 Series() 함수로 딕셔너리를 시리즈로 변환, 변수 sr에 저장\n",
    "sr = pd.Series(dict_data)"
   ]
  },
  {
   "cell_type": "code",
   "execution_count": 5,
   "id": "1282f4a1",
   "metadata": {},
   "outputs": [
    {
     "name": "stdout",
     "output_type": "stream",
     "text": [
      "<class 'pandas.core.series.Series'>\n"
     ]
    }
   ],
   "source": [
    "# sr의 자료형 출력\n",
    "print(type(sr))"
   ]
  },
  {
   "cell_type": "code",
   "execution_count": 6,
   "id": "3fef26fb",
   "metadata": {},
   "outputs": [
    {
     "name": "stdout",
     "output_type": "stream",
     "text": [
      "d    1\n",
      "b    2\n",
      "c    3\n",
      "dtype: int64\n"
     ]
    }
   ],
   "source": [
    "# 변수 sr에 저장되어 있는 시리즈 객체 출력\n",
    "print(sr)"
   ]
  },
  {
   "cell_type": "markdown",
   "id": "8da30554",
   "metadata": {},
   "source": [
    "- 시리즈 객체 출력 시 인덱스 'a', 'b', 'c' 는 왼쪽에 표시\n",
    "- 인덱스와 짝을 이루는 데이터 값 1, 2, 3 은 오른쪽에 표시\n",
    "- 시리즈를 구성하는 데이터 값의 자료형은 정수형(int64)"
   ]
  },
  {
   "cell_type": "markdown",
   "id": "eaed6e73",
   "metadata": {},
   "source": [
    "참고\n",
    "- \"as pd\" 는 판다스를 \"pd\"라는 약칭으로 부르겠다는 뜻\n",
    "- Numpy는 \"np\"라는 약칭을 자주 사용"
   ]
  },
  {
   "cell_type": "markdown",
   "id": "0b93d866",
   "metadata": {},
   "source": [
    "인덱스 구조\n",
    "- 인덱스는 자기와 짝을 이루는 데이터 값의 순서와 주소를 저장\n",
    "- 인덱스를 활용하여 데이터 값의 탐색, 정렬, 선택, 결합 등 데이터의 조작을 쉽게 할 수 있음"
   ]
  },
  {
   "cell_type": "markdown",
   "id": "0c607c97",
   "metadata": {},
   "source": [
    "판다스 Series() 함수를 사용하여 파이썬 리스트를 시리즈로 변환하는 예제"
   ]
  },
  {
   "cell_type": "code",
   "execution_count": 7,
   "id": "655d8b5a",
   "metadata": {},
   "outputs": [],
   "source": [
    "import pandas as pd\n",
    "\n",
    "# 리스트 생성, 변수 list_data에 저장\n",
    "list_data = ['2022-02-21', 3.14, '오규석', 100, True]\n",
    "sr = pd.Series(list_data)"
   ]
  },
  {
   "cell_type": "code",
   "execution_count": 8,
   "id": "dac8d7d1",
   "metadata": {},
   "outputs": [
    {
     "name": "stdout",
     "output_type": "stream",
     "text": [
      "0    2022-02-21\n",
      "1          3.14\n",
      "2           오규석\n",
      "3           100\n",
      "4          True\n",
      "dtype: object\n"
     ]
    }
   ],
   "source": [
    "print(sr)"
   ]
  },
  {
   "cell_type": "markdown",
   "id": "6422ca69",
   "metadata": {},
   "source": [
    "- 인덱스를 별도로 정의하지 않았기 때문에 디폴트로 정수형 위치 인덱스(0, 1, 2, 3)가 자동 적용\n",
    "\n",
    "\n",
    "- 시리즈를 구성하는 원소 데이터 값의 자료형은 문자열(object)\n",
    " - 숫자와 문자열이 데이터에 혼합되어 있을 경우 자료형이 문자열로 표기됨\n",
    " \n",
    " \n",
    "- 리스트와 판다스의 시리즈는 둘 다 동일하게 인덱스를 소유\n",
    " - 리스트는 정수형 위치 인덱스만 존재\n",
    "  - ex) list_data[0]\n",
    "  \n",
    "  \n",
    " - 시리즈는 정수형 위치 인덱스와 인덱스 이름 둘 다 존재\n",
    "  - ex) sr[0]\n",
    "  - ex) sr['날짜']"
   ]
  },
  {
   "cell_type": "markdown",
   "id": "32d47fd9",
   "metadata": {},
   "source": [
    "시리즈에서 인덱스는 크게 두 가지 종류 존재\n",
    "- 정수형 위치 인덱스 and 인덱스 이름"
   ]
  },
  {
   "cell_type": "markdown",
   "id": "bec0c084",
   "metadata": {},
   "source": [
    "시리즈의 index 속성을 이용하여 인덱스 배열 따로 선택 가능<br><br>\n",
    "시리즈의 values 속성을 이용하여 데이터 값 따로 선택 가능"
   ]
  },
  {
   "cell_type": "markdown",
   "id": "f238636c",
   "metadata": {},
   "source": [
    "시리즈의 인덱스와 데이터를 따로 확인하는 예제"
   ]
  },
  {
   "cell_type": "code",
   "execution_count": 11,
   "id": "1463bf22",
   "metadata": {},
   "outputs": [],
   "source": [
    "import pandas as pd\n",
    "\n",
    "# 리스트 생성, 변수 list_data에 저장\n",
    "list_data = ['2022-02-21', 3.14, '오규석', 100, True]\n",
    "sr = pd.Series(list_data)"
   ]
  },
  {
   "cell_type": "code",
   "execution_count": 12,
   "id": "f7f022a6",
   "metadata": {},
   "outputs": [
    {
     "name": "stdout",
     "output_type": "stream",
     "text": [
      "RangeIndex(start=0, stop=5, step=1)\n",
      "['2022-02-21' 3.14 '오규석' 100 True]\n"
     ]
    }
   ],
   "source": [
    "# 인덱스 배열은 변수 idx에 저장, 데이터 값 배열은 변수 val에 저장\n",
    "idx = sr.index\n",
    "val = sr.values\n",
    "print(idx)\n",
    "print(val)"
   ]
  },
  {
   "cell_type": "code",
   "execution_count": 13,
   "id": "8a59d805",
   "metadata": {},
   "outputs": [
    {
     "name": "stdout",
     "output_type": "stream",
     "text": [
      "<class 'numpy.ndarray'>\n"
     ]
    }
   ],
   "source": [
    "print(type(val))"
   ]
  },
  {
   "cell_type": "markdown",
   "id": "a9b1def6",
   "metadata": {},
   "source": [
    "- 인덱스는 0 ~ 4 범위의 정수를 갖는 RangeIndex 객체로 출력\n",
    "- 데이터 값은 1차원 배열 형태(array)로 출력"
   ]
  },
  {
   "cell_type": "markdown",
   "id": "10472a29",
   "metadata": {},
   "source": [
    "판다스 Series() 함수를 사용하여 파이썬 튜플을 시리즈로 변환하는 예제(인덱스 정의)"
   ]
  },
  {
   "cell_type": "code",
   "execution_count": 21,
   "id": "f9c5d3c5",
   "metadata": {},
   "outputs": [],
   "source": [
    "import pandas as pd\n",
    "\n",
    "# 튜플 생성, 변수 tup_data에 저장\n",
    "tup_data = ('규석', '2022-02-21', '남', True)\n",
    "sr = pd.Series(tup_data, index=['이름', '오늘날짜', '성별', '학생여부'])"
   ]
  },
  {
   "cell_type": "code",
   "execution_count": 22,
   "id": "68b89d7a",
   "metadata": {},
   "outputs": [
    {
     "name": "stdout",
     "output_type": "stream",
     "text": [
      "이름              규석\n",
      "오늘날짜    2022-02-21\n",
      "성별               남\n",
      "학생여부          True\n",
      "dtype: object\n"
     ]
    }
   ],
   "source": [
    "print(sr)"
   ]
  },
  {
   "cell_type": "markdown",
   "id": "53941ad3",
   "metadata": {},
   "source": [
    "시리즈 원소 선택 예제 1"
   ]
  },
  {
   "cell_type": "code",
   "execution_count": 23,
   "id": "b82e2532",
   "metadata": {},
   "outputs": [
    {
     "name": "stdout",
     "output_type": "stream",
     "text": [
      "규석\n",
      "규석\n"
     ]
    }
   ],
   "source": [
    "# 원소를 1개 선택\n",
    "# 정수형 위치 인덱스\n",
    "print(sr[0])\n",
    "\n",
    "# 인덱스 이름\n",
    "print(sr['이름'])"
   ]
  },
  {
   "cell_type": "markdown",
   "id": "371c1765",
   "metadata": {},
   "source": [
    "시리즈 원소 선택 예제 2"
   ]
  },
  {
   "cell_type": "code",
   "execution_count": 26,
   "id": "9047b1a5",
   "metadata": {},
   "outputs": [
    {
     "name": "stdout",
     "output_type": "stream",
     "text": [
      "오늘날짜    2022-02-21\n",
      "성별               남\n",
      "dtype: object\n",
      "오늘날짜    2022-02-21\n",
      "성별               남\n",
      "dtype: object\n"
     ]
    }
   ],
   "source": [
    "# 원소를 다중 선택(인덱스 리스트 활용)\n",
    "# 정수형 위치 인덱스\n",
    "print(sr[[1, 2]])\n",
    "\n",
    "# 인덱스 이름\n",
    "print(sr[['오늘날짜', '성별']])"
   ]
  },
  {
   "cell_type": "markdown",
   "id": "12555a64",
   "metadata": {},
   "source": [
    "- 인덱스 다중 지정 시에 괄호를 두 개 써줘야 함"
   ]
  },
  {
   "cell_type": "markdown",
   "id": "e28e1d0d",
   "metadata": {},
   "source": [
    "시리즈 원소 선택 예제 3"
   ]
  },
  {
   "cell_type": "code",
   "execution_count": 28,
   "id": "dc78b9d6",
   "metadata": {},
   "outputs": [
    {
     "name": "stdout",
     "output_type": "stream",
     "text": [
      "오늘날짜    2022-02-21\n",
      "dtype: object\n",
      "오늘날짜    2022-02-21\n",
      "성별               남\n",
      "dtype: object\n"
     ]
    }
   ],
   "source": [
    "# 원소를 다중 선택(인덱스 범위 지정)\n",
    "# 정수형 위치 인덱스\n",
    "print(sr[1:2])\n",
    "\n",
    "# 인덱스 이름\n",
    "print(sr['오늘날짜':'성별'])"
   ]
  },
  {
   "cell_type": "markdown",
   "id": "bfa45a4d",
   "metadata": {},
   "source": [
    "- 정수형 위치 인덱스를 사용할 시 범위의 끝은 미포함\n",
    "- 인덱스 이름을 사용하면 범위의 끝 포함"
   ]
  },
  {
   "cell_type": "markdown",
   "id": "2838e6b9",
   "metadata": {},
   "source": [
    "## 데이터프레임\n",
    "- 2차원 배열\n",
    "- 여러 개의 열벡터(시리즈)들이 같은 행 인덱스를 기준으로 결합된 2차원 벡터 또는 행렬(matrix)"
   ]
  },
  {
   "cell_type": "markdown",
   "id": "c17d7be0",
   "metadata": {},
   "source": [
    "행과 열을 나타내기 위해서는 행 인덱스와 열 이름 두가지 종류의 주소를 사용\n",
    "- 열은 공통의 속성을 갖는 일련의 데이터의 집합\n",
    "- 행은 공통적이고 다양한 속성 데이터들의 모음인 레코드(record)"
   ]
  },
  {
   "cell_type": "markdown",
   "id": "d6d118e4",
   "metadata": {},
   "source": [
    "데이터프레임 만들기 전 생각해보기\n",
    "1. 데이터프레임을 만들기 위해서는 같은 길이의 1차원 배열(Series)이 여러 개 필요\n",
    "2. 딕셔너리 값에 해당하는 각 리스트가 시리즈 배열로 변환되어 데이터 프레임의 열이 됨\n",
    "3. 딕셔너리 키는 각 시리즈의 이름으로 변환되어 데이터프레임의 열 이름이 됨\n",
    "4. 데이터프레임을 만들 때는 판다스 DataFrame() 함수를 사용<br>\n",
    "<code> 딕셔너리 -> 데이터프레임 변환: pandas.DataFrame(딕셔너리 객체) </code>"
   ]
  },
  {
   "cell_type": "markdown",
   "id": "860f5329",
   "metadata": {},
   "source": [
    "딕셔너리 -> 데이터프레임 변환 예제"
   ]
  },
  {
   "cell_type": "code",
   "execution_count": 29,
   "id": "4d3637a9",
   "metadata": {},
   "outputs": [],
   "source": [
    "import pandas as pd\n",
    "\n",
    "# key:value 를 쌍으로 갖는 딕셔너리를 생성, 변수 dict_data에 저장\n",
    "dict_data = {'c0' : [1, 2, 3], 'c1' : [4, 5, 6], 'c2' : [7, 8, 9], 'c3' : [10, 11, 12], 'c4' : [13, 14, 15]}\n",
    "\n",
    "# 판다스 DataFrame() 함수로 딕셔너리를 데이터프레임으로 변환, 변수 df에 저장\n",
    "df = pd.DataFrame(dict_data)"
   ]
  },
  {
   "cell_type": "code",
   "execution_count": 30,
   "id": "5393a07e",
   "metadata": {},
   "outputs": [
    {
     "name": "stdout",
     "output_type": "stream",
     "text": [
      "<class 'pandas.core.frame.DataFrame'>\n"
     ]
    }
   ],
   "source": [
    "print(type(df))"
   ]
  },
  {
   "cell_type": "code",
   "execution_count": 31,
   "id": "b010c78c",
   "metadata": {},
   "outputs": [
    {
     "name": "stdout",
     "output_type": "stream",
     "text": [
      "   c0  c1  c2  c3  c4\n",
      "0   1   4   7  10  13\n",
      "1   2   5   8  11  14\n",
      "2   3   6   9  12  15\n"
     ]
    }
   ],
   "source": [
    "print(df)"
   ]
  },
  {
   "cell_type": "markdown",
   "id": "f6622dea",
   "metadata": {},
   "source": [
    "행 인덱스 / 열 이름 설정\n",
    "- 2차원 배열 -> 데이터프레임 변환할 때 행 인덱스와 열 이름 속성을 사용자가 직접 지정 가능<br>\n",
    "<code>행 인덱스, 열 이름 설정: pandas.DataFrame(2차원 배열, index=행 인덱스 배열, columns=열 인덱스 배열)</code>"
   ]
  },
  {
   "cell_type": "markdown",
   "id": "87092d65",
   "metadata": {},
   "source": [
    "행 인덱스 / 열 이름 설정 예제"
   ]
  },
  {
   "cell_type": "code",
   "execution_count": 38,
   "id": "bdfe961a",
   "metadata": {},
   "outputs": [],
   "source": [
    "import pandas as pd\n",
    "\n",
    "# 행 인덱스 / 열 이름을 지정하여 데이터프레임 만들기\n",
    "df = pd.DataFrame([[22, '남', '인천대'], [21, '여', '경기대'], [20, '남', '부산대']],\n",
    "                  index=['규석', '영신', '성민'],\n",
    "                  columns=['나이', '성별', '학교'])"
   ]
  },
  {
   "cell_type": "code",
   "execution_count": 34,
   "id": "229897cc",
   "metadata": {},
   "outputs": [
    {
     "name": "stdout",
     "output_type": "stream",
     "text": [
      "    나이 성별   학교\n",
      "규석  22  남  인천대\n",
      "영신  21  여  경기대\n",
      "성민  20  남  부산대\n"
     ]
    }
   ],
   "source": [
    "print(df)"
   ]
  },
  {
   "cell_type": "code",
   "execution_count": 35,
   "id": "d0555e19",
   "metadata": {},
   "outputs": [
    {
     "name": "stdout",
     "output_type": "stream",
     "text": [
      "Index(['규석', '영신', '성민'], dtype='object')\n"
     ]
    }
   ],
   "source": [
    "print(df.index)"
   ]
  },
  {
   "cell_type": "code",
   "execution_count": 36,
   "id": "13d7089c",
   "metadata": {},
   "outputs": [
    {
     "name": "stdout",
     "output_type": "stream",
     "text": [
      "Index(['나이', '성별', '학교'], dtype='object')\n"
     ]
    }
   ],
   "source": [
    "print(df.columns)"
   ]
  },
  {
   "cell_type": "markdown",
   "id": "64941771",
   "metadata": {},
   "source": [
    "행 인덱스 / 열 이름 변경<br>\n",
    "<code>행 인덱스 변경: DataFrame 객체.index = 새로운 행 인덱스 배열</code><br>\n",
    "<code>열 이름 변경: DataFrame 객체.columns = 새로운 열 이름 배열</code>"
   ]
  },
  {
   "cell_type": "markdown",
   "id": "0d801afc",
   "metadata": {},
   "source": [
    "행 인덱스 / 열 이름 변경 예제"
   ]
  },
  {
   "cell_type": "code",
   "execution_count": null,
   "id": "e62bf1bf",
   "metadata": {},
   "outputs": [],
   "source": [
    "import pandas as pd\n",
    "\n",
    "# 행 인덱스 / 열 이름을 지정하여 데이터프레임 만들기\n",
    "df = pd.DataFrame([[22, '남', '인천대'], [21, '여', '경기대'], [20, '남', '부산대']],\n",
    "                  index=['규석', '영신', '성민'],\n",
    "                  columns=['나이', '성별', '학교'])"
   ]
  },
  {
   "cell_type": "code",
   "execution_count": 40,
   "id": "f16e0612",
   "metadata": {},
   "outputs": [],
   "source": [
    "df.index = ['준서', '지연', '성철']\n",
    "df.columns = ['연령', '남녀', '소속']"
   ]
  },
  {
   "cell_type": "code",
   "execution_count": 41,
   "id": "88604eb1",
   "metadata": {},
   "outputs": [
    {
     "name": "stdout",
     "output_type": "stream",
     "text": [
      "    연령 남녀   소속\n",
      "준서  22  남  인천대\n",
      "지연  21  여  경기대\n",
      "성철  20  남  부산대\n"
     ]
    }
   ],
   "source": [
    "print(df)"
   ]
  },
  {
   "cell_type": "code",
   "execution_count": 42,
   "id": "847ee9c3",
   "metadata": {},
   "outputs": [
    {
     "name": "stdout",
     "output_type": "stream",
     "text": [
      "Index(['준서', '지연', '성철'], dtype='object')\n"
     ]
    }
   ],
   "source": [
    "print(df.index)"
   ]
  },
  {
   "cell_type": "code",
   "execution_count": 43,
   "id": "7b9eaf8d",
   "metadata": {},
   "outputs": [
    {
     "name": "stdout",
     "output_type": "stream",
     "text": [
      "Index(['연령', '남녀', '소속'], dtype='object')\n"
     ]
    }
   ],
   "source": [
    "print(df.columns)"
   ]
  },
  {
   "cell_type": "markdown",
   "id": "3b80150a",
   "metadata": {},
   "source": [
    "rename() 함수를 사용하여 행 인덱스 / 열 이름 변경 가능<br>\n",
    "<code>행 인덱스 변경: DataFrame 객체.rename(index={기존 인덱스:새 인덱스, ...})</code><br>\n",
    "<code>열 이름 변경: DataFrame 객체.rename(columns={기존 열 이름:새 열 이름, ...})</code>"
   ]
  },
  {
   "cell_type": "markdown",
   "id": "3d284075",
   "metadata": {},
   "source": [
    "행 인덱스 / 열 이름 변경 예제(rename)"
   ]
  },
  {
   "cell_type": "code",
   "execution_count": 44,
   "id": "5ee02042",
   "metadata": {},
   "outputs": [],
   "source": [
    "import pandas as pd\n",
    "\n",
    "# 행 인덱스 / 열 이름을 지정하여 데이터프레임 만들기\n",
    "df = pd.DataFrame([[22, '남', '인천대'], [21, '여', '경기대'], [20, '남', '부산대']],\n",
    "                  index=['규석', '영신', '성민'],\n",
    "                  columns=['나이', '성별', '학교'])"
   ]
  },
  {
   "cell_type": "code",
   "execution_count": 45,
   "id": "364af64d",
   "metadata": {},
   "outputs": [
    {
     "name": "stdout",
     "output_type": "stream",
     "text": [
      "    나이 성별   학교\n",
      "규석  22  남  인천대\n",
      "영신  21  여  경기대\n",
      "성민  20  남  부산대\n"
     ]
    }
   ],
   "source": [
    "print(df)"
   ]
  },
  {
   "cell_type": "code",
   "execution_count": 49,
   "id": "e6b47fc1",
   "metadata": {},
   "outputs": [],
   "source": [
    "df.rename(index={'규석':'준서', '영신':'지연', '성민':'성철'}, inplace = True)\n",
    "df.rename(columns={'나이':'연령', '성별':'남녀', '학교':'소속'}, inplace = True)"
   ]
  },
  {
   "cell_type": "code",
   "execution_count": 50,
   "id": "667814a4",
   "metadata": {},
   "outputs": [
    {
     "name": "stdout",
     "output_type": "stream",
     "text": [
      "    연령 남녀   소속\n",
      "준서  22  남  인천대\n",
      "지연  21  여  경기대\n",
      "성철  20  남  부산대\n"
     ]
    }
   ],
   "source": [
    "print(df)"
   ]
  },
  {
   "cell_type": "markdown",
   "id": "8388220d",
   "metadata": {},
   "source": [
    "- inplace=True 를 쓰지 않으면 기존 객체가 변경되지 않음\n",
    "- inplace=True 를 쓰면 기존 객체에 반영"
   ]
  },
  {
   "cell_type": "markdown",
   "id": "72f64681",
   "metadata": {},
   "source": [
    "행 / 열 삭제\n",
    "- 행 / 열 삭제 시 drop() 함수 사용\n",
    "- 행을 삭제할 때 축(axis) 옵션으로 axis=0 혹은 입력 X\n",
    "- 열을 삭제할 때 축(axis) 옵션으로 axis=1 입력<br><br>\n",
    "<code>행 삭제: DataFrame 객체.drop(행 인덱스 또는 배열, axis=0)</code><br>\n",
    "<code>역 삭제: DataFrame 객체.drop(열 이름 또는 배열, axis=1)</code>"
   ]
  },
  {
   "cell_type": "markdown",
   "id": "5153e9e4",
   "metadata": {},
   "source": [
    "행 삭제 예제"
   ]
  },
  {
   "cell_type": "code",
   "execution_count": 89,
   "id": "19d52e29",
   "metadata": {},
   "outputs": [],
   "source": [
    "import pandas as pd\n",
    "\n",
    "exam_data = {'국어' : [70, 90, 80], '수학' : [90, 85, 80], '영어' : [100, 80, 90], '음악' : [70, 90, 100]}\n",
    "df = pd.DataFrame(exam_data, index=['인서', '형준', '소진'])\n",
    "\n",
    "# 데이터프레임 df를 복제하여 변수 df2에 저장.\n",
    "df2 = df\n",
    "\n",
    "# 데이터프레임 df를 복제하여 변수 df3에 저장.\n",
    "df3 = df"
   ]
  },
  {
   "cell_type": "code",
   "execution_count": 90,
   "id": "c04e09b5",
   "metadata": {},
   "outputs": [
    {
     "name": "stdout",
     "output_type": "stream",
     "text": [
      "3039900170608\n",
      "3039900170608\n",
      "3039900170608\n"
     ]
    }
   ],
   "source": [
    "print(id(df))\n",
    "print(id(df2))\n",
    "print(id(df3))"
   ]
  },
  {
   "cell_type": "code",
   "execution_count": 93,
   "id": "af25c1c9",
   "metadata": {},
   "outputs": [
    {
     "data": {
      "text/html": [
       "<div>\n",
       "<style scoped>\n",
       "    .dataframe tbody tr th:only-of-type {\n",
       "        vertical-align: middle;\n",
       "    }\n",
       "\n",
       "    .dataframe tbody tr th {\n",
       "        vertical-align: top;\n",
       "    }\n",
       "\n",
       "    .dataframe thead th {\n",
       "        text-align: right;\n",
       "    }\n",
       "</style>\n",
       "<table border=\"1\" class=\"dataframe\">\n",
       "  <thead>\n",
       "    <tr style=\"text-align: right;\">\n",
       "      <th></th>\n",
       "      <th>국어</th>\n",
       "      <th>수학</th>\n",
       "      <th>영어</th>\n",
       "      <th>음악</th>\n",
       "    </tr>\n",
       "  </thead>\n",
       "  <tbody>\n",
       "    <tr>\n",
       "      <th>형준</th>\n",
       "      <td>90</td>\n",
       "      <td>85</td>\n",
       "      <td>80</td>\n",
       "      <td>90</td>\n",
       "    </tr>\n",
       "    <tr>\n",
       "      <th>소진</th>\n",
       "      <td>80</td>\n",
       "      <td>80</td>\n",
       "      <td>90</td>\n",
       "      <td>100</td>\n",
       "    </tr>\n",
       "  </tbody>\n",
       "</table>\n",
       "</div>"
      ],
      "text/plain": [
       "    국어  수학  영어   음악\n",
       "형준  90  85  80   90\n",
       "소진  80  80  90  100"
      ]
     },
     "execution_count": 93,
     "metadata": {},
     "output_type": "execute_result"
    }
   ],
   "source": [
    "# df2의 1개 행(row) 제거\n",
    "df2.drop(['인서'], axis = 0)"
   ]
  },
  {
   "cell_type": "code",
   "execution_count": 94,
   "id": "8ed83a31",
   "metadata": {
    "scrolled": true
   },
   "outputs": [
    {
     "data": {
      "text/html": [
       "<div>\n",
       "<style scoped>\n",
       "    .dataframe tbody tr th:only-of-type {\n",
       "        vertical-align: middle;\n",
       "    }\n",
       "\n",
       "    .dataframe tbody tr th {\n",
       "        vertical-align: top;\n",
       "    }\n",
       "\n",
       "    .dataframe thead th {\n",
       "        text-align: right;\n",
       "    }\n",
       "</style>\n",
       "<table border=\"1\" class=\"dataframe\">\n",
       "  <thead>\n",
       "    <tr style=\"text-align: right;\">\n",
       "      <th></th>\n",
       "      <th>국어</th>\n",
       "      <th>수학</th>\n",
       "      <th>영어</th>\n",
       "      <th>음악</th>\n",
       "    </tr>\n",
       "  </thead>\n",
       "  <tbody>\n",
       "    <tr>\n",
       "      <th>인서</th>\n",
       "      <td>70</td>\n",
       "      <td>90</td>\n",
       "      <td>100</td>\n",
       "      <td>70</td>\n",
       "    </tr>\n",
       "  </tbody>\n",
       "</table>\n",
       "</div>"
      ],
      "text/plain": [
       "    국어  수학   영어  음악\n",
       "인서  70  90  100  70"
      ]
     },
     "execution_count": 94,
     "metadata": {},
     "output_type": "execute_result"
    }
   ],
   "source": [
    "# df2의 2개 행(row) 제거\n",
    "df3.drop(['형준', '소진'], axis = 0)"
   ]
  },
  {
   "cell_type": "markdown",
   "id": "c0af8d9e",
   "metadata": {},
   "source": [
    "열 삭제 예제"
   ]
  },
  {
   "cell_type": "code",
   "execution_count": 105,
   "id": "e29dde3a",
   "metadata": {},
   "outputs": [],
   "source": [
    "import pandas as pd\n",
    "\n",
    "exam_data = {'국어' : [70, 90, 80], '수학' : [90, 85, 80], '영어' : [100, 80, 90], '음악' : [70, 90, 100]}\n",
    "df = pd.DataFrame(exam_data, index=['민혜', '재헌', '숙현'])\n",
    "\n",
    "# 데이터프레임 df를 복제하여 변수 df2에 저장.\n",
    "df2 = df\n",
    "\n",
    "# 데이터프레임 df를 복제하여 변수 df3에 저장.\n",
    "df3 = df"
   ]
  },
  {
   "cell_type": "code",
   "execution_count": 106,
   "id": "ec389cc3",
   "metadata": {},
   "outputs": [
    {
     "name": "stdout",
     "output_type": "stream",
     "text": [
      "    국어  수학   영어   음악\n",
      "민혜  70  90  100   70\n",
      "재헌  90  85   80   90\n",
      "숙현  80  80   90  100\n"
     ]
    }
   ],
   "source": [
    "print(df)"
   ]
  },
  {
   "cell_type": "code",
   "execution_count": 107,
   "id": "61dcde55",
   "metadata": {},
   "outputs": [
    {
     "data": {
      "text/html": [
       "<div>\n",
       "<style scoped>\n",
       "    .dataframe tbody tr th:only-of-type {\n",
       "        vertical-align: middle;\n",
       "    }\n",
       "\n",
       "    .dataframe tbody tr th {\n",
       "        vertical-align: top;\n",
       "    }\n",
       "\n",
       "    .dataframe thead th {\n",
       "        text-align: right;\n",
       "    }\n",
       "</style>\n",
       "<table border=\"1\" class=\"dataframe\">\n",
       "  <thead>\n",
       "    <tr style=\"text-align: right;\">\n",
       "      <th></th>\n",
       "      <th>수학</th>\n",
       "      <th>영어</th>\n",
       "      <th>음악</th>\n",
       "    </tr>\n",
       "  </thead>\n",
       "  <tbody>\n",
       "    <tr>\n",
       "      <th>민혜</th>\n",
       "      <td>90</td>\n",
       "      <td>100</td>\n",
       "      <td>70</td>\n",
       "    </tr>\n",
       "    <tr>\n",
       "      <th>재헌</th>\n",
       "      <td>85</td>\n",
       "      <td>80</td>\n",
       "      <td>90</td>\n",
       "    </tr>\n",
       "    <tr>\n",
       "      <th>숙현</th>\n",
       "      <td>80</td>\n",
       "      <td>90</td>\n",
       "      <td>100</td>\n",
       "    </tr>\n",
       "  </tbody>\n",
       "</table>\n",
       "</div>"
      ],
      "text/plain": [
       "    수학   영어   음악\n",
       "민혜  90  100   70\n",
       "재헌  85   80   90\n",
       "숙현  80   90  100"
      ]
     },
     "execution_count": 107,
     "metadata": {},
     "output_type": "execute_result"
    }
   ],
   "source": [
    "# df2의 1개 열(column) 삭제\n",
    "df2.drop('국어', axis = 1)"
   ]
  },
  {
   "cell_type": "code",
   "execution_count": 108,
   "id": "7c3794e4",
   "metadata": {},
   "outputs": [
    {
     "data": {
      "text/html": [
       "<div>\n",
       "<style scoped>\n",
       "    .dataframe tbody tr th:only-of-type {\n",
       "        vertical-align: middle;\n",
       "    }\n",
       "\n",
       "    .dataframe tbody tr th {\n",
       "        vertical-align: top;\n",
       "    }\n",
       "\n",
       "    .dataframe thead th {\n",
       "        text-align: right;\n",
       "    }\n",
       "</style>\n",
       "<table border=\"1\" class=\"dataframe\">\n",
       "  <thead>\n",
       "    <tr style=\"text-align: right;\">\n",
       "      <th></th>\n",
       "      <th>국어</th>\n",
       "      <th>수학</th>\n",
       "    </tr>\n",
       "  </thead>\n",
       "  <tbody>\n",
       "    <tr>\n",
       "      <th>민혜</th>\n",
       "      <td>70</td>\n",
       "      <td>90</td>\n",
       "    </tr>\n",
       "    <tr>\n",
       "      <th>재헌</th>\n",
       "      <td>90</td>\n",
       "      <td>85</td>\n",
       "    </tr>\n",
       "    <tr>\n",
       "      <th>숙현</th>\n",
       "      <td>80</td>\n",
       "      <td>80</td>\n",
       "    </tr>\n",
       "  </tbody>\n",
       "</table>\n",
       "</div>"
      ],
      "text/plain": [
       "    국어  수학\n",
       "민혜  70  90\n",
       "재헌  90  85\n",
       "숙현  80  80"
      ]
     },
     "execution_count": 108,
     "metadata": {},
     "output_type": "execute_result"
    }
   ],
   "source": [
    "# df3의 2개 열(column) 삭제\n",
    "df3.drop(['영어', '음악'], axis = 1)"
   ]
  },
  {
   "cell_type": "markdown",
   "id": "5cd02b47",
   "metadata": {},
   "source": [
    "행 선택<br>\n",
    "데이터 시각화 부분에서 기준이 될 행을 선택할 수 있음\n",
    "- 인덱스 이름을 기준으로 행을 선택할 시 loc 이용\n",
    " - 범위 지정 시 범위 끝 포함\n",
    "- 정수형 위치 인덱스를 기준으로 행을 선택할 시 iloc 이용\n",
    " - 범위 지정 시 범위 끝 미포함"
   ]
  },
  {
   "cell_type": "markdown",
   "id": "714f2e44",
   "metadata": {},
   "source": [
    "행 선택 예제"
   ]
  },
  {
   "cell_type": "code",
   "execution_count": 110,
   "id": "5649501a",
   "metadata": {},
   "outputs": [],
   "source": [
    "import pandas as pd\n",
    "\n",
    "exam_data = {'국어' : [70, 90, 80], '수학' : [90, 85, 80], '영어' : [100, 80, 90], '음악' : [70, 90, 100]}\n",
    "df = pd.DataFrame(exam_data, index=['인서', '연정', '린하'])"
   ]
  },
  {
   "cell_type": "code",
   "execution_count": 114,
   "id": "e89c77fc",
   "metadata": {},
   "outputs": [],
   "source": [
    "# 행 인덱스 이름을 사용하여 행 1개 선택\n",
    "label1 = df.loc['인서']\n",
    "position1 = df.iloc[0]"
   ]
  },
  {
   "cell_type": "code",
   "execution_count": 115,
   "id": "6c893f3c",
   "metadata": {},
   "outputs": [
    {
     "name": "stdout",
     "output_type": "stream",
     "text": [
      "국어     70\n",
      "수학     90\n",
      "영어    100\n",
      "음악     70\n",
      "Name: 인서, dtype: int64\n"
     ]
    }
   ],
   "source": [
    "print(label1)"
   ]
  },
  {
   "cell_type": "code",
   "execution_count": 120,
   "id": "7b078663",
   "metadata": {},
   "outputs": [
    {
     "name": "stdout",
     "output_type": "stream",
     "text": [
      "<class 'pandas.core.series.Series'>\n"
     ]
    }
   ],
   "source": [
    "print(position1)"
   ]
  },
  {
   "cell_type": "code",
   "execution_count": 123,
   "id": "d6a1c164",
   "metadata": {},
   "outputs": [
    {
     "name": "stdout",
     "output_type": "stream",
     "text": [
      "<class 'pandas.core.series.Series'>\n"
     ]
    }
   ],
   "source": [
    "print(type(position1))"
   ]
  },
  {
   "cell_type": "markdown",
   "id": "6df7136e",
   "metadata": {},
   "source": [
    "- 행 1개 선택 시 시리즈 형태로 출력"
   ]
  },
  {
   "cell_type": "code",
   "execution_count": 117,
   "id": "744ae0ef",
   "metadata": {},
   "outputs": [],
   "source": [
    "# 행 인덱스 이름을 사용하여 행 2개 선택\n",
    "label2 = df.loc[['연정', '린하']]\n",
    "position2 = df.iloc[[1, 2]]"
   ]
  },
  {
   "cell_type": "code",
   "execution_count": 125,
   "id": "74e7bb26",
   "metadata": {},
   "outputs": [
    {
     "name": "stdout",
     "output_type": "stream",
     "text": [
      "    국어  수학  영어   음악\n",
      "연정  90  85  80   90\n",
      "린하  80  80  90  100\n"
     ]
    }
   ],
   "source": [
    "print(label2)"
   ]
  },
  {
   "cell_type": "code",
   "execution_count": 126,
   "id": "9021e438",
   "metadata": {},
   "outputs": [
    {
     "name": "stdout",
     "output_type": "stream",
     "text": [
      "    국어  수학  영어   음악\n",
      "연정  90  85  80   90\n",
      "린하  80  80  90  100\n"
     ]
    }
   ],
   "source": [
    "print(position2)"
   ]
  },
  {
   "cell_type": "code",
   "execution_count": 127,
   "id": "0d4950bc",
   "metadata": {},
   "outputs": [
    {
     "name": "stdout",
     "output_type": "stream",
     "text": [
      "<class 'pandas.core.frame.DataFrame'>\n"
     ]
    }
   ],
   "source": [
    "print(type(position2))"
   ]
  },
  {
   "cell_type": "markdown",
   "id": "c5137aaa",
   "metadata": {},
   "source": [
    "- 행 2개 이상 선택 시 데이터프레임 형태로 출력"
   ]
  },
  {
   "cell_type": "code",
   "execution_count": 130,
   "id": "06bbec38",
   "metadata": {},
   "outputs": [],
   "source": [
    "# 행 인덱스 이름을 사용하여 행 여러 개 선택\n",
    "label3 = df.loc['인서':'연정']\n",
    "position3 = df.iloc[0:1]"
   ]
  },
  {
   "cell_type": "code",
   "execution_count": 131,
   "id": "3cf0d868",
   "metadata": {},
   "outputs": [
    {
     "name": "stdout",
     "output_type": "stream",
     "text": [
      "    국어  수학   영어  음악\n",
      "인서  70  90  100  70\n",
      "연정  90  85   80  90\n"
     ]
    }
   ],
   "source": [
    "print(label3)"
   ]
  },
  {
   "cell_type": "code",
   "execution_count": 132,
   "id": "5458c6c7",
   "metadata": {},
   "outputs": [
    {
     "name": "stdout",
     "output_type": "stream",
     "text": [
      "    국어  수학   영어  음악\n",
      "인서  70  90  100  70\n"
     ]
    }
   ],
   "source": [
    "print(position3)"
   ]
  },
  {
   "cell_type": "markdown",
   "id": "9e040d4b",
   "metadata": {},
   "source": [
    "열 선택\n",
    "- 열은 정수형 위치 인덱스라는 개념이 존재 X"
   ]
  },
  {
   "cell_type": "markdown",
   "id": "2facb8d7",
   "metadata": {},
   "source": [
    "열 선택 예제"
   ]
  },
  {
   "cell_type": "code",
   "execution_count": 139,
   "id": "67f2f3ff",
   "metadata": {},
   "outputs": [],
   "source": [
    "import pandas as pd\n",
    "\n",
    "exam_data = {'국어' : [70, 90, 80], '수학' : [90, 85, 80], '영어' : [100, 80, 90], '음악' : [70, 90, 100]}\n",
    "df = pd.DataFrame(exam_data, index=['요셉', '성훈', '동호'])"
   ]
  },
  {
   "cell_type": "code",
   "execution_count": 134,
   "id": "6a12ba7d",
   "metadata": {},
   "outputs": [
    {
     "name": "stdout",
     "output_type": "stream",
     "text": [
      "요셉    90\n",
      "성훈    85\n",
      "동호    80\n",
      "Name: 수학, dtype: int64\n"
     ]
    }
   ],
   "source": [
    "# '수학' 점수 데이터만 선택(열 선택)\n",
    "math = df['수학']\n",
    "print(math)"
   ]
  },
  {
   "cell_type": "code",
   "execution_count": 135,
   "id": "50900ea4",
   "metadata": {},
   "outputs": [
    {
     "name": "stdout",
     "output_type": "stream",
     "text": [
      "요셉    100\n",
      "성훈     80\n",
      "동호     90\n",
      "Name: 영어, dtype: int64\n"
     ]
    }
   ],
   "source": [
    "# '영어' 점수 데이터만 선택(열 선택)\n",
    "english = df.영어\n",
    "print(english)"
   ]
  },
  {
   "cell_type": "code",
   "execution_count": 137,
   "id": "e148ede9",
   "metadata": {},
   "outputs": [
    {
     "name": "stdout",
     "output_type": "stream",
     "text": [
      "    국어   음악\n",
      "요셉  70   70\n",
      "성훈  90   90\n",
      "동호  80  100\n"
     ]
    }
   ],
   "source": [
    "# 열 두 개 선택\n",
    "kor_music = df[['국어', '음악']]\n",
    "print(kor_music)"
   ]
  },
  {
   "cell_type": "markdown",
   "id": "f4a2099d",
   "metadata": {},
   "source": [
    "원소 선텍\n",
    "- 데이터프레임의 행 인덱스와 열 이름을 [행, 열] 형식의 2차원 좌표로 입력하여 원소 위치를 지정<br>\n",
    "<code>인덱스 이름: DataFrame 객체.loc[행 인덱스 이름, 열 이름]</code><br>\n",
    "<code>정수 위치 인덱스: DataFrame 객체.iloc[행 번호, 열 번호]</code>\n",
    " - loc와 iloc는 행 때문에 사용"
   ]
  },
  {
   "cell_type": "markdown",
   "id": "66ce47e4",
   "metadata": {},
   "source": [
    "원소 선택 예제"
   ]
  },
  {
   "cell_type": "code",
   "execution_count": 183,
   "id": "f7d4f981",
   "metadata": {},
   "outputs": [],
   "source": [
    "import pandas as pd\n",
    "\n",
    "exam_data = {'이름' : ['용준', '수빈', '재영'],\n",
    "             '국어' : [70, 90, 80],\n",
    "             '수학' : [90, 85, 80], \n",
    "             '영어' : [100, 80, 90], \n",
    "             '음악' : [70, 90, 100]}\n",
    "df = pd.DataFrame(exam_data)"
   ]
  },
  {
   "cell_type": "code",
   "execution_count": 156,
   "id": "ceeb27fd",
   "metadata": {},
   "outputs": [
    {
     "name": "stdout",
     "output_type": "stream",
     "text": [
      "   이름  국어  수학   영어   음악\n",
      "0  용준  70  90  100   70\n",
      "1  수빈  90  85   80   90\n",
      "2  재영  80  80   90  100\n"
     ]
    }
   ],
   "source": [
    "print(df)"
   ]
  },
  {
   "cell_type": "code",
   "execution_count": 184,
   "id": "b3e36330",
   "metadata": {},
   "outputs": [
    {
     "name": "stdout",
     "output_type": "stream",
     "text": [
      "    국어  수학   영어   음악\n",
      "이름                  \n",
      "용준  70  90  100   70\n",
      "수빈  90  85   80   90\n",
      "재영  80  80   90  100\n"
     ]
    }
   ],
   "source": [
    "# '이름' 열을 새로운 인덱스로 지정, df 객체에 변경 사항 저장\n",
    "df.set_index('이름', inplace = True)\n",
    "print(df)"
   ]
  },
  {
   "cell_type": "code",
   "execution_count": 158,
   "id": "c06a5834",
   "metadata": {},
   "outputs": [
    {
     "name": "stdout",
     "output_type": "stream",
     "text": [
      "Index(['용준', '수빈', '재영'], dtype='object', name='이름')\n"
     ]
    }
   ],
   "source": [
    "print(df.index)"
   ]
  },
  {
   "cell_type": "code",
   "execution_count": 159,
   "id": "7f2c14bd",
   "metadata": {},
   "outputs": [
    {
     "name": "stdout",
     "output_type": "stream",
     "text": [
      "Index(['국어', '수학', '영어', '음악'], dtype='object')\n"
     ]
    }
   ],
   "source": [
    "print(df.columns)"
   ]
  },
  {
   "cell_type": "code",
   "execution_count": 160,
   "id": "3584f256",
   "metadata": {},
   "outputs": [
    {
     "name": "stdout",
     "output_type": "stream",
     "text": [
      "100\n"
     ]
    }
   ],
   "source": [
    "# 데이터프레임 df의 특정 원소 1개 선택('용준'의 '영어' 점수)\n",
    "a = df.loc['용준', '영어']\n",
    "print(a)"
   ]
  },
  {
   "cell_type": "code",
   "execution_count": 162,
   "id": "3d8267ac",
   "metadata": {},
   "outputs": [
    {
     "name": "stdout",
     "output_type": "stream",
     "text": [
      "100\n"
     ]
    }
   ],
   "source": [
    "# 데이터프레임 df의 특정 원소 1개 선택('용준'의 '영어' 점수)\n",
    "b = df.iloc[0, 2]\n",
    "print(b)"
   ]
  },
  {
   "cell_type": "code",
   "execution_count": 163,
   "id": "4a74275c",
   "metadata": {},
   "outputs": [
    {
     "name": "stdout",
     "output_type": "stream",
     "text": [
      "국어    90\n",
      "수학    85\n",
      "Name: 수빈, dtype: int64\n"
     ]
    }
   ],
   "source": [
    "# 데이터프레임 df의 특정 원소 2개 선택('수빈'의 '국어', '수학' 점수)\n",
    "c = df.loc['수빈', ['국어', '수학']]\n",
    "print(c)"
   ]
  },
  {
   "cell_type": "code",
   "execution_count": 164,
   "id": "564cef31",
   "metadata": {},
   "outputs": [
    {
     "name": "stdout",
     "output_type": "stream",
     "text": [
      "국어    90\n",
      "수학    85\n",
      "Name: 수빈, dtype: int64\n"
     ]
    }
   ],
   "source": [
    "# 데이터프레임 df의 특정 원소 2개 선택('수빈'의 '국어', '수학' 점수)\n",
    "d = df.iloc[1, [0, 1]]\n",
    "print(d)"
   ]
  },
  {
   "cell_type": "code",
   "execution_count": 165,
   "id": "88fb31af",
   "metadata": {},
   "outputs": [
    {
     "name": "stdout",
     "output_type": "stream",
     "text": [
      "국어    90\n",
      "수학    85\n",
      "Name: 수빈, dtype: int64\n"
     ]
    }
   ],
   "source": [
    "# 데이터프레임 df의 특정 원소 2개 선택('수빈'의 '국어', '수학' 점수)\n",
    "e = df.loc['수빈', '국어':'수학']\n",
    "print(e)"
   ]
  },
  {
   "cell_type": "code",
   "execution_count": 168,
   "id": "fe92aec4",
   "metadata": {},
   "outputs": [
    {
     "name": "stdout",
     "output_type": "stream",
     "text": [
      "국어    90\n",
      "수학    85\n",
      "Name: 수빈, dtype: int64\n"
     ]
    }
   ],
   "source": [
    "# 데이터프레임 df의 특정 원소 2개 선택('수빈'의 '국어', '수학' 점수)\n",
    "f = df.iloc[1, 0:2]\n",
    "print(f)"
   ]
  },
  {
   "cell_type": "code",
   "execution_count": 171,
   "id": "e5943d58",
   "metadata": {},
   "outputs": [
    {
     "name": "stdout",
     "output_type": "stream",
     "text": [
      "    영어   음악\n",
      "이름         \n",
      "수빈  80   90\n",
      "재영  90  100\n"
     ]
    }
   ],
   "source": [
    "# 데이터프레임 df의 2개 이상의 행과 열에 속하는 원소들 선택('수빈', '재영'의 '영어', '음악' 점수)\n",
    "g = df.loc[['수빈', '재영'], ['영어', '음악']]\n",
    "print(g)"
   ]
  },
  {
   "cell_type": "code",
   "execution_count": 172,
   "id": "5ccce204",
   "metadata": {},
   "outputs": [
    {
     "name": "stdout",
     "output_type": "stream",
     "text": [
      "    영어   음악\n",
      "이름         \n",
      "수빈  80   90\n",
      "재영  90  100\n"
     ]
    }
   ],
   "source": [
    "# 데이터프레임 df의 2개 이상의 행과 열에 속하는 원소들 선택('수빈', '재영'의 '영어', '음악' 점수)\n",
    "\n",
    "h = df.iloc[[1, 2], [2, 3]]\n",
    "print(h)"
   ]
  },
  {
   "cell_type": "code",
   "execution_count": 173,
   "id": "1592e2a0",
   "metadata": {},
   "outputs": [
    {
     "name": "stdout",
     "output_type": "stream",
     "text": [
      "    영어   음악\n",
      "이름         \n",
      "수빈  80   90\n",
      "재영  90  100\n"
     ]
    }
   ],
   "source": [
    "# 데이터프레임 df의 2개 이상의 행과 열에 속하는 원소들 선택('수빈', '재영'의 '영어', '음악' 점수)\n",
    "i = df.loc['수빈':'재영', '영어':'음악']\n",
    "print(i)"
   ]
  },
  {
   "cell_type": "code",
   "execution_count": 175,
   "id": "fdd6a24f",
   "metadata": {},
   "outputs": [
    {
     "name": "stdout",
     "output_type": "stream",
     "text": [
      "    영어   음악\n",
      "이름         \n",
      "수빈  80   90\n",
      "재영  90  100\n"
     ]
    }
   ],
   "source": [
    "# 데이터프레임 df의 2개 이상의 행과 열에 속하는 원소들 선택('수빈', '재영'의 '영어', '음악' 점수)\n",
    "j = df.iloc[1:, 2:]\n",
    "print(j)"
   ]
  },
  {
   "cell_type": "code",
   "execution_count": 179,
   "id": "6ae90ee5",
   "metadata": {},
   "outputs": [
    {
     "name": "stdout",
     "output_type": "stream",
     "text": [
      "    국어  수학   영어   음악\n",
      "이름                  \n",
      "용준  70  90  100   70\n",
      "수빈  90  85   80   90\n",
      "재영  80  80   90  100\n"
     ]
    }
   ],
   "source": [
    "print(df)"
   ]
  },
  {
   "cell_type": "markdown",
   "id": "d31c9883",
   "metadata": {},
   "source": [
    "행 인덱스의 이름을 바꿀 경우 index.rename() 함수 사용"
   ]
  },
  {
   "cell_type": "code",
   "execution_count": null,
   "id": "b4f00783",
   "metadata": {},
   "outputs": [],
   "source": [
    "df.index.rename('성명', inplace = True)"
   ]
  },
  {
   "cell_type": "markdown",
   "id": "59c9092a",
   "metadata": {},
   "source": [
    "직접 지정한 행 인덱스를 해제할 경우 reset_index() 사용"
   ]
  },
  {
   "cell_type": "code",
   "execution_count": 178,
   "id": "ec347b37",
   "metadata": {
    "scrolled": true
   },
   "outputs": [
    {
     "data": {
      "text/html": [
       "<div>\n",
       "<style scoped>\n",
       "    .dataframe tbody tr th:only-of-type {\n",
       "        vertical-align: middle;\n",
       "    }\n",
       "\n",
       "    .dataframe tbody tr th {\n",
       "        vertical-align: top;\n",
       "    }\n",
       "\n",
       "    .dataframe thead th {\n",
       "        text-align: right;\n",
       "    }\n",
       "</style>\n",
       "<table border=\"1\" class=\"dataframe\">\n",
       "  <thead>\n",
       "    <tr style=\"text-align: right;\">\n",
       "      <th></th>\n",
       "      <th>이름</th>\n",
       "      <th>국어</th>\n",
       "      <th>수학</th>\n",
       "      <th>영어</th>\n",
       "      <th>음악</th>\n",
       "    </tr>\n",
       "  </thead>\n",
       "  <tbody>\n",
       "    <tr>\n",
       "      <th>0</th>\n",
       "      <td>용준</td>\n",
       "      <td>70</td>\n",
       "      <td>90</td>\n",
       "      <td>100</td>\n",
       "      <td>70</td>\n",
       "    </tr>\n",
       "    <tr>\n",
       "      <th>1</th>\n",
       "      <td>수빈</td>\n",
       "      <td>90</td>\n",
       "      <td>85</td>\n",
       "      <td>80</td>\n",
       "      <td>90</td>\n",
       "    </tr>\n",
       "    <tr>\n",
       "      <th>2</th>\n",
       "      <td>재영</td>\n",
       "      <td>80</td>\n",
       "      <td>80</td>\n",
       "      <td>90</td>\n",
       "      <td>100</td>\n",
       "    </tr>\n",
       "  </tbody>\n",
       "</table>\n",
       "</div>"
      ],
      "text/plain": [
       "   이름  국어  수학   영어   음악\n",
       "0  용준  70  90  100   70\n",
       "1  수빈  90  85   80   90\n",
       "2  재영  80  80   90  100"
      ]
     },
     "execution_count": 178,
     "metadata": {},
     "output_type": "execute_result"
    }
   ],
   "source": [
    "df.reset_index('이름', inplace = True)"
   ]
  },
  {
   "cell_type": "markdown",
   "id": "b47924ec",
   "metadata": {},
   "source": [
    "행 인덱스 이름 지정"
   ]
  },
  {
   "cell_type": "code",
   "execution_count": 185,
   "id": "93b66a2b",
   "metadata": {},
   "outputs": [],
   "source": [
    "import pandas as pd\n",
    "\n",
    "exam_data = {'이름' : ['용준', '수빈', '재영'],\n",
    "             '국어' : [70, 90, 80],\n",
    "             '수학' : [90, 85, 80], \n",
    "             '영어' : [100, 80, 90], \n",
    "             '음악' : [70, 90, 100]}\n",
    "df = pd.DataFrame(exam_data)"
   ]
  },
  {
   "cell_type": "code",
   "execution_count": 186,
   "id": "b4afefaa",
   "metadata": {},
   "outputs": [],
   "source": [
    "df.index.name = \"number\""
   ]
  },
  {
   "cell_type": "code",
   "execution_count": 187,
   "id": "1f84be72",
   "metadata": {},
   "outputs": [
    {
     "name": "stdout",
     "output_type": "stream",
     "text": [
      "        이름  국어  수학   영어   음악\n",
      "number                      \n",
      "0       용준  70  90  100   70\n",
      "1       수빈  90  85   80   90\n",
      "2       재영  80  80   90  100\n"
     ]
    }
   ],
   "source": [
    "print(df)"
   ]
  },
  {
   "cell_type": "markdown",
   "id": "54e5dad9",
   "metadata": {},
   "source": [
    "열 추가<br>\n",
    "<code>DataFrame 객체['추가하려는 열 이름'] = 데이터 값</code>"
   ]
  },
  {
   "cell_type": "markdown",
   "id": "63b1a53b",
   "metadata": {},
   "source": [
    "열 추가 예제"
   ]
  },
  {
   "cell_type": "code",
   "execution_count": 188,
   "id": "873e772d",
   "metadata": {},
   "outputs": [],
   "source": [
    "import pandas as pd\n",
    "\n",
    "exam_data = {'이름' : ['건국', '예진', '원준'],\n",
    "             '국어' : [70, 90, 80],\n",
    "             '수학' : [90, 85, 80], \n",
    "             '영어' : [100, 80, 90], \n",
    "             '음악' : [70, 90, 100]}\n",
    "df = pd.DataFrame(exam_data)"
   ]
  },
  {
   "cell_type": "code",
   "execution_count": 194,
   "id": "9359dc2a",
   "metadata": {},
   "outputs": [],
   "source": [
    "# 데이터프레임 df에 '체육' 점수 열(column) 추가\n",
    "df['체육'] = [80, 70, 75]"
   ]
  },
  {
   "cell_type": "code",
   "execution_count": 195,
   "id": "e4551231",
   "metadata": {},
   "outputs": [
    {
     "name": "stdout",
     "output_type": "stream",
     "text": [
      "   이름  국어  수학   영어   음악  체육\n",
      "0  건국  70  90  100   70  80\n",
      "1  예진  90  85   80   90  70\n",
      "2  원준  80  80   90  100  75\n"
     ]
    }
   ],
   "source": [
    "print(df)"
   ]
  },
  {
   "cell_type": "markdown",
   "id": "e9eb9cf2",
   "metadata": {},
   "source": [
    "행 추가\n",
    "- 추가하려는 행 이름과 데이터 값을 loc 인덱서를 사용하여 입력<br>\n",
    "<code>DataFrame 객체.loc['새로운 행 이름'] = 데이터 값</code>"
   ]
  },
  {
   "cell_type": "markdown",
   "id": "55e6927f",
   "metadata": {},
   "source": [
    "행 추가 예제"
   ]
  },
  {
   "cell_type": "code",
   "execution_count": 212,
   "id": "062621f9",
   "metadata": {},
   "outputs": [],
   "source": [
    "import pandas as pd\n",
    "\n",
    "exam_data = {'이름' : ['재윤', '상범', '수지'],\n",
    "             '국어' : [70, 90, 80],\n",
    "             '수학' : [90, 85, 80], \n",
    "             '영어' : [100, 80, 90], \n",
    "             '음악' : [70, 90, 100]}\n",
    "df = pd.DataFrame(exam_data)"
   ]
  },
  {
   "cell_type": "code",
   "execution_count": 213,
   "id": "f4da2e63",
   "metadata": {},
   "outputs": [
    {
     "name": "stdout",
     "output_type": "stream",
     "text": [
      "   이름  국어  수학   영어   음악\n",
      "0  재윤  70  90  100   70\n",
      "1  상범  90  85   80   90\n",
      "2  수지  80  80   90  100\n"
     ]
    }
   ],
   "source": [
    "print(df)"
   ]
  },
  {
   "cell_type": "code",
   "execution_count": 214,
   "id": "a5e28831",
   "metadata": {},
   "outputs": [],
   "source": [
    "# 새로운 행(row) 추가 - 같은 원소 값 입력\n",
    "df.loc[3] = 0"
   ]
  },
  {
   "cell_type": "code",
   "execution_count": 211,
   "id": "410d259a",
   "metadata": {},
   "outputs": [
    {
     "name": "stdout",
     "output_type": "stream",
     "text": [
      "   이름  국어  수학   영어   음악\n",
      "0  재윤  70  90  100   70\n",
      "1  상범  90  85   80   90\n",
      "2  수지  80  80   90  100\n",
      "3   0   0   0    0    0\n"
     ]
    }
   ],
   "source": [
    "print(df)"
   ]
  },
  {
   "cell_type": "code",
   "execution_count": 215,
   "id": "5d44c3c8",
   "metadata": {},
   "outputs": [],
   "source": [
    "# 새로운 행(row) 추가 - 원소 값 여러 개의 배열 입력\n",
    "df.loc[4] = ['한결', 100, 75, 85, 80]"
   ]
  },
  {
   "cell_type": "code",
   "execution_count": 216,
   "id": "66b24c33",
   "metadata": {},
   "outputs": [
    {
     "name": "stdout",
     "output_type": "stream",
     "text": [
      "   이름   국어  수학   영어   음악\n",
      "0  재윤   70  90  100   70\n",
      "1  상범   90  85   80   90\n",
      "2  수지   80  80   90  100\n",
      "3   0    0   0    0    0\n",
      "4  한결  100  75   85   80\n"
     ]
    }
   ],
   "source": [
    "print(df)"
   ]
  },
  {
   "cell_type": "code",
   "execution_count": 217,
   "id": "ea5d2ad4",
   "metadata": {},
   "outputs": [],
   "source": [
    "# 새로운 행(row) 추가 - 기존 행 복사\n",
    "df.loc[5] = df.loc[3]"
   ]
  },
  {
   "cell_type": "code",
   "execution_count": 218,
   "id": "489869f8",
   "metadata": {},
   "outputs": [
    {
     "name": "stdout",
     "output_type": "stream",
     "text": [
      "   이름   국어  수학   영어   음악\n",
      "0  재윤   70  90  100   70\n",
      "1  상범   90  85   80   90\n",
      "2  수지   80  80   90  100\n",
      "3   0    0   0    0    0\n",
      "4  한결  100  75   85   80\n",
      "5   0    0   0    0    0\n"
     ]
    }
   ],
   "source": [
    "print(df)"
   ]
  },
  {
   "cell_type": "markdown",
   "id": "1aaf1ee6",
   "metadata": {},
   "source": [
    "원소 값 변경<br>\n",
    "<code>DataFrame 객체의 일부분 또는 원소를 선택 = 새로운 값</code>"
   ]
  },
  {
   "cell_type": "markdown",
   "id": "fe3200ec",
   "metadata": {},
   "source": [
    "원소 값 변경 예제"
   ]
  },
  {
   "cell_type": "code",
   "execution_count": 220,
   "id": "d34dae91",
   "metadata": {},
   "outputs": [],
   "source": [
    "import pandas as pd\n",
    "\n",
    "exam_data = {'이름' : ['예진', '지우', '진석'],\n",
    "             '국어' : [70, 90, 80],\n",
    "             '수학' : [90, 85, 80], \n",
    "             '영어' : [100, 80, 90], \n",
    "             '음악' : [70, 90, 100]}\n",
    "df = pd.DataFrame(exam_data)"
   ]
  },
  {
   "cell_type": "code",
   "execution_count": 221,
   "id": "0f0f3d3f",
   "metadata": {},
   "outputs": [],
   "source": [
    "df.set_index('이름', inplace = True)"
   ]
  },
  {
   "cell_type": "code",
   "execution_count": 222,
   "id": "25a3a98e",
   "metadata": {},
   "outputs": [
    {
     "name": "stdout",
     "output_type": "stream",
     "text": [
      "    국어  수학   영어   음악\n",
      "이름                  \n",
      "예진  70  90  100   70\n",
      "지우  90  85   80   90\n",
      "진석  80  80   90  100\n"
     ]
    }
   ],
   "source": [
    "print(df)"
   ]
  },
  {
   "cell_type": "code",
   "execution_count": 224,
   "id": "52d22f95",
   "metadata": {},
   "outputs": [],
   "source": [
    "# 데이터프레임 df의 특정 원소를 변경('예진'의 '음악' 점수)\n",
    "df.iloc[0, 3] = 80"
   ]
  },
  {
   "cell_type": "code",
   "execution_count": 225,
   "id": "6f9ad935",
   "metadata": {},
   "outputs": [
    {
     "name": "stdout",
     "output_type": "stream",
     "text": [
      "    국어  수학   영어   음악\n",
      "이름                  \n",
      "예진  70  90  100   80\n",
      "지우  90  85   80   90\n",
      "진석  80  80   90  100\n"
     ]
    }
   ],
   "source": [
    "print(df)"
   ]
  },
  {
   "cell_type": "code",
   "execution_count": 227,
   "id": "4d65cc77",
   "metadata": {},
   "outputs": [],
   "source": [
    "# 데이터프레임 df의 특정 원소를 변경('예진'의 '음악' 점수)\n",
    "df.iloc[0][3] = 90"
   ]
  },
  {
   "cell_type": "code",
   "execution_count": 228,
   "id": "bd924210",
   "metadata": {},
   "outputs": [
    {
     "name": "stdout",
     "output_type": "stream",
     "text": [
      "    국어  수학   영어   음악\n",
      "이름                  \n",
      "예진  70  90  100   90\n",
      "지우  90  85   80   90\n",
      "진석  80  80   90  100\n"
     ]
    }
   ],
   "source": [
    "print(df)"
   ]
  },
  {
   "cell_type": "code",
   "execution_count": 229,
   "id": "4017cbd6",
   "metadata": {},
   "outputs": [],
   "source": [
    "# 데이터프레임 df의 특정 원소를 변경('예진'의 '음악' 점수)\n",
    "df.loc['예진', '음악'] = 85"
   ]
  },
  {
   "cell_type": "code",
   "execution_count": 230,
   "id": "137344a2",
   "metadata": {},
   "outputs": [
    {
     "name": "stdout",
     "output_type": "stream",
     "text": [
      "    국어  수학   영어   음악\n",
      "이름                  \n",
      "예진  70  90  100   85\n",
      "지우  90  85   80   90\n",
      "진석  80  80   90  100\n"
     ]
    }
   ],
   "source": [
    "print(df)"
   ]
  },
  {
   "cell_type": "code",
   "execution_count": 231,
   "id": "95581b48",
   "metadata": {},
   "outputs": [],
   "source": [
    "# 데이터프레임 df의 특정 원소를 변경('예진'의 '음악' 점수)\n",
    "df.loc['예진']['음악'] = 100"
   ]
  },
  {
   "cell_type": "code",
   "execution_count": 232,
   "id": "bcaa4480",
   "metadata": {},
   "outputs": [
    {
     "name": "stdout",
     "output_type": "stream",
     "text": [
      "    국어  수학   영어   음악\n",
      "이름                  \n",
      "예진  70  90  100  100\n",
      "지우  90  85   80   90\n",
      "진석  80  80   90  100\n"
     ]
    }
   ],
   "source": [
    "print(df)"
   ]
  },
  {
   "cell_type": "code",
   "execution_count": 233,
   "id": "ff141b0e",
   "metadata": {},
   "outputs": [],
   "source": [
    "# 데이터프레임 df의 원소 여러 개 변경('지우'의 '수학', '영어' 점수)\n",
    "df.loc['지우', ['수학', '영어']] = 100"
   ]
  },
  {
   "cell_type": "code",
   "execution_count": 234,
   "id": "748d90fc",
   "metadata": {},
   "outputs": [
    {
     "name": "stdout",
     "output_type": "stream",
     "text": [
      "    국어   수학   영어   음악\n",
      "이름                   \n",
      "예진  70   90  100  100\n",
      "지우  90  100  100   90\n",
      "진석  80   80   90  100\n"
     ]
    }
   ],
   "source": [
    "print(df)"
   ]
  },
  {
   "cell_type": "code",
   "execution_count": 239,
   "id": "14348dad",
   "metadata": {},
   "outputs": [],
   "source": [
    "# 데이터프레임 df의 원소 여러 개 변경('진석'의 '국어', '수학' 점수)\n",
    "df.loc['진석', ['국어', '수학']] = 100, 95"
   ]
  },
  {
   "cell_type": "code",
   "execution_count": 240,
   "id": "5a2d8caa",
   "metadata": {},
   "outputs": [
    {
     "name": "stdout",
     "output_type": "stream",
     "text": [
      "     국어   수학   영어   음악\n",
      "이름                    \n",
      "예진   70   90  100  100\n",
      "지우   90  100  100   90\n",
      "진석  100   95   90  100\n"
     ]
    }
   ],
   "source": [
    "print(df)"
   ]
  },
  {
   "cell_type": "markdown",
   "id": "31638ab2",
   "metadata": {},
   "source": [
    "행, 열의 위치 바꾸기\n",
    "- 선형대수학의 전치행렬과 같은 개념<br>\n",
    "<code>행, 열 바꾸기: DataFrame 객체.transpose() or DataFrame 객체.T</code>"
   ]
  },
  {
   "cell_type": "markdown",
   "id": "bf170e92",
   "metadata": {},
   "source": [
    "행, 열의 위치 바꾸기 예제"
   ]
  },
  {
   "cell_type": "code",
   "execution_count": 241,
   "id": "35f8ddc7",
   "metadata": {},
   "outputs": [],
   "source": [
    "import pandas as pd\n",
    "\n",
    "exam_data = {'이름' : ['지연', '유림', '정수'],\n",
    "             '국어' : [70, 90, 80],\n",
    "             '수학' : [90, 85, 80], \n",
    "             '영어' : [100, 80, 90], \n",
    "             '음악' : [70, 90, 100]}\n",
    "df = pd.DataFrame(exam_data)"
   ]
  },
  {
   "cell_type": "code",
   "execution_count": 242,
   "id": "5c35c486",
   "metadata": {},
   "outputs": [],
   "source": [
    "df.set_index('이름', inplace = True)"
   ]
  },
  {
   "cell_type": "code",
   "execution_count": 243,
   "id": "32d78ad0",
   "metadata": {},
   "outputs": [
    {
     "name": "stdout",
     "output_type": "stream",
     "text": [
      "    국어  수학   영어   음악\n",
      "이름                  \n",
      "지연  70  90  100   70\n",
      "유림  90  85   80   90\n",
      "정수  80  80   90  100\n"
     ]
    }
   ],
   "source": [
    "print(df)"
   ]
  },
  {
   "cell_type": "code",
   "execution_count": 245,
   "id": "0ee33ba3",
   "metadata": {},
   "outputs": [],
   "source": [
    "# 데이터프레임 df를 전치하기\n",
    "df = df.transpose()"
   ]
  },
  {
   "cell_type": "code",
   "execution_count": 246,
   "id": "16d970f7",
   "metadata": {},
   "outputs": [
    {
     "name": "stdout",
     "output_type": "stream",
     "text": [
      "이름   지연  유림   정수\n",
      "국어   70  90   80\n",
      "수학   90  85   80\n",
      "영어  100  80   90\n",
      "음악   70  90  100\n"
     ]
    }
   ],
   "source": [
    "print(df)"
   ]
  },
  {
   "cell_type": "code",
   "execution_count": 247,
   "id": "36375a69",
   "metadata": {},
   "outputs": [
    {
     "name": "stdout",
     "output_type": "stream",
     "text": [
      "Index(['국어', '수학', '영어', '음악'], dtype='object')\n"
     ]
    }
   ],
   "source": [
    "print(df.index)"
   ]
  },
  {
   "cell_type": "code",
   "execution_count": 248,
   "id": "064bcfb8",
   "metadata": {},
   "outputs": [],
   "source": [
    "# 데이터프레임 df를 다시 전치하기\n",
    "df = df.T"
   ]
  },
  {
   "cell_type": "code",
   "execution_count": 249,
   "id": "757eebff",
   "metadata": {},
   "outputs": [
    {
     "name": "stdout",
     "output_type": "stream",
     "text": [
      "    국어  수학   영어   음악\n",
      "이름                  \n",
      "지연  70  90  100   70\n",
      "유림  90  85   80   90\n",
      "정수  80  80   90  100\n"
     ]
    }
   ],
   "source": [
    "print(df)"
   ]
  },
  {
   "cell_type": "code",
   "execution_count": null,
   "id": "77bf9806",
   "metadata": {},
   "outputs": [],
   "source": []
  }
 ],
 "metadata": {
  "kernelspec": {
   "display_name": "Python 3 (ipykernel)",
   "language": "python",
   "name": "python3"
  },
  "language_info": {
   "codemirror_mode": {
    "name": "ipython",
    "version": 3
   },
   "file_extension": ".py",
   "mimetype": "text/x-python",
   "name": "python",
   "nbconvert_exporter": "python",
   "pygments_lexer": "ipython3",
   "version": "3.9.7"
  }
 },
 "nbformat": 4,
 "nbformat_minor": 5
}
