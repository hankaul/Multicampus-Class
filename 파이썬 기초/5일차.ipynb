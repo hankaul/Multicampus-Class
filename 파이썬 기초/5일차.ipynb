{
 "cells": [
  {
   "cell_type": "markdown",
   "id": "ea684912",
   "metadata": {},
   "source": [
    "함수 안에서 함수 밖의 변수를 변경하는 방법(첫번째 return)"
   ]
  },
  {
   "cell_type": "code",
   "execution_count": 1,
   "id": "33a489af",
   "metadata": {},
   "outputs": [],
   "source": [
    "a = 1\n",
    "def vartest(b):\n",
    "    b = b + 1\n",
    "    return b"
   ]
  },
  {
   "cell_type": "code",
   "execution_count": 2,
   "id": "817457a8",
   "metadata": {},
   "outputs": [
    {
     "data": {
      "text/plain": [
       "2"
      ]
     },
     "execution_count": 2,
     "metadata": {},
     "output_type": "execute_result"
    }
   ],
   "source": [
    "vartest(1)"
   ]
  },
  {
   "cell_type": "code",
   "execution_count": 3,
   "id": "5d7c7642",
   "metadata": {},
   "outputs": [],
   "source": [
    "a = vartest(1)"
   ]
  },
  {
   "cell_type": "code",
   "execution_count": 4,
   "id": "fd6e0161",
   "metadata": {},
   "outputs": [
    {
     "name": "stdout",
     "output_type": "stream",
     "text": [
      "2\n"
     ]
    }
   ],
   "source": [
    "print(a)"
   ]
  },
  {
   "cell_type": "markdown",
   "id": "f79c1bbb",
   "metadata": {},
   "source": [
    "- 함수에서 나온 결과값으로 기존에 만든 전역 변수를 변경"
   ]
  },
  {
   "cell_type": "code",
   "execution_count": 5,
   "id": "51dc9039",
   "metadata": {},
   "outputs": [],
   "source": [
    "a = 1\n",
    "def vartest(a):\n",
    "    a = a + 1\n",
    "    return a"
   ]
  },
  {
   "cell_type": "code",
   "execution_count": 6,
   "id": "5dd4f272",
   "metadata": {},
   "outputs": [
    {
     "data": {
      "text/plain": [
       "2"
      ]
     },
     "execution_count": 6,
     "metadata": {},
     "output_type": "execute_result"
    }
   ],
   "source": [
    "vartest(a)"
   ]
  },
  {
   "cell_type": "code",
   "execution_count": 7,
   "id": "f6ebf49a",
   "metadata": {},
   "outputs": [
    {
     "name": "stdout",
     "output_type": "stream",
     "text": [
      "1\n"
     ]
    }
   ],
   "source": [
    "print(a)"
   ]
  },
  {
   "cell_type": "code",
   "execution_count": 8,
   "id": "5baa3895",
   "metadata": {},
   "outputs": [
    {
     "name": "stdout",
     "output_type": "stream",
     "text": [
      "2\n"
     ]
    }
   ],
   "source": [
    "a = vartest(a)\n",
    "print(a)"
   ]
  },
  {
   "cell_type": "markdown",
   "id": "177795b6",
   "metadata": {},
   "source": [
    "함수 안에서 함수 밖의 변수를 변경하는 방법(두번째 global)"
   ]
  },
  {
   "cell_type": "code",
   "execution_count": 10,
   "id": "5f0f52f5",
   "metadata": {},
   "outputs": [],
   "source": [
    "a = 1\n",
    "def vartest():\n",
    "    global a\n",
    "    a = a + 1"
   ]
  },
  {
   "cell_type": "code",
   "execution_count": 11,
   "id": "19d3906c",
   "metadata": {},
   "outputs": [],
   "source": [
    "vartest()"
   ]
  },
  {
   "cell_type": "code",
   "execution_count": 12,
   "id": "9acdf834",
   "metadata": {},
   "outputs": [
    {
     "name": "stdout",
     "output_type": "stream",
     "text": [
      "2\n"
     ]
    }
   ],
   "source": [
    "print(a)"
   ]
  },
  {
   "cell_type": "markdown",
   "id": "fa3086e9",
   "metadata": {},
   "source": [
    "함수 - 람다\n",
    "- 람다 : 간단한 함수를 쉽게 선언하는 방법\n",
    "- 형식\n",
    " - lambda <매개변수>:<리턴값>"
   ]
  },
  {
   "cell_type": "markdown",
   "id": "af8a073a",
   "metadata": {},
   "source": [
    "함수 만들기(람다 사용 X)"
   ]
  },
  {
   "cell_type": "code",
   "execution_count": 13,
   "id": "f68c0d0d",
   "metadata": {},
   "outputs": [],
   "source": [
    "def sum(a, b):\n",
    "    return a + b"
   ]
  },
  {
   "cell_type": "code",
   "execution_count": 15,
   "id": "2fa28e53",
   "metadata": {},
   "outputs": [
    {
     "name": "stdout",
     "output_type": "stream",
     "text": [
      "7\n"
     ]
    }
   ],
   "source": [
    "print(sum(3, 4))"
   ]
  },
  {
   "cell_type": "markdown",
   "id": "0276ede8",
   "metadata": {},
   "source": [
    "함수 만들기(람다 사용)"
   ]
  },
  {
   "cell_type": "code",
   "execution_count": 23,
   "id": "57a0b6ed",
   "metadata": {},
   "outputs": [],
   "source": [
    "sum = lambda a, b: a + b"
   ]
  },
  {
   "cell_type": "code",
   "execution_count": 20,
   "id": "ef9d6aea",
   "metadata": {},
   "outputs": [
    {
     "name": "stdout",
     "output_type": "stream",
     "text": [
      "7\n"
     ]
    }
   ],
   "source": [
    "print(sum(3, 4))"
   ]
  },
  {
   "cell_type": "markdown",
   "id": "6744ad57",
   "metadata": {},
   "source": [
    "람다를 이용하여 리스트 내에 함수 만들기 예제"
   ]
  },
  {
   "cell_type": "code",
   "execution_count": 28,
   "id": "06dbc413",
   "metadata": {},
   "outputs": [],
   "source": [
    "myList = [lambda a,b:a+b, lambda a,b:a*b]"
   ]
  },
  {
   "cell_type": "code",
   "execution_count": 29,
   "id": "088be13a",
   "metadata": {},
   "outputs": [
    {
     "name": "stdout",
     "output_type": "stream",
     "text": [
      "[<function <lambda> at 0x000001CF0514B0D0>, <function <lambda> at 0x000001CF0514B040>]\n"
     ]
    }
   ],
   "source": [
    "print(myList)"
   ]
  },
  {
   "cell_type": "code",
   "execution_count": 30,
   "id": "ac3962a9",
   "metadata": {},
   "outputs": [
    {
     "data": {
      "text/plain": [
       "7"
      ]
     },
     "execution_count": 30,
     "metadata": {},
     "output_type": "execute_result"
    }
   ],
   "source": [
    "myList[0](3, 4)"
   ]
  },
  {
   "cell_type": "code",
   "execution_count": 31,
   "id": "7f72418f",
   "metadata": {},
   "outputs": [
    {
     "data": {
      "text/plain": [
       "12"
      ]
     },
     "execution_count": 31,
     "metadata": {},
     "output_type": "execute_result"
    }
   ],
   "source": [
    "myList[1](3, 4)"
   ]
  },
  {
   "cell_type": "code",
   "execution_count": 32,
   "id": "500d5cf1",
   "metadata": {},
   "outputs": [
    {
     "data": {
      "text/plain": [
       "<function __main__.<lambda>(a, b)>"
      ]
     },
     "execution_count": 32,
     "metadata": {},
     "output_type": "execute_result"
    }
   ],
   "source": [
    "myList[0]"
   ]
  },
  {
   "cell_type": "markdown",
   "id": "4316a482",
   "metadata": {},
   "source": [
    "- 람다를 이용하여 리스트 안에 함수를 만들 경우 함수명 필요 X\n",
    "- 함수를 호출해서 사용하는 것이기 때문에 결과값이 리스트에 저장 X"
   ]
  },
  {
   "cell_type": "markdown",
   "id": "7488c25b",
   "metadata": {},
   "source": [
    "# 파일 입출력"
   ]
  },
  {
   "cell_type": "markdown",
   "id": "cfd44e43",
   "metadata": {},
   "source": [
    "파일 생성하기 예제"
   ]
  },
  {
   "cell_type": "code",
   "execution_count": 33,
   "id": "e3695a6a",
   "metadata": {},
   "outputs": [],
   "source": [
    "f = open(\"새파일.txt\", \"w\")\n",
    "f.close()"
   ]
  },
  {
   "cell_type": "markdown",
   "id": "1678d7e7",
   "metadata": {},
   "source": [
    "파일 생성 후 내용 넣기 예제"
   ]
  },
  {
   "cell_type": "code",
   "execution_count": 34,
   "id": "77da01cd",
   "metadata": {},
   "outputs": [],
   "source": [
    "f = open(\"새파일.txt\", \"w\")\n",
    "for i in range(1, 11):\n",
    "    data = \"%d번째 줄입니다.\\n\" % i\n",
    "    f.write(data)\n",
    "f.close()"
   ]
  },
  {
   "cell_type": "markdown",
   "id": "a1f6192c",
   "metadata": {},
   "source": [
    "readline() 함수를 사용하여 파일 첫번째 줄 읽기"
   ]
  },
  {
   "cell_type": "code",
   "execution_count": 36,
   "id": "ec1d90a9",
   "metadata": {},
   "outputs": [
    {
     "name": "stdout",
     "output_type": "stream",
     "text": [
      "1번째 줄입니다.\n",
      "\n"
     ]
    }
   ],
   "source": [
    "f = open(\"새파일.txt\", \"r\")\n",
    "line = f.readline()\n",
    "print(line)\n",
    "f.close()"
   ]
  },
  {
   "cell_type": "markdown",
   "id": "a3d951f2",
   "metadata": {},
   "source": [
    "폴더가 없을 경우 폴더를 생성하면서 파일을 만드는 방법"
   ]
  },
  {
   "cell_type": "code",
   "execution_count": 37,
   "id": "206e3208",
   "metadata": {},
   "outputs": [],
   "source": [
    "import os\n",
    "\n",
    "out_dir = \"새폴더\"\n",
    "if out_dir not in os.listdir():\n",
    "    os.mkdir(out_dir)\n",
    "    \n",
    "f = open(\"새폴더/새파일.txt\", \"w\")\n",
    "for i in range(1, 11):\n",
    "    data = \"%d번째 줄입니다.\\n\" % i\n",
    "    f.write(data)\n",
    "f.close()"
   ]
  },
  {
   "cell_type": "markdown",
   "id": "35a72117",
   "metadata": {},
   "source": [
    "파일의 모든 내용 읽기 예제"
   ]
  },
  {
   "cell_type": "code",
   "execution_count": 47,
   "id": "b337ff69",
   "metadata": {},
   "outputs": [
    {
     "name": "stdout",
     "output_type": "stream",
     "text": [
      "1번째 줄입니다.\n",
      "\n",
      "2번째 줄입니다.\n",
      "\n",
      "3번째 줄입니다.\n",
      "\n",
      "4번째 줄입니다.\n",
      "\n",
      "5번째 줄입니다.\n",
      "\n",
      "6번째 줄입니다.\n",
      "\n",
      "7번째 줄입니다.\n",
      "\n",
      "8번째 줄입니다.\n",
      "\n",
      "9번째 줄입니다.\n",
      "\n",
      "10번째 줄입니다.\n",
      "\n",
      "<class 'str'>\n"
     ]
    }
   ],
   "source": [
    "f = open(\"새파일.txt\", \"r\")\n",
    "while True:\n",
    "    line = f.readline()\n",
    "    if not line: break\n",
    "    print(line)\n",
    "print(type(line))\n",
    "f.close()"
   ]
  },
  {
   "cell_type": "code",
   "execution_count": 39,
   "id": "70bb3c98",
   "metadata": {},
   "outputs": [
    {
     "name": "stdout",
     "output_type": "stream",
     "text": [
      "1번째 줄입니다.\n",
      "\n",
      "2번째 줄입니다.\n",
      "\n",
      "3번째 줄입니다.\n",
      "\n",
      "4번째 줄입니다.\n",
      "\n",
      "5번째 줄입니다.\n",
      "\n",
      "6번째 줄입니다.\n",
      "\n",
      "7번째 줄입니다.\n",
      "\n",
      "8번째 줄입니다.\n",
      "\n",
      "9번째 줄입니다.\n",
      "\n",
      "10번째 줄입니다.\n",
      "\n"
     ]
    }
   ],
   "source": [
    "f = open(\"새파일.txt\", \"r\")\n",
    "lines = f.readlines()\n",
    "for line in lines:\n",
    "    print(line)\n",
    "f.close()"
   ]
  },
  {
   "cell_type": "markdown",
   "id": "17a9f30b",
   "metadata": {},
   "source": [
    "- readline() 함수는 호출될 때 파일에서 한 줄을 반환\n",
    "- readlines() 함수는 호출될 때 각 요소가 파일의 한줄인 목록 형식으로 파일의 모든 줄을 반환"
   ]
  },
  {
   "cell_type": "code",
   "execution_count": 48,
   "id": "aa2dd272",
   "metadata": {},
   "outputs": [
    {
     "name": "stdout",
     "output_type": "stream",
     "text": [
      "['1번째 줄입니다.\\n', '2번째 줄입니다.\\n', '3번째 줄입니다.\\n', '4번째 줄입니다.\\n', '5번째 줄입니다.\\n', '6번째 줄입니다.\\n', '7번째 줄입니다.\\n', '8번째 줄입니다.\\n', '9번째 줄입니다.\\n', '10번째 줄입니다.\\n']\n",
      "<class 'list'>\n",
      "1번째 줄입니다.\n",
      "\n",
      "2번째 줄입니다.\n",
      "\n",
      "3번째 줄입니다.\n",
      "\n",
      "4번째 줄입니다.\n",
      "\n",
      "5번째 줄입니다.\n",
      "\n",
      "6번째 줄입니다.\n",
      "\n",
      "7번째 줄입니다.\n",
      "\n",
      "8번째 줄입니다.\n",
      "\n",
      "9번째 줄입니다.\n",
      "\n",
      "10번째 줄입니다.\n",
      "\n"
     ]
    }
   ],
   "source": [
    "f = open(\"새파일.txt\", \"r\")\n",
    "lines = f.readlines()\n",
    "print(lines)\n",
    "print(type(lines))\n",
    "for line in lines:\n",
    "    print(line)\n",
    "f.close()"
   ]
  },
  {
   "cell_type": "code",
   "execution_count": 45,
   "id": "24f1bad6",
   "metadata": {},
   "outputs": [
    {
     "name": "stdout",
     "output_type": "stream",
     "text": [
      "['1\\n', '2\\n', '3\\n', '4\\n', '5']\n"
     ]
    }
   ],
   "source": [
    "\"\"\"\n",
    "새파일2.txt\n",
    "1\n",
    "2\n",
    "3\n",
    "4\n",
    "5\n",
    "\"\"\"\n",
    "f = open(\"새파일2.txt\", \"r\")\n",
    "lines = f.readlines()\n",
    "print(lines)\n",
    "f.close()"
   ]
  },
  {
   "cell_type": "markdown",
   "id": "97c1e9ca",
   "metadata": {},
   "source": [
    "- 파이썬에서 데이터를 만들어서 파일에 쓸 경우 만들어진 최종 데이터를 파일에 씀\n",
    "- 다시 파일을 읽을 경우 파이썬에 맞춰 파일의 데이터가 보여지게 됨"
   ]
  },
  {
   "cell_type": "code",
   "execution_count": 49,
   "id": "de01037f",
   "metadata": {},
   "outputs": [
    {
     "name": "stdout",
     "output_type": "stream",
     "text": [
      "1번째 줄입니다.\n",
      "2번째 줄입니다.\n",
      "3번째 줄입니다.\n",
      "4번째 줄입니다.\n",
      "5번째 줄입니다.\n",
      "6번째 줄입니다.\n",
      "7번째 줄입니다.\n",
      "8번째 줄입니다.\n",
      "9번째 줄입니다.\n",
      "10번째 줄입니다.\n",
      "\n",
      "<class 'str'>\n"
     ]
    }
   ],
   "source": [
    "f = open(\"새파일.txt\", \"r\")\n",
    "data = f.read()\n",
    "print(data)\n",
    "print(type(data))\n",
    "f.close()"
   ]
  },
  {
   "cell_type": "markdown",
   "id": "949f5493",
   "metadata": {},
   "source": [
    "- readline() 함수는 파일의 한 줄 관련 함수\n",
    " - 한 줄 읽고 나서 포인터가 다음 줄로 이동\n",
    "- readlines() 함수는 파일 내용 전체를 가져와 리스트로 반환\n",
    " - 각 줄은 문자열 형태로 리스트의 요소로 저장\n",
    "- read() 함수는 파일 내용 전체를 하나의 문자열로 반환"
   ]
  },
  {
   "cell_type": "markdown",
   "id": "a6e2dcaa",
   "metadata": {},
   "source": [
    "파일 내용 추가하기 예제"
   ]
  },
  {
   "cell_type": "code",
   "execution_count": 50,
   "id": "88a7c105",
   "metadata": {},
   "outputs": [],
   "source": [
    "f = open(\"새파일.txt\", \"a\")\n",
    "for i in range(11, 20):\n",
    "    data = \"%d번째 줄입니다.\\n\" % i\n",
    "    f.write(data)\n",
    "f.close()"
   ]
  },
  {
   "cell_type": "code",
   "execution_count": 52,
   "id": "ec0ef889",
   "metadata": {},
   "outputs": [
    {
     "name": "stdout",
     "output_type": "stream",
     "text": [
      "1번째 줄입니다.\n",
      "2번째 줄입니다.\n",
      "3번째 줄입니다.\n",
      "4번째 줄입니다.\n",
      "5번째 줄입니다.\n",
      "6번째 줄입니다.\n",
      "7번째 줄입니다.\n",
      "8번째 줄입니다.\n",
      "9번째 줄입니다.\n",
      "10번째 줄입니다.\n",
      "11번째 줄입니다.12번째 줄입니다.13번째 줄입니다.14번째 줄입니다.15번째 줄입니다.16번째 줄입니다.17번째 줄입니다.18번째 줄입니다.19번째 줄입니다.\n"
     ]
    }
   ],
   "source": [
    "f = open(\"새파일.txt\", \"r\")\n",
    "data = f.read()\n",
    "print(data)\n",
    "f.close()"
   ]
  },
  {
   "cell_type": "markdown",
   "id": "bd450489",
   "metadata": {},
   "source": [
    "with 문을 사용하여 파일 생성하기 예제"
   ]
  },
  {
   "cell_type": "code",
   "execution_count": 53,
   "id": "1dbdcebb",
   "metadata": {},
   "outputs": [],
   "source": [
    "with open(\"foo.txt\", \"w\") as f:\n",
    "    f.write(\"Life is too short, you need python\")"
   ]
  },
  {
   "cell_type": "code",
   "execution_count": 54,
   "id": "6b624fd9",
   "metadata": {},
   "outputs": [
    {
     "name": "stdout",
     "output_type": "stream",
     "text": [
      "Life is too short, you need python\n"
     ]
    }
   ],
   "source": [
    "with open(\"foo.txt\", \"r\") as f:\n",
    "    data = f.read()\n",
    "    print(data)"
   ]
  },
  {
   "cell_type": "markdown",
   "id": "1a35c36b",
   "metadata": {},
   "source": [
    "파일 라인 지우기 예제"
   ]
  },
  {
   "cell_type": "code",
   "execution_count": 55,
   "id": "5f653caa",
   "metadata": {},
   "outputs": [
    {
     "name": "stdout",
     "output_type": "stream",
     "text": [
      "1번째 줄입니다.\n",
      "2번째 줄입니다.\n",
      "3번째 줄입니다.\n",
      "4번째 줄입니다.\n",
      "5번째 줄입니다.\n",
      "6번째 줄입니다.\n",
      "7번째 줄입니다.\n",
      "8번째 줄입니다.\n",
      "9번째 줄입니다.\n",
      "10번째 줄입니다.\n",
      "11번째 줄입니다.12번째 줄입니다.13번째 줄입니다.14번째 줄입니다.15번째 줄입니다.16번째 줄입니다.17번째 줄입니다.18번째 줄입니다.19번째 줄입니다.\n"
     ]
    }
   ],
   "source": [
    "with open(\"새파일.txt\", \"r\") as f:\n",
    "    data = f.read()\n",
    "    print(data)"
   ]
  },
  {
   "cell_type": "code",
   "execution_count": 56,
   "id": "d61f0a8a",
   "metadata": {},
   "outputs": [],
   "source": [
    "f = open(\"새파일.txt\", \"r\")\n",
    "\n",
    "lines = f.readlines()\n",
    "f.close()\n",
    "\n",
    "del lines[10:]\n",
    "\n",
    "new_file = open(\"새파일_변경.txt\", \"w\")\n",
    "\n",
    "for line in lines:\n",
    "    new_file.write(line)\n",
    "\n",
    "new_file.close()"
   ]
  },
  {
   "cell_type": "code",
   "execution_count": 57,
   "id": "1c00305b",
   "metadata": {},
   "outputs": [
    {
     "name": "stdout",
     "output_type": "stream",
     "text": [
      "1번째 줄입니다.\n",
      "2번째 줄입니다.\n",
      "3번째 줄입니다.\n",
      "4번째 줄입니다.\n",
      "5번째 줄입니다.\n",
      "6번째 줄입니다.\n",
      "7번째 줄입니다.\n",
      "8번째 줄입니다.\n",
      "9번째 줄입니다.\n",
      "10번째 줄입니다.\n",
      "\n"
     ]
    }
   ],
   "source": [
    "with open(\"새파일_변경.txt\", \"r\") as f:\n",
    "    data = f.read()\n",
    "    print(data)"
   ]
  },
  {
   "cell_type": "code",
   "execution_count": 58,
   "id": "c69d4a71",
   "metadata": {},
   "outputs": [
    {
     "name": "stdout",
     "output_type": "stream",
     "text": [
      "1번째 줄입니다.\n",
      "2번째 줄입니다.\n",
      "3번째 줄입니다.\n",
      "4번째 줄입니다.\n",
      "5번째 줄입니다.\n",
      "6번째 줄입니다.\n",
      "7번째 줄입니다.\n",
      "8번째 줄입니다.\n",
      "9번째 줄입니다.\n",
      "10번째 줄입니다.\n",
      "11번째 줄입니다.12번째 줄입니다.13번째 줄입니다.14번째 줄입니다.15번째 줄입니다.16번째 줄입니다.17번째 줄입니다.18번째 줄입니다.19번째 줄입니다.\n"
     ]
    }
   ],
   "source": [
    "with open(\"새파일.txt\", \"r\") as f:\n",
    "    data = f.read()\n",
    "    print(data)"
   ]
  },
  {
   "cell_type": "markdown",
   "id": "f2dcf746",
   "metadata": {},
   "source": [
    "# 클래스"
   ]
  },
  {
   "cell_type": "markdown",
   "id": "f088135f",
   "metadata": {},
   "source": [
    "객체(object)\n",
    "- 파이썬에서는 객체(object)라는 단위로 메모리 위의 정보를 관리\n",
    "- 일단 메모리에 올라가면 객체"
   ]
  },
  {
   "cell_type": "code",
   "execution_count": 60,
   "id": "d46bb0c6",
   "metadata": {},
   "outputs": [
    {
     "name": "stdout",
     "output_type": "stream",
     "text": [
      "123\n"
     ]
    }
   ],
   "source": [
    "a = 123\n",
    "print(a)"
   ]
  },
  {
   "cell_type": "code",
   "execution_count": 62,
   "id": "5a4ee6f8",
   "metadata": {},
   "outputs": [
    {
     "name": "stdout",
     "output_type": "stream",
     "text": [
      "1988574075056\n"
     ]
    }
   ],
   "source": [
    "print(id(a))"
   ]
  },
  {
   "cell_type": "markdown",
   "id": "a6cdc4e9",
   "metadata": {},
   "source": [
    "클래스(class)\n",
    "- 객체들의 집합"
   ]
  },
  {
   "cell_type": "markdown",
   "id": "a9394d0f",
   "metadata": {},
   "source": [
    "클래스를 사용하는 이유(클래스 사용 전)"
   ]
  },
  {
   "cell_type": "code",
   "execution_count": 72,
   "id": "f882c0e9",
   "metadata": {},
   "outputs": [],
   "source": [
    "result = 0\n",
    "\n",
    "def add(num):\n",
    "    global result\n",
    "    result = num + result\n",
    "    return result"
   ]
  },
  {
   "cell_type": "code",
   "execution_count": 73,
   "id": "d349916a",
   "metadata": {},
   "outputs": [
    {
     "name": "stdout",
     "output_type": "stream",
     "text": [
      "3\n"
     ]
    }
   ],
   "source": [
    "print(add(3))"
   ]
  },
  {
   "cell_type": "code",
   "execution_count": 74,
   "id": "64bfaaf3",
   "metadata": {},
   "outputs": [
    {
     "name": "stdout",
     "output_type": "stream",
     "text": [
      "7\n"
     ]
    }
   ],
   "source": [
    "print(add(4))"
   ]
  },
  {
   "cell_type": "code",
   "execution_count": 75,
   "id": "2d89628d",
   "metadata": {},
   "outputs": [],
   "source": [
    "result2 = 0\n",
    "def add2(num):\n",
    "    global result2\n",
    "    result2 = num + result2\n",
    "    return result2"
   ]
  },
  {
   "cell_type": "code",
   "execution_count": 76,
   "id": "bae49a41",
   "metadata": {},
   "outputs": [
    {
     "name": "stdout",
     "output_type": "stream",
     "text": [
      "3\n"
     ]
    }
   ],
   "source": [
    "print(add2(3))"
   ]
  },
  {
   "cell_type": "markdown",
   "id": "b3aa9390",
   "metadata": {},
   "source": [
    "**138page 6번째 줄 글자 깨짐 -> 각**"
   ]
  },
  {
   "cell_type": "code",
   "execution_count": null,
   "id": "86e445e4",
   "metadata": {},
   "outputs": [],
   "source": [
    "result = 0\n",
    "result2 = 0\n",
    "def add(num):\n",
    "    global result\n",
    "    result = num + result\n",
    "    return result\n",
    "\n",
    "def add2(num):\n",
    "    global result2\n",
    "    result2 = num + result2\n",
    "    return result2"
   ]
  },
  {
   "cell_type": "markdown",
   "id": "1c71b39e",
   "metadata": {},
   "source": [
    "- 더하기 계산이 필요할 때마다 새로운 함수를 생성해야 함"
   ]
  },
  {
   "cell_type": "markdown",
   "id": "9bf265e2",
   "metadata": {},
   "source": [
    "클래스 사용 이유 예제"
   ]
  },
  {
   "cell_type": "code",
   "execution_count": 77,
   "id": "e7af62a5",
   "metadata": {},
   "outputs": [],
   "source": [
    "class Calculator:\n",
    "    def __init__(self):\n",
    "        self.result = 0\n",
    "    \n",
    "    def add(self, num):\n",
    "        self.result = num + self.result\n",
    "        return self.result"
   ]
  },
  {
   "cell_type": "code",
   "execution_count": 79,
   "id": "cac92a66",
   "metadata": {},
   "outputs": [],
   "source": [
    "cal1 = Calculator()\n",
    "cal2 = Calculator()"
   ]
  },
  {
   "cell_type": "code",
   "execution_count": 82,
   "id": "6939db48",
   "metadata": {
    "scrolled": true
   },
   "outputs": [
    {
     "name": "stdout",
     "output_type": "stream",
     "text": [
      "1988654130800\n"
     ]
    }
   ],
   "source": [
    "print(id(cal1))"
   ]
  },
  {
   "cell_type": "code",
   "execution_count": 83,
   "id": "699a992b",
   "metadata": {},
   "outputs": [
    {
     "name": "stdout",
     "output_type": "stream",
     "text": [
      "1988654130800\n"
     ]
    }
   ],
   "source": [
    "print(id(cal1))"
   ]
  },
  {
   "cell_type": "code",
   "execution_count": 84,
   "id": "c8a52cf8",
   "metadata": {},
   "outputs": [
    {
     "name": "stdout",
     "output_type": "stream",
     "text": [
      "1988654130416\n"
     ]
    }
   ],
   "source": [
    "print(id(cal2))"
   ]
  },
  {
   "cell_type": "code",
   "execution_count": 80,
   "id": "ed9f14f2",
   "metadata": {},
   "outputs": [
    {
     "name": "stdout",
     "output_type": "stream",
     "text": [
      "3\n"
     ]
    }
   ],
   "source": [
    "print(cal1.add(3))"
   ]
  },
  {
   "cell_type": "code",
   "execution_count": 81,
   "id": "ee381ba5",
   "metadata": {},
   "outputs": [
    {
     "name": "stdout",
     "output_type": "stream",
     "text": [
      "7\n"
     ]
    }
   ],
   "source": [
    "print(cal1.add(4))"
   ]
  },
  {
   "cell_type": "markdown",
   "id": "8dd3498d",
   "metadata": {},
   "source": [
    "- 클래스를 사용하여 객체를 만들 경우 서로의 객체에 영향을 미치지 않음\n",
    "- 코드가 짧아짐"
   ]
  },
  {
   "cell_type": "markdown",
   "id": "5d71d721",
   "metadata": {},
   "source": [
    "클래스 생성 예제"
   ]
  },
  {
   "cell_type": "code",
   "execution_count": 85,
   "id": "9a1dedfb",
   "metadata": {},
   "outputs": [],
   "source": [
    "class Cookie:\n",
    "    pass"
   ]
  },
  {
   "cell_type": "code",
   "execution_count": 86,
   "id": "eee0499b",
   "metadata": {},
   "outputs": [],
   "source": [
    "a = Cookie()\n",
    "b = Cookie()"
   ]
  },
  {
   "cell_type": "code",
   "execution_count": 87,
   "id": "94987665",
   "metadata": {},
   "outputs": [
    {
     "name": "stdout",
     "output_type": "stream",
     "text": [
      "<class '__main__.Cookie'>\n"
     ]
    }
   ],
   "source": [
    "print(type(a))"
   ]
  },
  {
   "cell_type": "markdown",
   "id": "f06da3e7",
   "metadata": {},
   "source": [
    "**144page 6번째 줄 글자 깨짐 -> -**"
   ]
  },
  {
   "cell_type": "markdown",
   "id": "e354d299",
   "metadata": {},
   "source": [
    "사칙연산 클래스 만들기 예제"
   ]
  },
  {
   "cell_type": "code",
   "execution_count": 88,
   "id": "d326e503",
   "metadata": {},
   "outputs": [],
   "source": [
    "class FourCal:\n",
    "    pass"
   ]
  },
  {
   "cell_type": "markdown",
   "id": "611c4aad",
   "metadata": {},
   "source": [
    "- 빈 클래스 생성 후 어떤 용도로 사용하고 어떤 코드를 넣을 것인지 생각해보는 것이 좋음"
   ]
  },
  {
   "cell_type": "code",
   "execution_count": 89,
   "id": "6bbeb1c4",
   "metadata": {},
   "outputs": [],
   "source": [
    "class FourCal:\n",
    "    def setdata(self, first, second):\n",
    "        self.first = first\n",
    "        self.second = second"
   ]
  },
  {
   "cell_type": "code",
   "execution_count": 90,
   "id": "8a668ee6",
   "metadata": {},
   "outputs": [],
   "source": [
    "a = FourCal()\n",
    "# FourCal().setdata(4, 2)   맞지 않는 코드, 객체를 지정해서 호출해야 함\n",
    "a.setdata(4, 2)"
   ]
  },
  {
   "cell_type": "markdown",
   "id": "facad24a",
   "metadata": {},
   "source": [
    "self\n",
    "- 인스턴스 자기 자신을 가리키고, 우선적으로 self라고 지정해 놓는 것"
   ]
  },
  {
   "cell_type": "code",
   "execution_count": null,
   "id": "ab0bc79a",
   "metadata": {},
   "outputs": [],
   "source": [
    "b = FourCal()\n",
    "FourCal.setdata(b, 7, 5)"
   ]
  },
  {
   "cell_type": "markdown",
   "id": "08a1b07f",
   "metadata": {},
   "source": [
    "- 7 == 매개변수 first == self.first == b.first\n",
    "- 5 == 매개변수 second == self.second == b.second"
   ]
  },
  {
   "cell_type": "markdown",
   "id": "000c2fc7",
   "metadata": {},
   "source": [
    "각 객체에 객체 변수 생성 확인"
   ]
  },
  {
   "cell_type": "code",
   "execution_count": 91,
   "id": "1682f1cb",
   "metadata": {},
   "outputs": [],
   "source": [
    "a = FourCal()\n",
    "b = FourCal()"
   ]
  },
  {
   "cell_type": "code",
   "execution_count": 92,
   "id": "c7d4d974",
   "metadata": {},
   "outputs": [
    {
     "name": "stdout",
     "output_type": "stream",
     "text": [
      "4\n"
     ]
    }
   ],
   "source": [
    "a.setdata(4, 2)\n",
    "print(a.first)"
   ]
  },
  {
   "cell_type": "code",
   "execution_count": 93,
   "id": "5eca8d5b",
   "metadata": {},
   "outputs": [
    {
     "name": "stdout",
     "output_type": "stream",
     "text": [
      "7\n"
     ]
    }
   ],
   "source": [
    "b.setdata(3, 7)\n",
    "print(b.second)"
   ]
  },
  {
   "cell_type": "markdown",
   "id": "c4edcf69",
   "metadata": {},
   "source": [
    "사칙연산 클래스에 더하기 기능 추가하기 예제"
   ]
  },
  {
   "cell_type": "code",
   "execution_count": 94,
   "id": "837338a2",
   "metadata": {},
   "outputs": [],
   "source": [
    "class FourCal:\n",
    "    def setdata(self, first, second):\n",
    "        self.first = first\n",
    "        self.second = second\n",
    "    \n",
    "    def add(self):\n",
    "        result = self.first + self.second\n",
    "        return result"
   ]
  },
  {
   "cell_type": "code",
   "execution_count": 95,
   "id": "1fa35719",
   "metadata": {},
   "outputs": [],
   "source": [
    "a = FourCal()\n",
    "a.setdata(4, 2)"
   ]
  },
  {
   "cell_type": "code",
   "execution_count": 96,
   "id": "caac10d3",
   "metadata": {},
   "outputs": [
    {
     "name": "stdout",
     "output_type": "stream",
     "text": [
      "6\n"
     ]
    }
   ],
   "source": [
    "print(a.add())"
   ]
  },
  {
   "cell_type": "markdown",
   "id": "4eecfae5",
   "metadata": {},
   "source": [
    "사칙연산 클래스에 곱하기, 빼기, 나누기 기능 추가"
   ]
  },
  {
   "cell_type": "code",
   "execution_count": 99,
   "id": "2ee463a2",
   "metadata": {},
   "outputs": [],
   "source": [
    "class FourCal:\n",
    "    def setdata(self, first, second):\n",
    "        self.first = first\n",
    "        self.second = second\n",
    "    \n",
    "    def add(self):\n",
    "        result = self.first + self.second\n",
    "        return result\n",
    "    \n",
    "    def mul(self):\n",
    "        result = self.first * self.second\n",
    "        return result\n",
    "    \n",
    "    def sub(self):\n",
    "        result = self.first - self.second\n",
    "        return result\n",
    "    \n",
    "    def div(self):\n",
    "        result = self.first / self.second\n",
    "        return result"
   ]
  },
  {
   "cell_type": "code",
   "execution_count": 100,
   "id": "51cfa22b",
   "metadata": {},
   "outputs": [],
   "source": [
    "a = FourCal()\n",
    "a.setdata(4, 2)"
   ]
  },
  {
   "cell_type": "code",
   "execution_count": 101,
   "id": "848ca83b",
   "metadata": {},
   "outputs": [
    {
     "name": "stdout",
     "output_type": "stream",
     "text": [
      "8\n"
     ]
    }
   ],
   "source": [
    "print(a.mul())"
   ]
  },
  {
   "cell_type": "code",
   "execution_count": 102,
   "id": "378c08f4",
   "metadata": {},
   "outputs": [
    {
     "name": "stdout",
     "output_type": "stream",
     "text": [
      "2\n"
     ]
    }
   ],
   "source": [
    "print(a.sub())"
   ]
  },
  {
   "cell_type": "markdown",
   "id": "5ad529b4",
   "metadata": {},
   "source": [
    "생성자"
   ]
  },
  {
   "cell_type": "code",
   "execution_count": 104,
   "id": "1b1ada1e",
   "metadata": {},
   "outputs": [],
   "source": [
    "a = FourCal()"
   ]
  },
  {
   "cell_type": "code",
   "execution_count": 105,
   "id": "92286796",
   "metadata": {},
   "outputs": [
    {
     "ename": "AttributeError",
     "evalue": "'FourCal' object has no attribute 'first'",
     "output_type": "error",
     "traceback": [
      "\u001b[1;31m----------------------------------------------------\u001b[0m",
      "\u001b[1;31mAttributeError\u001b[0m     Traceback (most recent call last)",
      "\u001b[1;32m~\\AppData\\Local\\Temp/ipykernel_9224/3311152576.py\u001b[0m in \u001b[0;36m<module>\u001b[1;34m\u001b[0m\n\u001b[1;32m----> 1\u001b[1;33m \u001b[0mprint\u001b[0m\u001b[1;33m(\u001b[0m\u001b[0ma\u001b[0m\u001b[1;33m.\u001b[0m\u001b[0madd\u001b[0m\u001b[1;33m(\u001b[0m\u001b[1;33m)\u001b[0m\u001b[1;33m)\u001b[0m\u001b[1;33m\u001b[0m\u001b[1;33m\u001b[0m\u001b[0m\n\u001b[0m",
      "\u001b[1;32m~\\AppData\\Local\\Temp/ipykernel_9224/1139761574.py\u001b[0m in \u001b[0;36madd\u001b[1;34m(self)\u001b[0m\n\u001b[0;32m      5\u001b[0m \u001b[1;33m\u001b[0m\u001b[0m\n\u001b[0;32m      6\u001b[0m     \u001b[1;32mdef\u001b[0m \u001b[0madd\u001b[0m\u001b[1;33m(\u001b[0m\u001b[0mself\u001b[0m\u001b[1;33m)\u001b[0m\u001b[1;33m:\u001b[0m\u001b[1;33m\u001b[0m\u001b[1;33m\u001b[0m\u001b[0m\n\u001b[1;32m----> 7\u001b[1;33m         \u001b[0mresult\u001b[0m \u001b[1;33m=\u001b[0m \u001b[0mself\u001b[0m\u001b[1;33m.\u001b[0m\u001b[0mfirst\u001b[0m \u001b[1;33m+\u001b[0m \u001b[0mself\u001b[0m\u001b[1;33m.\u001b[0m\u001b[0msecond\u001b[0m\u001b[1;33m\u001b[0m\u001b[1;33m\u001b[0m\u001b[0m\n\u001b[0m\u001b[0;32m      8\u001b[0m         \u001b[1;32mreturn\u001b[0m \u001b[0mresult\u001b[0m\u001b[1;33m\u001b[0m\u001b[1;33m\u001b[0m\u001b[0m\n\u001b[0;32m      9\u001b[0m \u001b[1;33m\u001b[0m\u001b[0m\n",
      "\u001b[1;31mAttributeError\u001b[0m: 'FourCal' object has no attribute 'first'"
     ]
    }
   ],
   "source": [
    "print(a.add())"
   ]
  },
  {
   "cell_type": "markdown",
   "id": "1727c706",
   "metadata": {},
   "source": [
    "- 매번 연산을 할 때마다 setdata() 함수를 호출해야 함"
   ]
  },
  {
   "cell_type": "markdown",
   "id": "28ea9ebc",
   "metadata": {},
   "source": [
    "생성자\n",
    "- 인스턴스 객체가 생성될 때 초기화를 위해서 자동으로 호출되는 초기화 메서드 \\_\\_init\\_\\_\n",
    " - 메서드 : 함수처럼 어떠한 기능을 수행\n",
    "  - 함수와 메서드의 차이점 : 메서드는 클래스 및 객체와 연관되어 있는 함수"
   ]
  },
  {
   "cell_type": "markdown",
   "id": "5e9eb9c7",
   "metadata": {},
   "source": [
    "생성자 생성 예제"
   ]
  },
  {
   "cell_type": "code",
   "execution_count": 106,
   "id": "5c032aba",
   "metadata": {},
   "outputs": [],
   "source": [
    "class test:\n",
    "    def __init__(self):\n",
    "        self.first = first\n",
    "        self.second = second"
   ]
  },
  {
   "cell_type": "code",
   "execution_count": 107,
   "id": "a662280e",
   "metadata": {},
   "outputs": [
    {
     "ename": "NameError",
     "evalue": "name 'first' is not defined",
     "output_type": "error",
     "traceback": [
      "\u001b[1;31m----------------------------------------------------\u001b[0m",
      "\u001b[1;31mNameError\u001b[0m          Traceback (most recent call last)",
      "\u001b[1;32m~\\AppData\\Local\\Temp/ipykernel_9224/4293749674.py\u001b[0m in \u001b[0;36m<module>\u001b[1;34m\u001b[0m\n\u001b[1;32m----> 1\u001b[1;33m \u001b[0ma\u001b[0m \u001b[1;33m=\u001b[0m \u001b[0mtest\u001b[0m\u001b[1;33m(\u001b[0m\u001b[1;33m)\u001b[0m\u001b[1;33m\u001b[0m\u001b[1;33m\u001b[0m\u001b[0m\n\u001b[0m",
      "\u001b[1;32m~\\AppData\\Local\\Temp/ipykernel_9224/713848488.py\u001b[0m in \u001b[0;36m__init__\u001b[1;34m(self)\u001b[0m\n\u001b[0;32m      1\u001b[0m \u001b[1;32mclass\u001b[0m \u001b[0mtest\u001b[0m\u001b[1;33m:\u001b[0m\u001b[1;33m\u001b[0m\u001b[1;33m\u001b[0m\u001b[0m\n\u001b[0;32m      2\u001b[0m     \u001b[1;32mdef\u001b[0m \u001b[0m__init__\u001b[0m\u001b[1;33m(\u001b[0m\u001b[0mself\u001b[0m\u001b[1;33m)\u001b[0m\u001b[1;33m:\u001b[0m\u001b[1;33m\u001b[0m\u001b[1;33m\u001b[0m\u001b[0m\n\u001b[1;32m----> 3\u001b[1;33m         \u001b[0mself\u001b[0m\u001b[1;33m.\u001b[0m\u001b[0mfirst\u001b[0m \u001b[1;33m=\u001b[0m \u001b[0mfirst\u001b[0m\u001b[1;33m\u001b[0m\u001b[1;33m\u001b[0m\u001b[0m\n\u001b[0m\u001b[0;32m      4\u001b[0m         \u001b[0mself\u001b[0m\u001b[1;33m.\u001b[0m\u001b[0msecond\u001b[0m \u001b[1;33m=\u001b[0m \u001b[0msecond\u001b[0m\u001b[1;33m\u001b[0m\u001b[1;33m\u001b[0m\u001b[0m\n",
      "\u001b[1;31mNameError\u001b[0m: name 'first' is not defined"
     ]
    }
   ],
   "source": [
    "a = test()"
   ]
  },
  {
   "cell_type": "markdown",
   "id": "bff1fba3",
   "metadata": {},
   "source": [
    "- \\_\\_init\\_\\_ 메서드는 객체를 만드는 순간 동작하는 메서드"
   ]
  },
  {
   "cell_type": "markdown",
   "id": "bd94dd52",
   "metadata": {},
   "source": [
    "위 코드 에러 수정본"
   ]
  },
  {
   "cell_type": "code",
   "execution_count": 118,
   "id": "d0d4dd6b",
   "metadata": {},
   "outputs": [],
   "source": [
    "class test:\n",
    "    def __init__(self, first, second):\n",
    "        self.first = first\n",
    "        self.second = second"
   ]
  },
  {
   "cell_type": "code",
   "execution_count": 120,
   "id": "9040731e",
   "metadata": {},
   "outputs": [],
   "source": [
    "a = test(4, 2)"
   ]
  },
  {
   "cell_type": "markdown",
   "id": "77fa8fd8",
   "metadata": {},
   "source": [
    "\\_\\_init\\_\\_ 메소드 예제"
   ]
  },
  {
   "cell_type": "code",
   "execution_count": 113,
   "id": "19844518",
   "metadata": {},
   "outputs": [],
   "source": [
    "class Calculator:\n",
    "    def __init__(self):\n",
    "        self.result = 1\n",
    "    \n",
    "    def add(self, num):\n",
    "        self.result = num + self.result\n",
    "        return self.result"
   ]
  },
  {
   "cell_type": "code",
   "execution_count": 114,
   "id": "2e1bf2b1",
   "metadata": {},
   "outputs": [],
   "source": [
    "a = Calculator()"
   ]
  },
  {
   "cell_type": "markdown",
   "id": "9e27e35e",
   "metadata": {},
   "source": [
    "- 객체 a를 생성하는 순간 \\_\\_init\\_\\_ 메서드가 실행됨\n",
    " - a.result = 0"
   ]
  },
  {
   "cell_type": "code",
   "execution_count": 115,
   "id": "9509cea3",
   "metadata": {},
   "outputs": [
    {
     "name": "stdout",
     "output_type": "stream",
     "text": [
      "4\n"
     ]
    }
   ],
   "source": [
    "print(a.add(3))"
   ]
  },
  {
   "cell_type": "code",
   "execution_count": 116,
   "id": "1b0370c2",
   "metadata": {},
   "outputs": [],
   "source": [
    "b = Calculator()"
   ]
  },
  {
   "cell_type": "code",
   "execution_count": 117,
   "id": "65ecda0a",
   "metadata": {},
   "outputs": [
    {
     "name": "stdout",
     "output_type": "stream",
     "text": [
      "7\n"
     ]
    }
   ],
   "source": [
    "print(b.add(6))"
   ]
  },
  {
   "cell_type": "markdown",
   "id": "346184f6",
   "metadata": {},
   "source": [
    "**160page 2번째 줄 글자 깨짐 -> 상속**"
   ]
  },
  {
   "cell_type": "markdown",
   "id": "d101b32b",
   "metadata": {},
   "source": [
    "FourCal 클래스를 상속하는 MoreFourCal 클래스 생성(161page 예제를 보지 말고 현 예제를 볼 것)"
   ]
  },
  {
   "cell_type": "code",
   "execution_count": 122,
   "id": "2327c419",
   "metadata": {},
   "outputs": [],
   "source": [
    "class FourCal:\n",
    "    def setdata(self, first, second):\n",
    "        self.first = first\n",
    "        self.second = second\n",
    "    \n",
    "    def add(self):\n",
    "        result = self.first + self.second\n",
    "        return result\n",
    "    \n",
    "    def mul(self):\n",
    "        result = self.first * self.second\n",
    "        return result\n",
    "    \n",
    "    def sub(self):\n",
    "        result = self.first - self.second\n",
    "        return result\n",
    "    \n",
    "    def div(self):\n",
    "        result = self.first / self.second\n",
    "        return result"
   ]
  },
  {
   "cell_type": "code",
   "execution_count": 123,
   "id": "761f4576",
   "metadata": {},
   "outputs": [],
   "source": [
    "class MoreFourCal(FourCal):\n",
    "    pass"
   ]
  },
  {
   "cell_type": "markdown",
   "id": "a050784e",
   "metadata": {},
   "source": [
    "- FourCal 클래스는 부모 클래스\n",
    "- MoreFourCal 클래스는 자식 클래스"
   ]
  },
  {
   "cell_type": "code",
   "execution_count": 125,
   "id": "3c0566f1",
   "metadata": {},
   "outputs": [],
   "source": [
    "a = MoreFourCal()"
   ]
  },
  {
   "cell_type": "code",
   "execution_count": 126,
   "id": "12ee1802",
   "metadata": {},
   "outputs": [],
   "source": [
    "a.setdata(4, 2)"
   ]
  },
  {
   "cell_type": "code",
   "execution_count": 127,
   "id": "ad9eccef",
   "metadata": {},
   "outputs": [
    {
     "name": "stdout",
     "output_type": "stream",
     "text": [
      "6\n"
     ]
    }
   ],
   "source": [
    "print(a.add())"
   ]
  },
  {
   "cell_type": "code",
   "execution_count": 128,
   "id": "a425deb2",
   "metadata": {},
   "outputs": [],
   "source": [
    "class MoreFourCal2(MoreFourCal):\n",
    "    pass"
   ]
  },
  {
   "cell_type": "code",
   "execution_count": 129,
   "id": "806d8507",
   "metadata": {},
   "outputs": [],
   "source": [
    "a = MoreFourCal2()"
   ]
  },
  {
   "cell_type": "code",
   "execution_count": 130,
   "id": "4909cea9",
   "metadata": {},
   "outputs": [],
   "source": [
    "a.setdata(4, 2)"
   ]
  },
  {
   "cell_type": "code",
   "execution_count": 131,
   "id": "808b3a01",
   "metadata": {},
   "outputs": [
    {
     "name": "stdout",
     "output_type": "stream",
     "text": [
      "6\n"
     ]
    }
   ],
   "source": [
    "print(a.add())"
   ]
  },
  {
   "cell_type": "markdown",
   "id": "26f603f9",
   "metadata": {},
   "source": [
    "- 상속에 상속도 가능"
   ]
  },
  {
   "cell_type": "markdown",
   "id": "6d33f418",
   "metadata": {},
   "source": [
    "자식 클래스에 제곱 기능 추가"
   ]
  },
  {
   "cell_type": "code",
   "execution_count": 133,
   "id": "f066f46c",
   "metadata": {},
   "outputs": [],
   "source": [
    "class MoreFourCal(FourCal):\n",
    "    def pow(self):\n",
    "        result = self.first ** self.second\n",
    "        return result"
   ]
  },
  {
   "cell_type": "code",
   "execution_count": 134,
   "id": "323b1282",
   "metadata": {},
   "outputs": [],
   "source": [
    "a = MoreFourCal()"
   ]
  },
  {
   "cell_type": "code",
   "execution_count": 135,
   "id": "fc90f769",
   "metadata": {},
   "outputs": [],
   "source": [
    "a.setdata(4, 2)"
   ]
  },
  {
   "cell_type": "code",
   "execution_count": 136,
   "id": "9e41c81b",
   "metadata": {},
   "outputs": [
    {
     "name": "stdout",
     "output_type": "stream",
     "text": [
      "16\n"
     ]
    }
   ],
   "source": [
    "print(a.pow())"
   ]
  },
  {
   "cell_type": "markdown",
   "id": "bbcb094a",
   "metadata": {},
   "source": [
    "- 자식 클래스에 기능이 추가되어도 부모 클래스에 영향을 미치지 않음"
   ]
  },
  {
   "cell_type": "code",
   "execution_count": 137,
   "id": "c1365421",
   "metadata": {},
   "outputs": [],
   "source": [
    "class MoreFourCal(FourCal):\n",
    "    def add(self):\n",
    "        result = self.first + self.second + self.second\n",
    "        return result\n",
    "    \n",
    "    def pow(self):\n",
    "        result = self.first ** self.second\n",
    "        return result"
   ]
  },
  {
   "cell_type": "code",
   "execution_count": 138,
   "id": "137f24e0",
   "metadata": {},
   "outputs": [],
   "source": [
    "a = MoreFourCal()"
   ]
  },
  {
   "cell_type": "code",
   "execution_count": 139,
   "id": "eeacf064",
   "metadata": {},
   "outputs": [],
   "source": [
    "a.setdata(4, 2)"
   ]
  },
  {
   "cell_type": "code",
   "execution_count": 140,
   "id": "8450fbbe",
   "metadata": {},
   "outputs": [
    {
     "name": "stdout",
     "output_type": "stream",
     "text": [
      "8\n"
     ]
    }
   ],
   "source": [
    "print(a.add())"
   ]
  },
  {
   "cell_type": "markdown",
   "id": "87141bee",
   "metadata": {},
   "source": [
    "- 자식 클래스에 부모 클래스 메서드가 동일하게 존재하는 경우 부모 클래스의 메서드를 사용하는 것이 아닌 자식 클래스의 메서드를 사용함"
   ]
  },
  {
   "cell_type": "markdown",
   "id": "d9e6d780",
   "metadata": {},
   "source": [
    "메서드 오버라이딩\n",
    "- 메서드 덮어쓰기 or 메서드 재정의"
   ]
  },
  {
   "cell_type": "code",
   "execution_count": 141,
   "id": "25ef435e",
   "metadata": {},
   "outputs": [],
   "source": [
    "class FourCal:\n",
    "    def setdata(self, first, second):\n",
    "        self.first = first\n",
    "        self.second = second\n",
    "    \n",
    "    def add(self):\n",
    "        result = self.first + self.second\n",
    "        return result\n",
    "    \n",
    "    def mul(self):\n",
    "        result = self.first * self.second\n",
    "        return result\n",
    "    \n",
    "    def sub(self):\n",
    "        result = self.first - self.second\n",
    "        return result\n",
    "    \n",
    "    def div(self):\n",
    "        result = self.first / self.second\n",
    "        return result"
   ]
  },
  {
   "cell_type": "code",
   "execution_count": 142,
   "id": "428ebe91",
   "metadata": {},
   "outputs": [],
   "source": [
    "a = FourCal()"
   ]
  },
  {
   "cell_type": "code",
   "execution_count": 143,
   "id": "a5b631d8",
   "metadata": {},
   "outputs": [],
   "source": [
    "a.setdata(4, 0)"
   ]
  },
  {
   "cell_type": "code",
   "execution_count": 144,
   "id": "bed2a198",
   "metadata": {},
   "outputs": [
    {
     "ename": "ZeroDivisionError",
     "evalue": "division by zero",
     "output_type": "error",
     "traceback": [
      "\u001b[1;31m----------------------------------------------------\u001b[0m",
      "\u001b[1;31mZeroDivisionError\u001b[0m  Traceback (most recent call last)",
      "\u001b[1;32m~\\AppData\\Local\\Temp/ipykernel_9224/2527805744.py\u001b[0m in \u001b[0;36m<module>\u001b[1;34m\u001b[0m\n\u001b[1;32m----> 1\u001b[1;33m \u001b[0mprint\u001b[0m\u001b[1;33m(\u001b[0m\u001b[0ma\u001b[0m\u001b[1;33m.\u001b[0m\u001b[0mdiv\u001b[0m\u001b[1;33m(\u001b[0m\u001b[1;33m)\u001b[0m\u001b[1;33m)\u001b[0m\u001b[1;33m\u001b[0m\u001b[1;33m\u001b[0m\u001b[0m\n\u001b[0m",
      "\u001b[1;32m~\\AppData\\Local\\Temp/ipykernel_9224/1139761574.py\u001b[0m in \u001b[0;36mdiv\u001b[1;34m(self)\u001b[0m\n\u001b[0;32m     17\u001b[0m \u001b[1;33m\u001b[0m\u001b[0m\n\u001b[0;32m     18\u001b[0m     \u001b[1;32mdef\u001b[0m \u001b[0mdiv\u001b[0m\u001b[1;33m(\u001b[0m\u001b[0mself\u001b[0m\u001b[1;33m)\u001b[0m\u001b[1;33m:\u001b[0m\u001b[1;33m\u001b[0m\u001b[1;33m\u001b[0m\u001b[0m\n\u001b[1;32m---> 19\u001b[1;33m         \u001b[0mresult\u001b[0m \u001b[1;33m=\u001b[0m \u001b[0mself\u001b[0m\u001b[1;33m.\u001b[0m\u001b[0mfirst\u001b[0m \u001b[1;33m/\u001b[0m \u001b[0mself\u001b[0m\u001b[1;33m.\u001b[0m\u001b[0msecond\u001b[0m\u001b[1;33m\u001b[0m\u001b[1;33m\u001b[0m\u001b[0m\n\u001b[0m\u001b[0;32m     20\u001b[0m         \u001b[1;32mreturn\u001b[0m \u001b[0mresult\u001b[0m\u001b[1;33m\u001b[0m\u001b[1;33m\u001b[0m\u001b[0m\n",
      "\u001b[1;31mZeroDivisionError\u001b[0m: division by zero"
     ]
    }
   ],
   "source": [
    "print(a.div())"
   ]
  },
  {
   "cell_type": "markdown",
   "id": "1aef525f",
   "metadata": {},
   "source": [
    "- 부모 클래스의 div() 메서드 사용시 0으로 나누면 에러 발생"
   ]
  },
  {
   "cell_type": "code",
   "execution_count": 145,
   "id": "e01e35bc",
   "metadata": {},
   "outputs": [],
   "source": [
    "class SafeFourCal(FourCal):\n",
    "    def div(self):\n",
    "        if self.second == 0:\n",
    "            return 0\n",
    "        else:\n",
    "            return self.first / self.second"
   ]
  },
  {
   "cell_type": "code",
   "execution_count": 146,
   "id": "91e67447",
   "metadata": {},
   "outputs": [],
   "source": [
    "a = SafeFourCal()"
   ]
  },
  {
   "cell_type": "code",
   "execution_count": 147,
   "id": "cf26514b",
   "metadata": {},
   "outputs": [],
   "source": [
    "a.setdata(4, 0)"
   ]
  },
  {
   "cell_type": "code",
   "execution_count": 148,
   "id": "979c8e82",
   "metadata": {},
   "outputs": [
    {
     "name": "stdout",
     "output_type": "stream",
     "text": [
      "0\n"
     ]
    }
   ],
   "source": [
    "print(a.div())"
   ]
  },
  {
   "cell_type": "markdown",
   "id": "7f8394c8",
   "metadata": {},
   "source": [
    "번외) 생성자를 사용하여 계산기 만들기 예제"
   ]
  },
  {
   "cell_type": "code",
   "execution_count": 149,
   "id": "d80e21e9",
   "metadata": {},
   "outputs": [],
   "source": [
    "class test:\n",
    "    def __init__(self, first, second):\n",
    "        self.first = first\n",
    "        self.second = second\n",
    "        \n",
    "    def add(self):\n",
    "        result = self.first + self.second\n",
    "        return result\n",
    "    \n",
    "    def mul(self):\n",
    "        result = self.first * self.second\n",
    "        return result\n",
    "    \n",
    "    def sub(self):\n",
    "        result = self.first - self.second\n",
    "        return result\n",
    "    \n",
    "    def div(self):\n",
    "        result = self.first / self.second\n",
    "        return result"
   ]
  },
  {
   "cell_type": "code",
   "execution_count": 150,
   "id": "9162c810",
   "metadata": {},
   "outputs": [],
   "source": [
    "a = test(4, 2)"
   ]
  },
  {
   "cell_type": "code",
   "execution_count": 151,
   "id": "18d099e7",
   "metadata": {},
   "outputs": [
    {
     "name": "stdout",
     "output_type": "stream",
     "text": [
      "6\n"
     ]
    }
   ],
   "source": [
    "print(a.add())"
   ]
  }
 ],
 "metadata": {
  "kernelspec": {
   "display_name": "Python 3 (ipykernel)",
   "language": "python",
   "name": "python3"
  },
  "language_info": {
   "codemirror_mode": {
    "name": "ipython",
    "version": 3
   },
   "file_extension": ".py",
   "mimetype": "text/x-python",
   "name": "python",
   "nbconvert_exporter": "python",
   "pygments_lexer": "ipython3",
   "version": "3.9.7"
  }
 },
 "nbformat": 4,
 "nbformat_minor": 5
}
