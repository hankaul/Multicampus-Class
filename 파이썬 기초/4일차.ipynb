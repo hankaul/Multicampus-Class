{
 "cells": [
  {
   "cell_type": "markdown",
   "id": "92b2a7e3",
   "metadata": {},
   "source": [
    "for 문 실습 예제(range)"
   ]
  },
  {
   "cell_type": "code",
   "execution_count": 1,
   "id": "b9256de1",
   "metadata": {},
   "outputs": [
    {
     "name": "stdout",
     "output_type": "stream",
     "text": [
      "2\n",
      "4\n",
      "6\n",
      "8\n",
      "10\n",
      "12\n",
      "14\n",
      "16\n",
      "18\n",
      " \n",
      "3\n",
      "6\n",
      "9\n",
      "12\n",
      "15\n",
      "18\n",
      "21\n",
      "24\n",
      "27\n",
      " \n",
      "4\n",
      "8\n",
      "12\n",
      "16\n",
      "20\n",
      "24\n",
      "28\n",
      "32\n",
      "36\n",
      " \n",
      "5\n",
      "10\n",
      "15\n",
      "20\n",
      "25\n",
      "30\n",
      "35\n",
      "40\n",
      "45\n",
      " \n",
      "6\n",
      "12\n",
      "18\n",
      "24\n",
      "30\n",
      "36\n",
      "42\n",
      "48\n",
      "54\n",
      " \n",
      "7\n",
      "14\n",
      "21\n",
      "28\n",
      "35\n",
      "42\n",
      "49\n",
      "56\n",
      "63\n",
      " \n",
      "8\n",
      "16\n",
      "24\n",
      "32\n",
      "40\n",
      "48\n",
      "56\n",
      "64\n",
      "72\n",
      " \n",
      "9\n",
      "18\n",
      "27\n",
      "36\n",
      "45\n",
      "54\n",
      "63\n",
      "72\n",
      "81\n",
      " \n"
     ]
    }
   ],
   "source": [
    "for i in range(2, 10):\n",
    "    for j in range(1, 10):\n",
    "        print(i * j)\n",
    "    print(' ')  # 줄바꿈"
   ]
  },
  {
   "cell_type": "code",
   "execution_count": 2,
   "id": "75fdf2ad",
   "metadata": {
    "scrolled": true
   },
   "outputs": [
    {
     "name": "stdout",
     "output_type": "stream",
     "text": [
      "2 4 6 8 10 12 14 16 18  \n",
      "3 6 9 12 15 18 21 24 27  \n",
      "4 8 12 16 20 24 28 32 36  \n",
      "5 10 15 20 25 30 35 40 45  \n",
      "6 12 18 24 30 36 42 48 54  \n",
      "7 14 21 28 35 42 49 56 63  \n",
      "8 16 24 32 40 48 56 64 72  \n",
      "9 18 27 36 45 54 63 72 81  \n"
     ]
    }
   ],
   "source": [
    "for i in range(2, 10):\n",
    "    for j in range(1, 10):\n",
    "        print(i * j, end = \" \")\n",
    "    print(' ')  # 줄바꿈"
   ]
  },
  {
   "cell_type": "markdown",
   "id": "fe871f94",
   "metadata": {},
   "source": [
    "7 * 7 에서 stop 하는 경우"
   ]
  },
  {
   "cell_type": "code",
   "execution_count": 19,
   "id": "b5221aa2",
   "metadata": {},
   "outputs": [
    {
     "name": "stdout",
     "output_type": "stream",
     "text": [
      "2 4 6 8 10 12 14 16 18  \n",
      "3 6 9 12 15 18 21 24 27  \n",
      "4 8 12 16 20 24 28 32 36  \n",
      "5 10 15 20 25 30 35 40 45  \n",
      "6 12 18 24 30 36 42 48 54  \n",
      "7 14 21 28 35 42 49  \n"
     ]
    }
   ],
   "source": [
    "for i in range(2, 10):\n",
    "    for j in range(1, 10):\n",
    "        print(i * j, end = \" \")\n",
    "        if i == 7 and j ==7:\n",
    "            break\n",
    "    print(' ')  # 줄바꿈\n",
    "    if i == 7:\n",
    "        break"
   ]
  },
  {
   "cell_type": "code",
   "execution_count": 33,
   "id": "7fe54dbb",
   "metadata": {},
   "outputs": [
    {
     "name": "stdout",
     "output_type": "stream",
     "text": [
      "2 4 6 8 10 12 14 16 18  \n",
      "3 6 9 12 15 18 21 24 27  \n",
      "4 8 12 16 20 24 28 32 36  \n",
      "5 10 15 20 25 30 35 40 45  \n",
      "6 12 18 24 30 36 42 48 54  \n",
      "7 14 21 28 35 42 49 "
     ]
    }
   ],
   "source": [
    "def func():\n",
    "    for i in range(2, 10):\n",
    "        for j in range(1, 10):\n",
    "            print(i * j, end = \" \")\n",
    "            if (i*j == 49):\n",
    "                return\n",
    "        print(\" \")\n",
    "\n",
    "func()"
   ]
  },
  {
   "cell_type": "markdown",
   "id": "0f79e6ca",
   "metadata": {},
   "source": [
    "리스트 안에 for 문 포함하기 예제"
   ]
  },
  {
   "cell_type": "code",
   "execution_count": 3,
   "id": "d4fbb73d",
   "metadata": {},
   "outputs": [
    {
     "name": "stdout",
     "output_type": "stream",
     "text": [
      "[3, 6, 9, 12]\n"
     ]
    }
   ],
   "source": [
    "a = [1, 2, 3, 4]\n",
    "result = []\n",
    "for num in a:\n",
    "    result.append(num * 3)\n",
    "print(result)"
   ]
  },
  {
   "cell_type": "code",
   "execution_count": 4,
   "id": "5fdedfd9",
   "metadata": {},
   "outputs": [
    {
     "name": "stdout",
     "output_type": "stream",
     "text": [
      "[3, 6, 9, 12]\n"
     ]
    }
   ],
   "source": [
    "a = [1, 2, 3, 4]\n",
    "result = [num * 3 for num in a]\n",
    "print(result)"
   ]
  },
  {
   "cell_type": "markdown",
   "id": "dc1a2749",
   "metadata": {},
   "source": [
    "리스트 안에 for 문 포함하기 예제(if 조건문)"
   ]
  },
  {
   "cell_type": "code",
   "execution_count": 5,
   "id": "cf9b732d",
   "metadata": {},
   "outputs": [
    {
     "name": "stdout",
     "output_type": "stream",
     "text": [
      "[6, 12]\n"
     ]
    }
   ],
   "source": [
    "a = [1, 2, 3, 4]\n",
    "result = []\n",
    "for num in a:\n",
    "    if num % 2 == 0:\n",
    "        result.append(num * 3)\n",
    "print(result)"
   ]
  },
  {
   "cell_type": "code",
   "execution_count": 6,
   "id": "23e92a77",
   "metadata": {},
   "outputs": [
    {
     "name": "stdout",
     "output_type": "stream",
     "text": [
      "[6, 12]\n"
     ]
    }
   ],
   "source": [
    "a = [1, 2, 3, 4]\n",
    "result = [num * 3 for num in a if num % 2 == 0]\n",
    "print(result)"
   ]
  },
  {
   "cell_type": "markdown",
   "id": "928b7e29",
   "metadata": {},
   "source": [
    "for 문에서 if, else 한 줄에 포함하기 예제"
   ]
  },
  {
   "cell_type": "code",
   "execution_count": 9,
   "id": "cea7546a",
   "metadata": {},
   "outputs": [
    {
     "name": "stdout",
     "output_type": "stream",
     "text": [
      "[6, 12]\n",
      "[4, 12]\n"
     ]
    }
   ],
   "source": [
    "a = [1, 2, 3, 4]\n",
    "result = [num * 3 for num in a if num % 2 == 0]\n",
    "result2 = [num * 4 for num in a if num % 2 == 1]\n",
    "print(result)\n",
    "print(result2)"
   ]
  },
  {
   "cell_type": "code",
   "execution_count": 11,
   "id": "8f3a4a02",
   "metadata": {},
   "outputs": [
    {
     "name": "stdout",
     "output_type": "stream",
     "text": [
      "[0, 6, 9, 12]\n"
     ]
    }
   ],
   "source": [
    "a = [1, 2, 3, 4]\n",
    "result = [num * 3 if num > 1 else 0 for num in a]\n",
    "print(result)"
   ]
  },
  {
   "cell_type": "markdown",
   "id": "e3ba29f3",
   "metadata": {},
   "source": [
    "- if ~ else 구문을 for 문과 함께 한 줄에 포함시키기 위해서는 for 문 앞에 위치해야 함"
   ]
  },
  {
   "cell_type": "code",
   "execution_count": 12,
   "id": "4d72ae83",
   "metadata": {},
   "outputs": [
    {
     "ename": "SyntaxError",
     "evalue": "invalid syntax (Temp/ipykernel_724/646368476.py, line 2)",
     "output_type": "error",
     "traceback": [
      "\u001b[1;36m  File \u001b[1;32m\"C:\\Users\\student\\AppData\\Local\\Temp/ipykernel_724/646368476.py\"\u001b[1;36m, line \u001b[1;32m2\u001b[0m\n\u001b[1;33m    result = [num * 3 for num in a if num > 1 else 0 ]\u001b[0m\n\u001b[1;37m                                              ^\u001b[0m\n\u001b[1;31mSyntaxError\u001b[0m\u001b[1;31m:\u001b[0m invalid syntax\n"
     ]
    }
   ],
   "source": [
    "a = [1, 2, 3, 4]\n",
    "result = [num * 3 for num in a if num > 1 else 0 ]\n",
    "print(result)"
   ]
  },
  {
   "cell_type": "markdown",
   "id": "4ef1e816",
   "metadata": {},
   "source": [
    "# 함수\n",
    "- 함수는 반복적으로 사용하기 위해서 생성\n",
    "- 코드의 일정부분이 별도의 논리적 개념으로 분리되는 것이 가능할 때, 함수로 코드를 분리\n",
    " - return 키워드는 계산한 결과값을 함수를 호출할 곳으로 돌려주는 역할"
   ]
  },
  {
   "cell_type": "markdown",
   "id": "3be89828",
   "metadata": {},
   "source": [
    "함수 만들기 예제"
   ]
  },
  {
   "cell_type": "code",
   "execution_count": 34,
   "id": "6ce67d21",
   "metadata": {},
   "outputs": [],
   "source": [
    "def sum(a, b):\n",
    "    a + b"
   ]
  },
  {
   "cell_type": "code",
   "execution_count": 35,
   "id": "021e6910",
   "metadata": {},
   "outputs": [],
   "source": [
    "sum(1, 2)"
   ]
  },
  {
   "cell_type": "code",
   "execution_count": 36,
   "id": "72ebffc4",
   "metadata": {},
   "outputs": [
    {
     "name": "stdout",
     "output_type": "stream",
     "text": [
      "None\n"
     ]
    }
   ],
   "source": [
    "print(sum(1, 2))"
   ]
  },
  {
   "cell_type": "code",
   "execution_count": 37,
   "id": "1af28e93",
   "metadata": {},
   "outputs": [],
   "source": [
    "def sum2(a, b):\n",
    "    return a + b"
   ]
  },
  {
   "cell_type": "code",
   "execution_count": 38,
   "id": "c0592b6c",
   "metadata": {},
   "outputs": [
    {
     "data": {
      "text/plain": [
       "3"
      ]
     },
     "execution_count": 38,
     "metadata": {},
     "output_type": "execute_result"
    }
   ],
   "source": [
    "sum2(1, 2)"
   ]
  },
  {
   "cell_type": "code",
   "execution_count": 40,
   "id": "f0a9cb8a",
   "metadata": {},
   "outputs": [
    {
     "name": "stdout",
     "output_type": "stream",
     "text": [
      "3\n"
     ]
    }
   ],
   "source": [
    "print(sum2(1, 2))"
   ]
  },
  {
   "cell_type": "markdown",
   "id": "3dd7a3fd",
   "metadata": {},
   "source": [
    "return\n",
    "- return 없이 함수를 정의하면 함수를 호출한 측에 아무 값도 전달하지 않음\n",
    " - None 객체를 전달\n",
    "  - None 객체란 파이썬 내장 객체로써 아무 값도 없음을 표현하는 객체"
   ]
  },
  {
   "cell_type": "markdown",
   "id": "47fa0119",
   "metadata": {},
   "source": [
    "함수 만들기 예제2"
   ]
  },
  {
   "cell_type": "code",
   "execution_count": 50,
   "id": "ba6cad4c",
   "metadata": {},
   "outputs": [],
   "source": [
    "def add(a, b):\n",
    "    return a + b"
   ]
  },
  {
   "cell_type": "code",
   "execution_count": 51,
   "id": "648d2a21",
   "metadata": {},
   "outputs": [],
   "source": [
    "def addabs(a, b):\n",
    "    c = add(a, b)\n",
    "    return abs(c)"
   ]
  },
  {
   "cell_type": "code",
   "execution_count": 52,
   "id": "54ec69ad",
   "metadata": {},
   "outputs": [
    {
     "data": {
      "text/plain": [
       "10"
      ]
     },
     "execution_count": 52,
     "metadata": {},
     "output_type": "execute_result"
    }
   ],
   "source": [
    "addabs(-3, -7)"
   ]
  },
  {
   "cell_type": "markdown",
   "id": "d808d58b",
   "metadata": {},
   "source": [
    "- 함수는 다른 함수를 호출할 수 있음"
   ]
  },
  {
   "cell_type": "markdown",
   "id": "e2206201",
   "metadata": {},
   "source": [
    "함수 만들기 예제3"
   ]
  },
  {
   "cell_type": "code",
   "execution_count": 53,
   "id": "0adfd39e",
   "metadata": {},
   "outputs": [],
   "source": [
    "def swap(a, b):\n",
    "    return b, a"
   ]
  },
  {
   "cell_type": "code",
   "execution_count": 54,
   "id": "d0325df5",
   "metadata": {},
   "outputs": [
    {
     "data": {
      "text/plain": [
       "(20, 10)"
      ]
     },
     "execution_count": 54,
     "metadata": {},
     "output_type": "execute_result"
    }
   ],
   "source": [
    "swap(10, 20)"
   ]
  },
  {
   "cell_type": "code",
   "execution_count": 59,
   "id": "17a4cc19",
   "metadata": {},
   "outputs": [
    {
     "name": "stdout",
     "output_type": "stream",
     "text": [
      "<class 'tuple'>\n"
     ]
    }
   ],
   "source": [
    "print(type(swap(10, 20)))"
   ]
  },
  {
   "cell_type": "markdown",
   "id": "73929b0a",
   "metadata": {},
   "source": [
    "- return 문에 여러 값을 사용할 경우, 튜플로 구성하여 전달"
   ]
  },
  {
   "cell_type": "markdown",
   "id": "08d5d0ee",
   "metadata": {},
   "source": [
    "결과값을 받을 변수 = 함수명(입력 인자1, 입력 인자2)"
   ]
  },
  {
   "cell_type": "code",
   "execution_count": 61,
   "id": "9cac3cc7",
   "metadata": {},
   "outputs": [
    {
     "name": "stdout",
     "output_type": "stream",
     "text": [
      "10\n"
     ]
    }
   ],
   "source": [
    "a = addabs(-3, -7)\n",
    "print(a)"
   ]
  },
  {
   "cell_type": "markdown",
   "id": "0d510c04",
   "metadata": {},
   "source": [
    "입력값이 없고 결과값이 있는 함수 예제"
   ]
  },
  {
   "cell_type": "code",
   "execution_count": 73,
   "id": "681ce72f",
   "metadata": {},
   "outputs": [],
   "source": [
    "def say():\n",
    "    return \"hi\""
   ]
  },
  {
   "cell_type": "code",
   "execution_count": 74,
   "id": "2cbf71af",
   "metadata": {},
   "outputs": [
    {
     "data": {
      "text/plain": [
       "'hi'"
      ]
     },
     "execution_count": 74,
     "metadata": {},
     "output_type": "execute_result"
    }
   ],
   "source": [
    "say()"
   ]
  },
  {
   "cell_type": "code",
   "execution_count": 65,
   "id": "a13573e7",
   "metadata": {},
   "outputs": [
    {
     "name": "stdout",
     "output_type": "stream",
     "text": [
      "hi\n"
     ]
    }
   ],
   "source": [
    "a = say()\n",
    "print(a)"
   ]
  },
  {
   "cell_type": "markdown",
   "id": "c424c08c",
   "metadata": {},
   "source": [
    "입력값이 있고 결과값이 없는 함수 예제"
   ]
  },
  {
   "cell_type": "code",
   "execution_count": 66,
   "id": "1fe4a654",
   "metadata": {},
   "outputs": [],
   "source": [
    "def sum(a, b):\n",
    "    print(\"%d와 %d의 합은 %d입니다.\" % (a, b, a + b))"
   ]
  },
  {
   "cell_type": "code",
   "execution_count": 67,
   "id": "08306647",
   "metadata": {},
   "outputs": [
    {
     "name": "stdout",
     "output_type": "stream",
     "text": [
      "3와 4의 합은 7입니다.\n"
     ]
    }
   ],
   "source": [
    "sum(3, 4)"
   ]
  },
  {
   "cell_type": "code",
   "execution_count": 69,
   "id": "ad6d227e",
   "metadata": {},
   "outputs": [
    {
     "name": "stdout",
     "output_type": "stream",
     "text": [
      "3와 4의 합은 7입니다.\n",
      "None\n"
     ]
    }
   ],
   "source": [
    "a = sum(3, 4)\n",
    "print(a)"
   ]
  },
  {
   "cell_type": "markdown",
   "id": "c175c061",
   "metadata": {},
   "source": [
    "- sum() 함수를 호출 할 시 결과가 출력되나 결과값이 있는 것은 아님(return이 없기 때문)"
   ]
  },
  {
   "cell_type": "markdown",
   "id": "e7fe82a9",
   "metadata": {},
   "source": [
    "입력값이 없고 결과값이 없는 함수 예제"
   ]
  },
  {
   "cell_type": "code",
   "execution_count": 70,
   "id": "b9b0cd09",
   "metadata": {},
   "outputs": [],
   "source": [
    "def say():\n",
    "    print(\"Hi\")"
   ]
  },
  {
   "cell_type": "code",
   "execution_count": 71,
   "id": "b636d1e0",
   "metadata": {},
   "outputs": [
    {
     "name": "stdout",
     "output_type": "stream",
     "text": [
      "Hi\n"
     ]
    }
   ],
   "source": [
    "say()"
   ]
  },
  {
   "cell_type": "code",
   "execution_count": 72,
   "id": "5b708485",
   "metadata": {},
   "outputs": [
    {
     "name": "stdout",
     "output_type": "stream",
     "text": [
      "Hi\n",
      "None\n"
     ]
    }
   ],
   "source": [
    "a = say()\n",
    "print(a)"
   ]
  },
  {
   "cell_type": "markdown",
   "id": "74bdddc8",
   "metadata": {},
   "source": [
    "매개변수 지정하여 호출하기 예제"
   ]
  },
  {
   "cell_type": "code",
   "execution_count": 81,
   "id": "c4eb3126",
   "metadata": {},
   "outputs": [],
   "source": [
    "def sum(a, b):\n",
    "    return a + b"
   ]
  },
  {
   "cell_type": "code",
   "execution_count": 82,
   "id": "c7d1c8cf",
   "metadata": {},
   "outputs": [
    {
     "data": {
      "text/plain": [
       "10"
      ]
     },
     "execution_count": 82,
     "metadata": {},
     "output_type": "execute_result"
    }
   ],
   "source": [
    "sum(a = 3, b = 7)"
   ]
  },
  {
   "cell_type": "code",
   "execution_count": 83,
   "id": "d5703579",
   "metadata": {},
   "outputs": [
    {
     "name": "stdout",
     "output_type": "stream",
     "text": [
      "10\n"
     ]
    }
   ],
   "source": [
    "print(sum(a = 3, b = 7))"
   ]
  },
  {
   "cell_type": "code",
   "execution_count": 84,
   "id": "e9b5629d",
   "metadata": {},
   "outputs": [
    {
     "name": "stdout",
     "output_type": "stream",
     "text": [
      "8\n"
     ]
    }
   ],
   "source": [
    "print(sum(b = 5, a = 3))"
   ]
  },
  {
   "cell_type": "markdown",
   "id": "4fc5eb96",
   "metadata": {},
   "source": [
    "- 키워드 인수라고 부르기도 함\n",
    " - 키워드 인수 : 인수 이름으로 값을 전달하는 방식, 보통은 인수의 순서로 값을 나타내지만 이름으로 값을 전달하는 방식"
   ]
  },
  {
   "cell_type": "code",
   "execution_count": 85,
   "id": "21838839",
   "metadata": {},
   "outputs": [
    {
     "data": {
      "text/plain": [
       "25"
      ]
     },
     "execution_count": 85,
     "metadata": {},
     "output_type": "execute_result"
    }
   ],
   "source": [
    "sum(20, b = 5)"
   ]
  },
  {
   "cell_type": "code",
   "execution_count": 1,
   "id": "86e1bf84",
   "metadata": {},
   "outputs": [
    {
     "ename": "SyntaxError",
     "evalue": "positional argument follows keyword argument (Temp/ipykernel_8324/1197278764.py, line 1)",
     "output_type": "error",
     "traceback": [
      "\u001b[1;36m  File \u001b[1;32m\"C:\\Users\\asd\\AppData\\Local\\Temp/ipykernel_8324/1197278764.py\"\u001b[1;36m, line \u001b[1;32m1\u001b[0m\n\u001b[1;33m    sum(b = 5, 20)\u001b[0m\n\u001b[1;37m                 ^\u001b[0m\n\u001b[1;31mSyntaxError\u001b[0m\u001b[1;31m:\u001b[0m positional argument follows keyword argument\n"
     ]
    }
   ],
   "source": [
    "sum(b = 5, 20)"
   ]
  },
  {
   "cell_type": "code",
   "execution_count": 2,
   "id": "02256855",
   "metadata": {},
   "outputs": [
    {
     "ename": "SyntaxError",
     "evalue": "positional argument follows keyword argument (Temp/ipykernel_8324/737711539.py, line 1)",
     "output_type": "error",
     "traceback": [
      "\u001b[1;36m  File \u001b[1;32m\"C:\\Users\\asd\\AppData\\Local\\Temp/ipykernel_8324/737711539.py\"\u001b[1;36m, line \u001b[1;32m1\u001b[0m\n\u001b[1;33m    sum(a = 5, 20)\u001b[0m\n\u001b[1;37m                 ^\u001b[0m\n\u001b[1;31mSyntaxError\u001b[0m\u001b[1;31m:\u001b[0m positional argument follows keyword argument\n"
     ]
    }
   ],
   "source": [
    "sum(a = 5, 20)"
   ]
  },
  {
   "cell_type": "markdown",
   "id": "6df47ab8",
   "metadata": {},
   "source": [
    "- 일반적으로 함수를 호출할 때 키워드 인수의 위치는 보통 인수의 이후에 위치해야 함\n",
    "- 순서에 맞게 키워드 인수를 앞에 사용해도 에러 발생"
   ]
  },
  {
   "cell_type": "markdown",
   "id": "3b695d49",
   "metadata": {},
   "source": [
    "**113page 5번째 줄 글자 깨짐 -> 매개변수명**"
   ]
  },
  {
   "cell_type": "markdown",
   "id": "e59b0ace",
   "metadata": {},
   "source": [
    "가변 길이 인수 리스트(*매개변수)\n",
    "- 고정되지 않은 수의 인수를 함수에 전달하는 방식\n",
    " - 함수를 정의할 때 인수 목록에 반드시 넘겨야 하는 고정 인수를 우선 나열하고, 나머지를 튜플 형식으로 한꺼번에 받는 방식"
   ]
  },
  {
   "cell_type": "markdown",
   "id": "da9862ae",
   "metadata": {},
   "source": [
    "가변 길이 인수 리스트 예제"
   ]
  },
  {
   "cell_type": "code",
   "execution_count": 90,
   "id": "ecb53721",
   "metadata": {},
   "outputs": [],
   "source": [
    "def varilen(a, *b):\n",
    "    print(a, b)"
   ]
  },
  {
   "cell_type": "code",
   "execution_count": 91,
   "id": "fa072d0e",
   "metadata": {},
   "outputs": [
    {
     "name": "stdout",
     "output_type": "stream",
     "text": [
      "1 ()\n",
      "1 (2,)\n",
      "1 (2, 3)\n",
      "1 (2, 3, 4)\n"
     ]
    }
   ],
   "source": [
    "varilen(1)\n",
    "varilen(1, 2)\n",
    "varilen(1, 2, 3)\n",
    "varilen(1, 2, 3, 4)"
   ]
  },
  {
   "cell_type": "code",
   "execution_count": 98,
   "id": "6124043b",
   "metadata": {},
   "outputs": [],
   "source": [
    "def printf(a, *b):\n",
    "    print(\"첫번째 인수 :\", a)\n",
    "    for c in b:\n",
    "        print(\"나머지 인수 :\", c)"
   ]
  },
  {
   "cell_type": "code",
   "execution_count": 100,
   "id": "efab5d87",
   "metadata": {},
   "outputs": [
    {
     "name": "stdout",
     "output_type": "stream",
     "text": [
      "첫번째 인수 : 1\n",
      "나머지 인수 : 2\n",
      "나머지 인수 : 3\n",
      "나머지 인수 : 4\n",
      "나머지 인수 : 5\n",
      "나머지 인수 : 6\n",
      "나머지 인수 : 7\n",
      "나머지 인수 : 8\n",
      "나머지 인수 : 9\n"
     ]
    }
   ],
   "source": [
    "printf(1, 2, 3, 4, 5, 6, 7, 8, 9)"
   ]
  },
  {
   "cell_type": "code",
   "execution_count": 141,
   "id": "492384f4",
   "metadata": {},
   "outputs": [],
   "source": [
    "def h(a, b, *c):\n",
    "    print(a, b, c)\n",
    "args = (1, 2, 3, 4, 5)"
   ]
  },
  {
   "cell_type": "code",
   "execution_count": 142,
   "id": "a69559d7",
   "metadata": {},
   "outputs": [
    {
     "name": "stdout",
     "output_type": "stream",
     "text": [
      "1 2 (3, 4, 5)\n"
     ]
    }
   ],
   "source": [
    "h(1, 2, 3, 4, 5)"
   ]
  },
  {
   "cell_type": "code",
   "execution_count": 145,
   "id": "88f2243e",
   "metadata": {},
   "outputs": [
    {
     "name": "stdout",
     "output_type": "stream",
     "text": [
      "1 2 (3, 4, 5)\n"
     ]
    }
   ],
   "source": [
    "h(*args)"
   ]
  },
  {
   "cell_type": "markdown",
   "id": "fdbff68d",
   "metadata": {},
   "source": [
    "- 함수를 정의할 시 가변 길이 인수 리스트를 매개변수로 받을 경우 함수를 호출할 때 받는 인자 또한 가변 길이 인수 리스트라는 것을 명시해줘야 함"
   ]
  },
  {
   "cell_type": "markdown",
   "id": "b197b0de",
   "metadata": {},
   "source": [
    "**매개변수\n",
    "- 함수 호출에 사용하는 인수들이 사전에 있다면 **을 이용하여 함수를 호출할 수 있음"
   ]
  },
  {
   "cell_type": "code",
   "execution_count": 161,
   "id": "50d0c162",
   "metadata": {},
   "outputs": [],
   "source": [
    "def h(a, b, c, f):\n",
    "    print(a, b, c, f)"
   ]
  },
  {
   "cell_type": "code",
   "execution_count": 162,
   "id": "a6ea61bd",
   "metadata": {},
   "outputs": [],
   "source": [
    "dicargs = {'a':1, 'b':2, 'c':3, 'f':4}"
   ]
  },
  {
   "cell_type": "code",
   "execution_count": 163,
   "id": "6bc48ff2",
   "metadata": {},
   "outputs": [
    {
     "name": "stdout",
     "output_type": "stream",
     "text": [
      "1 2 3 4\n"
     ]
    }
   ],
   "source": [
    "h(**dicargs)"
   ]
  },
  {
   "cell_type": "markdown",
   "id": "b1371c21",
   "metadata": {},
   "source": [
    "- **매개변수의 핵심 요소\n",
    "1. 사전과 관련이 있음\n",
    "2. 함수에서 키와 같은 매개변수를 받음\n",
    "3. **매개변수를 이용하여 사전을 호출할 경우 각 키에 매칭되는 값들이 매칭됨"
   ]
  },
  {
   "cell_type": "markdown",
   "id": "7f094d0b",
   "metadata": {},
   "source": [
    "**매개변수 추가 코드 "
   ]
  },
  {
   "cell_type": "code",
   "execution_count": 172,
   "id": "ae1159ab",
   "metadata": {},
   "outputs": [],
   "source": [
    "def dic_1(**dic):\n",
    "    print(dic.items())\n",
    "    for key, value in dic.items():\n",
    "        print(\"{0} = {1}\".format(key, value))"
   ]
  },
  {
   "cell_type": "code",
   "execution_count": 175,
   "id": "8f994775",
   "metadata": {},
   "outputs": [
    {
     "name": "stdout",
     "output_type": "stream",
     "text": [
      "dict_items([('name', '홍길동'), ('나이', '20')])\n",
      "name = 홍길동\n",
      "나이 = 20\n"
     ]
    }
   ],
   "source": [
    "dic = {\"name\":\"홍길동\", \"나이\":\"20\"}\n",
    "dic_1(**dic)"
   ]
  },
  {
   "cell_type": "markdown",
   "id": "98c69710",
   "metadata": {},
   "source": [
    "return 예제(return으로 결과값을 두 개 반환하는 경우)"
   ]
  },
  {
   "cell_type": "code",
   "execution_count": 164,
   "id": "8c03ea89",
   "metadata": {},
   "outputs": [],
   "source": [
    "def sum_and_mul(a, b):\n",
    "    return a+b, a*b"
   ]
  },
  {
   "cell_type": "code",
   "execution_count": 165,
   "id": "1d6c4239",
   "metadata": {},
   "outputs": [],
   "source": [
    "result = sum_and_mul(3, 4)"
   ]
  },
  {
   "cell_type": "code",
   "execution_count": 166,
   "id": "9432c9cb",
   "metadata": {},
   "outputs": [
    {
     "name": "stdout",
     "output_type": "stream",
     "text": [
      "(7, 12)\n"
     ]
    }
   ],
   "source": [
    "print(result)"
   ]
  },
  {
   "cell_type": "code",
   "execution_count": 167,
   "id": "b5b8686c",
   "metadata": {},
   "outputs": [],
   "source": [
    "sum, mul = sum_and_mul(3, 4)"
   ]
  },
  {
   "cell_type": "code",
   "execution_count": 168,
   "id": "b47acb62",
   "metadata": {},
   "outputs": [
    {
     "name": "stdout",
     "output_type": "stream",
     "text": [
      "7\n",
      "12\n"
     ]
    }
   ],
   "source": [
    "print(sum)\n",
    "print(mul)"
   ]
  },
  {
   "cell_type": "markdown",
   "id": "6c01afa4",
   "metadata": {},
   "source": [
    "return 예제(return을 두 줄로 나눠 입력한 후 결과값을 두 개 반환하는 경우)"
   ]
  },
  {
   "cell_type": "code",
   "execution_count": 169,
   "id": "e077b3de",
   "metadata": {},
   "outputs": [],
   "source": [
    "def sum_and_mul(a, b):\n",
    "    return a + b\n",
    "    return a * b"
   ]
  },
  {
   "cell_type": "code",
   "execution_count": 170,
   "id": "23aab541",
   "metadata": {},
   "outputs": [],
   "source": [
    "result = sum_and_mul(2, 3)"
   ]
  },
  {
   "cell_type": "code",
   "execution_count": 171,
   "id": "0e2b73b3",
   "metadata": {},
   "outputs": [
    {
     "name": "stdout",
     "output_type": "stream",
     "text": [
      "5\n"
     ]
    }
   ],
   "source": [
    "print(result)"
   ]
  },
  {
   "cell_type": "markdown",
   "id": "922d0de4",
   "metadata": {},
   "source": [
    "- return을 사용할 경우 한 줄에 입력해야 함"
   ]
  },
  {
   "cell_type": "markdown",
   "id": "a4452be5",
   "metadata": {},
   "source": [
    "return 예제(return을 단독으로 사용하여 함수를 빠져나올 경우)"
   ]
  },
  {
   "cell_type": "code",
   "execution_count": 182,
   "id": "4c8cca1f",
   "metadata": {},
   "outputs": [],
   "source": [
    "def say_nick(nick):\n",
    "    if nick == \"바보\":\n",
    "        return\n",
    "    print(\"나의 별명은 %s입니다.\" % nick)"
   ]
  },
  {
   "cell_type": "code",
   "execution_count": 183,
   "id": "d73edb1f",
   "metadata": {},
   "outputs": [],
   "source": [
    "say_nick(\"바보\")"
   ]
  },
  {
   "cell_type": "code",
   "execution_count": 184,
   "id": "33961f73",
   "metadata": {},
   "outputs": [
    {
     "name": "stdout",
     "output_type": "stream",
     "text": [
      "None\n"
     ]
    }
   ],
   "source": [
    "print(say_nick(\"바보\"))"
   ]
  },
  {
   "cell_type": "code",
   "execution_count": 185,
   "id": "855ea02d",
   "metadata": {},
   "outputs": [
    {
     "name": "stdout",
     "output_type": "stream",
     "text": [
      "나의 별명은 야호입니다.\n"
     ]
    }
   ],
   "source": [
    "say_nick(\"야호\")"
   ]
  },
  {
   "cell_type": "markdown",
   "id": "a068797a",
   "metadata": {},
   "source": [
    "매개 변수에 초깃값 미리 설정하기 예제"
   ]
  },
  {
   "cell_type": "code",
   "execution_count": 186,
   "id": "96648322",
   "metadata": {},
   "outputs": [],
   "source": [
    "def say_myself(name, old, man=True):\n",
    "    print(\"나의 이름은 %s입니다.\" % name)\n",
    "    print(\"나이는 %d입니다.\" % old)\n",
    "    if man:\n",
    "        print(\"남자입니다.\")\n",
    "    else:\n",
    "        print(\"여자입니다.\")"
   ]
  },
  {
   "cell_type": "code",
   "execution_count": 188,
   "id": "4d2dc6d2",
   "metadata": {},
   "outputs": [
    {
     "name": "stdout",
     "output_type": "stream",
     "text": [
      "나의 이름은 오규석입니다.\n",
      "나이는 20입니다.\n",
      "남자입니다.\n"
     ]
    }
   ],
   "source": [
    "say_myself(\"오규석\", 20)"
   ]
  },
  {
   "cell_type": "code",
   "execution_count": 189,
   "id": "10102828",
   "metadata": {},
   "outputs": [
    {
     "name": "stdout",
     "output_type": "stream",
     "text": [
      "나의 이름은 오규석입니다.\n",
      "나이는 20입니다.\n",
      "남자입니다.\n"
     ]
    }
   ],
   "source": [
    "say_myself(\"오규석\", 20, True)"
   ]
  },
  {
   "cell_type": "code",
   "execution_count": 190,
   "id": "8aeb9442",
   "metadata": {},
   "outputs": [
    {
     "name": "stdout",
     "output_type": "stream",
     "text": [
      "나의 이름은 오규석입니다.\n",
      "나이는 20입니다.\n",
      "여자입니다.\n"
     ]
    }
   ],
   "source": [
    "say_myself(\"오규석\", 20, False)"
   ]
  },
  {
   "cell_type": "markdown",
   "id": "add311c6",
   "metadata": {},
   "source": [
    "**120page 12번째 줄 글자 깨짐 -> 초깃값을**"
   ]
  },
  {
   "cell_type": "markdown",
   "id": "1069d29b",
   "metadata": {},
   "source": [
    "매개 변수에 초깃값 미리 설정하기 예제(중간에 미리 설정했을 경우)"
   ]
  },
  {
   "cell_type": "code",
   "execution_count": 192,
   "id": "a46eacac",
   "metadata": {},
   "outputs": [
    {
     "ename": "SyntaxError",
     "evalue": "non-default argument follows default argument (Temp/ipykernel_724/303328876.py, line 1)",
     "output_type": "error",
     "traceback": [
      "\u001b[1;36m  File \u001b[1;32m\"C:\\Users\\student\\AppData\\Local\\Temp/ipykernel_724/303328876.py\"\u001b[1;36m, line \u001b[1;32m1\u001b[0m\n\u001b[1;33m    def say_myself(name, man=True, old):\u001b[0m\n\u001b[1;37m                                      ^\u001b[0m\n\u001b[1;31mSyntaxError\u001b[0m\u001b[1;31m:\u001b[0m non-default argument follows default argument\n"
     ]
    }
   ],
   "source": [
    "def say_myself(name, man=True, old):\n",
    "    print(\"나의 이름은 %s입니다.\" % name)\n",
    "    print(\"나이는 %d입니다.\" % old)\n",
    "    if man:\n",
    "        print(\"남자입니다.\")\n",
    "    else:\n",
    "        print(\"여자입니다.\")"
   ]
  },
  {
   "cell_type": "markdown",
   "id": "2ca5c0b1",
   "metadata": {},
   "source": [
    "- 매개 변수에 초깃값을 미리 설정하고 싶은 경우 매개 변수 마지막에 설정해줘야 함"
   ]
  },
  {
   "cell_type": "markdown",
   "id": "f54405e9",
   "metadata": {},
   "source": [
    "질문) 매개 변수의 초깃값을 두 개 설정 가능한 지의 여부"
   ]
  },
  {
   "cell_type": "code",
   "execution_count": 193,
   "id": "d3a75481",
   "metadata": {},
   "outputs": [],
   "source": [
    "def say_myself(name, old=20, man=True):\n",
    "    print(\"나의 이름은 %s입니다.\" % name)\n",
    "    print(\"나이는 %d입니다.\" % old)\n",
    "    if man:\n",
    "        print(\"남자입니다.\")\n",
    "    else:\n",
    "        print(\"여자입니다.\")"
   ]
  },
  {
   "cell_type": "code",
   "execution_count": 194,
   "id": "cfe2e212",
   "metadata": {},
   "outputs": [
    {
     "name": "stdout",
     "output_type": "stream",
     "text": [
      "나의 이름은 오규석입니다.\n",
      "나이는 20입니다.\n",
      "남자입니다.\n"
     ]
    }
   ],
   "source": [
    "say_myself(\"오규석\")"
   ]
  },
  {
   "cell_type": "markdown",
   "id": "74d14e7e",
   "metadata": {},
   "source": [
    "- 매개 변수에 초깃값을 2개 이상 미리 설정하고 싶은 경우에도 매개 변수 마지막에 설정해줘야 함"
   ]
  },
  {
   "cell_type": "markdown",
   "id": "1864dc80",
   "metadata": {},
   "source": [
    "변수의 유효범위\n",
    "- 변수가 어느 범위에서 유효한지를 나타냄\n",
    " - 변수가 함수 내에서 정의되면 함수의 지역 변수(local) 변수가 됨\n",
    " - 변수가 함수 밖에서 정의되면 전역(global) 변수가 됨\n",
    "- 전역 변수 : 함수 외부에서 정의된 변수, 코드 모든 범위에서 사용 가능\n",
    "- 지역 변수 : 함수 내부에서 정의된 변수, 해당 정의된 함수에서만 사용 가능\n",
    "- 호출 순서 : 지역 변수 -> 전역 변수"
   ]
  },
  {
   "cell_type": "markdown",
   "id": "e9f3dd02",
   "metadata": {},
   "source": [
    "변수의 호출 순서 예제(지역 변수가 있는 경우)"
   ]
  },
  {
   "cell_type": "code",
   "execution_count": 195,
   "id": "aae6c34c",
   "metadata": {},
   "outputs": [],
   "source": [
    "str = 'global variable'\n",
    "\n",
    "def func_1():\n",
    "    str = 'local variable'\n",
    "    print(str)"
   ]
  },
  {
   "cell_type": "code",
   "execution_count": 196,
   "id": "51f840d1",
   "metadata": {},
   "outputs": [
    {
     "name": "stdout",
     "output_type": "stream",
     "text": [
      "local variable\n"
     ]
    }
   ],
   "source": [
    "func_1()"
   ]
  },
  {
   "cell_type": "code",
   "execution_count": 197,
   "id": "6bc92be0",
   "metadata": {},
   "outputs": [
    {
     "name": "stdout",
     "output_type": "stream",
     "text": [
      "global variable\n"
     ]
    }
   ],
   "source": [
    "print(str)"
   ]
  },
  {
   "cell_type": "code",
   "execution_count": 209,
   "id": "44c39986",
   "metadata": {},
   "outputs": [],
   "source": [
    "str = 'global variable'\n",
    "\n",
    "def func_1():\n",
    "    str = 'local variable'\n",
    "    return str\n",
    "    print(str)"
   ]
  },
  {
   "cell_type": "code",
   "execution_count": 210,
   "id": "3218190b",
   "metadata": {},
   "outputs": [
    {
     "data": {
      "text/plain": [
       "'local variable'"
      ]
     },
     "execution_count": 210,
     "metadata": {},
     "output_type": "execute_result"
    }
   ],
   "source": [
    "func_1()"
   ]
  },
  {
   "cell_type": "code",
   "execution_count": 206,
   "id": "35d88b72",
   "metadata": {},
   "outputs": [
    {
     "name": "stdout",
     "output_type": "stream",
     "text": [
      "global variable\n"
     ]
    }
   ],
   "source": [
    "print(str)"
   ]
  },
  {
   "cell_type": "markdown",
   "id": "56907479",
   "metadata": {},
   "source": [
    "함수 안에서 함수 밖의 변수를 변경하는 방법(첫번째)"
   ]
  },
  {
   "cell_type": "code",
   "execution_count": 215,
   "id": "d4060392",
   "metadata": {},
   "outputs": [],
   "source": [
    "a = 1\n",
    "def vartest(a):\n",
    "    a = a + 1\n",
    "    return a"
   ]
  },
  {
   "cell_type": "code",
   "execution_count": 216,
   "id": "54f2a0c1",
   "metadata": {},
   "outputs": [
    {
     "name": "stdout",
     "output_type": "stream",
     "text": [
      "2\n"
     ]
    }
   ],
   "source": [
    "a = vartest(a)\n",
    "print(a)"
   ]
  },
  {
   "cell_type": "code",
   "execution_count": 208,
   "id": "65f05c46",
   "metadata": {},
   "outputs": [
    {
     "name": "stdout",
     "output_type": "stream",
     "text": [
      "1\n",
      "2\n"
     ]
    }
   ],
   "source": [
    "# b = vartest(a)\n",
    "# print(a)\n",
    "# print(b)"
   ]
  },
  {
   "cell_type": "code",
   "execution_count": 214,
   "id": "1fa2ed80",
   "metadata": {},
   "outputs": [
    {
     "name": "stdout",
     "output_type": "stream",
     "text": [
      "4\n"
     ]
    }
   ],
   "source": []
  },
  {
   "cell_type": "code",
   "execution_count": null,
   "id": "00d707f1",
   "metadata": {},
   "outputs": [],
   "source": []
  }
 ],
 "metadata": {
  "kernelspec": {
   "display_name": "Python 3 (ipykernel)",
   "language": "python",
   "name": "python3"
  },
  "language_info": {
   "codemirror_mode": {
    "name": "ipython",
    "version": 3
   },
   "file_extension": ".py",
   "mimetype": "text/x-python",
   "name": "python",
   "nbconvert_exporter": "python",
   "pygments_lexer": "ipython3",
   "version": "3.9.7"
  },
  "widgets": {
   "application/vnd.jupyter.widget-state+json": {
    "state": {},
    "version_major": 2,
    "version_minor": 0
   }
  }
 },
 "nbformat": 4,
 "nbformat_minor": 5
}
