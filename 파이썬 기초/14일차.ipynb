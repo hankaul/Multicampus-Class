{
 "cells": [
  {
   "cell_type": "markdown",
   "id": "0d1ba23f",
   "metadata": {},
   "source": [
    "## 인덱스 활용\n",
    "특정 열을 행 인덱스로 설정\n",
    "- set_index() 함수를 사용하여 데이터프레임의 특정 열을 행 인덱스로 설정"
   ]
  },
  {
   "cell_type": "markdown",
   "id": "7d3f9acd",
   "metadata": {},
   "source": [
    "특정 열을 행 인덱스로 설정하는 예제"
   ]
  },
  {
   "cell_type": "code",
   "execution_count": 1,
   "id": "74957a58",
   "metadata": {},
   "outputs": [],
   "source": [
    "import pandas as pd\n",
    "\n",
    "exam_data = {'이름' : ['린하', '인서', '광열'],\n",
    "             '국어' : [70, 90, 80],\n",
    "             '수학' : [90, 85, 80], \n",
    "             '영어' : [100, 80, 90], \n",
    "             '음악' : [70, 90, 100]}\n",
    "df = pd.DataFrame(exam_data)"
   ]
  },
  {
   "cell_type": "code",
   "execution_count": 2,
   "id": "13a26fe7",
   "metadata": {},
   "outputs": [
    {
     "name": "stdout",
     "output_type": "stream",
     "text": [
      "   이름  국어  수학   영어   음악\n",
      "0  린하  70  90  100   70\n",
      "1  인서  90  85   80   90\n",
      "2  광열  80  80   90  100\n"
     ]
    }
   ],
   "source": [
    "print(df)"
   ]
  },
  {
   "cell_type": "code",
   "execution_count": 3,
   "id": "daac37c1",
   "metadata": {},
   "outputs": [],
   "source": [
    "# 특정 열을 데이터프레임의 행 인덱스로 설정\n",
    "ndf = df.set_index('이름')"
   ]
  },
  {
   "cell_type": "code",
   "execution_count": 5,
   "id": "fbe2fdd0",
   "metadata": {},
   "outputs": [
    {
     "name": "stdout",
     "output_type": "stream",
     "text": [
      "    국어  수학   영어   음악\n",
      "이름                  \n",
      "린하  70  90  100   70\n",
      "인서  90  85   80   90\n",
      "광열  80  80   90  100\n"
     ]
    }
   ],
   "source": [
    "print(ndf)"
   ]
  },
  {
   "cell_type": "code",
   "execution_count": 6,
   "id": "db4abba4",
   "metadata": {},
   "outputs": [],
   "source": [
    "# 특정 열을 데이터프레임의 행 인덱스로 설정\n",
    "ndf2 = ndf.set_index('음악')"
   ]
  },
  {
   "cell_type": "code",
   "execution_count": 7,
   "id": "18989d18",
   "metadata": {},
   "outputs": [
    {
     "name": "stdout",
     "output_type": "stream",
     "text": [
      "     국어  수학   영어\n",
      "음악              \n",
      "70   70  90  100\n",
      "90   90  85   80\n",
      "100  80  80   90\n"
     ]
    }
   ],
   "source": [
    "print(ndf2)"
   ]
  },
  {
   "cell_type": "markdown",
   "id": "68c0fcf2",
   "metadata": {},
   "source": [
    "- 기존 \"이름\" 행 인덱스는 제거가 된 것으로 확인"
   ]
  },
  {
   "cell_type": "code",
   "execution_count": 8,
   "id": "1cf75348",
   "metadata": {},
   "outputs": [],
   "source": [
    "# 행 인덱스를 리셋\n",
    "ndf3 = ndf2.reset_index('음악')"
   ]
  },
  {
   "cell_type": "code",
   "execution_count": 9,
   "id": "df70fd96",
   "metadata": {},
   "outputs": [
    {
     "name": "stdout",
     "output_type": "stream",
     "text": [
      "    음악  국어  수학   영어\n",
      "0   70  70  90  100\n",
      "1   90  90  85   80\n",
      "2  100  80  80   90\n"
     ]
    }
   ],
   "source": [
    "print(ndf3)"
   ]
  },
  {
   "cell_type": "markdown",
   "id": "bebfb712",
   "metadata": {},
   "source": [
    "- 행 인덱스를 리셋해주어도 전에 지정해놓았던 행 인덱스가 다시 적용되지는 않음"
   ]
  },
  {
   "cell_type": "code",
   "execution_count": 10,
   "id": "afd54f28",
   "metadata": {},
   "outputs": [],
   "source": [
    "# 특정 열 2개를 데이터프레임의 행 인덱스로 설정\n",
    "ndf4 = ndf.set_index(['수학', '영어'])"
   ]
  },
  {
   "cell_type": "code",
   "execution_count": 11,
   "id": "40ddc83d",
   "metadata": {},
   "outputs": [
    {
     "name": "stdout",
     "output_type": "stream",
     "text": [
      "        국어   음악\n",
      "수학 영어          \n",
      "90 100  70   70\n",
      "85 80   90   90\n",
      "80 90   80  100\n"
     ]
    }
   ],
   "source": [
    "print(ndf4)"
   ]
  },
  {
   "cell_type": "markdown",
   "id": "7e403381",
   "metadata": {},
   "source": [
    "- 두 개의 열을 행 인덱스로 지정 가능"
   ]
  },
  {
   "cell_type": "markdown",
   "id": "497fa0a6",
   "metadata": {},
   "source": [
    "행 인덱스 재배열\n",
    "- reindex() 함수를 사용하여 데이터프레임의 행 인덱스를 새로운 배열로 재지정 가능<br>\n",
    "<code>새로운 배열로 행 인덱스 재지정: DataFrame 객체.reindex()</code><br><br>\n",
    "- 기존 데이터프레임에 존재하지 않는 행 인덱스가 새로 추가되는 경우 해당 행의 데이터 값은 NaN 값이 입력됨"
   ]
  },
  {
   "cell_type": "markdown",
   "id": "01354010",
   "metadata": {},
   "source": [
    "새로운 배열로 행 인덱스 재지정 예제"
   ]
  },
  {
   "cell_type": "code",
   "execution_count": 12,
   "id": "b43513b1",
   "metadata": {},
   "outputs": [],
   "source": [
    "import pandas as pd\n",
    "\n",
    "# key:value 를 쌍으로 갖는 딕셔너리를 생성, 변수 dict_data에 저장\n",
    "dict_data = {'c0' : [1, 2, 3], 'c1' : [4, 5, 6], 'c2' : [7, 8, 9], 'c3' : [10, 11, 12], 'c4' : [13, 14, 15]}\n",
    "\n",
    "# 판다스 DataFrame() 함수로 딕셔너리를 데이터프레임으로 변환, 변수 df에 저장\n",
    "df = pd.DataFrame(dict_data, index = ['r0', 'r1', 'r2'])"
   ]
  },
  {
   "cell_type": "code",
   "execution_count": 13,
   "id": "ca673627",
   "metadata": {},
   "outputs": [
    {
     "name": "stdout",
     "output_type": "stream",
     "text": [
      "    c0  c1  c2  c3  c4\n",
      "r0   1   4   7  10  13\n",
      "r1   2   5   8  11  14\n",
      "r2   3   6   9  12  15\n"
     ]
    }
   ],
   "source": [
    "print(df)"
   ]
  },
  {
   "cell_type": "code",
   "execution_count": 14,
   "id": "51505466",
   "metadata": {},
   "outputs": [],
   "source": [
    "# 행 인덱스 재배열로 사용될 변수를 지정\n",
    "new_index = ['r0', 'r1']\n",
    "new_index2 = ['r3', 'r4', 'r5']\n",
    "new_index3 = ['r0', 'r1', 'r2', 'r3', 'r4']"
   ]
  },
  {
   "cell_type": "code",
   "execution_count": 19,
   "id": "b386b1d9",
   "metadata": {},
   "outputs": [],
   "source": [
    "# 행 인덱스를 ['r0', 'r1']로 재지정\n",
    "ndf = df.reindex(new_index)"
   ]
  },
  {
   "cell_type": "code",
   "execution_count": 20,
   "id": "529413ef",
   "metadata": {},
   "outputs": [
    {
     "name": "stdout",
     "output_type": "stream",
     "text": [
      "    c0  c1  c2  c3  c4\n",
      "r0   1   4   7  10  13\n",
      "r1   2   5   8  11  14\n"
     ]
    }
   ],
   "source": [
    "print(ndf)"
   ]
  },
  {
   "cell_type": "code",
   "execution_count": 21,
   "id": "28443f60",
   "metadata": {},
   "outputs": [],
   "source": [
    "# 행 인덱스를 ['r3', 'r4', 'r5']로 재지정\n",
    "ndf2 = df.reindex(new_index2)"
   ]
  },
  {
   "cell_type": "code",
   "execution_count": 22,
   "id": "b0c2d8a0",
   "metadata": {},
   "outputs": [
    {
     "name": "stdout",
     "output_type": "stream",
     "text": [
      "    c0  c1  c2  c3  c4\n",
      "r3 NaN NaN NaN NaN NaN\n",
      "r4 NaN NaN NaN NaN NaN\n",
      "r5 NaN NaN NaN NaN NaN\n"
     ]
    }
   ],
   "source": [
    "print(ndf2)"
   ]
  },
  {
   "cell_type": "markdown",
   "id": "bbdb3701",
   "metadata": {},
   "source": [
    "- 새로운 행 인덱스로 재지정 할 경우 원소 값이 없으므로 NaN이 표기됨"
   ]
  },
  {
   "cell_type": "code",
   "execution_count": 23,
   "id": "aa2830ab",
   "metadata": {},
   "outputs": [],
   "source": [
    "# 행 인덱스를 ['r0', 'r1', 'r2', 'r3', 'r4']로 재지정\n",
    "ndf3 = df.reindex(new_index3)"
   ]
  },
  {
   "cell_type": "code",
   "execution_count": 24,
   "id": "c83338ee",
   "metadata": {},
   "outputs": [
    {
     "name": "stdout",
     "output_type": "stream",
     "text": [
      "     c0   c1   c2    c3    c4\n",
      "r0  1.0  4.0  7.0  10.0  13.0\n",
      "r1  2.0  5.0  8.0  11.0  14.0\n",
      "r2  3.0  6.0  9.0  12.0  15.0\n",
      "r3  NaN  NaN  NaN   NaN   NaN\n",
      "r4  NaN  NaN  NaN   NaN   NaN\n"
     ]
    }
   ],
   "source": [
    "print(ndf3)"
   ]
  },
  {
   "cell_type": "code",
   "execution_count": 64,
   "id": "08eb9e83",
   "metadata": {},
   "outputs": [],
   "source": [
    "# 열 순서 변경\n",
    "# columns 옵션 사용\n",
    "ndf4 = ndf3.reindex(columns = ['c1', 'c0', 'c2', 'c3', 'c4'])"
   ]
  },
  {
   "cell_type": "code",
   "execution_count": 65,
   "id": "a0d8f3a6",
   "metadata": {},
   "outputs": [
    {
     "name": "stdout",
     "output_type": "stream",
     "text": [
      "     c1   c0   c2    c3    c4\n",
      "r0  4.0  1.0  7.0  10.0  13.0\n",
      "r1  5.0  2.0  8.0  11.0  14.0\n",
      "r2  6.0  3.0  9.0  12.0  15.0\n",
      "r3  NaN  NaN  NaN   NaN   NaN\n",
      "r4  NaN  NaN  NaN   NaN   NaN\n"
     ]
    }
   ],
   "source": [
    "print(ndf4)"
   ]
  },
  {
   "cell_type": "markdown",
   "id": "3ff3ff45",
   "metadata": {},
   "source": [
    "행 인덱스 초기화\n",
    "- reset_index() 함수를 활용하여 행 인덱스를 정수형 위치 인덱스로 초기화(기존 행 인덱스는 열로 이동)<br>\n",
    "<code>정수형 위치 인덱스로 초기화: DataFrame 객체.reset_index()</code>"
   ]
  },
  {
   "cell_type": "markdown",
   "id": "1333f627",
   "metadata": {},
   "source": [
    "행 인덱스를 정수형 위치 인덱스로 초기화하는 예제"
   ]
  },
  {
   "cell_type": "code",
   "execution_count": 25,
   "id": "d3530af9",
   "metadata": {},
   "outputs": [],
   "source": [
    "import pandas as pd\n",
    "\n",
    "# key:value 를 쌍으로 갖는 딕셔너리를 생성, 변수 dict_data에 저장\n",
    "dict_data = {'c0' : [1, 2, 3], 'c1' : [4, 5, 6], 'c2' : [7, 8, 9], 'c3' : [10, 11, 12], 'c4' : [13, 14, 15]}\n",
    "\n",
    "# 판다스 DataFrame() 함수로 딕셔너리를 데이터프레임으로 변환, 변수 df에 저장\n",
    "df = pd.DataFrame(dict_data, index = ['r0', 'r1', 'r2'])"
   ]
  },
  {
   "cell_type": "code",
   "execution_count": 26,
   "id": "cbafec8f",
   "metadata": {},
   "outputs": [
    {
     "name": "stdout",
     "output_type": "stream",
     "text": [
      "    c0  c1  c2  c3  c4\n",
      "r0   1   4   7  10  13\n",
      "r1   2   5   8  11  14\n",
      "r2   3   6   9  12  15\n"
     ]
    }
   ],
   "source": [
    "print(df)"
   ]
  },
  {
   "cell_type": "code",
   "execution_count": 27,
   "id": "834cc3a5",
   "metadata": {},
   "outputs": [],
   "source": [
    "# 행 인덱스를 정수형으로 초기화\n",
    "ndf = df.reset_index()"
   ]
  },
  {
   "cell_type": "code",
   "execution_count": 28,
   "id": "513773a5",
   "metadata": {},
   "outputs": [
    {
     "name": "stdout",
     "output_type": "stream",
     "text": [
      "  index  c0  c1  c2  c3  c4\n",
      "0    r0   1   4   7  10  13\n",
      "1    r1   2   5   8  11  14\n",
      "2    r2   3   6   9  12  15\n"
     ]
    }
   ],
   "source": [
    "print(ndf)"
   ]
  },
  {
   "cell_type": "code",
   "execution_count": 32,
   "id": "69c36b48",
   "metadata": {},
   "outputs": [],
   "source": [
    "ndf2 = ndf.set_index('index')"
   ]
  },
  {
   "cell_type": "code",
   "execution_count": 34,
   "id": "90ffd677",
   "metadata": {},
   "outputs": [
    {
     "name": "stdout",
     "output_type": "stream",
     "text": [
      "       c0  c1  c2  c3  c4\n",
      "index                    \n",
      "r0      1   4   7  10  13\n",
      "r1      2   5   8  11  14\n",
      "r2      3   6   9  12  15\n"
     ]
    }
   ],
   "source": [
    "print(ndf2)"
   ]
  },
  {
   "cell_type": "markdown",
   "id": "e569705b",
   "metadata": {},
   "source": [
    "행 인덱스를 기준으로 데이터 프레임 정렬\n",
    "- sort_index() 함수를 사용하여 행 인덱스를 기준으로 데이터프레임의 값을 정렬\n",
    " - ascending 옵션을 사용하여 오름차순 혹은 내림차순으로 설정<br>\n",
    " True : 오름차순 정렬<br>\n",
    " False : 내림차순 정렬<br>\n",
    " <code>행 인덱스 기준 정렬: DataFrame 객체.sort_index()</code>"
   ]
  },
  {
   "cell_type": "markdown",
   "id": "820b4317",
   "metadata": {},
   "source": [
    "행 인덱스를 기준으로 데이터프레임 정렬 예제"
   ]
  },
  {
   "cell_type": "code",
   "execution_count": 48,
   "id": "711e86cc",
   "metadata": {},
   "outputs": [],
   "source": [
    "import pandas as pd\n",
    "\n",
    "# key:value 를 쌍으로 갖는 딕셔너리를 생성, 변수 dict_data에 저장\n",
    "dict_data = {'c0' : [1, 2, 3], 'c1' : [6, 4, 5], 'c2' : [7, 8, 9], 'c3' : [10, 11, 12], 'c4' : [13, 14, 15]}\n",
    "\n",
    "# 판다스 DataFrame() 함수로 딕셔너리를 데이터프레임으로 변환, 변수 df에 저장\n",
    "df = pd.DataFrame(dict_data, index = ['r0', 'r1', 'r2'])"
   ]
  },
  {
   "cell_type": "code",
   "execution_count": 49,
   "id": "18d26341",
   "metadata": {},
   "outputs": [
    {
     "name": "stdout",
     "output_type": "stream",
     "text": [
      "    c0  c1  c2  c3  c4\n",
      "r0   1   6   7  10  13\n",
      "r1   2   4   8  11  14\n",
      "r2   3   5   9  12  15\n"
     ]
    }
   ],
   "source": [
    "print(df)"
   ]
  },
  {
   "cell_type": "code",
   "execution_count": 50,
   "id": "105511f2",
   "metadata": {},
   "outputs": [],
   "source": [
    "# 내림차순으로 행 인덱스 정렬\n",
    "ndf = df.sort_index(ascending=False)"
   ]
  },
  {
   "cell_type": "code",
   "execution_count": 51,
   "id": "dcec533a",
   "metadata": {},
   "outputs": [
    {
     "name": "stdout",
     "output_type": "stream",
     "text": [
      "    c0  c1  c2  c3  c4\n",
      "r2   3   5   9  12  15\n",
      "r1   2   4   8  11  14\n",
      "r0   1   6   7  10  13\n"
     ]
    }
   ],
   "source": [
    "print(ndf)"
   ]
  },
  {
   "cell_type": "code",
   "execution_count": 52,
   "id": "100c4193",
   "metadata": {},
   "outputs": [],
   "source": [
    "# 오름차순으로 행 인덱스 정렬\n",
    "ndf2 = ndf.sort_index()  # ascending = True"
   ]
  },
  {
   "cell_type": "code",
   "execution_count": 53,
   "id": "51410750",
   "metadata": {},
   "outputs": [
    {
     "name": "stdout",
     "output_type": "stream",
     "text": [
      "    c0  c1  c2  c3  c4\n",
      "r0   1   6   7  10  13\n",
      "r1   2   4   8  11  14\n",
      "r2   3   5   9  12  15\n"
     ]
    }
   ],
   "source": [
    "print(ndf2)"
   ]
  },
  {
   "cell_type": "markdown",
   "id": "6671ba20",
   "metadata": {},
   "source": [
    "특정 열의 데이터 값을 기준으로 데이터 프레임 정렬\n",
    "- sort_values() 함수를 사용하여 특정 열의 데이터를 기준으로 데이터프레임의 값을 정렬\n",
    " - ascending 옵션을 사용하여 오름차순 혹은 내림차순으로 설정<br>\n",
    " True : 오름차순 정렬<br>\n",
    " False : 내림차순 정렬<br>\n",
    " <code>열 기준 정렬: DataFrame 객체.sort_values()</code>"
   ]
  },
  {
   "cell_type": "markdown",
   "id": "c91e94a8",
   "metadata": {},
   "source": [
    "열 기준 정렬 예제"
   ]
  },
  {
   "cell_type": "code",
   "execution_count": 54,
   "id": "81709df8",
   "metadata": {},
   "outputs": [],
   "source": [
    "# c1 열을 기준으로 내림차순 정렬\n",
    "ndf = df.sort_values(by='c1', ascending = False)"
   ]
  },
  {
   "cell_type": "code",
   "execution_count": 55,
   "id": "fd3d034b",
   "metadata": {},
   "outputs": [
    {
     "name": "stdout",
     "output_type": "stream",
     "text": [
      "    c0  c1  c2  c3  c4\n",
      "r0   1   6   7  10  13\n",
      "r2   3   5   9  12  15\n",
      "r1   2   4   8  11  14\n"
     ]
    }
   ],
   "source": [
    "print(ndf)"
   ]
  },
  {
   "cell_type": "code",
   "execution_count": 56,
   "id": "74b71ff3",
   "metadata": {},
   "outputs": [],
   "source": [
    "# c1 열을 기준으로 오름차순 정렬\n",
    "ndf2 = df.sort_values(by='c1', ascending = True)"
   ]
  },
  {
   "cell_type": "code",
   "execution_count": 57,
   "id": "ac137248",
   "metadata": {},
   "outputs": [
    {
     "name": "stdout",
     "output_type": "stream",
     "text": [
      "    c0  c1  c2  c3  c4\n",
      "r1   2   4   8  11  14\n",
      "r2   3   5   9  12  15\n",
      "r0   1   6   7  10  13\n"
     ]
    }
   ],
   "source": [
    "print(ndf2)"
   ]
  },
  {
   "cell_type": "markdown",
   "id": "e4ca8966",
   "metadata": {},
   "source": [
    "많은 열 중에 특정 열 두 개의 위치를 바꾸고 싶은 경우?<br>\n",
    "1. reindex로 새로운 열 배열이 지정된 데이터프레임을 생성\n",
    "2. 바뀐 데이터프레임과 나눠진 기존 데이터프레임을 결합(concat 사용)"
   ]
  },
  {
   "cell_type": "markdown",
   "id": "3deea16e",
   "metadata": {},
   "source": [
    "# 외부 파일 읽어오기\n",
    "- 판다스는 다양한 형태의 외부 파일을 읽어와 데이터프레임으로 변환하는 함수를 제공\n",
    "- 어떤 파일이든 판다스 객체인 데이터프레임으로 변환되면 판다스의 모든 함수와 기능을 자유롭게 사용 가능\n",
    "- 데이터 프레임을 다양한 유형의 파일로 저장 가능\n",
    " - CSV, JSON, HTML, MS Excel, SQL, ..."
   ]
  },
  {
   "cell_type": "markdown",
   "id": "505a4137",
   "metadata": {},
   "source": [
    "## CSV 파일\n",
    "- comma-separated values 의 약자\n",
    " - 데이터 값을 쉼표(,)로 구분하고 있다는 의미를 가진 파일\n",
    "- CSV 파일 -> 데이터프레임<br>\n",
    "<code>pandas.read_csv(\"파일 경로(이름).csv\")</code>"
   ]
  },
  {
   "cell_type": "markdown",
   "id": "b0623f00",
   "metadata": {},
   "source": [
    "CSV 파일 읽기 예제"
   ]
  },
  {
   "cell_type": "code",
   "execution_count": 66,
   "id": "edb64287",
   "metadata": {},
   "outputs": [],
   "source": [
    "import pandas as pd\n",
    "\n",
    "# 파일 경로를 찾고, 변수 file_path에 저장\n",
    "file_path = './read_test.csv'"
   ]
  },
  {
   "cell_type": "code",
   "execution_count": 67,
   "id": "f0e2b0e5",
   "metadata": {},
   "outputs": [
    {
     "name": "stdout",
     "output_type": "stream",
     "text": [
      "   c0  c1  c2  c3\n",
      "0   0   1   4   7\n",
      "1   1   2   5   8\n",
      "2   2   3   6   9\n"
     ]
    }
   ],
   "source": [
    "# read_csv() 함수로 데이터프레임 변환, 변수 df1에 저장\n",
    "df1 = pd.read_csv(file_path)\n",
    "print(df1)"
   ]
  },
  {
   "cell_type": "code",
   "execution_count": 68,
   "id": "2fa04896",
   "metadata": {},
   "outputs": [
    {
     "name": "stdout",
     "output_type": "stream",
     "text": [
      "    0   1   2   3\n",
      "0  c0  c1  c2  c3\n",
      "1   0   1   4   7\n",
      "2   1   2   5   8\n",
      "3   2   3   6   9\n"
     ]
    }
   ],
   "source": [
    "# read_csv() 함수로 데이터프레임 변환, 변수 df2에 저장, header = None 옵션 사용\n",
    "df2 = pd.read_csv(file_path, header = None)\n",
    "print(df2)"
   ]
  },
  {
   "cell_type": "code",
   "execution_count": 69,
   "id": "ebc4b65c",
   "metadata": {},
   "outputs": [
    {
     "name": "stdout",
     "output_type": "stream",
     "text": [
      "   c0  c1  c2  c3\n",
      "0   0   1   4   7\n",
      "1   1   2   5   8\n",
      "2   2   3   6   9\n"
     ]
    }
   ],
   "source": [
    "# read_csv() 함수로 데이터프레임 변환, 변수 df3에 저장, index_col = None 옵션 사용\n",
    "df3 = pd.read_csv(file_path, index_col = None)\n",
    "print(df3)"
   ]
  },
  {
   "cell_type": "code",
   "execution_count": 70,
   "id": "4ab1ae02",
   "metadata": {},
   "outputs": [
    {
     "name": "stdout",
     "output_type": "stream",
     "text": [
      "    c1  c2  c3\n",
      "c0            \n",
      "0    1   4   7\n",
      "1    2   5   8\n",
      "2    3   6   9\n"
     ]
    }
   ],
   "source": [
    "# read_csv() 함수로 데이터프레임 변환, 변수 df4에 저장, index_col = 'c0' 옵션 사용\n",
    "df4 = pd.read_csv(file_path, index_col = 'c0')\n",
    "print(df4)"
   ]
  },
  {
   "cell_type": "markdown",
   "id": "00670eee",
   "metadata": {},
   "source": [
    "## Excel 파일\n",
    "- Excel 파일(확장자 .xlsx)의 행과 열은 데이터프레임의 행, 열로 일대일 대응\n",
    "- Excel 파일 -> 데이터프레임<br>\n",
    "<code>pandas.read_excel(\"파일 경로(이름).xlsx\")</code>\n",
    "\n",
    "\n",
    "파일명 : 남북한발전전력량.xlsx<br>\n",
    "자료 출저 : KOSIS(통계청), 2021.09.30"
   ]
  },
  {
   "cell_type": "code",
   "execution_count": 71,
   "id": "ddf0ed21",
   "metadata": {},
   "outputs": [],
   "source": [
    "import pandas as pd\n",
    "\n",
    "# read_excel() 함수로 데이터프레임 변환\n",
    "df1 = pd.read_excel('./남북한발전전력량.xlsx')\n",
    "df2 = pd.read_excel('./남북한발전전력량.xlsx', header = None)"
   ]
  },
  {
   "cell_type": "markdown",
   "id": "c77ac2fd",
   "metadata": {},
   "source": [
    "- xlsx 파일을 읽어오지 못할 경우 read_excel() 함수 옵션으로 engine='openpyxl' 사용\n",
    " - df1 = pd.read_excel('./남북한발전전력량.xlsx', engine = 'openpyxl')"
   ]
  },
  {
   "cell_type": "code",
   "execution_count": 72,
   "id": "df4177c6",
   "metadata": {},
   "outputs": [
    {
     "name": "stdout",
     "output_type": "stream",
     "text": [
      "  전력량 (억㎾h) 발전 전력별  1990  1991  1992  1993  1994  1995  1996  1997  ...  2007  \\\n",
      "0        남한     합계  1077  1186  1310  1444  1650  1847  2055  2244  ...  4031   \n",
      "1       NaN     수력    64    51    49    60    41    55    52    54  ...    50   \n",
      "2       NaN     화력   484   573   696   803  1022  1122  1264  1420  ...  2551   \n",
      "3       NaN    원자력   529   563   565   581   587   670   739   771  ...  1429   \n",
      "4       NaN    신재생     -     -     -     -     -     -     -     -  ...     -   \n",
      "5        북한     합계   277   263   247   221   231   230   213   193  ...   236   \n",
      "6       NaN     수력   156   150   142   133   138   142   125   107  ...   133   \n",
      "7       NaN     화력   121   113   105    88    93    88    88    86  ...   103   \n",
      "8       NaN    원자력     -     -     -     -     -     -     -     -  ...     -   \n",
      "\n",
      "   2008  2009  2010  2011  2012  2013  2014  2015  2016  \n",
      "0  4224  4336  4747  4969  5096  5171  5220  5281  5404  \n",
      "1    56    56    65    78    77    84    78    58    66  \n",
      "2  2658  2802  3196  3343  3430  3581  3427  3402  3523  \n",
      "3  1510  1478  1486  1547  1503  1388  1564  1648  1620  \n",
      "4     -     -     -     -    86   118   151   173   195  \n",
      "5   255   235   237   211   215   221   216   190   239  \n",
      "6   141   125   134   132   135   139   130   100   128  \n",
      "7   114   110   103    79    80    82    86    90   111  \n",
      "8     -     -     -     -     -     -     -     -     -  \n",
      "\n",
      "[9 rows x 29 columns]\n"
     ]
    }
   ],
   "source": [
    "print(df1)"
   ]
  },
  {
   "cell_type": "code",
   "execution_count": 73,
   "id": "265a4229",
   "metadata": {},
   "outputs": [
    {
     "name": "stdout",
     "output_type": "stream",
     "text": [
      "          0       1     2     3     4     5     6     7     8     9   ...  \\\n",
      "0  전력량 (억㎾h)  발전 전력별  1990  1991  1992  1993  1994  1995  1996  1997  ...   \n",
      "1         남한      합계  1077  1186  1310  1444  1650  1847  2055  2244  ...   \n",
      "2        NaN      수력    64    51    49    60    41    55    52    54  ...   \n",
      "3        NaN      화력   484   573   696   803  1022  1122  1264  1420  ...   \n",
      "4        NaN     원자력   529   563   565   581   587   670   739   771  ...   \n",
      "5        NaN     신재생     -     -     -     -     -     -     -     -  ...   \n",
      "6         북한      합계   277   263   247   221   231   230   213   193  ...   \n",
      "7        NaN      수력   156   150   142   133   138   142   125   107  ...   \n",
      "8        NaN      화력   121   113   105    88    93    88    88    86  ...   \n",
      "9        NaN     원자력     -     -     -     -     -     -     -     -  ...   \n",
      "\n",
      "     19    20    21    22    23    24    25    26    27    28  \n",
      "0  2007  2008  2009  2010  2011  2012  2013  2014  2015  2016  \n",
      "1  4031  4224  4336  4747  4969  5096  5171  5220  5281  5404  \n",
      "2    50    56    56    65    78    77    84    78    58    66  \n",
      "3  2551  2658  2802  3196  3343  3430  3581  3427  3402  3523  \n",
      "4  1429  1510  1478  1486  1547  1503  1388  1564  1648  1620  \n",
      "5     -     -     -     -     -    86   118   151   173   195  \n",
      "6   236   255   235   237   211   215   221   216   190   239  \n",
      "7   133   141   125   134   132   135   139   130   100   128  \n",
      "8   103   114   110   103    79    80    82    86    90   111  \n",
      "9     -     -     -     -     -     -     -     -     -     -  \n",
      "\n",
      "[10 rows x 29 columns]\n"
     ]
    }
   ],
   "source": [
    "print(df2)"
   ]
  },
  {
   "cell_type": "markdown",
   "id": "37c66c5b",
   "metadata": {},
   "source": [
    "## jSON 파일\n",
    "- JSON 파일(확장자 .json)은 데이터 공유 목적으로 개발된 특수한 파일 형식\n",
    "- 파이썬 딕셔너리와 비슷하게 'key:value' 구조를 가짐<br>\n",
    "<code>pandas.read_json(\"파일 경로(이름).json\")</code>"
   ]
  },
  {
   "cell_type": "code",
   "execution_count": 77,
   "id": "dc47a577",
   "metadata": {},
   "outputs": [],
   "source": [
    "import pandas as pd\n",
    "\n",
    "# read_json() 함수로 데이터프레임 변환\n",
    "df = pd.read_json('./read_test.json')"
   ]
  },
  {
   "cell_type": "code",
   "execution_count": 75,
   "id": "aa84d1d1",
   "metadata": {},
   "outputs": [
    {
     "name": "stdout",
     "output_type": "stream",
     "text": [
      "           name  year        developer opensource\n",
      "pandas           2008    Wes Mckinneye       True\n",
      "NumPy            2006  Travis Oliphant       True\n",
      "matplotlib       2003   John D. Hunter       True\n"
     ]
    }
   ],
   "source": [
    "print(df)"
   ]
  },
  {
   "cell_type": "markdown",
   "id": "e569da9c",
   "metadata": {},
   "source": [
    "# 산술 연산\n",
    "- 판다스 객체의 산술 연산 3단계 프로세스(내부)\n",
    "1. 행/열 인덱스를 기준으로 모든 원소를 정렬\n",
    "2. 일대일 대응되는 원소끼리 연산\n",
    "3. 대응되는 원소가 없다면 NaN"
   ]
  },
  {
   "cell_type": "markdown",
   "id": "d589c836",
   "metadata": {},
   "source": [
    "## 시리즈 연산\n",
    "시리즈 vs 숫자\n",
    "- 시리즈 객체에 연산을 하면 계산된 결과를 시리즈 객체로 반환<br>\n",
    "<code>시리즈와 숫자 연산: Series객체 + 연산자(+, -, *, /) + 숫자</code>"
   ]
  },
  {
   "cell_type": "markdown",
   "id": "f29c2836",
   "metadata": {},
   "source": [
    "시리즈를 숫자로 나누기 예제"
   ]
  },
  {
   "cell_type": "code",
   "execution_count": 78,
   "id": "2301cdbf",
   "metadata": {},
   "outputs": [],
   "source": [
    "import pandas as pd\n",
    "\n",
    "# 딕셔너리 데이터로 판다스 시리즈 만들기\n",
    "student1 = pd.Series({'국어':100, '영어':80, '수학':90})"
   ]
  },
  {
   "cell_type": "code",
   "execution_count": 79,
   "id": "df69992d",
   "metadata": {},
   "outputs": [
    {
     "name": "stdout",
     "output_type": "stream",
     "text": [
      "국어    100\n",
      "영어     80\n",
      "수학     90\n",
      "dtype: int64\n"
     ]
    }
   ],
   "source": [
    "print(student1)"
   ]
  },
  {
   "cell_type": "code",
   "execution_count": 80,
   "id": "28b1e5c2",
   "metadata": {},
   "outputs": [],
   "source": [
    "# 학생의 과목별 점수를 100으로 나누기\n",
    "percentage = student1 / 100"
   ]
  },
  {
   "cell_type": "code",
   "execution_count": 82,
   "id": "2f0c3264",
   "metadata": {},
   "outputs": [
    {
     "name": "stdout",
     "output_type": "stream",
     "text": [
      "국어    1.0\n",
      "영어    0.8\n",
      "수학    0.9\n",
      "dtype: float64\n"
     ]
    }
   ],
   "source": [
    "print(percentage)"
   ]
  },
  {
   "cell_type": "markdown",
   "id": "7a5d9437",
   "metadata": {},
   "source": [
    "시리즈 vs 시리즈<br>\n",
    "<code>시리즈와 시리즈 연산: Series 객체1 + 연산자(+, -, *, /) + Series 객체2</code>"
   ]
  },
  {
   "cell_type": "markdown",
   "id": "72de4a20",
   "metadata": {},
   "source": [
    "시리즈 사칙연산 예제"
   ]
  },
  {
   "cell_type": "code",
   "execution_count": 91,
   "id": "f13b6bd4",
   "metadata": {},
   "outputs": [],
   "source": [
    "import pandas as pd\n",
    "\n",
    "# 딕셔너리 데이터로 판다스 시리즈 만들기\n",
    "student1 = pd.Series({'국어':100, '영어':80, '수학':90})\n",
    "student2 = pd.Series({'국어':80, '영어':90, '수학':80})\n",
    "\n",
    "# 두 학생의 과목별 점수로 사칙연산 수행\n",
    "addition = student1 + student2\n",
    "subtraction = student1 - student2\n",
    "multiplication = student1 * student2\n",
    "division = student1 / student2\n",
    "\n",
    "# 사칙연산 결과를 데이터프레임으로 합치기(시리즈 -> 데이터프레임)\n",
    "result = pd.DataFrame([addition, subtraction, multiplication, division],\n",
    "                      index = ['덧셈', '뺄셈', '곱셈', '나눗셈'])"
   ]
  },
  {
   "cell_type": "code",
   "execution_count": 92,
   "id": "69b5b431",
   "metadata": {},
   "outputs": [
    {
     "name": "stdout",
     "output_type": "stream",
     "text": [
      "국어    100\n",
      "영어     80\n",
      "수학     90\n",
      "dtype: int64\n"
     ]
    }
   ],
   "source": [
    "print(student1)"
   ]
  },
  {
   "cell_type": "code",
   "execution_count": 93,
   "id": "fc17034b",
   "metadata": {},
   "outputs": [
    {
     "name": "stdout",
     "output_type": "stream",
     "text": [
      "국어    80\n",
      "영어    90\n",
      "수학    80\n",
      "dtype: int64\n"
     ]
    }
   ],
   "source": [
    "print(student2)"
   ]
  },
  {
   "cell_type": "code",
   "execution_count": 94,
   "id": "18d49df9",
   "metadata": {},
   "outputs": [
    {
     "name": "stdout",
     "output_type": "stream",
     "text": [
      "          국어           영어        수학\n",
      "덧셈    180.00   170.000000   170.000\n",
      "뺄셈     20.00   -10.000000    10.000\n",
      "곱셈   8000.00  7200.000000  7200.000\n",
      "나눗셈     1.25     0.888889     1.125\n"
     ]
    }
   ],
   "source": [
    "print(result)"
   ]
  },
  {
   "cell_type": "markdown",
   "id": "1bde4c29",
   "metadata": {},
   "source": [
    "- 시리즈의 인덱스에 해당하는 부분이 데이터프레임의 열 자리에 오게 됨"
   ]
  },
  {
   "cell_type": "code",
   "execution_count": 95,
   "id": "9a47e666",
   "metadata": {},
   "outputs": [],
   "source": [
    "import pandas as pd\n",
    "import numpy as np\n",
    "\n",
    "# 딕셔너리 데이터로 판다스 시리즈 만들기\n",
    "student1 = pd.Series({'국어':np.nan, '영어':80, '수학':90})\n",
    "student2 = pd.Series({'수학':80, '국어':80})\n",
    "\n",
    "# 두 학생의 과목별 점수로 사칙연산 수행\n",
    "addition = student1 + student2\n",
    "subtraction = student1 - student2\n",
    "multiplication = student1 * student2\n",
    "division = student1 / student2\n",
    "\n",
    "# 사칙연산 결과를 데이터프레임으로 합치기(시리즈 -> 데이터프레임)\n",
    "result = pd.DataFrame([addition, subtraction, multiplication, division],\n",
    "                      index = ['덧셈', '뺄셈', '곱셈', '나눗셈'])"
   ]
  },
  {
   "cell_type": "code",
   "execution_count": 96,
   "id": "6af6e7d2",
   "metadata": {},
   "outputs": [
    {
     "name": "stdout",
     "output_type": "stream",
     "text": [
      "국어     NaN\n",
      "영어    80.0\n",
      "수학    90.0\n",
      "dtype: float64\n"
     ]
    }
   ],
   "source": [
    "print(student1)"
   ]
  },
  {
   "cell_type": "code",
   "execution_count": 97,
   "id": "7a748b68",
   "metadata": {},
   "outputs": [
    {
     "name": "stdout",
     "output_type": "stream",
     "text": [
      "수학    80\n",
      "국어    80\n",
      "dtype: int64\n"
     ]
    }
   ],
   "source": [
    "print(student2)"
   ]
  },
  {
   "cell_type": "code",
   "execution_count": 98,
   "id": "9c9c0773",
   "metadata": {},
   "outputs": [
    {
     "name": "stdout",
     "output_type": "stream",
     "text": [
      "     국어        수학  영어\n",
      "덧셈  NaN   170.000 NaN\n",
      "뺄셈  NaN    10.000 NaN\n",
      "곱셈  NaN  7200.000 NaN\n",
      "나눗셈 NaN     1.125 NaN\n"
     ]
    }
   ],
   "source": [
    "print(result)"
   ]
  },
  {
   "cell_type": "markdown",
   "id": "8c35e1ac",
   "metadata": {},
   "source": [
    "연산 메소드\n",
    "- 연산 결과가 NaN으로 반환되지 않도록 하기 위해 연산 메소드에 fill_value 옵션을 설정하여 적용<br>\n",
    "<code>연산 메소드 사용(시리즈와 시리즈 덧셈): Series 객체1.add(Series 객체2, fill_value=0)</code>"
   ]
  },
  {
   "cell_type": "markdown",
   "id": "6746546d",
   "metadata": {},
   "source": [
    "연산 메소드 사용 예제(시리즈 연산)"
   ]
  },
  {
   "cell_type": "code",
   "execution_count": 100,
   "id": "2d1590aa",
   "metadata": {},
   "outputs": [],
   "source": [
    "import pandas as pd\n",
    "import numpy as np\n",
    "\n",
    "# 딕셔너리 데이터로 판다스 시리즈 만들기\n",
    "student1 = pd.Series({'국어':np.nan, '영어':80, '수학':90})\n",
    "student2 = pd.Series({'수학':80, '국어':80})\n",
    "\n",
    "# 두 학생의 과목별 점수로 사칙연산 수행\n",
    "sr_add = student1.add(student2, fill_value=0)\n",
    "sr_sub = student1.sub(student2, fill_value=0)\n",
    "sr_mul = student1.mul(student2, fill_value=0)\n",
    "sr_div = student1.div(student2, fill_value=0)\n",
    "\n",
    "# 사칙연산 결과를 데이터프레임으로 합치기(시리즈 -> 데이터프레임)\n",
    "result = pd.DataFrame([sr_add, sr_sub, sr_mul, sr_div],\n",
    "                      index = ['덧셈', '뺄셈', '곱셈', '나눗셈'])"
   ]
  },
  {
   "cell_type": "code",
   "execution_count": 101,
   "id": "c9291b6c",
   "metadata": {},
   "outputs": [
    {
     "name": "stdout",
     "output_type": "stream",
     "text": [
      "       국어        수학    영어\n",
      "덧셈   80.0   170.000  80.0\n",
      "뺄셈  -80.0    10.000  80.0\n",
      "곱셈    0.0  7200.000   0.0\n",
      "나눗셈   0.0     1.125   inf\n"
     ]
    }
   ],
   "source": [
    "print(result)"
   ]
  },
  {
   "cell_type": "markdown",
   "id": "c3ebf9df",
   "metadata": {},
   "source": [
    "- '영어' 열의 나눗셈 값은 80을 0으로 나누었기 때문에 무한대로 표기(inf)"
   ]
  },
  {
   "cell_type": "markdown",
   "id": "b7917fd0",
   "metadata": {},
   "source": [
    "## 데이터프레임 연산\n",
    "- 데이터프레임은 여러 시리즈 한데 모인 것\n",
    "- 행/열 인덱스를 정렬하고 일대일 대응되는 원소끼리 연산 처리"
   ]
  },
  {
   "cell_type": "markdown",
   "id": "1bcb3585",
   "metadata": {},
   "source": [
    "데이터프레임 vs 숫자<br>\n",
    "<code>데이터프레임과 숫자 연산: DataFrame 객체 + 연산자(+, -, *, /) + 숫자<code>"
   ]
  },
  {
   "cell_type": "markdown",
   "id": "49e71691",
   "metadata": {},
   "source": [
    "데이터프레임에 숫자 더하기 예제"
   ]
  },
  {
   "cell_type": "code",
   "execution_count": 129,
   "id": "188c8094",
   "metadata": {},
   "outputs": [],
   "source": [
    "import pandas as pd\n",
    "import seaborn as sns\n",
    "\n",
    "# titanic 데이터셋에서 age, fare 2개 열을 선택하여 데이터프레임 만들기\n",
    "titanic = sns.load_dataset('titanic')\n",
    "df = titanic.loc[:,['age', 'fare']]"
   ]
  },
  {
   "cell_type": "code",
   "execution_count": 104,
   "id": "e6d43752",
   "metadata": {},
   "outputs": [
    {
     "name": "stdout",
     "output_type": "stream",
     "text": [
      "    age     fare\n",
      "0  22.0   7.2500\n",
      "1  38.0  71.2833\n",
      "2  26.0   7.9250\n",
      "3  35.0  53.1000\n",
      "4  35.0   8.0500\n"
     ]
    }
   ],
   "source": [
    "# 첫 5행만 표시\n",
    "print(df.head())"
   ]
  },
  {
   "cell_type": "code",
   "execution_count": 105,
   "id": "aa8c02d9",
   "metadata": {},
   "outputs": [],
   "source": [
    "# 데이터프레임에 숫자 10 더하기\n",
    "addition = df + 10"
   ]
  },
  {
   "cell_type": "code",
   "execution_count": 106,
   "id": "25daf290",
   "metadata": {},
   "outputs": [
    {
     "name": "stdout",
     "output_type": "stream",
     "text": [
      "    age     fare\n",
      "0  32.0  17.2500\n",
      "1  48.0  81.2833\n",
      "2  36.0  17.9250\n",
      "3  45.0  63.1000\n",
      "4  45.0  18.0500\n"
     ]
    }
   ],
   "source": [
    "print(addition.head())"
   ]
  },
  {
   "cell_type": "markdown",
   "id": "4f5b7155",
   "metadata": {},
   "source": [
    "데이터프레임 vs 데이터프레임\n",
    "- 각 데이터프레임의 같은 행, 같은 열 위치에 있는 원소끼리 계산\n",
    "- 데이터프레임에서 어느 한 쪽에 원소가 존재하지 않거나 NaN이면 연산 결과로 NaN으로 처리됨<br>\n",
    "<code>데이터프레임의 연산자 활용: DataFrame 객체1 + 연산자(+, -, *, /) + DataFrame 객체2</code>"
   ]
  },
  {
   "cell_type": "code",
   "execution_count": 135,
   "id": "9b50fe0a",
   "metadata": {},
   "outputs": [],
   "source": [
    "import pandas as pd\n",
    "import seaborn as sns\n",
    "\n",
    "# titanic 데이터셋에서 age, fare 2개 열을 선택하여 데이터프레임 만들기\n",
    "titanic = sns.load_dataset('titanic')\n",
    "df = titanic.loc[:,['age', 'fare']]\n",
    "\n",
    "# 데이터프레임에 숫자 10 더하기\n",
    "addition = df + 10"
   ]
  },
  {
   "cell_type": "code",
   "execution_count": 136,
   "id": "938fc210",
   "metadata": {},
   "outputs": [],
   "source": [
    "# 데이터 프레임끼리 연산하기\n",
    "subtraction = addition - df"
   ]
  },
  {
   "cell_type": "code",
   "execution_count": 110,
   "id": "1471eef5",
   "metadata": {},
   "outputs": [
    {
     "name": "stdout",
     "output_type": "stream",
     "text": [
      "    age  fare\n",
      "0  10.0  10.0\n",
      "1  10.0  10.0\n",
      "2  10.0  10.0\n",
      "3  10.0  10.0\n",
      "4  10.0  10.0\n"
     ]
    }
   ],
   "source": [
    "print(subtraction.head())"
   ]
  },
  {
   "cell_type": "code",
   "execution_count": 111,
   "id": "e62dd84c",
   "metadata": {},
   "outputs": [
    {
     "name": "stdout",
     "output_type": "stream",
     "text": [
      "      age  fare\n",
      "886  10.0  10.0\n",
      "887  10.0  10.0\n",
      "888   NaN  10.0\n",
      "889  10.0  10.0\n",
      "890  10.0  10.0\n"
     ]
    }
   ],
   "source": [
    "print(subtraction.tail())"
   ]
  },
  {
   "cell_type": "markdown",
   "id": "2893bdda",
   "metadata": {},
   "source": [
    "데이터프레임 연산에서 NaN 처리하기 예제 - 첫 번째 방법"
   ]
  },
  {
   "cell_type": "code",
   "execution_count": 116,
   "id": "a7e79fdf",
   "metadata": {},
   "outputs": [],
   "source": [
    "import pandas as pd\n",
    "import seaborn as sns\n",
    "\n",
    "# titanic 데이터셋에서 age, fare 2개 열을 선택하여 데이터프레임 만들기\n",
    "titanic = sns.load_dataset('titanic')\n",
    "df = titanic.loc[:,['age', 'fare']]\n",
    "\n",
    "# 데이터프레임에 숫자 10 더하기\n",
    "addition = df + 10  # NaN(0) + 10"
   ]
  },
  {
   "cell_type": "code",
   "execution_count": 121,
   "id": "64273767",
   "metadata": {},
   "outputs": [],
   "source": [
    "df_sub.ffill(inplace = True)"
   ]
  },
  {
   "cell_type": "markdown",
   "id": "9ea8f248",
   "metadata": {},
   "source": [
    "- ffill() 함수 사용시 이전 연산에 대한 결과값을 NaN 대신 출력"
   ]
  },
  {
   "cell_type": "code",
   "execution_count": 122,
   "id": "82eb8f67",
   "metadata": {},
   "outputs": [
    {
     "name": "stdout",
     "output_type": "stream",
     "text": [
      "      age  fare\n",
      "886  10.0  10.0\n",
      "887  10.0  10.0\n",
      "888  10.0  10.0\n",
      "889  10.0  10.0\n",
      "890  10.0  10.0\n"
     ]
    }
   ],
   "source": [
    "print(df_sub.tail())"
   ]
  },
  {
   "cell_type": "markdown",
   "id": "ae959fe9",
   "metadata": {},
   "source": [
    "데이터프레임 연산에서 NaN 처리하기 예제 - 두번째 방법"
   ]
  },
  {
   "cell_type": "code",
   "execution_count": 127,
   "id": "02a0e30f",
   "metadata": {},
   "outputs": [],
   "source": [
    "import pandas as pd\n",
    "import seaborn as sns\n",
    "\n",
    "# titanic 데이터셋에서 age, fare 2개 열을 선택하여 데이터프레임 만들기\n",
    "titanic = sns.load_dataset('titanic')\n",
    "df = titanic.loc[:,['age', 'fare']]\n",
    "\n",
    "# 데이터프레임에 NaN 을 0으로 바꾸기\n",
    "df.fillna(0, inplace = True)\n",
    "\n",
    "# 데이터프레임에 숫자 10 더하기\n",
    "addition = df + 10"
   ]
  },
  {
   "cell_type": "code",
   "execution_count": 128,
   "id": "55927e49",
   "metadata": {},
   "outputs": [
    {
     "name": "stdout",
     "output_type": "stream",
     "text": [
      "      age   fare\n",
      "886  37.0  23.00\n",
      "887  29.0  40.00\n",
      "888  10.0  33.45\n",
      "889  36.0  40.00\n",
      "890  42.0  17.75\n"
     ]
    }
   ],
   "source": [
    "print(addition.tail())"
   ]
  },
  {
   "cell_type": "code",
   "execution_count": 138,
   "id": "889a2e06",
   "metadata": {},
   "outputs": [
    {
     "name": "stdout",
     "output_type": "stream",
     "text": [
      "Requirement already satisfied: seaborn in c:\\users\\student\\anaconda3\\lib\\site-packages (0.11.2)\n",
      "Requirement already satisfied: scipy>=1.0 in c:\\users\\student\\anaconda3\\lib\\site-packages (from seaborn) (1.7.1)\n",
      "Requirement already satisfied: pandas>=0.23 in c:\\users\\student\\anaconda3\\lib\\site-packages (from seaborn) (1.3.4)\n",
      "Requirement already satisfied: matplotlib>=2.2 in c:\\users\\student\\anaconda3\\lib\\site-packages (from seaborn) (3.4.3)\n",
      "Requirement already satisfied: numpy>=1.15 in c:\\users\\student\\anaconda3\\lib\\site-packages (from seaborn) (1.20.3)\n",
      "Requirement already satisfied: cycler>=0.10 in c:\\users\\student\\anaconda3\\lib\\site-packages (from matplotlib>=2.2->seaborn) (0.10.0)\n",
      "Requirement already satisfied: kiwisolver>=1.0.1 in c:\\users\\student\\anaconda3\\lib\\site-packages (from matplotlib>=2.2->seaborn) (1.3.1)\n",
      "Requirement already satisfied: pillow>=6.2.0 in c:\\users\\student\\anaconda3\\lib\\site-packages (from matplotlib>=2.2->seaborn) (8.4.0)\n",
      "Requirement already satisfied: pyparsing>=2.2.1 in c:\\users\\student\\anaconda3\\lib\\site-packages (from matplotlib>=2.2->seaborn) (3.0.4)\n",
      "Requirement already satisfied: python-dateutil>=2.7 in c:\\users\\student\\anaconda3\\lib\\site-packages (from matplotlib>=2.2->seaborn) (2.8.2)\n",
      "Note: you may need to restart the kernel to use updated packages.\n",
      "Requirement already satisfied: six in c:\\users\\student\\anaconda3\\lib\\site-packages (from cycler>=0.10->matplotlib>=2.2->seaborn) (1.16.0)\n",
      "Requirement already satisfied: pytz>=2017.3 in c:\\users\\student\\anaconda3\\lib\\site-packages (from pandas>=0.23->seaborn) (2021.3)\n"
     ]
    }
   ],
   "source": [
    "%pip install seaborn"
   ]
  },
  {
   "cell_type": "code",
   "execution_count": null,
   "id": "8fb07bda",
   "metadata": {},
   "outputs": [],
   "source": []
  }
 ],
 "metadata": {
  "kernelspec": {
   "display_name": "Python 3 (ipykernel)",
   "language": "python",
   "name": "python3"
  },
  "language_info": {
   "codemirror_mode": {
    "name": "ipython",
    "version": 3
   },
   "file_extension": ".py",
   "mimetype": "text/x-python",
   "name": "python",
   "nbconvert_exporter": "python",
   "pygments_lexer": "ipython3",
   "version": "3.9.7"
  }
 },
 "nbformat": 4,
 "nbformat_minor": 5
}
