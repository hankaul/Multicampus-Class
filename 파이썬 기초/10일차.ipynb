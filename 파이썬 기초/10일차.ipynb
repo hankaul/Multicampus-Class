{
 "cells": [
  {
   "cell_type": "markdown",
   "id": "693314e5",
   "metadata": {},
   "source": [
    "주피터 노트북 상에서 모듈 설치 방법"
   ]
  },
  {
   "cell_type": "code",
   "execution_count": 1,
   "id": "315aedc3",
   "metadata": {},
   "outputs": [
    {
     "name": "stdout",
     "output_type": "stream",
     "text": [
      "Requirement already satisfied: pywin32 in c:\\users\\student\\anaconda3\\lib\\site-packages (228)\n",
      "Requirement already satisfied: pyperclip in c:\\users\\student\\anaconda3\\lib\\site-packages (1.8.2)\n"
     ]
    }
   ],
   "source": [
    "!pip install pywin32 pyperclip"
   ]
  },
  {
   "cell_type": "code",
   "execution_count": 2,
   "id": "956fc9fb",
   "metadata": {},
   "outputs": [
    {
     "name": "stdout",
     "output_type": "stream",
     "text": [
      "Requirement already satisfied: selenium in c:\\users\\student\\anaconda3\\lib\\site-packages (4.1.0)\n",
      "Requirement already satisfied: trio~=0.17 in c:\\users\\student\\anaconda3\\lib\\site-packages (from selenium) (0.19.0)\n",
      "Requirement already satisfied: urllib3[secure]~=1.26 in c:\\users\\student\\anaconda3\\lib\\site-packages (from selenium) (1.26.7)\n",
      "Requirement already satisfied: trio-websocket~=0.9 in c:\\users\\student\\anaconda3\\lib\\site-packages (from selenium) (0.9.2)\n",
      "Requirement already satisfied: sortedcontainers in c:\\users\\student\\anaconda3\\lib\\site-packages (from trio~=0.17->selenium) (2.4.0)\n",
      "Requirement already satisfied: sniffio in c:\\users\\student\\anaconda3\\lib\\site-packages (from trio~=0.17->selenium) (1.2.0)\n",
      "Requirement already satisfied: async-generator>=1.9 in c:\\users\\student\\anaconda3\\lib\\site-packages (from trio~=0.17->selenium) (1.10)\n",
      "Requirement already satisfied: attrs>=19.2.0 in c:\\users\\student\\anaconda3\\lib\\site-packages (from trio~=0.17->selenium) (21.2.0)\n",
      "Requirement already satisfied: outcome in c:\\users\\student\\anaconda3\\lib\\site-packages (from trio~=0.17->selenium) (1.1.0)\n",
      "Requirement already satisfied: cffi>=1.14 in c:\\users\\student\\anaconda3\\lib\\site-packages (from trio~=0.17->selenium) (1.14.6)\n",
      "Requirement already satisfied: idna in c:\\users\\student\\anaconda3\\lib\\site-packages (from trio~=0.17->selenium) (3.2)\n",
      "Requirement already satisfied: pycparser in c:\\users\\student\\anaconda3\\lib\\site-packages (from cffi>=1.14->trio~=0.17->selenium) (2.20)\n",
      "Requirement already satisfied: wsproto>=0.14 in c:\\users\\student\\anaconda3\\lib\\site-packages (from trio-websocket~=0.9->selenium) (1.0.0)\n",
      "Requirement already satisfied: pyOpenSSL>=0.14 in c:\\users\\student\\anaconda3\\lib\\site-packages (from urllib3[secure]~=1.26->selenium) (21.0.0)\n",
      "Requirement already satisfied: cryptography>=1.3.4 in c:\\users\\student\\anaconda3\\lib\\site-packages (from urllib3[secure]~=1.26->selenium) (3.4.8)\n",
      "Requirement already satisfied: certifi in c:\\users\\student\\anaconda3\\lib\\site-packages (from urllib3[secure]~=1.26->selenium) (2021.10.8)\n",
      "Requirement already satisfied: six>=1.5.2 in c:\\users\\student\\anaconda3\\lib\\site-packages (from pyOpenSSL>=0.14->urllib3[secure]~=1.26->selenium) (1.16.0)\n",
      "Requirement already satisfied: h11<1,>=0.9.0 in c:\\users\\student\\anaconda3\\lib\\site-packages (from wsproto>=0.14->trio-websocket~=0.9->selenium) (0.13.0)\n"
     ]
    }
   ],
   "source": [
    "!pip install selenium"
   ]
  },
  {
   "cell_type": "markdown",
   "id": "a6cca2b4",
   "metadata": {},
   "source": [
    "파이썬에서 크롬 드라이버 실행 방법"
   ]
  },
  {
   "cell_type": "code",
   "execution_count": 3,
   "id": "67ddee46",
   "metadata": {},
   "outputs": [],
   "source": [
    "from selenium import webdriver"
   ]
  },
  {
   "cell_type": "markdown",
   "id": "403fa1e0",
   "metadata": {},
   "source": [
    "- chromedriver.exe를 사용하기 위해서는 selenium 모듈을 import 시켜야 함"
   ]
  },
  {
   "cell_type": "code",
   "execution_count": null,
   "id": "44f91d95",
   "metadata": {},
   "outputs": [],
   "source": [
    "driver = webdriver.Chrome(executable_path=\"chromedriver_win32/chromedriver.exe\")"
   ]
  },
  {
   "cell_type": "markdown",
   "id": "dff72764",
   "metadata": {},
   "source": [
    "- webdriver.Chrome 을 사용하여 실행 위치를 지정"
   ]
  },
  {
   "cell_type": "code",
   "execution_count": 4,
   "id": "dba18968",
   "metadata": {},
   "outputs": [
    {
     "name": "stderr",
     "output_type": "stream",
     "text": [
      "C:\\Users\\student\\AppData\\Local\\Temp/ipykernel_13564/1221561687.py:1: DeprecationWarning: executable_path has been deprecated, please pass in a Service object\n",
      "  driver = webdriver.Chrome(executable_path=\"C:/Users/student/Python/chromedriver_win32/chromedriver.exe\")\n"
     ]
    }
   ],
   "source": [
    "driver = webdriver.Chrome(executable_path=\"C:/Users/student/Python/chromedriver_win32/chromedriver.exe\")"
   ]
  },
  {
   "cell_type": "markdown",
   "id": "039710a8",
   "metadata": {},
   "source": [
    "- chromedriver.exe 의 위치를 알고 있다면 파일 우클릭하여 경로를 확인\n",
    "- 해당 경로를 넣어주는 방법도 있음"
   ]
  },
  {
   "cell_type": "code",
   "execution_count": null,
   "id": "9ab1fb31",
   "metadata": {},
   "outputs": [],
   "source": [
    "driver.get(\"https://www.naver.com\")"
   ]
  },
  {
   "cell_type": "markdown",
   "id": "e0821d85",
   "metadata": {},
   "source": [
    "인스타그램 특정 태그가 달린 게시물 캡쳐"
   ]
  },
  {
   "cell_type": "markdown",
   "id": "60b4ca46",
   "metadata": {},
   "source": [
    "모듈 파일 작성(insta_bot_capture.py)"
   ]
  },
  {
   "cell_type": "code",
   "execution_count": null,
   "id": "41693a68",
   "metadata": {},
   "outputs": [],
   "source": [
    "# 브라우저를 제어하기 위해 selenium 모듈의 webdriver를 import\n",
    "from selenium import webdriver\n",
    "\n",
    "# 브라우저를 옵션을 이용해서 활성화시키기 위해 Options를 import\n",
    "from selenium.webdriver.chrome.options import Options\n",
    "\n",
    "# 클릭과 캡쳐를 위해 keys를 import\n",
    "from selenium.webdriver.common.keys import Keys\n",
    "\n",
    "# 작업과 작업 사이에 딜레이를 주기 위해 time 모듈을 import\n",
    "import time\n",
    "\n",
    "class CaptureBot:\n",
    "    def __init__(self):\n",
    "        \n",
    "        # 홈페이지를 변수에 저장\n",
    "        self.querry = \"https://www.instagram.com/explore/tags/\"\n",
    "        \n",
    "        # 셀레늄 웹드라이버에 입력할 옵션을 지정\n",
    "        self.options = Options()\n",
    "        \n",
    "        # 옵션에 해상도를 입력\n",
    "        self.options.add_argument(\"--window-size=1920, 1080\")\n",
    "        \n",
    "        # 화면이 존재하지 않는 서버에서 사용한다면 해상도 입력 옵션 사용 X\n",
    "        # ex) 리눅스 cli 서버, 우분투 서버\n",
    "        # 아래 headless 옵션을 사용\n",
    "        # self.options.add_argument(\"headless\")\n",
    "        \n",
    "        # 크롬 드라이버 실행\n",
    "        self.driver = webdriver.Chrome(\n",
    "            executable_path=\"chromedriver_win32/chromedriver.exe\",\n",
    "            chrome_options=self.options)\n",
    "        \n",
    "    # 크롤러 종료 메서드\n",
    "    def kill(self):\n",
    "        self.driver.quit()\n",
    "        \n",
    "    # 스크린샷 메서드\n",
    "    # html 요소를 가지고 스크린샷을 하는 것이 아닌 전체를 스크린샷\n",
    "    def save_screenshot(self, filename):\n",
    "        self.driver.save_screenshot(filename)\n",
    "        \n",
    "    # 인스타그램 로그인 메서드\n",
    "    def login(self, id, ps):\n",
    "        \n",
    "        # 로그인 페이지로 이동\n",
    "        self.driver.get(\"https://www.instagram.com/accounts/login/\")\n",
    "        \n",
    "        # 다음 동작을 위해 딜레이 시간 부여\n",
    "        time.sleep(5)\n",
    "        \n",
    "        # 아이디와 패스워드 입력을 위해 <input> 태그 찾기\n",
    "        input_field = self.driver.find_elements_by_tag_name(\"input\")\n",
    "        \n",
    "        # 첫 번째 요소 아이디를 입력\n",
    "        input_field[0].send_keys(id)\n",
    "        \n",
    "        # 두 번째 요소 패스워드를 입력\n",
    "        input_field[1].send_keys(ps)\n",
    "        \n",
    "        # 엔터키를 눌러 로그인 마무리\n",
    "        input_field[1].send_keys(Keys.RETURN)\n",
    "        \n",
    "        # 다음 동작을 위해 딜레이 시간 부여\n",
    "        time.sleep(5)\n",
    "        \n",
    "    # 인스타그램 태그 검색 메서드\n",
    "    def search_tag(self, tag):\n",
    "        \n",
    "        # 위에서 지정한 URL 주소와 태그를 결합해서 브라우저를 열어줌\n",
    "        self.driver.get(self.querry + tag)\n",
    "        \n",
    "        # 다음 동작을 위해 딜레이 시간 부여\n",
    "        time.sleep(5)\n",
    "        \n",
    "    # 최근 게시물 첫 번째 사진을 선택하여 클릭하는 메서드\n",
    "    def select_picture(self):\n",
    "        \n",
    "        # 최근 게시물의 위치를 recent_picture_xpath에 지정\n",
    "        recent_picture_xpath = '//*[@id=\"react-root\"]/section/main/article/div[2]/div/div[1]/div[1]'\n",
    "        \n",
    "        # recent_picture_xpath의 요소를 가져와서 저장\n",
    "        recent_picture = self.driver.find_element_by_xpath(recent_picture_xpath)\n",
    "        \n",
    "        # 최근 게시물 클릭\n",
    "        recent_picture.click()\n",
    "        \n",
    "        # 다음 동작을 위해 딜레이 시간 부여\n",
    "        time.sleep(5)\n",
    "        \n",
    "    # 게시물들을 돌아다니면서 캡쳐하는 메서드\n",
    "    # num 변수에 몇 번 반복할 것인지를 저장\n",
    "    # -1 을 입력하면 직접 종료하기 전까지 무한정으로 계속 캡쳐\n",
    "    def capture_pictures(self, directory, num):\n",
    "        \n",
    "        # 반복할 횟수를 count에 저장\n",
    "        count = num\n",
    "        \n",
    "        # count가 0이 될때까지 계속 반복\n",
    "        # num에 -1이 들어오게 되면 무한 반복\n",
    "        while count != 0:\n",
    "            \n",
    "            # 카운트를 1씩 차감\n",
    "            count -= 1\n",
    "            \n",
    "            # 캡쳐할 그림 위치를 article_xpath에 지정\n",
    "            article_xpath = '/html/body/div[6]/div[3]/div/article/div/div[1]/div/div/div[2]'\n",
    "        \n",
    "            # article_xpath의 요소를 가져와서 저장\n",
    "            article_element = self.driver.find_element_by_xpath(article_xpath)\n",
    "            \n",
    "            # html 요소를 이용한 스크린샷\n",
    "            #\n",
    "            article_element.screenshot(directory + \"/\" + str(time.time()) + \".png\")\n",
    "            #                           폴더명   구분자     랜덤값          확장자\n",
    "            \n",
    "            # 다음 동작을 위해 딜레이 시간 부여\n",
    "            time.sleep(5)\n",
    "            \n",
    "            # 다음 게시물로 넘어감\n",
    "            next_button = '/html/body/div[6]/div[2]/div/div[2]/button/div/span'            \n",
    "            next_button_element = self.driver.find_element_by_xpath(next_button)\n",
    "            next_button_element.click()\n",
    "            \n",
    "            # 다음 동작을 위해 딜레이 시간 부여\n",
    "            time.sleep(5)\n",
    "            \n",
    "    # 검색, 캡처를 하나로 묶은 매크로 만들기\n",
    "    # tag, directory, num 변수 필요 <---- 위에 메서드에서 찾기\n",
    "    # 10장 캡쳐\n",
    "    def insta_jungbok(self, tag, directory, num):\n",
    "        \n",
    "        # 태그 검색도 하고\n",
    "        self.search_tag(tag)\n",
    "        \n",
    "        # 사진 첫 장을 선택하고\n",
    "        self.select_picture()\n",
    "        \n",
    "        # 캡쳐를 하면서 한 장씩 넘기기\n",
    "        self.capture_pictures(directory, num)"
   ]
  },
  {
   "cell_type": "markdown",
   "id": "1881dce3",
   "metadata": {},
   "source": [
    "메인 파일 작성(insta_bot_capture_main.py)"
   ]
  },
  {
   "cell_type": "code",
   "execution_count": null,
   "id": "0a31a08c",
   "metadata": {},
   "outputs": [],
   "source": [
    "# 인자를 받기 위해 sys 모듈 import\n",
    "import sys\n",
    "\n",
    "# 디렉토리를 만들기 위해 os 모듈 import\n",
    "import os\n",
    "\n",
    "# insta_bot_capture 모듈 import\n",
    "import insta_bot_capture as ib\n",
    "\n",
    "# 아이디를 입력\n",
    "id = sys.argv[1]\n",
    "\n",
    "# 패스워드를 입력\n",
    "ps = sys.argv[2]\n",
    "\n",
    "# 태그 입력\n",
    "tag = sys.argv[3]\n",
    "\n",
    "# 디렉토리 입력\n",
    "directory = sys.argv[4]\n",
    "\n",
    "# 결과물 디렉토리 생성\n",
    "if directory not in os.listdir():\n",
    "    os.mkdir(directory)\n",
    "    \n",
    "# 반복할 횟수 입력\n",
    "NUMBER = int(sys.argv[5].strip())\n",
    "\n",
    "# 크롤러 호출\n",
    "BOT = ib.CaptureBot()\n",
    "\n",
    "# 인스타에 로그인\n",
    "BOT.login(id, ps)\n",
    "\n",
    "# 태그 검색\n",
    "# BOT.search_tag(tag)\n",
    "        \n",
    "# 사진 첫 장을 선택하고\n",
    "# BOT.select_picture()\n",
    "        \n",
    "# 캡쳐를 하면서 한 장씩 넘기기\n",
    "# BOT.capture_pictures(directory, NUMBER)\n",
    "\n",
    "# 하나로 묶은 매크로 사용\n",
    "BOT.insta_jungbok(tag, directory, NUMBER)\n",
    "\n",
    "# 작업 완료 후 크롤러 종료\n",
    "BOT.kill()"
   ]
  },
  {
   "cell_type": "code",
   "execution_count": 29,
   "id": "da5d795d",
   "metadata": {},
   "outputs": [
    {
     "name": "stdout",
     "output_type": "stream",
     "text": [
      "^C\n"
     ]
    }
   ],
   "source": [
    "!python insta_bot_capture_main.py 01094391316 [비밀번호] 고양이 인스타_캡쳐 10"
   ]
  },
  {
   "cell_type": "markdown",
   "id": "82bc093d",
   "metadata": {},
   "source": [
    "인스타그램 특정 태그가 달린 게시물 좋아요"
   ]
  },
  {
   "cell_type": "markdown",
   "id": "e7743ed0",
   "metadata": {},
   "source": [
    "모듈 파일 작성(insta_bot_like.py)"
   ]
  },
  {
   "cell_type": "code",
   "execution_count": 30,
   "id": "eb7c3b76",
   "metadata": {},
   "outputs": [
    {
     "ename": "IndentationError",
     "evalue": "expected an indented block (Temp/ipykernel_13564/1019644120.py, line 104)",
     "output_type": "error",
     "traceback": [
      "\u001b[1;36m  File \u001b[1;32m\"C:\\Users\\student\\AppData\\Local\\Temp/ipykernel_13564/1019644120.py\"\u001b[1;36m, line \u001b[1;32m104\u001b[0m\n\u001b[1;33m    # \"좋아요\"태그를 기반으로\u001b[0m\n\u001b[1;37m                    ^\u001b[0m\n\u001b[1;31mIndentationError\u001b[0m\u001b[1;31m:\u001b[0m expected an indented block\n"
     ]
    }
   ],
   "source": [
    "# 브라우저를 제어하기 위해 selenium 모듈의 webdriver를 import\n",
    "from selenium import webdriver\n",
    "\n",
    "# 브라우저를 옵션을 이용해서 활성화시키기 위해 Options를 import\n",
    "from selenium.webdriver.chrome.options import Options\n",
    "\n",
    "# 클릭과 캡쳐를 위해 keys를 import\n",
    "from selenium.webdriver.common.keys import Keys\n",
    "\n",
    "# 작업과 작업 사이에 딜레이를 주기 위해 time 모듈을 import\n",
    "import time\n",
    "\n",
    "class LikeBot:\n",
    "    def __init__(self):\n",
    "        \n",
    "        # 홈페이지를 변수에 저장\n",
    "        self.querry = \"https://www.instagram.com/explore/tags/\"\n",
    "        \n",
    "        # 셀레늄 웹드라이버에 입력할 옵션을 지정\n",
    "        self.options = Options()\n",
    "        \n",
    "        # 옵션에 해상도를 입력\n",
    "        self.options.add_argument(\"--window-size=1920, 1080\")\n",
    "        \n",
    "        # 화면이 존재하지 않는 서버에서 사용한다면 해상도 입력 옵션 사용 X\n",
    "        # ex) 리눅스 cli 서버, 우분투 서버\n",
    "        # 아래 headless 옵션을 사용\n",
    "        # self.options.add_argument(\"headless\")\n",
    "        \n",
    "        # 크롬 드라이버 실행\n",
    "        self.driver = webdriver.Chrome(\n",
    "            executable_path=\"chromedriver_win32/chromedriver.exe\",\n",
    "            chrome_options=self.options)\n",
    "        \n",
    "    # 크롤러 종료 메서드\n",
    "    def kill(self):\n",
    "        self.driver.quit()\n",
    "        \n",
    "    # 스크린샷 메서드\n",
    "    # html 요소를 가지고 스크린샷을 하는 것이 아닌 전체를 스크린샷\n",
    "    def save_screenshot(self, filename):\n",
    "        self.driver.save_screenshot(filename)\n",
    "        \n",
    "    # 인스타그램 로그인 메서드\n",
    "    def login(self, id, ps):\n",
    "        \n",
    "        # 로그인 페이지로 이동\n",
    "        self.driver.get(\"https://www.instagram.com/accounts/login/\")\n",
    "        \n",
    "        # 다음 동작을 위해 딜레이 시간 부여\n",
    "        time.sleep(5)\n",
    "        \n",
    "        # 아이디와 패스워드 입력을 위해 <input> 태그 찾기\n",
    "        input_field = self.driver.find_elements_by_tag_name(\"input\")\n",
    "        \n",
    "        # 첫 번째 요소 아이디를 입력\n",
    "        input_field[0].send_keys(id)\n",
    "        \n",
    "        # 두 번째 요소 패스워드를 입력\n",
    "        input_field[1].send_keys(ps)\n",
    "        \n",
    "        # 엔터키를 눌러 로그인 마무리\n",
    "        input_field[1].send_keys(Keys.RETURN)\n",
    "        \n",
    "        # 다음 동작을 위해 딜레이 시간 부여\n",
    "        time.sleep(5)\n",
    "        \n",
    "    # 인스타그램 태그 검색 메서드\n",
    "    def search_tag(self, tag):\n",
    "        \n",
    "        # 위에서 지정한 URL 주소와 태그를 결합해서 브라우저를 열어줌\n",
    "        self.driver.get(self.querry + tag)\n",
    "        \n",
    "        # 다음 동작을 위해 딜레이 시간 부여\n",
    "        time.sleep(5)\n",
    "        \n",
    "    # 최근 게시물 첫 번째 사진을 선택하여 클릭하는 메서드\n",
    "    def select_picture(self):\n",
    "        \n",
    "        # 최근 게시물의 위치를 recent_picture_xpath에 지정\n",
    "        recent_picture_xpath = '//*[@id=\"react-root\"]/section/main/article/div[2]/div/div[1]/div[1]'\n",
    "        \n",
    "        # recent_picture_xpath의 요소를 가져와서 저장\n",
    "        recent_picture = self.driver.find_element_by_xpath(recent_picture_xpath)\n",
    "        \n",
    "        # 최근 게시물 클릭\n",
    "        recent_picture.click()\n",
    "        \n",
    "        # 다음 동작을 위해 딜레이 시간 부여\n",
    "        time.sleep(5)\n",
    "    \n",
    "    # 게시물들을 돌아다니면서 '좋아요' 버튼을 누르는 메서드\n",
    "    # num 변수에 몇 번 반복할 것인지를 저장\n",
    "    # -1 을 입력하면 직접 종료하기 전까지 무한정으로 계속 '좋아요' 버튼 클릭\n",
    "    def press_like(self, num):\n",
    "        \n",
    "        # 반복할 횟수를 count에 저장\n",
    "        count = num\n",
    "        \n",
    "        # count가 0이 될때까지 계속 반복\n",
    "        # num에 -1이 들어오게 되면 무한 반복\n",
    "        while count != 0:\n",
    "            \n",
    "            # \"좋아요\"가 포함된 태그를 기반으로 찾기\n",
    "            # <svg> 태그를 가진 모든 요소를 저장\n",
    "            like_button = self.driver.find_elements_by_tag_name(\"svg\")\n",
    "            \n",
    "            # <svg> 태그 내부에 aria-label이라는 어트리뷰트(속성)를 가지고 \"좋아요\"를 가진 경우에만 클릭\n",
    "            # \"좋아요 취소\" 일 경우에는 클릭 X\n",
    "\n",
    "            list_like = []\n",
    "            for ele in like_button:\n",
    "                if ele.get_attribute(\"aria-label\") == \"좋아요\":\n",
    "                    list_like.append(ele)\n",
    "\n",
    "            list_like[1].click()\n",
    "        \n",
    "            # 다음 게시물로 넘어감\n",
    "            next_button = '/html/body/div[6]/div[2]/div/div[2]/button/div/span'            \n",
    "            next_button_element = self.driver.find_element_by_xpath(next_button)\n",
    "            next_button_element.click()\n",
    "\n",
    "            count -= 1\n",
    "            \n",
    "            # 다음 동작을 위해 딜레이 시간 부여\n",
    "            time.sleep(5)   \n",
    "                \n",
    "    # 검색, 좋아요를 하나로 묶은 매크로 만들기\n",
    "    # tag, num 변수 필요 <---- 위에 메서드에서 찾기\n",
    "    # 10장 캡쳐\n",
    "    def insta_jungbok(self, tag, num):\n",
    "        \n",
    "        # 태그 검색도 하고\n",
    "        self.search_tag(tag)\n",
    "        \n",
    "        # 사진 첫 장을 선택하고\n",
    "        self.select_picture()\n",
    "        \n",
    "        # 좋아요를 하면서 한 장씩 넘기기\n",
    "        self.press_like(num)"
   ]
  },
  {
   "cell_type": "markdown",
   "id": "c9b07944",
   "metadata": {},
   "source": [
    "메인 파일 작성(insta_bot_like.py_main.py)"
   ]
  },
  {
   "cell_type": "code",
   "execution_count": null,
   "id": "0442977a",
   "metadata": {},
   "outputs": [],
   "source": [
    "# 인자를 받기 위해 sys 모듈 import\n",
    "import sys\n",
    "\n",
    "# 디렉토리를 만들기 위해 os 모듈 import\n",
    "import os\n",
    "\n",
    "# insta_bot_like 모듈 import\n",
    "import insta_bot_like as ib\n",
    "\n",
    "# 아이디를 입력\n",
    "id = sys.argv[1]\n",
    "\n",
    "# 패스워드를 입력\n",
    "ps = sys.argv[2]\n",
    "\n",
    "# 태그 입력\n",
    "tag = sys.argv[3]\n",
    "  \n",
    "# 반복할 횟수 입력\n",
    "NUMBER = int(sys.argv[4].strip())\n",
    "\n",
    "# 크롤러 호출\n",
    "BOT = ib.LikeBot()\n",
    "\n",
    "# 인스타에 로그인\n",
    "BOT.login(id, ps)\n",
    "\n",
    "# 태그 검색\n",
    "BOT.search_tag(tag)\n",
    "        \n",
    "# 사진 첫 장을 선택하고\n",
    "BOT.select_picture()\n",
    "        \n",
    "# 캡쳐를 하면서 한 장씩 넘기기\n",
    "BOT.press_like(NUMBER)\n",
    "\n",
    "# 하나로 묶은 매크로 사용\n",
    "# BOT.insta_jungbok(tag, NUMBER)\n",
    "\n",
    "# 작업 완료 후 크롤러 종료\n",
    "BOT.kill()"
   ]
  },
  {
   "cell_type": "code",
   "execution_count": null,
   "id": "d7ff0f61",
   "metadata": {},
   "outputs": [],
   "source": []
  }
 ],
 "metadata": {
  "kernelspec": {
   "display_name": "Python 3 (ipykernel)",
   "language": "python",
   "name": "python3"
  },
  "language_info": {
   "codemirror_mode": {
    "name": "ipython",
    "version": 3
   },
   "file_extension": ".py",
   "mimetype": "text/x-python",
   "name": "python",
   "nbconvert_exporter": "python",
   "pygments_lexer": "ipython3",
   "version": "3.9.7"
  }
 },
 "nbformat": 4,
 "nbformat_minor": 5
}
