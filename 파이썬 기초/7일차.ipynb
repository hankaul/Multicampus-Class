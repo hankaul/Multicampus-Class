{
 "cells": [
  {
   "cell_type": "markdown",
   "id": "90631585",
   "metadata": {},
   "source": [
    "sorted() 함수 예제"
   ]
  },
  {
   "cell_type": "code",
   "execution_count": 1,
   "id": "263912a8",
   "metadata": {},
   "outputs": [
    {
     "data": {
      "text/plain": [
       "[1, 2, 3]"
      ]
     },
     "execution_count": 1,
     "metadata": {},
     "output_type": "execute_result"
    }
   ],
   "source": [
    "sorted([3, 1, 2])"
   ]
  },
  {
   "cell_type": "code",
   "execution_count": 2,
   "id": "f5480008",
   "metadata": {},
   "outputs": [
    {
     "data": {
      "text/plain": [
       "['a', 'b', 'c']"
      ]
     },
     "execution_count": 2,
     "metadata": {},
     "output_type": "execute_result"
    }
   ],
   "source": [
    "sorted(['a', 'c', 'b'])"
   ]
  },
  {
   "cell_type": "code",
   "execution_count": 3,
   "id": "de617846",
   "metadata": {},
   "outputs": [
    {
     "data": {
      "text/plain": [
       "['e', 'o', 'r', 'z']"
      ]
     },
     "execution_count": 3,
     "metadata": {},
     "output_type": "execute_result"
    }
   ],
   "source": [
    "sorted(\"zero\")"
   ]
  },
  {
   "cell_type": "code",
   "execution_count": 4,
   "id": "6a3582e1",
   "metadata": {},
   "outputs": [
    {
     "data": {
      "text/plain": [
       "[1, 2, 3]"
      ]
     },
     "execution_count": 4,
     "metadata": {},
     "output_type": "execute_result"
    }
   ],
   "source": [
    "sorted((3, 2, 1))"
   ]
  },
  {
   "cell_type": "markdown",
   "id": "4489deb0",
   "metadata": {},
   "source": [
    "리스트의 sort() 함수 예제"
   ]
  },
  {
   "cell_type": "code",
   "execution_count": 5,
   "id": "b0c64aa9",
   "metadata": {},
   "outputs": [],
   "source": [
    "a = [1, 4, 3, 2]"
   ]
  },
  {
   "cell_type": "code",
   "execution_count": 6,
   "id": "9bd6fd5d",
   "metadata": {},
   "outputs": [],
   "source": [
    "a.sort()"
   ]
  },
  {
   "cell_type": "code",
   "execution_count": 7,
   "id": "8fe54f31",
   "metadata": {},
   "outputs": [
    {
     "name": "stdout",
     "output_type": "stream",
     "text": [
      "[1, 2, 3, 4]\n"
     ]
    }
   ],
   "source": [
    "print(a)"
   ]
  },
  {
   "cell_type": "markdown",
   "id": "2847b94d",
   "metadata": {},
   "source": [
    "str() 함수 예제"
   ]
  },
  {
   "cell_type": "code",
   "execution_count": 8,
   "id": "f6dc8388",
   "metadata": {},
   "outputs": [
    {
     "data": {
      "text/plain": [
       "'3'"
      ]
     },
     "execution_count": 8,
     "metadata": {},
     "output_type": "execute_result"
    }
   ],
   "source": [
    "str(3)"
   ]
  },
  {
   "cell_type": "code",
   "execution_count": 9,
   "id": "55dcb468",
   "metadata": {},
   "outputs": [
    {
     "data": {
      "text/plain": [
       "'hi'"
      ]
     },
     "execution_count": 9,
     "metadata": {},
     "output_type": "execute_result"
    }
   ],
   "source": [
    "str('hi')"
   ]
  },
  {
   "cell_type": "code",
   "execution_count": 10,
   "id": "76a1e5c1",
   "metadata": {},
   "outputs": [
    {
     "data": {
      "text/plain": [
       "'HI'"
      ]
     },
     "execution_count": 10,
     "metadata": {},
     "output_type": "execute_result"
    }
   ],
   "source": [
    "str('hi'.upper())"
   ]
  },
  {
   "cell_type": "markdown",
   "id": "8620283e",
   "metadata": {},
   "source": [
    "sum() 함수 예제"
   ]
  },
  {
   "cell_type": "code",
   "execution_count": 11,
   "id": "3adaea91",
   "metadata": {},
   "outputs": [
    {
     "data": {
      "text/plain": [
       "6"
      ]
     },
     "execution_count": 11,
     "metadata": {},
     "output_type": "execute_result"
    }
   ],
   "source": [
    "sum([1, 2, 3])"
   ]
  },
  {
   "cell_type": "code",
   "execution_count": 12,
   "id": "be07c116",
   "metadata": {},
   "outputs": [
    {
     "data": {
      "text/plain": [
       "15"
      ]
     },
     "execution_count": 12,
     "metadata": {},
     "output_type": "execute_result"
    }
   ],
   "source": [
    "sum((4, 5, 6))"
   ]
  },
  {
   "cell_type": "markdown",
   "id": "bc46328e",
   "metadata": {},
   "source": [
    "zip() 함수 예제"
   ]
  },
  {
   "cell_type": "code",
   "execution_count": 13,
   "id": "2cd0bcbf",
   "metadata": {},
   "outputs": [
    {
     "data": {
      "text/plain": [
       "<zip at 0x2759e32e700>"
      ]
     },
     "execution_count": 13,
     "metadata": {},
     "output_type": "execute_result"
    }
   ],
   "source": [
    "zip([1, 2, 3], [4, 5, 6])"
   ]
  },
  {
   "cell_type": "code",
   "execution_count": 14,
   "id": "7be86b43",
   "metadata": {},
   "outputs": [
    {
     "data": {
      "text/plain": [
       "[(1, 4), (2, 5), (3, 6)]"
      ]
     },
     "execution_count": 14,
     "metadata": {},
     "output_type": "execute_result"
    }
   ],
   "source": [
    "list(zip([1, 2, 3], [4, 5, 6]))"
   ]
  },
  {
   "cell_type": "code",
   "execution_count": 15,
   "id": "58da273d",
   "metadata": {},
   "outputs": [
    {
     "data": {
      "text/plain": [
       "[(1, 4, 7), (2, 5, 8), (3, 6, 9)]"
      ]
     },
     "execution_count": 15,
     "metadata": {},
     "output_type": "execute_result"
    }
   ],
   "source": [
    "list(zip([1, 2, 3], [4, 5, 6], [7, 8, 9]))"
   ]
  },
  {
   "cell_type": "code",
   "execution_count": 16,
   "id": "0ae456ff",
   "metadata": {},
   "outputs": [
    {
     "data": {
      "text/plain": [
       "[('a', 'd'), ('b', 'e'), ('c', 'f')]"
      ]
     },
     "execution_count": 16,
     "metadata": {},
     "output_type": "execute_result"
    }
   ],
   "source": [
    "list(zip(\"abc\", \"def\"))"
   ]
  },
  {
   "cell_type": "markdown",
   "id": "e62b680d",
   "metadata": {},
   "source": [
    "sys 모듈 예제"
   ]
  },
  {
   "cell_type": "code",
   "execution_count": 17,
   "id": "e03461ce",
   "metadata": {},
   "outputs": [
    {
     "name": "stdout",
     "output_type": "stream",
     "text": [
      "['C:\\\\Users\\\\student\\\\Python', 'C:\\\\Users\\\\student\\\\anaconda3\\\\python39.zip', 'C:\\\\Users\\\\student\\\\anaconda3\\\\DLLs', 'C:\\\\Users\\\\student\\\\anaconda3\\\\lib', 'C:\\\\Users\\\\student\\\\anaconda3', '', 'C:\\\\Users\\\\student\\\\anaconda3\\\\lib\\\\site-packages', 'C:\\\\Users\\\\student\\\\anaconda3\\\\lib\\\\site-packages\\\\locket-0.2.1-py3.9.egg', 'C:\\\\Users\\\\student\\\\anaconda3\\\\lib\\\\site-packages\\\\win32', 'C:\\\\Users\\\\student\\\\anaconda3\\\\lib\\\\site-packages\\\\win32\\\\lib', 'C:\\\\Users\\\\student\\\\anaconda3\\\\lib\\\\site-packages\\\\Pythonwin', 'C:\\\\Users\\\\student\\\\anaconda3\\\\lib\\\\site-packages\\\\IPython\\\\extensions', 'C:\\\\Users\\\\student\\\\.ipython']\n"
     ]
    }
   ],
   "source": [
    "import sys\n",
    "print(sys.path)"
   ]
  },
  {
   "cell_type": "markdown",
   "id": "68fd0766",
   "metadata": {},
   "source": [
    "pickle 모듈 예제(pickle 사용 X)"
   ]
  },
  {
   "cell_type": "code",
   "execution_count": 18,
   "id": "bc380ebe",
   "metadata": {},
   "outputs": [],
   "source": [
    "with open(\"hello.txt\", \"w\") as f:\n",
    "    f.write(\"hello\")"
   ]
  },
  {
   "cell_type": "code",
   "execution_count": 19,
   "id": "57d19e93",
   "metadata": {},
   "outputs": [
    {
     "ename": "TypeError",
     "evalue": "write() argument must be str, not list",
     "output_type": "error",
     "traceback": [
      "\u001b[1;31m----------------------------------------------------\u001b[0m",
      "\u001b[1;31mTypeError\u001b[0m          Traceback (most recent call last)",
      "\u001b[1;32m~\\AppData\\Local\\Temp/ipykernel_296/3313511934.py\u001b[0m in \u001b[0;36m<module>\u001b[1;34m\u001b[0m\n\u001b[0;32m      1\u001b[0m \u001b[1;32mwith\u001b[0m \u001b[0mopen\u001b[0m\u001b[1;33m(\u001b[0m\u001b[1;34m\"list.txt\"\u001b[0m\u001b[1;33m,\u001b[0m \u001b[1;34m\"w\"\u001b[0m\u001b[1;33m)\u001b[0m \u001b[1;32mas\u001b[0m \u001b[0mf\u001b[0m\u001b[1;33m:\u001b[0m\u001b[1;33m\u001b[0m\u001b[1;33m\u001b[0m\u001b[0m\n\u001b[1;32m----> 2\u001b[1;33m     \u001b[0mf\u001b[0m\u001b[1;33m.\u001b[0m\u001b[0mwrite\u001b[0m\u001b[1;33m(\u001b[0m\u001b[1;33m[\u001b[0m\u001b[1;34m\"a\"\u001b[0m\u001b[1;33m,\u001b[0m \u001b[1;34m\"b\"\u001b[0m\u001b[1;33m,\u001b[0m \u001b[1;34m\"c\"\u001b[0m\u001b[1;33m]\u001b[0m\u001b[1;33m)\u001b[0m\u001b[1;33m\u001b[0m\u001b[1;33m\u001b[0m\u001b[0m\n\u001b[0m",
      "\u001b[1;31mTypeError\u001b[0m: write() argument must be str, not list"
     ]
    }
   ],
   "source": [
    "with open(\"list.txt\", \"w\") as f:\n",
    "    f.write([\"a\", \"b\", \"c\"])"
   ]
  },
  {
   "cell_type": "markdown",
   "id": "5d90d307",
   "metadata": {},
   "source": [
    "pickle 모듈 예제(pickle 사용)"
   ]
  },
  {
   "cell_type": "code",
   "execution_count": null,
   "id": "c45cb150",
   "metadata": {},
   "outputs": [],
   "source": [
    "import pickle\n",
    "with open(\"list.txt\", \"wb\") as f:\n",
    "    pickle.dump([\"a\", \"b\", \"c\"], f)"
   ]
  },
  {
   "cell_type": "markdown",
   "id": "4bf727d0",
   "metadata": {},
   "source": [
    "파일 모드 종류\n",
    "- r : 읽기 모드\n",
    "- w : 쓰기 모드\n",
    "- x : 쓰기 모드(파일 있으면 오류 발생)\n",
    "- a : 쓰기 모드(파일이 있으면 뒤에 내용 추가)\n",
    "- \\+ : 읽기, 쓰기 모드\n",
    "- t : 텍스트 모드\n",
    "- b : 바이너리 모드(바이트 단위 데이터 기록에 사용)\n",
    " - 바이너리 파일은 사용자가 읽을 수 없음"
   ]
  },
  {
   "cell_type": "code",
   "execution_count": 22,
   "id": "f1346582",
   "metadata": {},
   "outputs": [],
   "source": [
    "with open(\"list.txt\", \"rb\") as f:\n",
    "    data = pickle.load(f)"
   ]
  },
  {
   "cell_type": "code",
   "execution_count": 23,
   "id": "75c54594",
   "metadata": {},
   "outputs": [
    {
     "name": "stdout",
     "output_type": "stream",
     "text": [
      "['a', 'b', 'c']\n"
     ]
    }
   ],
   "source": [
    "print(data)"
   ]
  },
  {
   "cell_type": "markdown",
   "id": "26a0aa60",
   "metadata": {},
   "source": [
    "- pickle 을 이용하여 데이터를 불러올 경우 변수 지정을 해줘야 함"
   ]
  },
  {
   "cell_type": "code",
   "execution_count": 24,
   "id": "142118c9",
   "metadata": {},
   "outputs": [],
   "source": [
    "import pickle\n",
    "f = open(\"dic.txt\", \"wb\")\n",
    "data = {1: 'python', 2: 'you need'}\n",
    "pickle.dump(data, f)\n",
    "f.close()"
   ]
  },
  {
   "cell_type": "code",
   "execution_count": 25,
   "id": "9eef2f3d",
   "metadata": {},
   "outputs": [
    {
     "name": "stdout",
     "output_type": "stream",
     "text": [
      "{1: 'python', 2: 'you need'}\n"
     ]
    }
   ],
   "source": [
    "import pickle\n",
    "f = open(\"dic.txt\", \"rb\")\n",
    "data = pickle.load(f)\n",
    "print(data)\n",
    "f.close()"
   ]
  },
  {
   "cell_type": "markdown",
   "id": "e4ea4498",
   "metadata": {},
   "source": [
    "os 모듈 예제"
   ]
  },
  {
   "cell_type": "code",
   "execution_count": 26,
   "id": "eb54f72f",
   "metadata": {},
   "outputs": [
    {
     "data": {
      "text/plain": [
       "'C:\\\\Users\\\\student\\\\Python'"
      ]
     },
     "execution_count": 26,
     "metadata": {},
     "output_type": "execute_result"
    }
   ],
   "source": [
    "import os\n",
    "os.getcwd()"
   ]
  },
  {
   "cell_type": "code",
   "execution_count": 27,
   "id": "c7c05ef5",
   "metadata": {},
   "outputs": [],
   "source": [
    "os.chdir('C:\\\\Users\\\\student')"
   ]
  },
  {
   "cell_type": "code",
   "execution_count": 28,
   "id": "a252f58f",
   "metadata": {},
   "outputs": [
    {
     "data": {
      "text/plain": [
       "'C:\\\\Users\\\\student'"
      ]
     },
     "execution_count": 28,
     "metadata": {},
     "output_type": "execute_result"
    }
   ],
   "source": [
    "os.getcwd()"
   ]
  },
  {
   "cell_type": "code",
   "execution_count": 37,
   "id": "6e451bce",
   "metadata": {},
   "outputs": [],
   "source": [
    "os.chdir('C:\\\\Users\\\\student\\\\Python')"
   ]
  },
  {
   "cell_type": "code",
   "execution_count": 30,
   "id": "c8cb90d2",
   "metadata": {},
   "outputs": [
    {
     "data": {
      "text/plain": [
       "'C:\\\\Users\\\\student\\\\Python'"
      ]
     },
     "execution_count": 30,
     "metadata": {},
     "output_type": "execute_result"
    }
   ],
   "source": [
    "os.getcwd()"
   ]
  },
  {
   "cell_type": "code",
   "execution_count": 31,
   "id": "0306d073",
   "metadata": {},
   "outputs": [
    {
     "data": {
      "text/plain": [
       "0"
      ]
     },
     "execution_count": 31,
     "metadata": {},
     "output_type": "execute_result"
    }
   ],
   "source": [
    "os.system(\"dir\")"
   ]
  },
  {
   "cell_type": "markdown",
   "id": "af8503a6",
   "metadata": {},
   "source": [
    "- os.system 은 cmd 창에서 python 실행시킨 후 입력해 볼 것"
   ]
  },
  {
   "cell_type": "code",
   "execution_count": 32,
   "id": "e3f8a4c8",
   "metadata": {},
   "outputs": [],
   "source": [
    "os.mkdir(\"test_folder\")"
   ]
  },
  {
   "cell_type": "code",
   "execution_count": 33,
   "id": "d00f2c9c",
   "metadata": {},
   "outputs": [],
   "source": [
    "os.rmdir(\"test_folder\")"
   ]
  },
  {
   "cell_type": "code",
   "execution_count": 34,
   "id": "7d3a69b5",
   "metadata": {},
   "outputs": [],
   "source": [
    "os.unlink(\"dic.txt\")"
   ]
  },
  {
   "cell_type": "code",
   "execution_count": 35,
   "id": "dda7a40f",
   "metadata": {},
   "outputs": [],
   "source": [
    "os.rename(\"list.txt\", \"list2.txt\")"
   ]
  },
  {
   "cell_type": "markdown",
   "id": "65a6a88c",
   "metadata": {},
   "source": [
    "shutil 모듈 예제"
   ]
  },
  {
   "cell_type": "code",
   "execution_count": 38,
   "id": "7e487251",
   "metadata": {},
   "outputs": [],
   "source": [
    "import shutil"
   ]
  },
  {
   "cell_type": "code",
   "execution_count": 39,
   "id": "c0bbca2a",
   "metadata": {},
   "outputs": [
    {
     "data": {
      "text/plain": [
       "'list.txt'"
      ]
     },
     "execution_count": 39,
     "metadata": {},
     "output_type": "execute_result"
    }
   ],
   "source": [
    "shutil.copy(\"list2.txt\", \"list.txt\")"
   ]
  },
  {
   "cell_type": "markdown",
   "id": "7d60e650",
   "metadata": {},
   "source": [
    "glob 모듈 예제"
   ]
  },
  {
   "cell_type": "code",
   "execution_count": 40,
   "id": "df2849d0",
   "metadata": {},
   "outputs": [],
   "source": [
    "import glob"
   ]
  },
  {
   "cell_type": "code",
   "execution_count": 41,
   "id": "b29d0d58",
   "metadata": {},
   "outputs": [
    {
     "data": {
      "text/plain": [
       "['C:\\\\Users\\\\student\\\\Python\\\\list.txt',\n",
       " 'C:\\\\Users\\\\student\\\\Python\\\\list2.txt']"
      ]
     },
     "execution_count": 41,
     "metadata": {},
     "output_type": "execute_result"
    }
   ],
   "source": [
    "glob.glob(\"C:\\\\Users\\\\student\\\\Python\\\\list*\")"
   ]
  },
  {
   "cell_type": "markdown",
   "id": "d262fdc0",
   "metadata": {},
   "source": [
    "random 모듈 예제"
   ]
  },
  {
   "cell_type": "code",
   "execution_count": 42,
   "id": "35595470",
   "metadata": {},
   "outputs": [],
   "source": [
    "import random"
   ]
  },
  {
   "cell_type": "code",
   "execution_count": 98,
   "id": "eab2fe99",
   "metadata": {},
   "outputs": [
    {
     "data": {
      "text/plain": [
       "0.6138357780151552"
      ]
     },
     "execution_count": 98,
     "metadata": {},
     "output_type": "execute_result"
    }
   ],
   "source": [
    "random.random()"
   ]
  },
  {
   "cell_type": "markdown",
   "id": "f926ca7d",
   "metadata": {},
   "source": [
    "- 0 ~ 1 사이의 실수(float)를 반환(1.0은 포함되지 않는 범위)\n",
    " - 범위 : 0 <= x < 1"
   ]
  },
  {
   "cell_type": "code",
   "execution_count": 147,
   "id": "edd46305",
   "metadata": {},
   "outputs": [
    {
     "data": {
      "text/plain": [
       "8"
      ]
     },
     "execution_count": 147,
     "metadata": {},
     "output_type": "execute_result"
    }
   ],
   "source": [
    "random.randint(1, 10)"
   ]
  },
  {
   "cell_type": "markdown",
   "id": "926b5815",
   "metadata": {},
   "source": [
    "- 함수에 인자로 들어온 a, b 사이의 정수(int)를 반환\n",
    " - 범위 : a <= x <= b"
   ]
  },
  {
   "cell_type": "code",
   "execution_count": 200,
   "id": "79ff3db0",
   "metadata": {},
   "outputs": [
    {
     "data": {
      "text/plain": [
       "16.47781735070587"
      ]
     },
     "execution_count": 200,
     "metadata": {},
     "output_type": "execute_result"
    }
   ],
   "source": [
    "random.uniform(10, 20)"
   ]
  },
  {
   "cell_type": "markdown",
   "id": "193702a7",
   "metadata": {},
   "source": [
    "- 함수에 인자로 들어온 a, b 사이의 실수(float)를 반환\n",
    " - 범위 : a <= x <= b"
   ]
  },
  {
   "cell_type": "markdown",
   "id": "9cbd8970",
   "metadata": {},
   "source": [
    "random.choice 예제(choice 함수 사용 X)"
   ]
  },
  {
   "cell_type": "code",
   "execution_count": 163,
   "id": "a54767f8",
   "metadata": {},
   "outputs": [
    {
     "name": "stdout",
     "output_type": "stream",
     "text": [
      "1\n",
      "3\n",
      "2\n"
     ]
    }
   ],
   "source": [
    "import random\n",
    "def random_pop(data):\n",
    "    number = random.randint(0, len(data) - 1)\n",
    "    return data.pop(number)\n",
    "\n",
    "if __name__ == \"__main__\":\n",
    "    data = [1, 2, 3]\n",
    "    while data:\n",
    "        print(random_pop(data))"
   ]
  },
  {
   "cell_type": "markdown",
   "id": "c8cd9283",
   "metadata": {},
   "source": [
    "data = [1, 2, 3, 4 ,5] => 갯수 5<br>\n",
    "0 ~ 4<br>\n",
    "data.pop(위치)"
   ]
  },
  {
   "cell_type": "markdown",
   "id": "bdaf300f",
   "metadata": {},
   "source": [
    "random.choice 예제(choice 함수 사용)"
   ]
  },
  {
   "cell_type": "code",
   "execution_count": 171,
   "id": "721db08f",
   "metadata": {},
   "outputs": [
    {
     "name": "stdout",
     "output_type": "stream",
     "text": [
      "1\n",
      "2\n",
      "3\n"
     ]
    }
   ],
   "source": [
    "def random_pop(data):\n",
    "    number = random.choice(data)\n",
    "    data.remove(number)\n",
    "    return number\n",
    "\n",
    "if __name__ == \"__main__\":\n",
    "    data = [1, 2, 3]\n",
    "    while data:\n",
    "        print(random_pop(data))"
   ]
  },
  {
   "cell_type": "markdown",
   "id": "81728680",
   "metadata": {},
   "source": [
    "random.shuffle 예제"
   ]
  },
  {
   "cell_type": "code",
   "execution_count": 183,
   "id": "9672243c",
   "metadata": {},
   "outputs": [
    {
     "name": "stdout",
     "output_type": "stream",
     "text": [
      "[2, 5, 3, 1, 4]\n"
     ]
    }
   ],
   "source": [
    "import random\n",
    "data = [1, 2, 3, 4, 5]\n",
    "random.shuffle(data)\n",
    "print(data)"
   ]
  },
  {
   "cell_type": "markdown",
   "id": "276396db",
   "metadata": {},
   "source": [
    "**238page 9번째 줄 글자 깨짐 -> 새 창으로**"
   ]
  },
  {
   "cell_type": "markdown",
   "id": "6db76e31",
   "metadata": {},
   "source": [
    "webbrowser 모듈 예제"
   ]
  },
  {
   "cell_type": "code",
   "execution_count": 184,
   "id": "b6f9625e",
   "metadata": {},
   "outputs": [],
   "source": [
    "import webbrowser"
   ]
  },
  {
   "cell_type": "code",
   "execution_count": 188,
   "id": "cab1cefc",
   "metadata": {},
   "outputs": [
    {
     "data": {
      "text/plain": [
       "True"
      ]
     },
     "execution_count": 188,
     "metadata": {},
     "output_type": "execute_result"
    }
   ],
   "source": [
    "webbrowser.open(\"http://google.com\")"
   ]
  },
  {
   "cell_type": "code",
   "execution_count": 189,
   "id": "797c1f8f",
   "metadata": {},
   "outputs": [
    {
     "data": {
      "text/plain": [
       "True"
      ]
     },
     "execution_count": 189,
     "metadata": {},
     "output_type": "execute_result"
    }
   ],
   "source": [
    "webbrowser.open_new(\"http://google.com\")"
   ]
  },
  {
   "cell_type": "markdown",
   "id": "bd9a5ad2",
   "metadata": {},
   "source": [
    "번외) 확률 지정하여 뽑기 예제"
   ]
  },
  {
   "cell_type": "code",
   "execution_count": 251,
   "id": "6c4b545e",
   "metadata": {},
   "outputs": [
    {
     "data": {
      "text/plain": [
       "[5]"
      ]
     },
     "execution_count": 251,
     "metadata": {},
     "output_type": "execute_result"
    }
   ],
   "source": [
    "random.choices(range(1, 6), weights=[10,10,10,10,60])"
   ]
  },
  {
   "cell_type": "markdown",
   "id": "621b45e9",
   "metadata": {},
   "source": [
    "# 소켓"
   ]
  },
  {
   "cell_type": "markdown",
   "id": "47c75427",
   "metadata": {},
   "source": [
    "**163page 3번째 줄 글자 깨짐 -> 컴퓨터 간에**"
   ]
  },
  {
   "cell_type": "markdown",
   "id": "4594a8c5",
   "metadata": {},
   "source": [
    "**164page 4번째 줄 글자 깨짐 -> 클라이언트**"
   ]
  },
  {
   "cell_type": "markdown",
   "id": "7ecf513b",
   "metadata": {},
   "source": [
    "소켓 번호 확인하기 예제"
   ]
  },
  {
   "cell_type": "code",
   "execution_count": 258,
   "id": "cd976626",
   "metadata": {},
   "outputs": [],
   "source": [
    "import socket"
   ]
  },
  {
   "cell_type": "code",
   "execution_count": 259,
   "id": "28fa596e",
   "metadata": {},
   "outputs": [
    {
     "data": {
      "text/plain": [
       "80"
      ]
     },
     "execution_count": 259,
     "metadata": {},
     "output_type": "execute_result"
    }
   ],
   "source": [
    "socket.getservbyname('http','tcp')"
   ]
  },
  {
   "cell_type": "code",
   "execution_count": 260,
   "id": "faa3fd0e",
   "metadata": {},
   "outputs": [
    {
     "data": {
      "text/plain": [
       "21"
      ]
     },
     "execution_count": 260,
     "metadata": {},
     "output_type": "execute_result"
    }
   ],
   "source": [
    "socket.getservbyname('ftp','tcp')"
   ]
  },
  {
   "cell_type": "markdown",
   "id": "b5ba8753",
   "metadata": {},
   "source": [
    "**167page 3번째 줄 글자 깨짐 -> 소켓은 도메인**"
   ]
  },
  {
   "cell_type": "markdown",
   "id": "7317baeb",
   "metadata": {},
   "source": [
    "**168page 3번째 줄 글자 깨짐 -> 소켓**"
   ]
  },
  {
   "cell_type": "markdown",
   "id": "f4f94e31",
   "metadata": {},
   "source": [
    "UDP bind() 이해하기<br>\n",
    "터미널에 대기중인 버스(server)가 있다고 가정<br>\n",
    "버스(server)에서는 승객(client)들이 알 수 있도록 버스에 번호표 부착<br>\n",
    "-> **bind()**<br><br>\n",
    "버스가 승객을 알아야 할 필요가 없음"
   ]
  },
  {
   "cell_type": "markdown",
   "id": "80df6d2b",
   "metadata": {},
   "source": [
    "1. 서버와 클라이언트 둘다 소켓 생성\n",
    "- 소켓 통신을 한다는 것은 IP 주소와 포트 번호를 가지고 하는 것\n",
    " - TCP : IP + 포트번호\n",
    " - UDP : 포트번호(프로그래밍 형식상 ip 주소를 입력)\n",
    "2. 서버 측에서 소켓을 가지고 포트와 바인딩\n",
    "- 들어올 포트를 알려주는 것과 같은 것\n",
    "- 클라이언트 측에서는 자신에게 들어올 포트를 알려줄 필요가 없음\n",
    "3. 서버 측에서는 해당 포트를 열고 기다림"
   ]
  },
  {
   "cell_type": "markdown",
   "id": "6e2e7520",
   "metadata": {},
   "source": [
    "UDP 소켓 만들기 예제"
   ]
  },
  {
   "cell_type": "code",
   "execution_count": 261,
   "id": "0f1328fe",
   "metadata": {},
   "outputs": [],
   "source": [
    "socket_udp = socket.socket(socket.AF_INET, socket.SOCK_DGRAM)"
   ]
  },
  {
   "cell_type": "code",
   "execution_count": 262,
   "id": "73d1b969",
   "metadata": {},
   "outputs": [
    {
     "name": "stdout",
     "output_type": "stream",
     "text": [
      "<socket.socket fd=2052, family=AddressFamily.AF_INET, type=SocketKind.SOCK_DGRAM, proto=0>\n"
     ]
    }
   ],
   "source": [
    "print(socket_udp)"
   ]
  },
  {
   "cell_type": "markdown",
   "id": "a6f7aa6e",
   "metadata": {},
   "source": [
    "TCP 소켓 만들기 예제"
   ]
  },
  {
   "cell_type": "code",
   "execution_count": 263,
   "id": "03812e9d",
   "metadata": {},
   "outputs": [],
   "source": [
    "socket_tcp = socket.socket(socket.AF_INET, socket.SOCK_STREAM)"
   ]
  },
  {
   "cell_type": "code",
   "execution_count": 264,
   "id": "3e096b5c",
   "metadata": {},
   "outputs": [
    {
     "name": "stdout",
     "output_type": "stream",
     "text": [
      "<socket.socket fd=2040, family=AddressFamily.AF_INET, type=SocketKind.SOCK_STREAM, proto=0>\n"
     ]
    }
   ],
   "source": [
    "print(socket_tcp)"
   ]
  },
  {
   "cell_type": "markdown",
   "id": "e3771c58",
   "metadata": {},
   "source": [
    "소켓을 이용한 간단한 HTTP 요청"
   ]
  },
  {
   "cell_type": "code",
   "execution_count": 267,
   "id": "0ea73552",
   "metadata": {},
   "outputs": [],
   "source": [
    "host = \"www.google.com\"\n",
    "port = 80\n",
    "\n",
    "sock = socket.socket(socket.AF_INET, socket.SOCK_STREAM)"
   ]
  },
  {
   "cell_type": "code",
   "execution_count": 268,
   "id": "d864a4a5",
   "metadata": {},
   "outputs": [],
   "source": [
    "address = socket.gethostbyname(host)"
   ]
  },
  {
   "cell_type": "code",
   "execution_count": 269,
   "id": "ce4e25d2",
   "metadata": {},
   "outputs": [],
   "source": [
    "sock.connect((address, port))"
   ]
  },
  {
   "cell_type": "code",
   "execution_count": 270,
   "id": "7aae6839",
   "metadata": {},
   "outputs": [
    {
     "data": {
      "text/plain": [
       "<socket.socket fd=2236, family=AddressFamily.AF_INET, type=SocketKind.SOCK_STREAM, proto=0, laddr=('70.12.113.174', 51709), raddr=('142.250.204.68', 80)>"
      ]
     },
     "execution_count": 270,
     "metadata": {},
     "output_type": "execute_result"
    }
   ],
   "source": [
    "sock"
   ]
  },
  {
   "cell_type": "code",
   "execution_count": 271,
   "id": "ade8d860",
   "metadata": {},
   "outputs": [],
   "source": [
    "sock.close()"
   ]
  },
  {
   "cell_type": "markdown",
   "id": "3153e150",
   "metadata": {},
   "source": [
    "서버 페이지에 요청하여 저장한 자원 가져오기"
   ]
  },
  {
   "cell_type": "code",
   "execution_count": 278,
   "id": "38371931",
   "metadata": {},
   "outputs": [],
   "source": [
    "host = \"www.naver.com\"\n",
    "port = 80\n",
    "\n",
    "sock = socket.socket(socket.AF_INET, socket.SOCK_STREAM)\n",
    "address = socket.gethostbyname(host)\n",
    "sock.connect((address, port))"
   ]
  },
  {
   "cell_type": "code",
   "execution_count": 279,
   "id": "7c4ed0c6",
   "metadata": {},
   "outputs": [],
   "source": [
    "message = \"GET / HTTP/1.1\\r\\n\\r\\n\""
   ]
  },
  {
   "cell_type": "code",
   "execution_count": 280,
   "id": "493c0152",
   "metadata": {},
   "outputs": [
    {
     "data": {
      "text/plain": [
       "18"
      ]
     },
     "execution_count": 280,
     "metadata": {},
     "output_type": "execute_result"
    }
   ],
   "source": [
    "sock.send(message.encode('utf-8'))"
   ]
  },
  {
   "cell_type": "code",
   "execution_count": 281,
   "id": "d09c8b35",
   "metadata": {},
   "outputs": [],
   "source": [
    "data = sock.recv(65565)"
   ]
  },
  {
   "cell_type": "code",
   "execution_count": 282,
   "id": "5507e4a2",
   "metadata": {},
   "outputs": [
    {
     "data": {
      "text/plain": [
       "b'HTTP/1.1 302 Moved Temporarily\\r\\nServer: NWS\\r\\nDate: Thu, 10 Feb 2022 07:19:50 GMT\\r\\nContent-Type: text/html\\r\\nTransfer-Encoding: chunked\\r\\nConnection: close\\r\\nLocation: https://www.naver.com/err/notfound.html\\r\\nVary: Accept-Encoding,User-Agent\\r\\n\\r\\n8a\\r\\n<html>\\r\\n<head><title>302 Found</title></head>\\r\\n<body>\\r\\n<center><h1>302 Found</h1></center>\\r\\n<hr><center> NWS </center>\\r\\n</body>\\r\\n</html>\\r\\n\\r\\n0\\r\\n\\r\\n'"
      ]
     },
     "execution_count": 282,
     "metadata": {},
     "output_type": "execute_result"
    }
   ],
   "source": [
    "data"
   ]
  },
  {
   "cell_type": "code",
   "execution_count": 277,
   "id": "a05c6bb6",
   "metadata": {},
   "outputs": [],
   "source": [
    "sock.close()"
   ]
  },
  {
   "cell_type": "markdown",
   "id": "e4b88376",
   "metadata": {},
   "source": [
    "소켓을 이용한 간단한 포트스캐너 만들기"
   ]
  },
  {
   "cell_type": "code",
   "execution_count": 283,
   "id": "bf7997c0",
   "metadata": {},
   "outputs": [],
   "source": [
    "import socket"
   ]
  },
  {
   "cell_type": "code",
   "execution_count": 284,
   "id": "d83aecee",
   "metadata": {},
   "outputs": [],
   "source": [
    "hosts = ['127.0.0.1']"
   ]
  },
  {
   "cell_type": "code",
   "execution_count": 291,
   "id": "51e067b6",
   "metadata": {},
   "outputs": [
    {
     "ename": "ConnectionRefusedError",
     "evalue": "[WinError 10061] 대상 컴퓨터에서 연결을 거부했으므로 연결하지 못했습니다",
     "output_type": "error",
     "traceback": [
      "\u001b[1;31m----------------------------------------------------\u001b[0m",
      "\u001b[1;31mConnectionRefusedError\u001b[0mTraceback (most recent call last)",
      "\u001b[1;32m~\\AppData\\Local\\Temp/ipykernel_296/1046417121.py\u001b[0m in \u001b[0;36m<module>\u001b[1;34m\u001b[0m\n\u001b[0;32m      3\u001b[0m         \u001b[0msock\u001b[0m \u001b[1;33m=\u001b[0m \u001b[0msocket\u001b[0m\u001b[1;33m.\u001b[0m\u001b[0msocket\u001b[0m\u001b[1;33m(\u001b[0m\u001b[0msocket\u001b[0m\u001b[1;33m.\u001b[0m\u001b[0mAF_INET\u001b[0m\u001b[1;33m,\u001b[0m \u001b[0msocket\u001b[0m\u001b[1;33m.\u001b[0m\u001b[0mSOCK_STREAM\u001b[0m\u001b[1;33m)\u001b[0m\u001b[1;33m\u001b[0m\u001b[1;33m\u001b[0m\u001b[0m\n\u001b[0;32m      4\u001b[0m         \u001b[0msock\u001b[0m\u001b[1;33m.\u001b[0m\u001b[0msetsockopt\u001b[0m\u001b[1;33m(\u001b[0m\u001b[0msocket\u001b[0m\u001b[1;33m.\u001b[0m\u001b[0mSOL_SOCKET\u001b[0m\u001b[1;33m,\u001b[0m \u001b[0msocket\u001b[0m\u001b[1;33m.\u001b[0m\u001b[0mSO_REUSEADDR\u001b[0m\u001b[1;33m,\u001b[0m \u001b[1;36m1\u001b[0m\u001b[1;33m)\u001b[0m\u001b[1;33m\u001b[0m\u001b[1;33m\u001b[0m\u001b[0m\n\u001b[1;32m----> 5\u001b[1;33m         \u001b[0mresult\u001b[0m \u001b[1;33m=\u001b[0m \u001b[0msock\u001b[0m\u001b[1;33m.\u001b[0m\u001b[0mconnect\u001b[0m\u001b[1;33m(\u001b[0m\u001b[1;33m(\u001b[0m\u001b[0mhost\u001b[0m\u001b[1;33m,\u001b[0m \u001b[0mport\u001b[0m\u001b[1;33m)\u001b[0m\u001b[1;33m)\u001b[0m\u001b[1;33m\u001b[0m\u001b[1;33m\u001b[0m\u001b[0m\n\u001b[0m\u001b[0;32m      6\u001b[0m         \u001b[1;32mif\u001b[0m \u001b[0mresult\u001b[0m \u001b[1;33m==\u001b[0m \u001b[1;32mNone\u001b[0m\u001b[1;33m:\u001b[0m\u001b[1;33m\u001b[0m\u001b[1;33m\u001b[0m\u001b[0m\n\u001b[0;32m      7\u001b[0m             \u001b[0mprint\u001b[0m\u001b[1;33m(\u001b[0m\u001b[1;34m\"port\"\u001b[0m\u001b[1;33m+\u001b[0m\u001b[0mstr\u001b[0m\u001b[1;33m(\u001b[0m\u001b[0mport\u001b[0m\u001b[1;33m)\u001b[0m\u001b[1;33m+\u001b[0m\u001b[1;34m\"open\"\u001b[0m\u001b[1;33m)\u001b[0m\u001b[1;33m\u001b[0m\u001b[1;33m\u001b[0m\u001b[0m\n",
      "\u001b[1;31mConnectionRefusedError\u001b[0m: [WinError 10061] 대상 컴퓨터에서 연결을 거부했으므로 연결하지 못했습니다"
     ]
    }
   ],
   "source": [
    "for host in hosts:\n",
    "    for port in range(1, 1025):\n",
    "        sock = socket.socket(socket.AF_INET, socket.SOCK_STREAM)\n",
    "        sock.setsockopt(socket.SOL_SOCKET, socket.SO_REUSEADDR, 1)\n",
    "        result = sock.connect((host, port))\n",
    "        if result == None:\n",
    "            print(\"port\"+str(port)+\"open\")\n",
    "            s.close()"
   ]
  },
  {
   "cell_type": "markdown",
   "id": "bae29377",
   "metadata": {},
   "source": [
    "setsockopt(5가지 옵션)\n",
    "1. 소켓 번호(생략 가능)\n",
    "2. 옵션 종류 - 사용\n",
    "- SOL_SOCKET\n",
    " - 이미 사용한 주소를 다시 사용(반복문을 사용했지만 한 번 더 명시)\n",
    "- IPPROTO_TCP\n",
    "3. 설정을 위한 소켓 옵션의 번호(생략 가능)\n",
    "4. 설정 값이 저장된 주소값(생략 가능)\n",
    "5. 버퍼의 크기 - 사용"
   ]
  },
  {
   "cell_type": "code",
   "execution_count": 295,
   "id": "e7fd54a0",
   "metadata": {},
   "outputs": [
    {
     "name": "stdout",
     "output_type": "stream",
     "text": [
      "port 8887 close\n",
      "port 8888 open\n"
     ]
    }
   ],
   "source": [
    "for host in hosts:\n",
    "    for port in range(8887, 8889):\n",
    "        sock = socket.socket(socket.AF_INET, socket.SOCK_STREAM)\n",
    "        sock.setsockopt(socket.SOL_SOCKET, socket.SO_REUSEADDR, 1)\n",
    "        try:\n",
    "            result = sock.connect((host, port))\n",
    "            if result == None:\n",
    "                print('port ' + str(port) + ' open')\n",
    "        except:\n",
    "            print('port ' + str(port) + ' close')\n",
    "    sock.close()"
   ]
  },
  {
   "cell_type": "markdown",
   "id": "5f831ef5",
   "metadata": {},
   "source": [
    "실습\n",
    "1)"
   ]
  },
  {
   "cell_type": "code",
   "execution_count": 306,
   "id": "712964b8",
   "metadata": {},
   "outputs": [
    {
     "name": "stdout",
     "output_type": "stream",
     "text": [
      "바위\n",
      "졌다\n"
     ]
    }
   ],
   "source": [
    "srp = ['가위', '바위', '보']\n",
    "srp = input()\n",
    "\n",
    "if '가위' in srp: \n",
    "    print(\"이겼다\")\n",
    "    \n",
    "elif '바위' :   \n",
    "    print(\"졌다\")  \n",
    "    \n",
    "else :\n",
    "    print(\"비겼다\")"
   ]
  },
  {
   "cell_type": "code",
   "execution_count": 309,
   "id": "27694528",
   "metadata": {},
   "outputs": [
    {
     "name": "stdout",
     "output_type": "stream",
     "text": [
      "가위, 바위, 보 중에 내시오 : 보\n",
      "비겼다\n"
     ]
    }
   ],
   "source": [
    "srp = input('가위, 바위, 보 중에 내시오 : ')\n",
    "pocket= ['가위', '바위', '보']\n",
    "if '가위' in srp:\n",
    "    print('이겼다')\n",
    "elif '바위' in srp:\n",
    "    print('졌다')\n",
    "elif '보' in srp:\n",
    "    print(\"비겼다\")"
   ]
  },
  {
   "cell_type": "code",
   "execution_count": 305,
   "id": "369d1152",
   "metadata": {},
   "outputs": [
    {
     "name": "stdout",
     "output_type": "stream",
     "text": [
      "반칙\n"
     ]
    }
   ],
   "source": [
    "srp  = [\"눈찌르기\"]\n",
    "if \"가위\" in srp:\n",
    "    print(\"이겼다.\")\n",
    "elif \"바위\" in srp:\n",
    "    print(\"졌다.\")\n",
    "elif \"보\" in srp:\n",
    "    print(\"비겼다.\")\n",
    "else:\n",
    "    print(\"반칙\")"
   ]
  },
  {
   "cell_type": "markdown",
   "id": "b0df92b7",
   "metadata": {},
   "source": [
    "실습 2"
   ]
  },
  {
   "cell_type": "code",
   "execution_count": 310,
   "id": "8c39c9ed",
   "metadata": {
    "scrolled": true
   },
   "outputs": [
    {
     "name": "stdout",
     "output_type": "stream",
     "text": [
      "태어난 연도를 입력하시오:2000\n",
      "나의 나이는 23입니다. 20대입니다.\n"
     ]
    }
   ],
   "source": [
    "year=int(input(\"태어난 연도를 입력하시오:\"))\n",
    "age=2022-year+1\n",
    "\n",
    "if age<=49:\n",
    "    if age>=40:\n",
    "        print('나의 나이는 {}입니다. 40대입니다.'.format(age))\n",
    "    elif age>=30:\n",
    "        print('나의 나이는 {}입니다. 30대입니다.'.format(age))\n",
    "    elif age>=20:\n",
    "        print('나의 나이는 {}입니다. 20대입니다.'.format(age))\n",
    "    elif age>=10:\n",
    "        print('나의 나이는 {}입니다. 10대입니다.'.format(age))\n",
    "    \n",
    "else :\n",
    "    print('나의 나이는 {}입니다.나이가 많습니다.'.format(age))"
   ]
  },
  {
   "cell_type": "code",
   "execution_count": 311,
   "id": "ed1d16e2",
   "metadata": {},
   "outputs": [
    {
     "name": "stdout",
     "output_type": "stream",
     "text": [
      "태어난 연도를 입력하시오:2000\n",
      "나의 나이는 23 입니다.\n",
      "20 대입니다.\n"
     ]
    }
   ],
   "source": [
    "a = int(input(\"태어난 연도를 입력하시오:\"))\n",
    "\n",
    "b = 2022 - a + 1\n",
    "\n",
    "c = b//10\n",
    "\n",
    "print(\"나의 나이는\",b,\"입니다.\")\n",
    "print(c*10,\"대입니다.\")"
   ]
  },
  {
   "cell_type": "markdown",
   "id": "462e2b1c",
   "metadata": {},
   "source": [
    "실습 3"
   ]
  },
  {
   "cell_type": "code",
   "execution_count": 312,
   "id": "e6dd7ed0",
   "metadata": {},
   "outputs": [
    {
     "name": "stdout",
     "output_type": "stream",
     "text": [
      "구구단 몇단을 계산 할까요?\n",
      "9\n",
      "구구단9단을 계산합니다.\n",
      "9 X 1 = 9\n",
      "9 X 2 = 18\n",
      "9 X 3 = 27\n",
      "9 X 4 = 36\n",
      "9 X 5 = 45\n",
      "9 X 6 = 54\n",
      "9 X 7 = 63\n",
      "9 X 8 = 72\n",
      "9 X 9 = 81\n"
     ]
    }
   ],
   "source": [
    "print(\"구구단 몇단을 계산 할까요?\")\n",
    "user_input=input()\n",
    "print(\"구구단\"+user_input+\"단을 계산합니다.\")\n",
    "\n",
    "for i in range(1,10):\n",
    "    result = int(user_input)*i\n",
    "    print(user_input, \"X\", i,\"=\", result)"
   ]
  },
  {
   "cell_type": "code",
   "execution_count": 313,
   "id": "e825c09d",
   "metadata": {
    "scrolled": true
   },
   "outputs": [
    {
     "name": "stdout",
     "output_type": "stream",
     "text": [
      "구구단 몇 단을 계산 할까요??:  9\n",
      "구구단 9단을 계산합니다.\n",
      "9*1= 9\n",
      "9*2= 18\n",
      "9*3= 27\n",
      "9*4= 36\n",
      "9*5= 45\n",
      "9*6= 54\n",
      "9*7= 63\n",
      "9*8= 72\n",
      "9*9= 81\n",
      "9*10= 90\n"
     ]
    }
   ],
   "source": [
    "number = int(input(\"구구단 몇 단을 계산 할까요??:  \"))\n",
    "print(\"구구단 %d단을 계산합니다.\" %number)\n",
    "for i in range(10):\n",
    "    i = i + 1\n",
    "    result = number * i\n",
    "    print(\"{0}*{1}= {2}\".format(number, i, result))"
   ]
  },
  {
   "cell_type": "code",
   "execution_count": 314,
   "id": "74482647",
   "metadata": {
    "scrolled": false
   },
   "outputs": [
    {
     "name": "stdout",
     "output_type": "stream",
     "text": [
      "구구단 몇단을 계산 할까요? : 9\n",
      "9 X 1 = 9\n",
      "9 X 2 = 18\n",
      "9 X 3 = 27\n",
      "9 X 4 = 36\n",
      "9 X 5 = 45\n",
      "9 X 6 = 54\n",
      "9 X 7 = 63\n",
      "9 X 8 = 72\n",
      "9 X 9 = 81\n",
      "9 X 10 = 90\n"
     ]
    }
   ],
   "source": [
    "a = int(input(\"구구단 몇단을 계산 할까요? : \" ))\n",
    "for i in range(1, 11):\n",
    "        print(a, 'X', i , '=', a*i)"
   ]
  },
  {
   "cell_type": "markdown",
   "id": "faa1ed94",
   "metadata": {},
   "source": [
    "실습 4"
   ]
  },
  {
   "cell_type": "code",
   "execution_count": 318,
   "id": "522fdbd3",
   "metadata": {},
   "outputs": [
    {
     "name": "stdout",
     "output_type": "stream",
     "text": [
      "2 * 1 = 2\t3 * 1 = 3\t4 * 1 = 4\t5 * 1 = 5\t6 * 1 = 6\t7 * 1 = 7\t8 * 1 = 8\t9 * 1 = 9\t \n",
      "2 * 2 = 4\t3 * 2 = 6\t4 * 2 = 8\t5 * 2 = 10\t6 * 2 = 12\t7 * 2 = 14\t8 * 2 = 16\t9 * 2 = 18\t \n",
      "2 * 3 = 6\t3 * 3 = 9\t4 * 3 = 12\t5 * 3 = 15\t6 * 3 = 18\t7 * 3 = 21\t8 * 3 = 24\t9 * 3 = 27\t \n",
      "2 * 4 = 8\t3 * 4 = 12\t4 * 4 = 16\t5 * 4 = 20\t6 * 4 = 24\t7 * 4 = 28\t8 * 4 = 32\t9 * 4 = 36\t \n",
      "2 * 5 = 10\t3 * 5 = 15\t4 * 5 = 20\t5 * 5 = 25\t6 * 5 = 30\t7 * 5 = 35\t8 * 5 = 40\t9 * 5 = 45\t \n",
      "2 * 6 = 12\t3 * 6 = 18\t4 * 6 = 24\t5 * 6 = 30\t6 * 6 = 36\t7 * 6 = 42\t8 * 6 = 48\t9 * 6 = 54\t \n",
      "2 * 7 = 14\t3 * 7 = 21\t4 * 7 = 28\t5 * 7 = 35\t6 * 7 = 42\t7 * 7 = 49\t8 * 7 = 56\t9 * 7 = 63\t \n",
      "2 * 8 = 16\t3 * 8 = 24\t4 * 8 = 32\t5 * 8 = 40\t6 * 8 = 48\t7 * 8 = 56\t8 * 8 = 64\t9 * 8 = 72\t \n",
      "2 * 9 = 18\t3 * 9 = 27\t4 * 9 = 36\t5 * 9 = 45\t6 * 9 = 54\t7 * 9 = 63\t8 * 9 = 72\t9 * 9 = 81\t \n"
     ]
    }
   ],
   "source": [
    "for b in range(1,10):\n",
    "    for a in range(2, 10):\n",
    "        print(\"%d * %d = %d\" %(a, b, a * b), end=\"\\t\")\n",
    "    print(\" \")"
   ]
  },
  {
   "cell_type": "markdown",
   "id": "8b2c3bba",
   "metadata": {},
   "source": [
    "실습 5"
   ]
  },
  {
   "cell_type": "code",
   "execution_count": 319,
   "id": "b947f5e3",
   "metadata": {},
   "outputs": [
    {
     "name": "stdout",
     "output_type": "stream",
     "text": [
      "현재 계절은 봄이 아닙니다\n",
      "현재 계절은 여름이 아닙니다\n",
      "현재 계절은 가을이 아닙니다\n",
      "현재 계절은 겨울입니다\n"
     ]
    }
   ],
   "source": [
    "season1 = '겨울'\n",
    "seasons = ['봄','여름','가을','겨울']\n",
    "\n",
    "for season2 in seasons:\n",
    "    if season2 == season1:\n",
    "        print('현재 계절은 {}입니다'.format(season1))\n",
    "    else:\n",
    "        print('현재 계절은 {}이 아닙니다'.format(season2))"
   ]
  },
  {
   "cell_type": "markdown",
   "id": "5547ea46",
   "metadata": {},
   "source": [
    "실습 6"
   ]
  },
  {
   "cell_type": "code",
   "execution_count": 320,
   "id": "d0a72d0e",
   "metadata": {},
   "outputs": [
    {
     "name": "stdout",
     "output_type": "stream",
     "text": [
      "★★★★★\n"
     ]
    }
   ],
   "source": [
    "i = 5\n",
    "for j in range(1):\n",
    "    print(\"★\"*i)"
   ]
  },
  {
   "cell_type": "code",
   "execution_count": 321,
   "id": "7d695a68",
   "metadata": {},
   "outputs": [
    {
     "name": "stdout",
     "output_type": "stream",
     "text": [
      "★★★★★"
     ]
    }
   ],
   "source": [
    "for i in range(5):\n",
    "    print('★', end='')"
   ]
  },
  {
   "cell_type": "code",
   "execution_count": 322,
   "id": "c869db72",
   "metadata": {},
   "outputs": [
    {
     "name": "stdout",
     "output_type": "stream",
     "text": [
      "★★★★★\n"
     ]
    }
   ],
   "source": [
    "a = \"★\"\n",
    "print(a*5)"
   ]
  },
  {
   "cell_type": "markdown",
   "id": "306cd5b7",
   "metadata": {},
   "source": [
    "실습 7"
   ]
  },
  {
   "cell_type": "code",
   "execution_count": 323,
   "id": "82e6bb80",
   "metadata": {},
   "outputs": [
    {
     "name": "stdout",
     "output_type": "stream",
     "text": [
      "★★★★★\n",
      "★★★★★\n",
      "★★★★★\n",
      "★★★★★\n"
     ]
    }
   ],
   "source": [
    "for j in range(4):\n",
    "    for i in range(5):\n",
    "        print('★',end='')\n",
    "    print(\"\")"
   ]
  },
  {
   "cell_type": "code",
   "execution_count": 324,
   "id": "79c73398",
   "metadata": {},
   "outputs": [
    {
     "name": "stdout",
     "output_type": "stream",
     "text": [
      "★★★★★\n",
      "★★★★★\n",
      "★★★★★\n",
      "★★★★★\n"
     ]
    }
   ],
   "source": [
    "for i in range(4):\n",
    "    print(\"★\"*5)"
   ]
  },
  {
   "cell_type": "code",
   "execution_count": 325,
   "id": "57399c64",
   "metadata": {},
   "outputs": [
    {
     "name": "stdout",
     "output_type": "stream",
     "text": [
      "★★★★★\n",
      "★★★★★\n",
      "★★★★★\n",
      "★★★★★\n"
     ]
    }
   ],
   "source": [
    "a = ['one', 'two', 'three', 'four']\n",
    "for i in a:\n",
    "   print(\"★★★★★\")"
   ]
  },
  {
   "cell_type": "code",
   "execution_count": 326,
   "id": "6148da7e",
   "metadata": {},
   "outputs": [
    {
     "name": "stdout",
     "output_type": "stream",
     "text": [
      "★★★★★\n",
      "★★★★★\n",
      "★★★★★\n",
      "★★★★★\n"
     ]
    }
   ],
   "source": [
    "for i in range(1,6):\n",
    "    for j in range(1,5) :\n",
    "        if i != 5 :\n",
    "            continue\n",
    "        print(\"★\"*i)"
   ]
  },
  {
   "cell_type": "code",
   "execution_count": 328,
   "id": "5fca78cf",
   "metadata": {},
   "outputs": [
    {
     "name": "stdout",
     "output_type": "stream",
     "text": [
      "★★★★★\n",
      "★★★★★\n",
      "★★★★★\n",
      "★★★★★\n"
     ]
    }
   ],
   "source": [
    "a = [\"★\"]\n",
    "\n",
    "for i in a:\n",
    "    for n in range(1,5):\n",
    "        print(i*5)"
   ]
  },
  {
   "cell_type": "markdown",
   "id": "b9ea640a",
   "metadata": {},
   "source": [
    "실습 8"
   ]
  },
  {
   "cell_type": "code",
   "execution_count": 329,
   "id": "32537c0c",
   "metadata": {},
   "outputs": [
    {
     "name": "stdout",
     "output_type": "stream",
     "text": [
      "★\n",
      "★★\n",
      "★★★\n",
      "★★★★\n",
      "★★★★★\n"
     ]
    }
   ],
   "source": [
    "for j in range(5):\n",
    "    for i in range(j+1):\n",
    "        print(\"★\", end=\"\")\n",
    "    print(\"\")"
   ]
  },
  {
   "cell_type": "code",
   "execution_count": 330,
   "id": "f1799a6d",
   "metadata": {},
   "outputs": [
    {
     "name": "stdout",
     "output_type": "stream",
     "text": [
      "출력할 줄 수를 입력하시오6\n",
      "*\n",
      "**\n",
      "***\n",
      "****\n",
      "*****\n",
      "******\n"
     ]
    }
   ],
   "source": [
    "x = int(input('출력할 줄 수를 입력하시오'))\n",
    "for i in range(1, x+1): \n",
    "    for j in range(i):\n",
    "        print(\"*\", end=\"\")\n",
    "    print()"
   ]
  },
  {
   "cell_type": "code",
   "execution_count": 331,
   "id": "76b3dd61",
   "metadata": {},
   "outputs": [
    {
     "name": "stdout",
     "output_type": "stream",
     "text": [
      "★\n",
      "★★\n",
      "★★★\n",
      "★★★★\n",
      "★★★★★\n"
     ]
    }
   ],
   "source": [
    "for i in range(1,6):\n",
    "    print(\"★\"*i)"
   ]
  },
  {
   "cell_type": "markdown",
   "id": "ec3e8592",
   "metadata": {},
   "source": [
    "실습 9"
   ]
  },
  {
   "cell_type": "code",
   "execution_count": 332,
   "id": "3be91c0a",
   "metadata": {},
   "outputs": [
    {
     "name": "stdout",
     "output_type": "stream",
     "text": [
      "★★★★★\n",
      "★★★★\n",
      "★★★\n",
      "★★\n",
      "★\n"
     ]
    }
   ],
   "source": [
    "for j in range(5):\n",
    "    for i in range(5-j):\n",
    "        print('★', end='')\n",
    "    print(\"\")"
   ]
  },
  {
   "cell_type": "code",
   "execution_count": 333,
   "id": "e931f535",
   "metadata": {},
   "outputs": [
    {
     "name": "stdout",
     "output_type": "stream",
     "text": [
      "★★★★★\n",
      "★★★★\n",
      "★★★\n",
      "★★\n",
      "★\n"
     ]
    }
   ],
   "source": [
    "j=5\n",
    "for i in range(1,6):\n",
    "    print(\"★\"*j)\n",
    "    j= j-1"
   ]
  },
  {
   "cell_type": "code",
   "execution_count": 334,
   "id": "07bf2c96",
   "metadata": {},
   "outputs": [
    {
     "name": "stdout",
     "output_type": "stream",
     "text": [
      "★★★★★\n",
      "★★★★\n",
      "★★★\n",
      "★★\n",
      "★\n"
     ]
    }
   ],
   "source": [
    "star = \"★\"\n",
    "for i in reversed(range(1,6)):\n",
    "    print(i*star)"
   ]
  },
  {
   "cell_type": "code",
   "execution_count": 335,
   "id": "b761e04a",
   "metadata": {},
   "outputs": [
    {
     "name": "stdout",
     "output_type": "stream",
     "text": [
      "★★★★★\n",
      "★★★★\n",
      "★★★\n",
      "★★\n",
      "★\n"
     ]
    }
   ],
   "source": [
    "for i in range(5, 0, -1):\n",
    "    print(\"★\" * i)"
   ]
  },
  {
   "cell_type": "code",
   "execution_count": 336,
   "id": "9bbe13a3",
   "metadata": {},
   "outputs": [
    {
     "name": "stdout",
     "output_type": "stream",
     "text": [
      "★★★★★\n",
      "★★★★\n",
      "★★★\n",
      "★★\n",
      "★\n"
     ]
    }
   ],
   "source": [
    "for i in range(5):\n",
    "    print(\"★\"* (5-i))"
   ]
  },
  {
   "cell_type": "markdown",
   "id": "7ddd9e22",
   "metadata": {},
   "source": [
    "실습 10"
   ]
  },
  {
   "cell_type": "code",
   "execution_count": 337,
   "id": "9fe37934",
   "metadata": {},
   "outputs": [
    {
     "name": "stdout",
     "output_type": "stream",
     "text": [
      "☆☆☆☆★\n",
      "☆☆☆★★\n",
      "☆☆★★★\n",
      "☆★★★★\n",
      "★★★★★\n"
     ]
    }
   ],
   "source": [
    "for j in range(5):\n",
    "    for i in range(4-j):\n",
    "        print(\"☆\",end='') # ㅁ 한자키\n",
    "    for i in range(j+1):\n",
    "        print('★', end='')\n",
    "    print(\"\")"
   ]
  },
  {
   "cell_type": "code",
   "execution_count": 338,
   "id": "d2c4171b",
   "metadata": {},
   "outputs": [
    {
     "name": "stdout",
     "output_type": "stream",
     "text": [
      "☆☆☆☆★\n",
      "☆☆☆★★\n",
      "☆☆★★★\n",
      "☆★★★★\n",
      "★★★★★\n"
     ]
    }
   ],
   "source": [
    "for i in range(1, 6):\n",
    "    print('☆' * (5-i) + '★' * i)"
   ]
  },
  {
   "cell_type": "code",
   "execution_count": 339,
   "id": "842026fd",
   "metadata": {},
   "outputs": [
    {
     "name": "stdout",
     "output_type": "stream",
     "text": [
      "☆☆☆☆ ★\n",
      "☆☆☆ ★★\n",
      "☆☆ ★★★\n",
      "☆ ★★★★\n",
      " ★★★★★\n"
     ]
    }
   ],
   "source": [
    "j=4\n",
    "b=1\n",
    "for i in range(1,6):\n",
    "    print(\"☆\"*j,\"★\"*b)\n",
    "    j = j-1\n",
    "    b = b+1"
   ]
  },
  {
   "cell_type": "code",
   "execution_count": null,
   "id": "45d8fe6f",
   "metadata": {},
   "outputs": [],
   "source": []
  }
 ],
 "metadata": {
  "kernelspec": {
   "display_name": "Python 3 (ipykernel)",
   "language": "python",
   "name": "python3"
  },
  "language_info": {
   "codemirror_mode": {
    "name": "ipython",
    "version": 3
   },
   "file_extension": ".py",
   "mimetype": "text/x-python",
   "name": "python",
   "nbconvert_exporter": "python",
   "pygments_lexer": "ipython3",
   "version": "3.9.7"
  }
 },
 "nbformat": 4,
 "nbformat_minor": 5
}
