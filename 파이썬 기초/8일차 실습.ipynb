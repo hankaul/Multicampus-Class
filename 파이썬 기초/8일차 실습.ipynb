{
 "cells": [
  {
   "cell_type": "markdown",
   "id": "deb22972",
   "metadata": {},
   "source": [
    "실습 11"
   ]
  },
  {
   "cell_type": "code",
   "execution_count": 14,
   "id": "60460adc",
   "metadata": {},
   "outputs": [
    {
     "name": "stdout",
     "output_type": "stream",
     "text": [
      "★★★★★\n",
      "★★★★★\n",
      "★★★★★\n",
      "★★★★★\n",
      "★★★★★\n",
      "★★★★★\n",
      "★\n",
      "★★\n",
      "★★★\n",
      "★★★★\n",
      "★★★★★\n",
      "★★★★★\n",
      "★★★★ \n",
      "★★★  \n",
      "★★   \n",
      "★    \n",
      "     \n",
      "    ★\n",
      "   ★★\n",
      "  ★★★\n",
      " ★★★★\n",
      "★★★★★\n",
      "☆☆☆☆★\n",
      "☆☆☆★★\n",
      "☆☆★★★\n",
      "☆★★★★\n",
      "★★★★★\n"
     ]
    }
   ],
   "source": [
    "#1\n",
    "for i in range(1):\n",
    "    print('★★★★★')\n",
    "\n",
    "#2\n",
    "for i in range(5):\n",
    "    print('★★★★★')\n",
    "\n",
    "#3\n",
    "for i in range(5):\n",
    "    print('★' * (i+1))\n",
    "\n",
    "#4.\n",
    "for i in range(6, 0, -1):\n",
    "    print('{:<5}'.format('★' * (i-1)))\n",
    "\n",
    "#5.\n",
    "for i in range(5):\n",
    "    print('{:>5}'.format('★' * (i+1)))\n",
    "\n",
    "#6.\n",
    "for i in range(5):\n",
    "    print('☆'*(4-i)+'★'*(i+1))"
   ]
  },
  {
   "cell_type": "markdown",
   "id": "289629fc",
   "metadata": {},
   "source": [
    "정렬"
   ]
  },
  {
   "cell_type": "code",
   "execution_count": 1,
   "id": "6ec5ddb3",
   "metadata": {},
   "outputs": [
    {
     "name": "stdout",
     "output_type": "stream",
     "text": [
      "        hi\n"
     ]
    }
   ],
   "source": [
    "print(\"%10s\" % \"hi\")"
   ]
  },
  {
   "cell_type": "code",
   "execution_count": 2,
   "id": "d8343dd4",
   "metadata": {},
   "outputs": [
    {
     "name": "stdout",
     "output_type": "stream",
     "text": [
      "hi        \n"
     ]
    }
   ],
   "source": [
    "print(\"%-10s\" % \"hi\")"
   ]
  },
  {
   "cell_type": "code",
   "execution_count": 3,
   "id": "1806c0db",
   "metadata": {},
   "outputs": [
    {
     "name": "stdout",
     "output_type": "stream",
     "text": [
      "    3.4123\n"
     ]
    }
   ],
   "source": [
    "print(\"%10.4f\" % 3.4123123123)"
   ]
  },
  {
   "cell_type": "code",
   "execution_count": 4,
   "id": "02907c7d",
   "metadata": {},
   "outputs": [
    {
     "name": "stdout",
     "output_type": "stream",
     "text": [
      "3.4123    \n"
     ]
    }
   ],
   "source": [
    "print(\"%-10.4f\" % 3.4123123123)"
   ]
  },
  {
   "cell_type": "code",
   "execution_count": 5,
   "id": "ae92e6ed",
   "metadata": {},
   "outputs": [
    {
     "name": "stdout",
     "output_type": "stream",
     "text": [
      "I ate 10 apple. so I was sick for three days\n"
     ]
    }
   ],
   "source": [
    "number = 10\n",
    "day = \"three\"\n",
    "print(\"I ate {} apple. so I was sick for {} days\".format(number, day))"
   ]
  },
  {
   "cell_type": "code",
   "execution_count": 6,
   "id": "301b87b9",
   "metadata": {},
   "outputs": [
    {
     "name": "stdout",
     "output_type": "stream",
     "text": [
      "hi        \n"
     ]
    }
   ],
   "source": [
    "print(\"{0:<10}\".format(\"hi\"))"
   ]
  },
  {
   "cell_type": "code",
   "execution_count": 7,
   "id": "3d5de779",
   "metadata": {},
   "outputs": [
    {
     "name": "stdout",
     "output_type": "stream",
     "text": [
      "hi        \n"
     ]
    }
   ],
   "source": [
    "print(\"{:<10}\".format(\"hi\"))"
   ]
  },
  {
   "cell_type": "code",
   "execution_count": 8,
   "id": "e5fcc268",
   "metadata": {},
   "outputs": [
    {
     "name": "stdout",
     "output_type": "stream",
     "text": [
      "        hi\n"
     ]
    }
   ],
   "source": [
    "print(\"{0:>10}\".format(\"hi\"))"
   ]
  },
  {
   "cell_type": "code",
   "execution_count": 9,
   "id": "1b5239f7",
   "metadata": {},
   "outputs": [
    {
     "name": "stdout",
     "output_type": "stream",
     "text": [
      "        hi\n"
     ]
    }
   ],
   "source": [
    "print(\"{:>10}\".format(\"hi\"))"
   ]
  },
  {
   "cell_type": "code",
   "execution_count": 10,
   "id": "c3ac7695",
   "metadata": {},
   "outputs": [
    {
     "name": "stdout",
     "output_type": "stream",
     "text": [
      "    hi    \n"
     ]
    }
   ],
   "source": [
    "print(\"{0:^10}\".format(\"hi\"))"
   ]
  },
  {
   "cell_type": "code",
   "execution_count": 11,
   "id": "c818da2c",
   "metadata": {},
   "outputs": [
    {
     "name": "stdout",
     "output_type": "stream",
     "text": [
      "    hi    \n"
     ]
    }
   ],
   "source": [
    "print(\"{:^10}\".format(\"hi\"))"
   ]
  },
  {
   "cell_type": "markdown",
   "id": "a4964cc2",
   "metadata": {},
   "source": [
    "별 왼쪽 정렬 찍기(수정 요망)"
   ]
  },
  {
   "cell_type": "code",
   "execution_count": 20,
   "id": "1dc1fab3",
   "metadata": {},
   "outputs": [
    {
     "name": "stdout",
     "output_type": "stream",
     "text": [
      "        ★\n",
      "      ★★\n",
      "    ★★★\n",
      "  ★★★★\n",
      "★★★★★\n"
     ]
    }
   ],
   "source": [
    "x = int(input(\"별을 몇 개 찍으시겠습니까? :\"))\n",
    "for i in range(1, x+1):\n",
    "    for j in range(x-1):\n",
    "        print(\" \", end=\"\")\n",
    "    for j in range(i):\n",
    "        print(\"★\", end=\"\")\n",
    "    print()"
   ]
  },
  {
   "cell_type": "code",
   "execution_count": null,
   "id": "2927cbae",
   "metadata": {},
   "outputs": [],
   "source": [
    "for i in range(1, 6):\n",
    "    print(' ' * 2*(5-i) + '★' * i)"
   ]
  },
  {
   "cell_type": "markdown",
   "id": "39a23ab8",
   "metadata": {},
   "source": [
    "실습 12"
   ]
  },
  {
   "cell_type": "code",
   "execution_count": 21,
   "id": "2b7bc9f5",
   "metadata": {},
   "outputs": [
    {
     "name": "stdout",
     "output_type": "stream",
     "text": [
      "*****\n",
      "**** \n",
      "***  \n",
      "**   \n",
      "*    \n",
      "     \n"
     ]
    }
   ],
   "source": [
    "for i in range(6, 0, -1):\n",
    "    print('{: <5}'.format('*' * (i-1)))"
   ]
  },
  {
   "cell_type": "markdown",
   "id": "0bae5533",
   "metadata": {},
   "source": [
    "실습 13"
   ]
  },
  {
   "cell_type": "code",
   "execution_count": 22,
   "id": "f6bbbb53",
   "metadata": {},
   "outputs": [
    {
     "name": "stdout",
     "output_type": "stream",
     "text": [
      "    *\n",
      "   **\n",
      "  ***\n",
      " ****\n",
      "*****\n"
     ]
    }
   ],
   "source": [
    "for i in range(5):\n",
    "    print('{:>5}'.format('*' * (i+1)))"
   ]
  },
  {
   "cell_type": "markdown",
   "id": "d3409b2c",
   "metadata": {},
   "source": [
    "실습 14"
   ]
  },
  {
   "cell_type": "code",
   "execution_count": 24,
   "id": "cbfd6449",
   "metadata": {},
   "outputs": [
    {
     "name": "stdout",
     "output_type": "stream",
     "text": [
      "--------------pyramid--------------\n",
      " \n",
      "                 ★\n",
      "               ★★★\n",
      "             ★★★★★\n",
      "           ★★★★★★★\n",
      "         ★★★★★★★★★\n",
      "       ★★★★★★★★★★★\n",
      "     ★★★★★★★★★★★★★\n",
      "   ★★★★★★★★★★★★★★★\n",
      " ★★★★★★★★★★★★★★★★★\n",
      " \n",
      "----------------end----------------\n"
     ]
    }
   ],
   "source": [
    "print(\"--------------pyramid--------------\")\n",
    "print(\" \")\n",
    "for i in range(9):\n",
    "    print(\" \"*(17-(2*i)) + '★'*(1+(2*i)) )\n",
    "print(\" \")\n",
    "print(\"----------------end----------------\")"
   ]
  },
  {
   "cell_type": "code",
   "execution_count": 26,
   "id": "e15e8bf7",
   "metadata": {},
   "outputs": [
    {
     "name": "stdout",
     "output_type": "stream",
     "text": [
      "                           ★\n",
      "                         ★★★\n",
      "                       ★★★★★\n",
      "                     ★★★★★★★\n",
      "                   ★★★★★★★★★\n",
      "                 ★★★★★★★★★★★\n",
      "               ★★★★★★★★★★★★★\n",
      "             ★★★★★★★★★★★★★★★\n",
      "           ★★★★★★★★★★★★★★★★★\n",
      "         ★★★★★★★★★★★★★★★★★★★\n"
     ]
    }
   ],
   "source": [
    "j = 27\n",
    "for i in range(0, 10):\n",
    "    print(j*\" \" + \"★\" *(2*i + 1))\n",
    "    j-=3   # 공백 2칸"
   ]
  },
  {
   "cell_type": "code",
   "execution_count": 27,
   "id": "d3f9926a",
   "metadata": {},
   "outputs": [
    {
     "name": "stdout",
     "output_type": "stream",
     "text": [
      "                  ★\n",
      "                ★★★\n",
      "              ★★★★★\n",
      "            ★★★★★★★\n",
      "          ★★★★★★★★★\n",
      "        ★★★★★★★★★★★\n",
      "      ★★★★★★★★★★★★★\n",
      "    ★★★★★★★★★★★★★★★\n",
      "  ★★★★★★★★★★★★★★★★★\n",
      "★★★★★★★★★★★★★★★★★★★\n"
     ]
    }
   ],
   "source": [
    "for i in range(10):\n",
    "    print(\" \"*(18-2*i)+\"★\"*(2*i+1))"
   ]
  },
  {
   "cell_type": "code",
   "execution_count": 28,
   "id": "2c69319a",
   "metadata": {},
   "outputs": [
    {
     "name": "stdout",
     "output_type": "stream",
     "text": [
      "----pyraid----\n",
      "                  ★\n",
      "                ★★★\n",
      "              ★★★★★\n",
      "            ★★★★★★★\n",
      "          ★★★★★★★★★\n",
      "        ★★★★★★★★★★★\n",
      "      ★★★★★★★★★★★★★\n",
      "    ★★★★★★★★★★★★★★★\n",
      "  ★★★★★★★★★★★★★★★★★\n",
      "★★★★★★★★★★★★★★★★★★★\n",
      "----end----\n"
     ]
    }
   ],
   "source": [
    "print(\"----pyraid----\")\n",
    "a = range(1,21,2)\n",
    "for star in a:\n",
    "    print(\"{:>19}\".format(star * \"★\"))\n",
    "print(\"----end----\")"
   ]
  },
  {
   "cell_type": "code",
   "execution_count": 57,
   "id": "1605f1f1",
   "metadata": {},
   "outputs": [
    {
     "name": "stdout",
     "output_type": "stream",
     "text": [
      "number: 10\n",
      "------pyramid-----\n",
      "　　　　　　　　　★\n",
      "　　　　　　　　★★★\n",
      "　　　　　　　★★★★★\n",
      "　　　　　　★★★★★★★\n",
      "　　　　　★★★★★★★★★\n",
      "　　　　★★★★★★★★★★★\n",
      "　　　★★★★★★★★★★★★★\n",
      "　　★★★★★★★★★★★★★★★\n",
      "　★★★★★★★★★★★★★★★★★\n",
      "★★★★★★★★★★★★★★★★★★★\n",
      "-----end-----\n"
     ]
    }
   ],
   "source": [
    "line = int(input('number: '))\n",
    "print('------pyramid-----')\n",
    "for star in range(1, line+1):\n",
    "    print('　' * (line - star) + '★' * (2 * star - 1))\n",
    "print('-----end-----')"
   ]
  },
  {
   "cell_type": "markdown",
   "id": "09ef3202",
   "metadata": {},
   "source": [
    "실습 15"
   ]
  },
  {
   "cell_type": "code",
   "execution_count": 38,
   "id": "df28aa31",
   "metadata": {},
   "outputs": [
    {
     "name": "stdout",
     "output_type": "stream",
     "text": [
      "                   ★\n",
      "                 ★★★\n",
      "               ★★★★★\n",
      "             ★★★★★★★\n",
      "                   ★★★\n",
      "                 ★★★★★\n",
      "               ★★★★★★★\n",
      "             ★★★★★★★★★\n",
      "                   ★★★★★\n",
      "                 ★★★★★★★\n",
      "               ★★★★★★★★★\n",
      "             ★★★★★★★★★★★\n"
     ]
    }
   ],
   "source": [
    "for x in range (0,3):\n",
    "    j = 19\n",
    "    for i in range (0,4):\n",
    "        print(j * \" \" + \"★\" * (2*i +1) + (x * 2) * \"★\")\n",
    "        j -= 2"
   ]
  },
  {
   "cell_type": "code",
   "execution_count": 42,
   "id": "521d0385",
   "metadata": {},
   "outputs": [
    {
     "name": "stdout",
     "output_type": "stream",
     "text": [
      "                    ★\n",
      "                  ★★★\n",
      "                ★★★★★\n",
      "              ★★★★★★★\n",
      "                  ★★★\n",
      "                ★★★★★\n",
      "              ★★★★★★★\n",
      "            ★★★★★★★★★\n",
      "                ★★★★★\n",
      "              ★★★★★★★\n",
      "            ★★★★★★★★★\n",
      "          ★★★★★★★★★★★\n"
     ]
    }
   ],
   "source": [
    "for x in range (0,3):\n",
    "    j = 20\n",
    "    for i in range (0,4):\n",
    "        print((j-2*(i+x)) * \" \" + \"★\" * (2*i +1) + (x * 2) * \"★\")"
   ]
  },
  {
   "cell_type": "code",
   "execution_count": 36,
   "id": "b7b944df",
   "metadata": {},
   "outputs": [
    {
     "name": "stdout",
     "output_type": "stream",
     "text": [
      "          ★\n",
      "        ★★★\n",
      "      ★★★★★\n",
      "    ★★★★★★★\n",
      "        ★★★\n",
      "      ★★★★★\n",
      "    ★★★★★★★\n",
      "  ★★★★★★★★★\n",
      "      ★★★★★\n",
      "    ★★★★★★★\n",
      "  ★★★★★★★★★\n",
      "★★★★★★★★★★★\n"
     ]
    }
   ],
   "source": [
    "for i in range(3):\n",
    "    for j in range(4):\n",
    "        print(\" \"*(10-(2*i)-(2*j)) + \"★\"*(1+(2*i)+(2*j)))"
   ]
  },
  {
   "cell_type": "code",
   "execution_count": 41,
   "id": "a837a12a",
   "metadata": {},
   "outputs": [
    {
     "name": "stdout",
     "output_type": "stream",
     "text": [
      "　　　　　　★\n",
      "　　　　　★★★\n",
      "　　　　★★★★★\n",
      "　　　★★★★★★★\n",
      "　　　　　★★★\n",
      "　　　　★★★★★\n",
      "　　　★★★★★★★\n",
      "　　★★★★★★★★★\n",
      "　　　　★★★★★\n",
      "　　　★★★★★★★\n",
      "　　★★★★★★★★★\n",
      "　★★★★★★★★★★★\n"
     ]
    }
   ],
   "source": [
    "for star in range(1, 4+1):\n",
    "    print('　' * (7 - star) + '★' * (2 * star - 1))\n",
    "for star in range(2, 5+1):\n",
    "    print('　' * (7 - star) + '★' * (2 * star - 1))\n",
    "for star in range(3, 6+1):\n",
    "    print('　' * (7 - star) + '★' * (2 * star - 1))"
   ]
  },
  {
   "cell_type": "markdown",
   "id": "715b223e",
   "metadata": {},
   "source": [
    "실습 16"
   ]
  },
  {
   "cell_type": "code",
   "execution_count": 43,
   "id": "0a88adc5",
   "metadata": {},
   "outputs": [
    {
     "name": "stdout",
     "output_type": "stream",
     "text": [
      "166833\n"
     ]
    }
   ],
   "source": [
    "result = 0\n",
    "i = 1\n",
    "\n",
    "while i <= 1000:\n",
    "    if i % 3 == 0:  # 3으로 나누어 떨어지는 수는 3의 배수\n",
    "        result += i\n",
    "    i += 1\n",
    "\n",
    "print(result)  # 166833 출력"
   ]
  },
  {
   "cell_type": "code",
   "execution_count": 44,
   "id": "34c9a353",
   "metadata": {},
   "outputs": [
    {
     "name": "stdout",
     "output_type": "stream",
     "text": [
      "1부터 1000까지의 자연수 중 3의 배수의 합 : 166833\n"
     ]
    }
   ],
   "source": [
    "number = 0\n",
    "sum = 0\n",
    "for number in range(3,1000,3):\n",
    "    sum = sum + number\n",
    "print(\"1부터 1000까지의 자연수 중 3의 배수의 합 : %d\" % sum)"
   ]
  },
  {
   "cell_type": "markdown",
   "id": "3e3fb6e4",
   "metadata": {},
   "source": [
    "실습 17"
   ]
  },
  {
   "cell_type": "code",
   "execution_count": 45,
   "id": "b17f8fc3",
   "metadata": {},
   "outputs": [
    {
     "name": "stdout",
     "output_type": "stream",
     "text": [
      "0불일치\n",
      "5불일치\n",
      "10불일치\n",
      "15불일치\n",
      "20불일치\n",
      "25불일치\n",
      "30불일치\n",
      "35불일치\n",
      "40불일치\n",
      "45불일치\n",
      "50불일치\n",
      "55일치\n",
      "60불일치\n",
      "65불일치\n",
      "70불일치\n",
      "75불일치\n",
      "80불일치\n",
      "85불일치\n",
      "90불일치\n",
      "95불일치\n",
      "100불일치\n"
     ]
    }
   ],
   "source": [
    "num = 0\n",
    "while num <= 100:\n",
    "    if num == 55:\n",
    "        print(\"%d일치\" %num)\n",
    "    else:\n",
    "        print(\"%d불일치\" %num)\n",
    "    num += 5"
   ]
  },
  {
   "cell_type": "code",
   "execution_count": 46,
   "id": "263420f1",
   "metadata": {},
   "outputs": [
    {
     "name": "stdout",
     "output_type": "stream",
     "text": [
      "0불일치\n",
      "5불일치\n",
      "10불일치\n",
      "15불일치\n",
      "20불일치\n",
      "25불일치\n",
      "30불일치\n",
      "35불일치\n",
      "40불일치\n",
      "45불일치\n",
      "50불일치\n",
      "55일치\n",
      "60불일치\n",
      "65불일치\n",
      "70불일치\n",
      "75불일치\n",
      "80불일치\n",
      "85불일치\n",
      "90불일치\n",
      "95불일치\n"
     ]
    }
   ],
   "source": [
    "num = -5\n",
    "while num < 100:\n",
    "    num = num + 5\n",
    "    if num == 55:\n",
    "        print(\"%d일치\" % num)\n",
    "    elif num == 100:\n",
    "        break\n",
    "    else:\n",
    "         print(\"%d불일치\" % num)"
   ]
  },
  {
   "cell_type": "code",
   "execution_count": 47,
   "id": "66007209",
   "metadata": {},
   "outputs": [
    {
     "name": "stdout",
     "output_type": "stream",
     "text": [
      "0불일치\n",
      "5불일치\n",
      "10불일치\n",
      "15불일치\n",
      "20불일치\n",
      "25불일치\n",
      "30불일치\n",
      "35불일치\n",
      "40불일치\n",
      "45불일치\n",
      "50불일치\n",
      "55일치\n",
      "60불일치\n",
      "65불일치\n",
      "70불일치\n",
      "75불일치\n",
      "80불일치\n",
      "85불일치\n",
      "90불일치\n",
      "95불일치\n"
     ]
    }
   ],
   "source": [
    "num = 0\n",
    "while num<100:\n",
    "    if num == 55:\n",
    "        print('{}일치'.format(num))\n",
    "        num=num+5\n",
    "    else:\n",
    "        print('{}불일치'.format(num))\n",
    "        num=num+5"
   ]
  },
  {
   "cell_type": "markdown",
   "id": "5b9e9919",
   "metadata": {},
   "source": [
    "실습 18"
   ]
  },
  {
   "cell_type": "code",
   "execution_count": 48,
   "id": "497e9d0a",
   "metadata": {},
   "outputs": [
    {
     "name": "stdout",
     "output_type": "stream",
     "text": [
      "1 * 1 = 1\n",
      "1 * 2 = 2\n",
      "1 * 3 = 3\n",
      "1 * 4 = 4\n",
      "1 * 5 = 5\n",
      "1 * 6 = 6\n",
      "1 * 7 = 7\n",
      "1 * 8 = 8\n",
      "1 * 9 = 9\n"
     ]
    }
   ],
   "source": [
    "a = 0\n",
    "b = 1\n",
    "while a < 9:\n",
    "    a += 1           #a = a + 1\n",
    "    while b < 10:\n",
    "        print(\"%d * %d = %d\" % (a, b, a * b))\n",
    "        b += 1\n",
    "    a += 1           #a = a + 1"
   ]
  },
  {
   "cell_type": "code",
   "execution_count": 50,
   "id": "828985e8",
   "metadata": {},
   "outputs": [
    {
     "name": "stdout",
     "output_type": "stream",
     "text": [
      "2\n"
     ]
    }
   ],
   "source": [
    "a = 1\n",
    "a = a + 1\n",
    "print(a)"
   ]
  },
  {
   "cell_type": "code",
   "execution_count": 52,
   "id": "de214691",
   "metadata": {},
   "outputs": [
    {
     "name": "stdout",
     "output_type": "stream",
     "text": [
      "2\n"
     ]
    }
   ],
   "source": [
    "a = 1\n",
    "a += 1\n",
    "print(a)"
   ]
  },
  {
   "cell_type": "code",
   "execution_count": 49,
   "id": "28845c2d",
   "metadata": {},
   "outputs": [
    {
     "name": "stdout",
     "output_type": "stream",
     "text": [
      "1 * 1 = 1\n",
      "1 * 2 = 2\n",
      "1 * 3 = 3\n",
      "1 * 4 = 4\n",
      "1 * 5 = 5\n",
      "1 * 6 = 6\n",
      "1 * 7 = 7\n",
      "1 * 8 = 8\n",
      "1 * 9 = 9\n"
     ]
    }
   ],
   "source": [
    "number = 0\n",
    "while number < 9:\n",
    "    number = number + 1\n",
    "    print(\"1 * %d = %d\" % (number,number))"
   ]
  },
  {
   "cell_type": "markdown",
   "id": "7f2b6a6f",
   "metadata": {},
   "source": [
    "실습 19"
   ]
  },
  {
   "cell_type": "code",
   "execution_count": 55,
   "id": "c916e77a",
   "metadata": {},
   "outputs": [
    {
     "name": "stdout",
     "output_type": "stream",
     "text": [
      "1*1=1\t2*1=2\t3*1=3\t4*1=4\t5*1=5\t6*1=6\t7*1=7\t8*1=8\t9*1=9\t\n",
      "1*2=2\t2*2=4\t3*2=6\t4*2=8\t5*2=10\t6*2=12\t7*2=14\t8*2=16\t9*2=18\t\n",
      "1*3=3\t2*3=6\t3*3=9\t4*3=12\t5*3=15\t6*3=18\t7*3=21\t8*3=24\t9*3=27\t\n",
      "1*4=4\t2*4=8\t3*4=12\t4*4=16\t5*4=20\t6*4=24\t7*4=28\t8*4=32\t9*4=36\t\n",
      "1*5=5\t2*5=10\t3*5=15\t4*5=20\t5*5=25\t6*5=30\t7*5=35\t8*5=40\t9*5=45\t\n",
      "1*6=6\t2*6=12\t3*6=18\t4*6=24\t5*6=30\t6*6=36\t7*6=42\t8*6=48\t9*6=54\t\n",
      "1*7=7\t2*7=14\t3*7=21\t4*7=28\t5*7=35\t6*7=42\t7*7=49\t8*7=56\t9*7=63\t\n",
      "1*8=8\t2*8=16\t3*8=24\t4*8=32\t5*8=40\t6*8=48\t7*8=56\t8*8=64\t9*8=72\t\n",
      "1*9=9\t2*9=18\t3*9=27\t4*9=36\t5*9=45\t6*9=54\t7*9=63\t8*9=72\t9*9=81\t\n"
     ]
    }
   ],
   "source": [
    "b = 0\n",
    "while b < 9:\n",
    "    a = 1\n",
    "    b = b + 1\n",
    "    while a < 10:\n",
    "        print(\"%d*%d=%d\" %(a, b, a * b), end=\"\\t\")\n",
    "        a = a + 1\n",
    "    print(\"\")"
   ]
  },
  {
   "cell_type": "code",
   "execution_count": 53,
   "id": "ef9d99fe",
   "metadata": {},
   "outputs": [
    {
     "name": "stdout",
     "output_type": "stream",
     "text": [
      "1*1=1\t2*1=2\t3*1=3\t4*1=4\t5*1=5\t6*1=6\t7*1=7\t8*1=8\t9*1=9\t\n",
      "1*2=2\t2*2=4\t3*2=6\t4*2=8\t5*2=10\t6*2=12\t7*2=14\t8*2=16\t9*2=18\t\n",
      "1*3=3\t2*3=6\t3*3=9\t4*3=12\t5*3=15\t6*3=18\t7*3=21\t8*3=24\t9*3=27\t\n",
      "1*4=4\t2*4=8\t3*4=12\t4*4=16\t5*4=20\t6*4=24\t7*4=28\t8*4=32\t9*4=36\t\n",
      "1*5=5\t2*5=10\t3*5=15\t4*5=20\t5*5=25\t6*5=30\t7*5=35\t8*5=40\t9*5=45\t\n",
      "1*6=6\t2*6=12\t3*6=18\t4*6=24\t5*6=30\t6*6=36\t7*6=42\t8*6=48\t9*6=54\t\n",
      "1*7=7\t2*7=14\t3*7=21\t4*7=28\t5*7=35\t6*7=42\t7*7=49\t8*7=56\t9*7=63\t\n",
      "1*8=8\t2*8=16\t3*8=24\t4*8=32\t5*8=40\t6*8=48\t7*8=56\t8*8=64\t9*8=72\t\n",
      "1*9=9\t2*9=18\t3*9=27\t4*9=36\t5*9=45\t6*9=54\t7*9=63\t8*9=72\t9*9=81\t\n"
     ]
    }
   ],
   "source": [
    "i = 0\n",
    "j = 0\n",
    "while j < 9:\n",
    "    j = j + 1\n",
    "    while i < 9:\n",
    "        i = i + 1\n",
    "        print(f\"{i}*{j}={i*j}\", end='\\t')\n",
    "        if i == 9:\n",
    "            i = 0\n",
    "            break\n",
    "    print()"
   ]
  },
  {
   "cell_type": "code",
   "execution_count": 54,
   "id": "1d8c8a90",
   "metadata": {},
   "outputs": [
    {
     "name": "stdout",
     "output_type": "stream",
     "text": [
      "1*1=1   2*1=2   3*1=3   4*1=4   5*1=5   6*1=6   7*1=7   8*1=8   9*1=9    \n",
      "1*2=2   2*2=4   3*2=6   4*2=8   5*2=10  6*2=12  7*2=14  8*2=16  9*2=18   \n",
      "1*3=3   2*3=6   3*3=9   4*3=12  5*3=15  6*3=18  7*3=21  8*3=24  9*3=27   \n",
      "1*4=4   2*4=8   3*4=12  4*4=16  5*4=20  6*4=24  7*4=28  8*4=32  9*4=36   \n",
      "1*5=5   2*5=10  3*5=15  4*5=20  5*5=25  6*5=30  7*5=35  8*5=40  9*5=45   \n",
      "1*6=6   2*6=12  3*6=18  4*6=24  5*6=30  6*6=36  7*6=42  8*6=48  9*6=54   \n",
      "1*7=7   2*7=14  3*7=21  4*7=28  5*7=35  6*7=42  7*7=49  8*7=56  9*7=63   \n",
      "1*8=8   2*8=16  3*8=24  4*8=32  5*8=40  6*8=48  7*8=56  8*8=64  9*8=72   \n",
      "1*9=9   2*9=18  3*9=27  4*9=36  5*9=45  6*9=54  7*9=63  8*9=72  9*9=81   \n"
     ]
    }
   ],
   "source": [
    "i = 0\n",
    "while i < 9:\n",
    "    j = 0\n",
    "    i = i + 1\n",
    "    while j < 9:\n",
    "        j = j + 1\n",
    "        print(\"%d*%d=%-3d\" %(j, i, j*i), end=\" \")\n",
    "    print(\" \")"
   ]
  },
  {
   "cell_type": "markdown",
   "id": "40f4c3c9",
   "metadata": {},
   "source": [
    "random 모듈을 이용하여 up & down 게임 만들기"
   ]
  },
  {
   "cell_type": "markdown",
   "id": "53ba9761",
   "metadata": {},
   "source": [
    "1 ~ 100 사이의 숫자를 정하고 해당 숫자를 맞추는 게임<br><br>\n",
    "예시<br>\n",
    "숫자를 맞춰봐<br>\n",
    "몇일까? 31<br>\n",
    "숫자가 작습니다.<br>\n",
    "다시 맞춰봐 50<br>\n",
    "숫자가 작습니다.<br>\n",
    "다시 맞춰봐 77<br>\n",
    "77 정답니다.<br>"
   ]
  },
  {
   "cell_type": "code",
   "execution_count": 58,
   "id": "f5f5ca88",
   "metadata": {},
   "outputs": [
    {
     "name": "stdout",
     "output_type": "stream",
     "text": [
      " 몇일까? :10\n",
      "10보다 큽니다\n",
      " 몇일까? :50\n",
      "50보다 작습니다\n",
      " 몇일까? :43\n",
      "43보다 작습니다\n",
      " 몇일까? :32\n",
      "32보다 작습니다\n",
      " 몇일까? :20\n",
      "20보다 작습니다\n",
      " 몇일까? :15\n",
      "15보다 큽니다\n",
      " 몇일까? :17\n",
      "정답입니다.\n"
     ]
    }
   ],
   "source": [
    "import random\n",
    "num = random.randint(1, 100)\n",
    "\n",
    "while True:\n",
    "    user_input = int(input(\" 몇일까? :\"))\n",
    "    if num>user_input:\n",
    "        print(\"%d보다 큽니다\"%user_input)\n",
    "    elif num<user_input:\n",
    "        print(\"%d보다 작습니다\"%user_input)\n",
    "    else:\n",
    "        print(\"정답입니다.\")\n",
    "        break"
   ]
  },
  {
   "cell_type": "code",
   "execution_count": 59,
   "id": "3c4f1fca",
   "metadata": {},
   "outputs": [
    {
     "name": "stdout",
     "output_type": "stream",
     "text": [
      "1 ~ 100 사이의 숫자 맞추기\n",
      "숫자를 맞춰봐\n",
      "몇일까?10\n",
      "숫자가 작습니다.\n",
      "숫자를 맞춰봐\n",
      "몇일까?20\n",
      "숫자가 작습니다.\n",
      "숫자를 맞춰봐\n",
      "몇일까?60\n",
      "숫자가 큽니다.\n",
      "숫자를 맞춰봐\n",
      "몇일까?50\n",
      "숫자가 큽니다.\n",
      "숫자를 맞춰봐\n",
      "몇일까?40\n",
      "숫자가 큽니다.\n",
      "숫자를 맞춰봐\n",
      "몇일까?30\n",
      "숫자가 큽니다.\n",
      "숫자를 맞춰봐\n",
      "몇일까?25\n",
      "숫자가 작습니다.\n",
      "숫자를 맞춰봐\n",
      "몇일까?26\n",
      "정답입니다.\n"
     ]
    }
   ],
   "source": [
    "import random\n",
    "\n",
    "A = random.randint(1, 100)\n",
    "\n",
    "print(\"1 ~ 100 사이의 숫자 맞추기\")\n",
    "while True:\n",
    "    print(\"숫자를 맞춰봐\")\n",
    "    a = int(input(\"몇일까?\"))\n",
    "    if a > A:\n",
    "        print(\"숫자가 큽니다.\")\n",
    "        continue\n",
    "    elif a < A:\n",
    "        print(\"숫자가 작습니다.\")\n",
    "        continue\n",
    "    elif a == A:\n",
    "        print(\"정답입니다.\")\n",
    "        break"
   ]
  },
  {
   "cell_type": "code",
   "execution_count": 60,
   "id": "49c8191e",
   "metadata": {},
   "outputs": [
    {
     "name": "stdout",
     "output_type": "stream",
     "text": [
      "숫자를 맞춰봐.\n",
      "몇일까? 30\n",
      "숫자가 큽니다. 다시 맞춰보세요. 20\n",
      "숫자가 작습니다. 다시 맞춰보세요. 25\n",
      "숫자가 작습니다. 다시 맞춰보세요. 27\n",
      "정답입니다.\n"
     ]
    }
   ],
   "source": [
    "import random\n",
    "answer = random.randint(1, 100)\n",
    "\n",
    "x = int(input('숫자를 맞춰봐.\\n몇일까? '))\n",
    "\n",
    "while 1:\n",
    "    if x == answer:\n",
    "        x = print('정답입니다.')\n",
    "        break\n",
    "    elif x < answer:\n",
    "        x = int(input('숫자가 작습니다. 다시 맞춰보세요. '))\n",
    "    elif x > answer:\n",
    "        x = int(input('숫자가 큽니다. 다시 맞춰보세요. '))"
   ]
  },
  {
   "cell_type": "code",
   "execution_count": 61,
   "id": "42f610b2",
   "metadata": {},
   "outputs": [
    {
     "name": "stdout",
     "output_type": "stream",
     "text": [
      "숫자 맞추기 게임 1 ~ 100\n",
      "숫자를 입력하세요.10\n",
      "숫자가 작습니다.\n",
      "다시 숫자를 입력하세요.30\n",
      "숫자가 작습니다.\n",
      "다시 숫자를 입력하세요.50\n",
      "숫자가 작습니다.\n",
      "다시 숫자를 입력하세요.70\n",
      "숫자가 작습니다.\n",
      "다시 숫자를 입력하세요.80\n",
      "숫자가 작습니다.\n",
      "다시 숫자를 입력하세요.90\n",
      "숫자가 큽니다.\n",
      "다시 숫자를 입력하세요.85\n",
      "숫자가 작습니다.\n",
      "다시 숫자를 입력하세요.57\n",
      "숫자가 작습니다.\n",
      "다시 숫자를 입력하세요.87\n",
      "숫자가 큽니다.\n",
      "다시 숫자를 입력하세요.86\n",
      "정답입니다.\n"
     ]
    }
   ],
   "source": [
    "import random as rand\n",
    "print(\"숫자 맞추기 게임 1 ~ 100\")\n",
    "answer = rand.randint(1,100)\n",
    "number = int(input(\"숫자를 입력하세요.\"))\n",
    "while True:\n",
    "    if answer > number : \n",
    "        print(\"숫자가 작습니다.\")\n",
    "        number = int(input(\"다시 숫자를 입력하세요.\"))\n",
    "    elif answer < number:\n",
    "        print(\"숫자가 큽니다.\")\n",
    "        number = int(input(\"다시 숫자를 입력하세요.\"))\n",
    "    else:\n",
    "        print(\"정답입니다.\")\n",
    "        break"
   ]
  },
  {
   "cell_type": "code",
   "execution_count": 62,
   "id": "6dd263ab",
   "metadata": {},
   "outputs": [
    {
     "name": "stdout",
     "output_type": "stream",
     "text": [
      "1~100 사이의 숫자를 입력해주세요 : 20\n",
      "숫자가 더 큽니다. 다시 맞춰보세요\n",
      "1~100 사이의 숫자를 입력해주세요 : 10\n",
      "숫자가 더 큽니다. 다시 맞춰보세요\n",
      "1~100 사이의 숫자를 입력해주세요 : 70\n",
      "숫자가 더 작습니다. 다시 맞춰보세요\n",
      "1~100 사이의 숫자를 입력해주세요 : 50\n",
      "숫자가 더 큽니다. 다시 맞춰보세요\n",
      "1~100 사이의 숫자를 입력해주세요 : 60\n",
      "숫자가 더 큽니다. 다시 맞춰보세요\n",
      "1~100 사이의 숫자를 입력해주세요 : 65\n",
      "숫자가 더 작습니다. 다시 맞춰보세요\n",
      "1~100 사이의 숫자를 입력해주세요 : 67\n",
      "숫자가 더 작습니다. 다시 맞춰보세요\n",
      "1~100 사이의 숫자를 입력해주세요 : 63\n",
      "정답입니다. 숫자가 같습니다. 63\n"
     ]
    }
   ],
   "source": [
    "import random\n",
    "\n",
    "a = random.randint(1,100)\n",
    "\n",
    "while True:\n",
    "    b = int(input(\"1~100 사이의 숫자를 입력해주세요 : \"))\n",
    "    if a>b:\n",
    "        print('숫자가 더 큽니다. 다시 맞춰보세요')\n",
    "    elif a<b:    \n",
    "        print('숫자가 더 작습니다. 다시 맞춰보세요')\n",
    "    else:\n",
    "        print('정답입니다. 숫자가 같습니다.', b)\n",
    "        break"
   ]
  },
  {
   "cell_type": "code",
   "execution_count": 63,
   "id": "8ad7129f",
   "metadata": {},
   "outputs": [
    {
     "name": "stdout",
     "output_type": "stream",
     "text": [
      "숫자를 맞혀보세요! \n",
      " 몇일까?:20\n",
      "숫자가 큽니다 \n",
      " 다시 맞혀봐\n",
      "숫자를 맞혀보세요! \n",
      " 몇일까?:10\n",
      "숫자가 작습니다 \n",
      " 다시 맞혀봐\n",
      "숫자를 맞혀보세요! \n",
      " 몇일까?:15\n",
      "숫자가 큽니다 \n",
      " 다시 맞혀봐\n",
      "숫자를 맞혀보세요! \n",
      " 몇일까?:13\n",
      "숫자가 큽니다 \n",
      " 다시 맞혀봐\n",
      "숫자를 맞혀보세요! \n",
      " 몇일까?:12\n",
      "숫자가 큽니다 \n",
      " 다시 맞혀봐\n",
      "숫자를 맞혀보세요! \n",
      " 몇일까?:11\n",
      "11정답입니다\n"
     ]
    }
   ],
   "source": [
    "import random\n",
    "r = random.randint(1,100)\n",
    "\n",
    "while True:\n",
    "    num= input('숫자를 맞혀보세요! \\n 몇일까?:')\n",
    "    if int(num) > r:\n",
    "        print(\"숫자가 큽니다 \\n 다시 맞혀봐\")\n",
    "        continue\n",
    "    if int(num) < r:\n",
    "        print(\"숫자가 작습니다 \\n 다시 맞혀봐\")\n",
    "        continue\n",
    "    if int(num) == r:\n",
    "        print(str(num)+\"정답입니다\")\n",
    "        break"
   ]
  },
  {
   "cell_type": "code",
   "execution_count": 64,
   "id": "797cb296",
   "metadata": {},
   "outputs": [
    {
     "name": "stdout",
     "output_type": "stream",
     "text": [
      "숫자를 맞춰봐\n",
      "몇일까? 10\n",
      "숫자가 작습니다.\n",
      "다시 맞춰봐 20\n",
      "숫자가 작습니다.\n",
      "다시 맞춰봐 330\n",
      "숫자가 큽니다.\n",
      "다시 맞춰봐 30\n",
      "숫자가 작습니다.\n",
      "다시 맞춰봐 50\n",
      "숫자가 큽니다.\n",
      "다시 맞춰봐 40\n",
      "숫자가 작습니다.\n",
      "다시 맞춰봐 45\n",
      "숫자가 작습니다.\n",
      "다시 맞춰봐 47\n",
      "숫자가 큽니다.\n",
      "다시 맞춰봐 46\n",
      "46 정답입니다.\n"
     ]
    }
   ],
   "source": [
    "import random\n",
    "random_num=random.randint(1,100)\n",
    "print(\"숫자를 맞춰봐\")\n",
    "user_input=int(input(\"몇일까? \"))\n",
    "\n",
    "while (user_input is not random_num):\n",
    "    if user_input > random_num:\n",
    "        print(\"숫자가 큽니다.\")\n",
    "    else:\n",
    "        print(\"숫자가 작습니다.\")\n",
    "    user_input=int(input(\"다시 맞춰봐 \"))\n",
    "else:\n",
    "    print(user_input,\"정답입니다.\")"
   ]
  },
  {
   "cell_type": "code",
   "execution_count": null,
   "id": "a3a9b616",
   "metadata": {},
   "outputs": [],
   "source": []
  }
 ],
 "metadata": {
  "kernelspec": {
   "display_name": "Python 3 (ipykernel)",
   "language": "python",
   "name": "python3"
  },
  "language_info": {
   "codemirror_mode": {
    "name": "ipython",
    "version": 3
   },
   "file_extension": ".py",
   "mimetype": "text/x-python",
   "name": "python",
   "nbconvert_exporter": "python",
   "pygments_lexer": "ipython3",
   "version": "3.9.7"
  }
 },
 "nbformat": 4,
 "nbformat_minor": 5
}
