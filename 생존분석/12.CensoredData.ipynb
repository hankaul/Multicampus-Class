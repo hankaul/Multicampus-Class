{
 "cells": [
  {
   "cell_type": "code",
   "execution_count": 7,
   "id": "cedd2343",
   "metadata": {
    "scrolled": true
   },
   "outputs": [],
   "source": [
    "# !pip3 install lifelines"
   ]
  },
  {
   "cell_type": "markdown",
   "id": "9d3577d5",
   "metadata": {},
   "source": [
    "# Survival 통계분석 패키지 - lifelines\n",
    "\n",
    "- Log Rank Test"
   ]
  },
  {
   "cell_type": "code",
   "execution_count": 22,
   "id": "b4c9c3e9",
   "metadata": {},
   "outputs": [],
   "source": [
    "from lifelines import KaplanMeierFitter\n",
    "from lifelines.statistics import logrank_test\n",
    "import pandas as pd"
   ]
  },
  {
   "cell_type": "markdown",
   "id": "073e906b",
   "metadata": {},
   "source": [
    "<br><br><br>\n",
    "데이터 임의 생성"
   ]
  },
  {
   "cell_type": "code",
   "execution_count": 33,
   "id": "58652ab6",
   "metadata": {},
   "outputs": [],
   "source": [
    "data = pd.DataFrame({\n",
    "    'time' : [7, 5, 3, 50, 38, 17, 7, 2, 4, 6, 8, 10, 14, 18, 22, 28, 40], # 게임에 가입한 기간\n",
    "    'treatment' : [1,1,1, 2, 2, 2, 1, 1, 1, 1, 2, 1, 2, 1, 2, 2, 2], # 신규가입 보너스 지급\n",
    "    'event' : [True, False, True, False, False, False, True, True, False, True, True, True, True, False, True, True, False] # 결제 유무\n",
    "})"
   ]
  },
  {
   "cell_type": "code",
   "execution_count": 13,
   "id": "b9973cfc",
   "metadata": {},
   "outputs": [
    {
     "data": {
      "text/html": [
       "<div>\n",
       "<style scoped>\n",
       "    .dataframe tbody tr th:only-of-type {\n",
       "        vertical-align: middle;\n",
       "    }\n",
       "\n",
       "    .dataframe tbody tr th {\n",
       "        vertical-align: top;\n",
       "    }\n",
       "\n",
       "    .dataframe thead th {\n",
       "        text-align: right;\n",
       "    }\n",
       "</style>\n",
       "<table border=\"1\" class=\"dataframe\">\n",
       "  <thead>\n",
       "    <tr style=\"text-align: right;\">\n",
       "      <th></th>\n",
       "      <th>time</th>\n",
       "      <th>treatment</th>\n",
       "      <th>event</th>\n",
       "    </tr>\n",
       "  </thead>\n",
       "  <tbody>\n",
       "    <tr>\n",
       "      <th>1</th>\n",
       "      <td>2</td>\n",
       "      <td>1</td>\n",
       "      <td>True</td>\n",
       "    </tr>\n",
       "    <tr>\n",
       "      <th>2</th>\n",
       "      <td>4</td>\n",
       "      <td>1</td>\n",
       "      <td>False</td>\n",
       "    </tr>\n",
       "    <tr>\n",
       "      <th>3</th>\n",
       "      <td>6</td>\n",
       "      <td>1</td>\n",
       "      <td>True</td>\n",
       "    </tr>\n",
       "    <tr>\n",
       "      <th>4</th>\n",
       "      <td>8</td>\n",
       "      <td>2</td>\n",
       "      <td>True</td>\n",
       "    </tr>\n",
       "    <tr>\n",
       "      <th>5</th>\n",
       "      <td>10</td>\n",
       "      <td>1</td>\n",
       "      <td>True</td>\n",
       "    </tr>\n",
       "    <tr>\n",
       "      <th>6</th>\n",
       "      <td>14</td>\n",
       "      <td>2</td>\n",
       "      <td>True</td>\n",
       "    </tr>\n",
       "    <tr>\n",
       "      <th>7</th>\n",
       "      <td>18</td>\n",
       "      <td>1</td>\n",
       "      <td>False</td>\n",
       "    </tr>\n",
       "    <tr>\n",
       "      <th>8</th>\n",
       "      <td>22</td>\n",
       "      <td>2</td>\n",
       "      <td>True</td>\n",
       "    </tr>\n",
       "    <tr>\n",
       "      <th>9</th>\n",
       "      <td>28</td>\n",
       "      <td>2</td>\n",
       "      <td>True</td>\n",
       "    </tr>\n",
       "    <tr>\n",
       "      <th>10</th>\n",
       "      <td>40</td>\n",
       "      <td>2</td>\n",
       "      <td>False</td>\n",
       "    </tr>\n",
       "  </tbody>\n",
       "</table>\n",
       "</div>"
      ],
      "text/plain": [
       "    time  treatment  event\n",
       "1      2          1   True\n",
       "2      4          1  False\n",
       "3      6          1   True\n",
       "4      8          2   True\n",
       "5     10          1   True\n",
       "6     14          2   True\n",
       "7     18          1  False\n",
       "8     22          2   True\n",
       "9     28          2   True\n",
       "10    40          2  False"
      ]
     },
     "execution_count": 13,
     "metadata": {},
     "output_type": "execute_result"
    }
   ],
   "source": [
    "data"
   ]
  },
  {
   "cell_type": "markdown",
   "id": "c5ea5666",
   "metadata": {},
   "source": [
    "<br><br><br>\n",
    "\n",
    "Survival data 시각화"
   ]
  },
  {
   "cell_type": "code",
   "execution_count": 34,
   "id": "91fc6d37",
   "metadata": {},
   "outputs": [
    {
     "data": {
      "text/plain": [
       "<AxesSubplot:xlabel='time', ylabel='S(t)'>"
      ]
     },
     "execution_count": 34,
     "metadata": {},
     "output_type": "execute_result"
    },
    {
     "data": {
      "image/png": "[encoded data removed]",
      "text/plain": [
       "<Figure size 432x288 with 1 Axes>"
      ]
     },
     "metadata": {
      "needs_background": "light"
     },
     "output_type": "display_data"
    }
   ],
   "source": [
    "kmf = KaplanMeierFitter()\n",
    "kmf.fit(data['time'], data['event'])\n",
    "\n",
    "plot = kmf.plot_survival_function()\n",
    "plot.set_xlabel('time')\n",
    "plot.set_ylabel('S(t)')\n",
    "plot"
   ]
  },
  {
   "cell_type": "markdown",
   "id": "b6f5d6e6",
   "metadata": {},
   "source": [
    "<br><br><br>\n",
    "'Censored 표시' 의 의미: 중도절단"
   ]
  },
  {
   "cell_type": "code",
   "execution_count": 35,
   "id": "ca0e90c9",
   "metadata": {},
   "outputs": [
    {
     "data": {
      "text/plain": [
       "<AxesSubplot:xlabel='time', ylabel='S(t)'>"
      ]
     },
     "execution_count": 35,
     "metadata": {},
     "output_type": "execute_result"
    },
    {
     "data": {
      "image/png": "[encoded data removed]",
      "text/plain": [
       "<Figure size 432x288 with 1 Axes>"
      ]
     },
     "metadata": {
      "needs_background": "light"
     },
     "output_type": "display_data"
    }
   ],
   "source": [
    "kmf = KaplanMeierFitter()\n",
    "kmf.fit(data['time'], data['event'])\n",
    "\n",
    "plot = kmf.plot_survival_function(show_censors=True)\n",
    "plot.set_xlabel('time')\n",
    "plot.set_ylabel('S(t)')\n",
    "plot"
   ]
  },
  {
   "cell_type": "code",
   "execution_count": 36,
   "id": "83ecd142",
   "metadata": {},
   "outputs": [
    {
     "data": {
      "text/plain": [
       "<AxesSubplot:xlabel='Time (Months)', ylabel='Survival Rate'>"
      ]
     },
     "execution_count": 36,
     "metadata": {},
     "output_type": "execute_result"
    },
    {
     "data": {
      "image/png": "[encoded data removed]",
      "text/plain": [
       "<Figure size 432x288 with 1 Axes>"
      ]
     },
     "metadata": {
      "needs_background": "light"
     },
     "output_type": "display_data"
    }
   ],
   "source": [
    "treat1 = data[data['treatment'] == 1]\n",
    "treat2 = data[data['treatment'] == 2]\n",
    "\n",
    "kmf = KaplanMeierFitter()\n",
    "kmf.fit(treat1['time'], treat1['event'], label='treat1')\n",
    "ax_kmf = kmf.plot(show_censors=True)\n",
    "kmf.fit(treat2['time'], treat2['event'], label='treat2')\n",
    "ax_kmf = kmf.plot(ax = ax_kmf, show_censors=True)\n",
    "\n",
    "ax_kmf.set_xlabel('Time (Months)')\n",
    "ax_kmf.set_ylabel('Survival Rate')\n",
    "ax_kmf"
   ]
  },
  {
   "cell_type": "code",
   "execution_count": 37,
   "id": "eaf53107",
   "metadata": {},
   "outputs": [
    {
     "name": "stdout",
     "output_type": "stream",
     "text": [
      "Help on function logrank_test in module lifelines.statistics:\n",
      "\n",
      "logrank_test(durations_A, durations_B, event_observed_A=None, event_observed_B=None, t_0=-1, weights_A=None, weights_B=None, weightings=None, **kwargs) -> lifelines.statistics.StatisticalResult\n",
      "    Measures and reports on whether two intensity processes are different. That is, given two\n",
      "    event series, determines whether the data generating processes are statistically different.\n",
      "    The test-statistic is chi-squared under the null hypothesis. Let :math:`h_i(t)` be the hazard ratio of\n",
      "    group :math:`i` at time :math:`t`, then:\n",
      "    \n",
      "    .. math::\n",
      "        \\begin{align}\n",
      "         & H_0: h_1(t) = h_2(t) \\\\\n",
      "         & H_A: h_1(t) = c h_2(t), \\;\\; c \\ne 1\n",
      "        \\end{align}\n",
      "    \n",
      "    This implicitly uses the log-rank weights.\n",
      "    \n",
      "    Note\n",
      "    -----\n",
      "    - *lifelines* logrank implementation only handles right-censored data.\n",
      "    \n",
      "    - The logrank test has maximum power when the assumption of proportional hazards is true. As a consequence, if the survival curves cross, the logrank test will give an inaccurate assessment of differences.\n",
      "    \n",
      "    - This implementation is a special case of the function ``multivariate_logrank_test``, which is used internally. See Survival and Event Analysis, page 108.\n",
      "    \n",
      "    - There are only disadvantages to using the log-rank test versus using the Cox regression. See more `here <https://discourse.datamethods.org/t/when-is-log-rank-preferred-over-univariable-cox-regression/2344>`_ for a discussion. To convert to using the Cox regression:\n",
      "    \n",
      "    .. code:: python\n",
      "    \n",
      "        from lifelines import CoxPHFitter\n",
      "    \n",
      "        dfA = pd.DataFrame({'E': event_observed_A, 'T': durations_A, 'groupA': 1})\n",
      "        dfB = pd.DataFrame({'E': event_observed_B, 'T': durations_B, 'groupA': 0})\n",
      "        df = pd.concat([dfA, dfB])\n",
      "    \n",
      "        cph = CoxPHFitter().fit(df, 'T', 'E')\n",
      "        cph.print_summary()\n",
      "    \n",
      "    \n",
      "    \n",
      "    Parameters\n",
      "    ----------\n",
      "    \n",
      "    durations_A: iterable\n",
      "        a (n,) list-like of event durations (birth to death,...) for the first population.\n",
      "    \n",
      "    durations_B: iterable\n",
      "        a (n,) list-like of event durations (birth to death,...) for the second population.\n",
      "    \n",
      "    event_observed_A: iterable, optional\n",
      "        a (n,) list-like of censorship flags, (1 if observed, 0 if not), for the first population.\n",
      "        Default assumes all observed.\n",
      "    \n",
      "    event_observed_B: iterable, optional\n",
      "        a (n,) list-like of censorship flags, (1 if observed, 0 if not), for the second population.\n",
      "        Default assumes all observed.\n",
      "    \n",
      "    weights_A: iterable, optional\n",
      "        case weights\n",
      "    \n",
      "    weights_B: iterable, optional\n",
      "        case weights\n",
      "    \n",
      "    t_0: float, optional (default=-1)\n",
      "        The final time period under observation, and subjects who experience the event after this time are set to be censored.\n",
      "        Specify -1 to use all time.\n",
      "    \n",
      "    weightings: str, optional\n",
      "        apply a weighted logrank test: options are \"wilcoxon\" for Wilcoxon (also known as Breslow), \"tarone-ware\"\n",
      "        for Tarone-Ware, \"peto\" for Peto test and \"fleming-harrington\" for Fleming-Harrington test.\n",
      "        These are useful for testing for early or late differences in the survival curve. For the Fleming-Harrington\n",
      "        test, keyword arguments p and q must also be provided with non-negative values.\n",
      "    \n",
      "        Weightings are applied at the ith ordered failure time, :math:`t_{i}`, according to:\n",
      "            Wilcoxon: :math:`n_i`\n",
      "            Tarone-Ware: :math:`\\sqrt{n_i}`\n",
      "            Peto: :math:`\\bar{S}(t_i)`\n",
      "            Fleming-Harrington: :math:`\\hat{S}(t_i)^p \\times (1 - \\hat{S}(t_i))^q`\n",
      "    \n",
      "            where :math:`n_i` is the number at risk just prior to time :math:`t_{i}`, :math:`\\bar{S}(t_i)` is\n",
      "            Peto-Peto's modified survival estimate and :math:`\\hat{S}(t_i)` is the left-continuous\n",
      "            Kaplan-Meier survival estimate at time :math:`t_{i}`.\n",
      "    \n",
      "    Returns\n",
      "    -------\n",
      "    \n",
      "    StatisticalResult\n",
      "      a StatisticalResult object with properties ``p_value``, ``summary``, ``test_statistic``, ``print_summary``\n",
      "    \n",
      "    Examples\n",
      "    --------\n",
      "    \n",
      "    .. code:: python\n",
      "    \n",
      "        T1 = [1, 4, 10, 12, 12, 3, 5.4]\n",
      "        E1 = [1, 0, 1,  0,  1,  1, 1]\n",
      "    \n",
      "        T2 = [4, 5, 7, 11, 14, 20, 8, 8]\n",
      "        E2 = [1, 1, 1, 1,  1,  1,  1, 1]\n",
      "    \n",
      "        from lifelines.statistics import logrank_test\n",
      "        results = logrank_test(T1, T2, event_observed_A=E1, event_observed_B=E2)\n",
      "    \n",
      "        results.print_summary()\n",
      "        print(results.p_value)        # 0.7676\n",
      "        print(results.test_statistic) # 0.0872\n",
      "    \n",
      "    \n",
      "    See Also\n",
      "    --------\n",
      "    multivariate_logrank_test\n",
      "    pairwise_logrank_test\n",
      "    survival_difference_at_fixed_point_in_time_test\n",
      "\n"
     ]
    }
   ],
   "source": [
    "help(logrank_test)"
   ]
  },
  {
   "cell_type": "code",
   "execution_count": 38,
   "id": "0743864b",
   "metadata": {},
   "outputs": [
    {
     "data": {
      "text/plain": [
       "0.007341895570690576"
      ]
     },
     "execution_count": 38,
     "metadata": {},
     "output_type": "execute_result"
    }
   ],
   "source": [
    "logrank_test(treat1[\"time\"], treat2[\"time\"], treat1[\"event\"], treat2[\"event\"]).p_value"
   ]
  },
  {
   "cell_type": "code",
   "execution_count": 42,
   "id": "ac96ada5",
   "metadata": {},
   "outputs": [],
   "source": [
    "data = pd.DataFrame({\n",
    "    'time' : [7, 5, 3, 50, 38, 17, 7, 2, 4, 6, 8, 10, 14, 18, 22, 28, 40], # 게임에 가입한 기간\n",
    "    'treatment' : [1,1,1, 2, 2, 2, 1, 1, 1, 1, 2, 1, 2, 1, 2, 2, 2], # 신규가입 보너스 지급\n",
    "    'Gender' : [1, 2, 1, 1, 2, 1, 2, 2, 1, 2, 1, 1, 2, 1, 2, 2, 1],\n",
    "    'event' : [True, False, True, False, False, False, True, True, False, True, True, True, True, False, True, True, False] # 결제 유무\n",
    "})"
   ]
  },
  {
   "cell_type": "code",
   "execution_count": 43,
   "id": "e833380c",
   "metadata": {},
   "outputs": [
    {
     "data": {
      "text/plain": [
       "<AxesSubplot:xlabel='Time (Months)', ylabel='Survival Rate'>"
      ]
     },
     "execution_count": 43,
     "metadata": {},
     "output_type": "execute_result"
    },
    {
     "data": {
      "image/png": "[encoded data removed]",
      "text/plain": [
       "<Figure size 432x288 with 1 Axes>"
      ]
     },
     "metadata": {
      "needs_background": "light"
     },
     "output_type": "display_data"
    }
   ],
   "source": [
    "treat1 = data[data['treatment'] == 1]\n",
    "treat2 = data[data['treatment'] == 2]\n",
    "\n",
    "kmf = KaplanMeierFitter()\n",
    "kmf.fit(treat1['time'], treat1['event'], label='treat1')\n",
    "ax_kmf = kmf.plot(show_censors=True)\n",
    "kmf.fit(treat2['time'], treat2['event'], label='treat2')\n",
    "ax_kmf = kmf.plot(ax = ax_kmf, show_censors=True)\n",
    "\n",
    "ax_kmf.set_xlabel('Time (Months)')\n",
    "ax_kmf.set_ylabel('Survival Rate')\n",
    "ax_kmf"
   ]
  },
  {
   "cell_type": "code",
   "execution_count": 44,
   "id": "6623f326",
   "metadata": {},
   "outputs": [
    {
     "data": {
      "text/plain": [
       "<AxesSubplot:xlabel='Time (Months)', ylabel='Survival Rate'>"
      ]
     },
     "execution_count": 44,
     "metadata": {},
     "output_type": "execute_result"
    },
    {
     "data": {
      "image/png": "[encoded data removed]",
      "text/plain": [
       "<Figure size 432x288 with 1 Axes>"
      ]
     },
     "metadata": {
      "needs_background": "light"
     },
     "output_type": "display_data"
    }
   ],
   "source": [
    "treat1 = data[data['Gender'] == 1]\n",
    "treat2 = data[data['Gender'] == 2]\n",
    "\n",
    "kmf = KaplanMeierFitter()\n",
    "kmf.fit(treat1['time'], treat1['event'], label='treat1')\n",
    "ax_kmf = kmf.plot(show_censors=True)\n",
    "kmf.fit(treat2['time'], treat2['event'], label='treat2')\n",
    "ax_kmf = kmf.plot(ax = ax_kmf, show_censors=True)\n",
    "\n",
    "ax_kmf.set_xlabel('Time (Months)')\n",
    "ax_kmf.set_ylabel('Survival Rate')\n",
    "ax_kmf"
   ]
  },
  {
   "cell_type": "code",
   "execution_count": 46,
   "id": "227df58e",
   "metadata": {},
   "outputs": [
    {
     "data": {
      "text/plain": [
       "0.007341895570690576"
      ]
     },
     "execution_count": 46,
     "metadata": {},
     "output_type": "execute_result"
    }
   ],
   "source": [
    "treat1 = data[data['treatment'] == 1]\n",
    "treat2 = data[data['treatment'] == 2]\n",
    "\n",
    "logrank_test(treat1[\"time\"], treat2[\"time\"], treat1[\"event\"], treat2[\"event\"]).p_value"
   ]
  },
  {
   "cell_type": "code",
   "execution_count": 45,
   "id": "a9260243",
   "metadata": {},
   "outputs": [
    {
     "data": {
      "text/plain": [
       "0.38385409266469805"
      ]
     },
     "execution_count": 45,
     "metadata": {},
     "output_type": "execute_result"
    }
   ],
   "source": [
    "treat1 = data[data['Gender'] == 1]\n",
    "treat2 = data[data['Gender'] == 2]\n",
    "\n",
    "logrank_test(treat1[\"time\"], treat2[\"time\"], treat1[\"event\"], treat2[\"event\"]).p_value"
   ]
  },
  {
   "cell_type": "markdown",
   "id": "384d2373",
   "metadata": {},
   "source": [
    "<br><br><br>"
   ]
  },
  {
   "cell_type": "markdown",
   "id": "4ac53543",
   "metadata": {},
   "source": [
    "# Cox-regression"
   ]
  },
  {
   "cell_type": "code",
   "execution_count": 47,
   "id": "85f8d5e4",
   "metadata": {},
   "outputs": [],
   "source": [
    "from lifelines import CoxPHFitter"
   ]
  },
  {
   "cell_type": "code",
   "execution_count": 48,
   "id": "ac6119f4",
   "metadata": {},
   "outputs": [
    {
     "data": {
      "text/html": [
       "<div>\n",
       "<style scoped>\n",
       "    .dataframe tbody tr th:only-of-type {\n",
       "        vertical-align: middle;\n",
       "    }\n",
       "\n",
       "    .dataframe tbody tr th {\n",
       "        vertical-align: top;\n",
       "    }\n",
       "\n",
       "    .dataframe thead th {\n",
       "        text-align: right;\n",
       "    }\n",
       "</style>\n",
       "<table border=\"1\" class=\"dataframe\">\n",
       "  <thead>\n",
       "    <tr style=\"text-align: right;\">\n",
       "      <th></th>\n",
       "      <th>time</th>\n",
       "      <th>treatment</th>\n",
       "      <th>Gender</th>\n",
       "      <th>event</th>\n",
       "    </tr>\n",
       "  </thead>\n",
       "  <tbody>\n",
       "    <tr>\n",
       "      <th>0</th>\n",
       "      <td>7</td>\n",
       "      <td>1</td>\n",
       "      <td>1</td>\n",
       "      <td>True</td>\n",
       "    </tr>\n",
       "    <tr>\n",
       "      <th>1</th>\n",
       "      <td>5</td>\n",
       "      <td>1</td>\n",
       "      <td>2</td>\n",
       "      <td>False</td>\n",
       "    </tr>\n",
       "    <tr>\n",
       "      <th>2</th>\n",
       "      <td>3</td>\n",
       "      <td>1</td>\n",
       "      <td>1</td>\n",
       "      <td>True</td>\n",
       "    </tr>\n",
       "    <tr>\n",
       "      <th>3</th>\n",
       "      <td>50</td>\n",
       "      <td>2</td>\n",
       "      <td>1</td>\n",
       "      <td>False</td>\n",
       "    </tr>\n",
       "    <tr>\n",
       "      <th>4</th>\n",
       "      <td>38</td>\n",
       "      <td>2</td>\n",
       "      <td>2</td>\n",
       "      <td>False</td>\n",
       "    </tr>\n",
       "  </tbody>\n",
       "</table>\n",
       "</div>"
      ],
      "text/plain": [
       "   time  treatment  Gender  event\n",
       "0     7          1       1   True\n",
       "1     5          1       2  False\n",
       "2     3          1       1   True\n",
       "3    50          2       1  False\n",
       "4    38          2       2  False"
      ]
     },
     "execution_count": 48,
     "metadata": {},
     "output_type": "execute_result"
    }
   ],
   "source": [
    "data.head()"
   ]
  },
  {
   "cell_type": "markdown",
   "id": "c21b29af",
   "metadata": {},
   "source": [
    "<br><br>\n",
    "Cox 객체 생성 및 학습"
   ]
  },
  {
   "cell_type": "code",
   "execution_count": 50,
   "id": "78e3a080",
   "metadata": {},
   "outputs": [],
   "source": [
    "cph = CoxPHFitter()"
   ]
  },
  {
   "cell_type": "code",
   "execution_count": 51,
   "id": "83f2c8b3",
   "metadata": {},
   "outputs": [
    {
     "data": {
      "text/plain": [
       "<lifelines.CoxPHFitter: fitted with 17 total observations, 7 right-censored observations>"
      ]
     },
     "execution_count": 51,
     "metadata": {},
     "output_type": "execute_result"
    }
   ],
   "source": [
    "cph.fit(data, duration_col='time', event_col='event', formula=\"treatment + Gender\")"
   ]
  },
  {
   "cell_type": "code",
   "execution_count": 52,
   "id": "eda4b0dc",
   "metadata": {},
   "outputs": [
    {
     "name": "stderr",
     "output_type": "stream",
     "text": [
      "C:\\Users\\student\\AppData\\Local\\Programs\\Python\\Python310\\lib\\site-packages\\lifelines\\utils\\printer.py:62: FutureWarning: In future versions `DataFrame.to_latex` is expected to utilise the base implementation of `Styler.to_latex` for formatting and rendering. The arguments signature may therefore change. It is recommended instead to use `DataFrame.style.to_latex` which also contains additional functionality.\n",
      "  return summary_df[columns].to_latex(float_format=\"%.\" + str(self.decimals) + \"f\")\n"
     ]
    },
    {
     "data": {
      "text/html": [
       "<div>\n",
       "<style scoped>\n",
       "    .dataframe tbody tr th:only-of-type {\n",
       "        vertical-align: middle;\n",
       "    }\n",
       "\n",
       "    .dataframe tbody tr th {\n",
       "        vertical-align: top;\n",
       "    }\n",
       "\n",
       "    .dataframe thead th {\n",
       "        text-align: right;\n",
       "    }\n",
       "</style>\n",
       "<table border=\"1\" class=\"dataframe\">\n",
       "  <tbody>\n",
       "    <tr>\n",
       "      <th>model</th>\n",
       "      <td>lifelines.CoxPHFitter</td>\n",
       "    </tr>\n",
       "    <tr>\n",
       "      <th>duration col</th>\n",
       "      <td>'time'</td>\n",
       "    </tr>\n",
       "    <tr>\n",
       "      <th>event col</th>\n",
       "      <td>'event'</td>\n",
       "    </tr>\n",
       "    <tr>\n",
       "      <th>baseline estimation</th>\n",
       "      <td>breslow</td>\n",
       "    </tr>\n",
       "    <tr>\n",
       "      <th>number of observations</th>\n",
       "      <td>17</td>\n",
       "    </tr>\n",
       "    <tr>\n",
       "      <th>number of events observed</th>\n",
       "      <td>10</td>\n",
       "    </tr>\n",
       "    <tr>\n",
       "      <th>partial log-likelihood</th>\n",
       "      <td>-17.65</td>\n",
       "    </tr>\n",
       "    <tr>\n",
       "      <th>time fit was run</th>\n",
       "      <td>2022-04-26 22:26:01 UTC</td>\n",
       "    </tr>\n",
       "  </tbody>\n",
       "</table>\n",
       "</div><table border=\"1\" class=\"dataframe\">\n",
       "  <thead>\n",
       "    <tr style=\"text-align: right;\">\n",
       "      <th style=\"min-width: 12px;\"></th>\n",
       "      <th style=\"min-width: 12px;\">coef</th>\n",
       "      <th style=\"min-width: 12px;\">exp(coef)</th>\n",
       "      <th style=\"min-width: 12px;\">se(coef)</th>\n",
       "      <th style=\"min-width: 12px;\">coef lower 95%</th>\n",
       "      <th style=\"min-width: 12px;\">coef upper 95%</th>\n",
       "      <th style=\"min-width: 12px;\">exp(coef) lower 95%</th>\n",
       "      <th style=\"min-width: 12px;\">exp(coef) upper 95%</th>\n",
       "      <th style=\"min-width: 12px;\">cmp to</th>\n",
       "      <th style=\"min-width: 12px;\">z</th>\n",
       "      <th style=\"min-width: 12px;\">p</th>\n",
       "      <th style=\"min-width: 12px;\">-log2(p)</th>\n",
       "    </tr>\n",
       "  </thead>\n",
       "  <tbody>\n",
       "    <tr>\n",
       "      <th>Gender</th>\n",
       "      <td>1.31</td>\n",
       "      <td>3.69</td>\n",
       "      <td>0.77</td>\n",
       "      <td>-0.21</td>\n",
       "      <td>2.82</td>\n",
       "      <td>0.81</td>\n",
       "      <td>16.73</td>\n",
       "      <td>0.00</td>\n",
       "      <td>1.69</td>\n",
       "      <td>0.09</td>\n",
       "      <td>3.47</td>\n",
       "    </tr>\n",
       "    <tr>\n",
       "      <th>treatment</th>\n",
       "      <td>-2.64</td>\n",
       "      <td>0.07</td>\n",
       "      <td>0.98</td>\n",
       "      <td>-4.57</td>\n",
       "      <td>-0.72</td>\n",
       "      <td>0.01</td>\n",
       "      <td>0.49</td>\n",
       "      <td>0.00</td>\n",
       "      <td>-2.69</td>\n",
       "      <td>0.01</td>\n",
       "      <td>7.12</td>\n",
       "    </tr>\n",
       "  </tbody>\n",
       "</table><br><div>\n",
       "<style scoped>\n",
       "    .dataframe tbody tr th:only-of-type {\n",
       "        vertical-align: middle;\n",
       "    }\n",
       "\n",
       "    .dataframe tbody tr th {\n",
       "        vertical-align: top;\n",
       "    }\n",
       "\n",
       "    .dataframe thead th {\n",
       "        text-align: right;\n",
       "    }\n",
       "</style>\n",
       "<table border=\"1\" class=\"dataframe\">\n",
       "  <tbody>\n",
       "    <tr>\n",
       "      <th>Concordance</th>\n",
       "      <td>0.79</td>\n",
       "    </tr>\n",
       "    <tr>\n",
       "      <th>Partial AIC</th>\n",
       "      <td>39.30</td>\n",
       "    </tr>\n",
       "    <tr>\n",
       "      <th>log-likelihood ratio test</th>\n",
       "      <td>9.95 on 2 df</td>\n",
       "    </tr>\n",
       "    <tr>\n",
       "      <th>-log2(p) of ll-ratio test</th>\n",
       "      <td>7.18</td>\n",
       "    </tr>\n",
       "  </tbody>\n",
       "</table>\n",
       "</div>"
      ],
      "text/latex": [
       "\\begin{tabular}{lrrrrrrrrrrr}\n",
       "\\toprule\n",
       "{} &  coef &  exp(coef) &  se(coef) &  coef lower 95\\% &  coef upper 95\\% &  exp(coef) lower 95\\% &  exp(coef) upper 95\\% &  cmp to &     z &    p &  -log2(p) \\\\\n",
       "covariate &       &            &           &                 &                 &                      &                      &         &       &      &           \\\\\n",
       "\\midrule\n",
       "Gender    &  1.31 &       3.69 &      0.77 &           -0.21 &            2.82 &                 0.81 &                16.73 &    0.00 &  1.69 & 0.09 &      3.47 \\\\\n",
       "treatment & -2.64 &       0.07 &      0.98 &           -4.57 &           -0.72 &                 0.01 &                 0.49 &    0.00 & -2.69 & 0.01 &      7.12 \\\\\n",
       "\\bottomrule\n",
       "\\end{tabular}\n"
      ],
      "text/plain": [
       "<lifelines.CoxPHFitter: fitted with 17 total observations, 7 right-censored observations>\n",
       "             duration col = 'time'\n",
       "                event col = 'event'\n",
       "      baseline estimation = breslow\n",
       "   number of observations = 17\n",
       "number of events observed = 10\n",
       "   partial log-likelihood = -17.65\n",
       "         time fit was run = 2022-04-26 22:26:01 UTC\n",
       "\n",
       "---\n",
       "            coef  exp(coef)   se(coef)   coef lower 95%   coef upper 95%  exp(coef) lower 95%  exp(coef) upper 95%\n",
       "covariate                                                                                                         \n",
       "Gender      1.31       3.69       0.77            -0.21             2.82                 0.81                16.73\n",
       "treatment  -2.64       0.07       0.98            -4.57            -0.72                 0.01                 0.49\n",
       "\n",
       "            cmp to     z    p   -log2(p)\n",
       "covariate                               \n",
       "Gender        0.00  1.69 0.09       3.47\n",
       "treatment     0.00 -2.69 0.01       7.12\n",
       "---\n",
       "Concordance = 0.79\n",
       "Partial AIC = 39.30\n",
       "log-likelihood ratio test = 9.95 on 2 df\n",
       "-log2(p) of ll-ratio test = 7.18"
      ]
     },
     "metadata": {},
     "output_type": "display_data"
    }
   ],
   "source": [
    "cph.print_summary()"
   ]
  },
  {
   "cell_type": "code",
   "execution_count": 53,
   "id": "858b47f9",
   "metadata": {},
   "outputs": [
    {
     "name": "stderr",
     "output_type": "stream",
     "text": [
      "C:\\Users\\student\\AppData\\Local\\Programs\\Python\\Python310\\lib\\site-packages\\lifelines\\utils\\printer.py:62: FutureWarning: In future versions `DataFrame.to_latex` is expected to utilise the base implementation of `Styler.to_latex` for formatting and rendering. The arguments signature may therefore change. It is recommended instead to use `DataFrame.style.to_latex` which also contains additional functionality.\n",
      "  return summary_df[columns].to_latex(float_format=\"%.\" + str(self.decimals) + \"f\")\n"
     ]
    },
    {
     "data": {
      "text/html": [
       "<div>\n",
       "<style scoped>\n",
       "    .dataframe tbody tr th:only-of-type {\n",
       "        vertical-align: middle;\n",
       "    }\n",
       "\n",
       "    .dataframe tbody tr th {\n",
       "        vertical-align: top;\n",
       "    }\n",
       "\n",
       "    .dataframe thead th {\n",
       "        text-align: right;\n",
       "    }\n",
       "</style>\n",
       "<table border=\"1\" class=\"dataframe\">\n",
       "  <tbody>\n",
       "    <tr>\n",
       "      <th>model</th>\n",
       "      <td>lifelines.CoxPHFitter</td>\n",
       "    </tr>\n",
       "    <tr>\n",
       "      <th>duration col</th>\n",
       "      <td>'time'</td>\n",
       "    </tr>\n",
       "    <tr>\n",
       "      <th>event col</th>\n",
       "      <td>'event'</td>\n",
       "    </tr>\n",
       "    <tr>\n",
       "      <th>baseline estimation</th>\n",
       "      <td>breslow</td>\n",
       "    </tr>\n",
       "    <tr>\n",
       "      <th>number of observations</th>\n",
       "      <td>17</td>\n",
       "    </tr>\n",
       "    <tr>\n",
       "      <th>number of events observed</th>\n",
       "      <td>10</td>\n",
       "    </tr>\n",
       "    <tr>\n",
       "      <th>partial log-likelihood</th>\n",
       "      <td>-19.22</td>\n",
       "    </tr>\n",
       "    <tr>\n",
       "      <th>time fit was run</th>\n",
       "      <td>2022-04-26 22:26:43 UTC</td>\n",
       "    </tr>\n",
       "  </tbody>\n",
       "</table>\n",
       "</div><table border=\"1\" class=\"dataframe\">\n",
       "  <thead>\n",
       "    <tr style=\"text-align: right;\">\n",
       "      <th style=\"min-width: 12px;\"></th>\n",
       "      <th style=\"min-width: 12px;\">coef</th>\n",
       "      <th style=\"min-width: 12px;\">exp(coef)</th>\n",
       "      <th style=\"min-width: 12px;\">se(coef)</th>\n",
       "      <th style=\"min-width: 12px;\">coef lower 95%</th>\n",
       "      <th style=\"min-width: 12px;\">coef upper 95%</th>\n",
       "      <th style=\"min-width: 12px;\">exp(coef) lower 95%</th>\n",
       "      <th style=\"min-width: 12px;\">exp(coef) upper 95%</th>\n",
       "      <th style=\"min-width: 12px;\">cmp to</th>\n",
       "      <th style=\"min-width: 12px;\">z</th>\n",
       "      <th style=\"min-width: 12px;\">p</th>\n",
       "      <th style=\"min-width: 12px;\">-log2(p)</th>\n",
       "    </tr>\n",
       "  </thead>\n",
       "  <tbody>\n",
       "    <tr>\n",
       "      <th>treatment</th>\n",
       "      <td>-2.03</td>\n",
       "      <td>0.13</td>\n",
       "      <td>0.85</td>\n",
       "      <td>-3.69</td>\n",
       "      <td>-0.37</td>\n",
       "      <td>0.02</td>\n",
       "      <td>0.69</td>\n",
       "      <td>0.00</td>\n",
       "      <td>-2.39</td>\n",
       "      <td>0.02</td>\n",
       "      <td>5.90</td>\n",
       "    </tr>\n",
       "  </tbody>\n",
       "</table><br><div>\n",
       "<style scoped>\n",
       "    .dataframe tbody tr th:only-of-type {\n",
       "        vertical-align: middle;\n",
       "    }\n",
       "\n",
       "    .dataframe tbody tr th {\n",
       "        vertical-align: top;\n",
       "    }\n",
       "\n",
       "    .dataframe thead th {\n",
       "        text-align: right;\n",
       "    }\n",
       "</style>\n",
       "<table border=\"1\" class=\"dataframe\">\n",
       "  <tbody>\n",
       "    <tr>\n",
       "      <th>Concordance</th>\n",
       "      <td>0.73</td>\n",
       "    </tr>\n",
       "    <tr>\n",
       "      <th>Partial AIC</th>\n",
       "      <td>40.45</td>\n",
       "    </tr>\n",
       "    <tr>\n",
       "      <th>log-likelihood ratio test</th>\n",
       "      <td>6.81 on 1 df</td>\n",
       "    </tr>\n",
       "    <tr>\n",
       "      <th>-log2(p) of ll-ratio test</th>\n",
       "      <td>6.79</td>\n",
       "    </tr>\n",
       "  </tbody>\n",
       "</table>\n",
       "</div>"
      ],
      "text/latex": [
       "\\begin{tabular}{lrrrrrrrrrrr}\n",
       "\\toprule\n",
       "{} &  coef &  exp(coef) &  se(coef) &  coef lower 95\\% &  coef upper 95\\% &  exp(coef) lower 95\\% &  exp(coef) upper 95\\% &  cmp to &     z &    p &  -log2(p) \\\\\n",
       "covariate &       &            &           &                 &                 &                      &                      &         &       &      &           \\\\\n",
       "\\midrule\n",
       "treatment & -2.03 &       0.13 &      0.85 &           -3.69 &           -0.37 &                 0.02 &                 0.69 &    0.00 & -2.39 & 0.02 &      5.90 \\\\\n",
       "\\bottomrule\n",
       "\\end{tabular}\n"
      ],
      "text/plain": [
       "<lifelines.CoxPHFitter: fitted with 17 total observations, 7 right-censored observations>\n",
       "             duration col = 'time'\n",
       "                event col = 'event'\n",
       "      baseline estimation = breslow\n",
       "   number of observations = 17\n",
       "number of events observed = 10\n",
       "   partial log-likelihood = -19.22\n",
       "         time fit was run = 2022-04-26 22:26:43 UTC\n",
       "\n",
       "---\n",
       "            coef  exp(coef)   se(coef)   coef lower 95%   coef upper 95%  exp(coef) lower 95%  exp(coef) upper 95%\n",
       "covariate                                                                                                         \n",
       "treatment  -2.03       0.13       0.85            -3.69            -0.37                 0.02                 0.69\n",
       "\n",
       "            cmp to     z    p   -log2(p)\n",
       "covariate                               \n",
       "treatment     0.00 -2.39 0.02       5.90\n",
       "---\n",
       "Concordance = 0.73\n",
       "Partial AIC = 40.45\n",
       "log-likelihood ratio test = 6.81 on 1 df\n",
       "-log2(p) of ll-ratio test = 6.79"
      ]
     },
     "metadata": {},
     "output_type": "display_data"
    }
   ],
   "source": [
    "cph.fit(data, duration_col='time', event_col='event', formula=\"treatment\")\n",
    "cph.print_summary()"
   ]
  },
  {
   "cell_type": "code",
   "execution_count": 54,
   "id": "a1a63656",
   "metadata": {},
   "outputs": [
    {
     "name": "stderr",
     "output_type": "stream",
     "text": [
      "C:\\Users\\student\\AppData\\Local\\Programs\\Python\\Python310\\lib\\site-packages\\lifelines\\utils\\printer.py:62: FutureWarning: In future versions `DataFrame.to_latex` is expected to utilise the base implementation of `Styler.to_latex` for formatting and rendering. The arguments signature may therefore change. It is recommended instead to use `DataFrame.style.to_latex` which also contains additional functionality.\n",
      "  return summary_df[columns].to_latex(float_format=\"%.\" + str(self.decimals) + \"f\")\n"
     ]
    },
    {
     "data": {
      "text/html": [
       "<div>\n",
       "<style scoped>\n",
       "    .dataframe tbody tr th:only-of-type {\n",
       "        vertical-align: middle;\n",
       "    }\n",
       "\n",
       "    .dataframe tbody tr th {\n",
       "        vertical-align: top;\n",
       "    }\n",
       "\n",
       "    .dataframe thead th {\n",
       "        text-align: right;\n",
       "    }\n",
       "</style>\n",
       "<table border=\"1\" class=\"dataframe\">\n",
       "  <tbody>\n",
       "    <tr>\n",
       "      <th>model</th>\n",
       "      <td>lifelines.CoxPHFitter</td>\n",
       "    </tr>\n",
       "    <tr>\n",
       "      <th>duration col</th>\n",
       "      <td>'time'</td>\n",
       "    </tr>\n",
       "    <tr>\n",
       "      <th>event col</th>\n",
       "      <td>'event'</td>\n",
       "    </tr>\n",
       "    <tr>\n",
       "      <th>baseline estimation</th>\n",
       "      <td>breslow</td>\n",
       "    </tr>\n",
       "    <tr>\n",
       "      <th>number of observations</th>\n",
       "      <td>17</td>\n",
       "    </tr>\n",
       "    <tr>\n",
       "      <th>number of events observed</th>\n",
       "      <td>10</td>\n",
       "    </tr>\n",
       "    <tr>\n",
       "      <th>partial log-likelihood</th>\n",
       "      <td>-22.25</td>\n",
       "    </tr>\n",
       "    <tr>\n",
       "      <th>time fit was run</th>\n",
       "      <td>2022-04-26 22:26:50 UTC</td>\n",
       "    </tr>\n",
       "  </tbody>\n",
       "</table>\n",
       "</div><table border=\"1\" class=\"dataframe\">\n",
       "  <thead>\n",
       "    <tr style=\"text-align: right;\">\n",
       "      <th style=\"min-width: 12px;\"></th>\n",
       "      <th style=\"min-width: 12px;\">coef</th>\n",
       "      <th style=\"min-width: 12px;\">exp(coef)</th>\n",
       "      <th style=\"min-width: 12px;\">se(coef)</th>\n",
       "      <th style=\"min-width: 12px;\">coef lower 95%</th>\n",
       "      <th style=\"min-width: 12px;\">coef upper 95%</th>\n",
       "      <th style=\"min-width: 12px;\">exp(coef) lower 95%</th>\n",
       "      <th style=\"min-width: 12px;\">exp(coef) upper 95%</th>\n",
       "      <th style=\"min-width: 12px;\">cmp to</th>\n",
       "      <th style=\"min-width: 12px;\">z</th>\n",
       "      <th style=\"min-width: 12px;\">p</th>\n",
       "      <th style=\"min-width: 12px;\">-log2(p)</th>\n",
       "    </tr>\n",
       "  </thead>\n",
       "  <tbody>\n",
       "    <tr>\n",
       "      <th>Gender</th>\n",
       "      <td>0.56</td>\n",
       "      <td>1.74</td>\n",
       "      <td>0.65</td>\n",
       "      <td>-0.72</td>\n",
       "      <td>1.83</td>\n",
       "      <td>0.49</td>\n",
       "      <td>6.23</td>\n",
       "      <td>0.00</td>\n",
       "      <td>0.86</td>\n",
       "      <td>0.39</td>\n",
       "      <td>1.35</td>\n",
       "    </tr>\n",
       "  </tbody>\n",
       "</table><br><div>\n",
       "<style scoped>\n",
       "    .dataframe tbody tr th:only-of-type {\n",
       "        vertical-align: middle;\n",
       "    }\n",
       "\n",
       "    .dataframe tbody tr th {\n",
       "        vertical-align: top;\n",
       "    }\n",
       "\n",
       "    .dataframe thead th {\n",
       "        text-align: right;\n",
       "    }\n",
       "</style>\n",
       "<table border=\"1\" class=\"dataframe\">\n",
       "  <tbody>\n",
       "    <tr>\n",
       "      <th>Concordance</th>\n",
       "      <td>0.56</td>\n",
       "    </tr>\n",
       "    <tr>\n",
       "      <th>Partial AIC</th>\n",
       "      <td>46.50</td>\n",
       "    </tr>\n",
       "    <tr>\n",
       "      <th>log-likelihood ratio test</th>\n",
       "      <td>0.75 on 1 df</td>\n",
       "    </tr>\n",
       "    <tr>\n",
       "      <th>-log2(p) of ll-ratio test</th>\n",
       "      <td>1.37</td>\n",
       "    </tr>\n",
       "  </tbody>\n",
       "</table>\n",
       "</div>"
      ],
      "text/latex": [
       "\\begin{tabular}{lrrrrrrrrrrr}\n",
       "\\toprule\n",
       "{} &  coef &  exp(coef) &  se(coef) &  coef lower 95\\% &  coef upper 95\\% &  exp(coef) lower 95\\% &  exp(coef) upper 95\\% &  cmp to &    z &    p &  -log2(p) \\\\\n",
       "covariate &       &            &           &                 &                 &                      &                      &         &      &      &           \\\\\n",
       "\\midrule\n",
       "Gender    &  0.56 &       1.74 &      0.65 &           -0.72 &            1.83 &                 0.49 &                 6.23 &    0.00 & 0.86 & 0.39 &      1.35 \\\\\n",
       "\\bottomrule\n",
       "\\end{tabular}\n"
      ],
      "text/plain": [
       "<lifelines.CoxPHFitter: fitted with 17 total observations, 7 right-censored observations>\n",
       "             duration col = 'time'\n",
       "                event col = 'event'\n",
       "      baseline estimation = breslow\n",
       "   number of observations = 17\n",
       "number of events observed = 10\n",
       "   partial log-likelihood = -22.25\n",
       "         time fit was run = 2022-04-26 22:26:50 UTC\n",
       "\n",
       "---\n",
       "            coef  exp(coef)   se(coef)   coef lower 95%   coef upper 95%  exp(coef) lower 95%  exp(coef) upper 95%\n",
       "covariate                                                                                                         \n",
       "Gender      0.56       1.74       0.65            -0.72             1.83                 0.49                 6.23\n",
       "\n",
       "            cmp to    z    p   -log2(p)\n",
       "covariate                              \n",
       "Gender        0.00 0.86 0.39       1.35\n",
       "---\n",
       "Concordance = 0.56\n",
       "Partial AIC = 46.50\n",
       "log-likelihood ratio test = 0.75 on 1 df\n",
       "-log2(p) of ll-ratio test = 1.37"
      ]
     },
     "metadata": {},
     "output_type": "display_data"
    }
   ],
   "source": [
    "cph.fit(data, duration_col='time', event_col='event', formula=\"Gender\")\n",
    "cph.print_summary()"
   ]
  }
 ],
 "metadata": {
  "kernelspec": {
   "display_name": "Python 3 (ipykernel)",
   "language": "python",
   "name": "python3"
  },
  "language_info": {
   "codemirror_mode": {
    "name": "ipython",
    "version": 3
   },
   "file_extension": ".py",
   "mimetype": "text/x-python",
   "name": "python",
   "nbconvert_exporter": "python",
   "pygments_lexer": "ipython3",
   "version": "3.9.7"
  },
  "widgets": {
   "application/vnd.jupyter.widget-state+json": {
    "state": {},
    "version_major": 2,
    "version_minor": 0
   }
  }
 },
 "nbformat": 4,
 "nbformat_minor": 5
}
