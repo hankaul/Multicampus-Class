{
 "cells": [
  {
   "cell_type": "markdown",
   "id": "6389024d",
   "metadata": {},
   "source": [
    "\n",
    "\n",
    "## Baby -Gin 게임\n",
    ">Triplet : 같은 카드가 3장 있는 경우\n",
    "\n",
    ">Run : 카드 숫자가 연속으로 3개 이어지는 경우"
   ]
  },
  {
   "cell_type": "markdown",
   "id": "c65eb91e",
   "metadata": {},
   "source": [
    "- 인덱스를 이용해 카운팅"
   ]
  },
  {
   "cell_type": "code",
   "execution_count": 29,
   "id": "e0c39be6",
   "metadata": {},
   "outputs": [],
   "source": [
    "#카드 숫자는 0~9까지\n",
    "cards : list = [8,3,2,8,1,8] #멀캠이가 받은 카드\n",
    "# 바를 정자를 그릴 수 있는 틀을 만들어 둔다.\n",
    "card_counts : list = [0]*10"
   ]
  },
  {
   "cell_type": "code",
   "execution_count": 30,
   "id": "fa300259",
   "metadata": {},
   "outputs": [
    {
     "name": "stdout",
     "output_type": "stream",
     "text": [
      "[0, 1, 1, 1, 0, 0, 0, 0, 3, 0]\n"
     ]
    }
   ],
   "source": [
    "for card_num in cards: \n",
    "    card_counts[card_num] = card_counts[card_num] + 1\n",
    "print(card_counts)"
   ]
  },
  {
   "cell_type": "code",
   "execution_count": 12,
   "id": "848f6a4a",
   "metadata": {},
   "outputs": [],
   "source": [
    "is_triplet : bool = False    \n",
    "for i in card_counts:\n",
    "    if i >= 3: # == 이 아닌것을 주의\n",
    "        is_triplet = True"
   ]
  },
  {
   "cell_type": "code",
   "execution_count": 46,
   "id": "2747d6cb",
   "metadata": {},
   "outputs": [
    {
     "name": "stdout",
     "output_type": "stream",
     "text": [
      "True\n"
     ]
    }
   ],
   "source": [
    "is_run : bool = False\n",
    "\n",
    "for n in range(8) : \n",
    "    if (card_counts[n] !=0) & (card_counts[n+1] !=0) & (card_counts[n+2] != 0):\n",
    "        is_run = True\n",
    "print(is_run)\n"
   ]
  },
  {
   "cell_type": "code",
   "execution_count": 52,
   "id": "23dae9d0",
   "metadata": {},
   "outputs": [
    {
     "ename": "SyntaxError",
     "evalue": "unexpected EOF while parsing (Temp/ipykernel_16484/3204200142.py, line 1)",
     "output_type": "error",
     "traceback": [
      "\u001b[1;36m  File \u001b[1;32m\"C:\\Users\\asd\\AppData\\Local\\Temp/ipykernel_16484/3204200142.py\"\u001b[1;36m, line \u001b[1;32m1\u001b[0m\n\u001b[1;33m    list(map(int,(input(\"카드를 입력해주세요:\").split()))\u001b[0m\n\u001b[1;37m                                                ^\u001b[0m\n\u001b[1;31mSyntaxError\u001b[0m\u001b[1;31m:\u001b[0m unexpected EOF while parsing\n"
     ]
    }
   ],
   "source": [
    "list(map(int,(input(\"카드를 입력해주세요:\").split()))"
   ]
  },
  {
   "cell_type": "code",
   "execution_count": 10,
   "id": "fe780404",
   "metadata": {},
   "outputs": [
    {
     "name": "stdout",
     "output_type": "stream",
     "text": [
      "카드를 0~9까지 입력해주세요:5 6 7 8 8 8\n",
      "[5, 6, 7, 8, 8, 8]\n"
     ]
    }
   ],
   "source": [
    "cards : list = list(map(int,input(\"카드를 0~9까지 입력해주세요:\").split()))\n",
    "print(cards)"
   ]
  },
  {
   "cell_type": "code",
   "execution_count": 12,
   "id": "9dadbf27",
   "metadata": {},
   "outputs": [],
   "source": [
    "def check(cards):\n",
    "    card_counts : list = [0]*10 #카운팅 틀\n",
    "    is_triplet : bool = False #triplet 플래그\n",
    "    is_run : bool = False #run 플래그\n",
    "    for card_num in cards: #카드 카운팅\n",
    "        card_counts[card_num] = card_counts[card_num] + 1\n",
    "    for i in card_counts: #triplet 확인\n",
    "        if i >=3:\n",
    "            break\n",
    "            is_triplet = True\n",
    "    for n in range(8) : #run 확인\n",
    "        if (card_counts[n] !=0) & (card_counts[n+1] !=0) & (card_counts[n+2] != 0):\n",
    "            break\n",
    "            is_run = True\n",
    "    if is_triplet == True & is_run == True: #출력\n",
    "        print(\"triplet and run\")\n",
    "    elif is_triplet == True:\n",
    "        print(\"triplet\")\n",
    "    elif is_run == True:\n",
    "        print(\"run\")\n",
    "    else:\n",
    "        print(\"nothing\")"
   ]
  },
  {
   "cell_type": "code",
   "execution_count": 11,
   "id": "ff5eb5a6",
   "metadata": {},
   "outputs": [
    {
     "name": "stdout",
     "output_type": "stream",
     "text": [
      "triplet and run\n"
     ]
    }
   ],
   "source": [
    "check(cards)"
   ]
  },
  {
   "cell_type": "markdown",
   "id": "6008314d",
   "metadata": {},
   "source": [
    "## 팰린드롬인지 확인하기\n",
    "알파벳 소문자로만 이루어진 단어가 주어진다. 이때, 이 단어가 팰린드롬인지 아닌지 확인하는 프로그램을 작성하시오.\n",
    "\n",
    "팰린드롬이란 앞으로 읽을 때와 거꾸로 읽을 때 똑같은 단어를 말한다. \n",
    "\n",
    "level, noon은 팰린드롬이고, baekjoon, online, judge는 팰린드롬이 아니다.\n"
   ]
  },
  {
   "cell_type": "code",
   "execution_count": 64,
   "id": "4d05da26",
   "metadata": {
    "scrolled": false
   },
   "outputs": [
    {
     "name": "stdout",
     "output_type": "stream",
     "text": [
      "단어를 입력해주세요:level\n"
     ]
    }
   ],
   "source": [
    "char : str = input(\"단어를 입력해주세요:\")"
   ]
  },
  {
   "cell_type": "code",
   "execution_count": 65,
   "id": "2f865bca",
   "metadata": {},
   "outputs": [],
   "source": [
    "#def check_palindrom(char):\n",
    "#   \n",
    "#   if len(char)==1:\n",
    "#        \n",
    "#    else:\n",
    "#        for n in range(len(char)):\n",
    "#            if (char[n] == char[-(n+1)]):\n",
    "#                print(\"palindrom\") ## 플래그를 안쓸때의 어려움\n",
    "#            \n",
    "#            else:\n",
    "#                print(\"No\")\n",
    "       "
   ]
  },
  {
   "cell_type": "code",
   "execution_count": 24,
   "id": "1b538194",
   "metadata": {},
   "outputs": [],
   "source": [
    "def check_palindrom(char:str):\n",
    "    palindrom : bool = True # 초기설정 : 모든 단어는 palindrom이다\n",
    "    if len(char)==1:\n",
    "        print(\"1\") # 단어가 1개면 palindrom\n",
    "    else:\n",
    "        for n in range(len(char)):\n",
    "            if (char[n] != char[-(n+1)]):\n",
    "                palindrom = False\n",
    "        if palindrom == False:\n",
    "            print(\"0\")\n",
    "        else :\n",
    "            print(\"1\")\n"
   ]
  },
  {
   "cell_type": "code",
   "execution_count": 32,
   "id": "92a6899e",
   "metadata": {},
   "outputs": [
    {
     "name": "stdout",
     "output_type": "stream",
     "text": [
      "palindrom\n"
     ]
    }
   ],
   "source": [
    "check_palindrom(char)"
   ]
  },
  {
   "cell_type": "markdown",
   "id": "b445b910",
   "metadata": {},
   "source": [
    "## 유학 금지\n",
    "\n",
    "아주 멀리 떨어져 있는 작은 나라가 있다. 이 나라에서 가장 공부를 잘하는 학생들은 모두 다른 나라로 유학을 간다. 정부는 최고의 학생들이 자꾸 유학을 가는 이유를 찾으려고 했다. 하지만, 학생들의 이유가 모두 달랐기 때문에 정확한 이유를 찾을 수 없었다. 정부의 고위직은 뛰어난 학생들이 자꾸 유학을 가는 현상을 매우 불쾌해 했다.\n",
    "\n",
    "가장 많은 학생들이 유학을 가는 대학교는 영국의 캠브리지 대학교이다. 정부는 인터넷 검열을 통해서 해외로 나가는 이메일의 내용 중 일부를 삭제하기로 했다. 이메일의 각 단어 중에서 CAMBRIDGE에 포함된 알파벳은 모두 지우기로 했다. 즉, 어떤 이메일에 LOVA란 단어가 있다면, A는 CAMBRIDGE에 포함된 알파벳이기 때문에, 받아보는 사람은 LOV로 받는다.\n",
    "\n",
    "이렇게, 어떤 단어가 주어졌을 때, 검열을 거친 후에는 어떤 단어가 되는지 구하는 프로그램을 작성하시오.\n",
    "\n",
    ">입력:\n",
    "첫째 줄에 알파벳 대문자로 이루어진 단어가 주어진다. 이 단어는 적어도 3글자이며, 많아야 100글자이다.\n",
    "\n",
    ">출력:\n",
    "입력으로 주어진 단어를 정부가 검열을 하면 어떻게 변하는지를 출력한다. 즉, 단어에서 CAMBRIDGE에 포함된 알파벳을 모두 지운 뒤 출력한다. 항상 정답의 길이는 0보다 크다."
   ]
  },
  {
   "cell_type": "code",
   "execution_count": 184,
   "id": "cf6e3663",
   "metadata": {},
   "outputs": [],
   "source": [
    "def ban(char:str):\n",
    "    find_char : str = 'CAMBRIDGE'\n",
    "    new_char : str = char\n",
    "    for i in range(len(char)):\n",
    "        for j in range(len(find_char)): #8번 반복\n",
    "            if char[i]==find_char[j]:\n",
    "                new_char = new_char.replace(char[i],\"\")\n",
    "    print(new_char)\n",
    "            \n"
   ]
  },
  {
   "cell_type": "code",
   "execution_count": 188,
   "id": "3bd0047e",
   "metadata": {},
   "outputs": [
    {
     "name": "stdout",
     "output_type": "stream",
     "text": [
      "단어를 입력하세요:KOREA\n"
     ]
    }
   ],
   "source": [
    "char = input(\"단어를 입력하세요:\")"
   ]
  },
  {
   "cell_type": "code",
   "execution_count": 189,
   "id": "e1a04b8a",
   "metadata": {},
   "outputs": [
    {
     "name": "stdout",
     "output_type": "stream",
     "text": [
      "KO\n"
     ]
    }
   ],
   "source": [
    "ban(char)"
   ]
  },
  {
   "cell_type": "markdown",
   "id": "6ea1c8ef",
   "metadata": {},
   "source": [
    "## 크로아티아 알파벳\n",
    "예전에는 운영체제에서 크로아티아 알파벳을 입력할 수가 없었다. 따라서, 다음과 같이 크로아티아 알파벳을 변경해서 입력했다.\n",
    "\n",
    "크로아티아 알파벳\t변경\n",
    "č\tc=\n",
    "ć\tc-\n",
    "dž\tdz=\n",
    "đ\td-\n",
    "lj\tlj\n",
    "nj\tnj\n",
    "š\ts=\n",
    "ž\tz=\n",
    "예를 들어, ljes=njak은 크로아티아 알파벳 6개(lj, e, š, nj, a, k)로 이루어져 있다. 단어가 주어졌을 때, 몇 개의 크로아티아 알파벳으로 이루어져 있는지 출력한다.\n",
    "\n",
    "dž는 무조건 하나의 알파벳으로 쓰이고, d와 ž가 분리된 것으로 보지 않는다. lj와 nj도 마찬가지이다. 위 목록에 없는 알파벳은 한 글자씩 센다.\n",
    "\n",
    ">입력\n",
    "첫째 줄에 최대 100글자의 단어가 주어진다. 알파벳 소문자와 '-', '='로만 이루어져 있다.\n",
    "\n",
    ">단어는 크로아티아 알파벳으로 이루어져 있다. 문제 설명의 표에 나와있는 알파벳은 변경된 형태로 입력된다.\n",
    "\n",
    ">출력\n",
    "입력으로 주어진 단어가 몇 개의 크로아티아 알파벳으로 이루어져 있는지 출력한다.\n"
   ]
  },
  {
   "cell_type": "code",
   "execution_count": 179,
   "id": "f02f9811",
   "metadata": {},
   "outputs": [],
   "source": [
    "def count(char:str)->int:\n",
    "    croatia:list = ['c=','c-','dz=','d-','lj','nj','s=','z=']\n",
    "    num : int = len(char)\n",
    "    for i in range(len(croatia)):\n",
    "        if croatia[i] in char:\n",
    "            num = num -1\n",
    "    if (croatia[2] in char) & (croatia[7] in char):\n",
    "        num = num -1\n",
    "    print(num)"
   ]
  },
  {
   "cell_type": "code",
   "execution_count": 180,
   "id": "c50ddf24",
   "metadata": {},
   "outputs": [],
   "source": [
    "char = 'c=c='"
   ]
  },
  {
   "cell_type": "code",
   "execution_count": 181,
   "id": "f7eb4251",
   "metadata": {},
   "outputs": [
    {
     "data": {
      "text/plain": [
       "4"
      ]
     },
     "execution_count": 181,
     "metadata": {},
     "output_type": "execute_result"
    }
   ],
   "source": [
    "len(char)"
   ]
  },
  {
   "cell_type": "code",
   "execution_count": 182,
   "id": "cbad0ef3",
   "metadata": {},
   "outputs": [
    {
     "name": "stdout",
     "output_type": "stream",
     "text": [
      "3\n"
     ]
    }
   ],
   "source": [
    "count(char)"
   ]
  },
  {
   "cell_type": "code",
   "execution_count": 183,
   "id": "c476ede6",
   "metadata": {},
   "outputs": [
    {
     "ename": "TypeError",
     "evalue": "'str' object is not callable",
     "output_type": "error",
     "traceback": [
      "\u001b[1;31m---------------------------------------------------------------------------\u001b[0m",
      "\u001b[1;31mTypeError\u001b[0m                                 Traceback (most recent call last)",
      "\u001b[1;32m~\\AppData\\Local\\Temp/ipykernel_16484/3636378595.py\u001b[0m in \u001b[0;36m<module>\u001b[1;34m\u001b[0m\n\u001b[1;32m----> 1\u001b[1;33m \u001b[0mchar\u001b[0m\u001b[1;33m(\u001b[0m\u001b[1;34m\"repla\"\u001b[0m\u001b[1;33m)\u001b[0m\u001b[1;33m\u001b[0m\u001b[1;33m\u001b[0m\u001b[0m\n\u001b[0m",
      "\u001b[1;31mTypeError\u001b[0m: 'str' object is not callable"
     ]
    }
   ],
   "source": [
    "char(\"repla\")"
   ]
  }
 ],
 "metadata": {
  "kernelspec": {
   "display_name": "Python 3 (ipykernel)",
   "language": "python",
   "name": "python3"
  },
  "language_info": {
   "codemirror_mode": {
    "name": "ipython",
    "version": 3
   },
   "file_extension": ".py",
   "mimetype": "text/x-python",
   "name": "python",
   "nbconvert_exporter": "python",
   "pygments_lexer": "ipython3",
   "version": "3.8.12"
  }
 },
 "nbformat": 4,
 "nbformat_minor": 5
}
