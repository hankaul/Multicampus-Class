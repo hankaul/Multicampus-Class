{
 "cells": [
  {
   "cell_type": "markdown",
   "id": "d88dd741",
   "metadata": {},
   "source": [
    "## 변수 지정"
   ]
  },
  {
   "cell_type": "code",
   "execution_count": 1,
   "id": "0664207e",
   "metadata": {},
   "outputs": [],
   "source": [
    "#1번방법\n",
    "name = '멀캠'\n",
    "age =5\n",
    "address = '역삼'\n",
    "\n",
    "#2번 방법\n",
    "infos=['멀캠',5,'역삼'] #리스트 생성시 복수명사 사용\n",
    "\n",
    "#3번 방법\n",
    "mulcam_info = {'name' : '멀캠이', 'age':5, 'address':'역삼'}\n",
    "\n",
    "mulcam_infos = [{'name' : '멀캠이', 'age':5, 'address':'역삼'},\n",
    "                {'name' : '패캠이', 'age':7, 'address': '삼성'}]\n"
   ]
  },
  {
   "cell_type": "code",
   "execution_count": 4,
   "id": "33740004",
   "metadata": {},
   "outputs": [],
   "source": [
    "#카드패 조직화\n",
    "cards = [8,3,2,8,1,8]\n",
    "\n",
    "all_player_cards = [[8,3,2,8,1,8],\n",
    "                    [5,6,4,2,9,1]]\n",
    "\n",
    "#카드패 명시화\n",
    "all_player_cards2 = {'역삼멀캠이':[8,3,2,8,1,8],\n",
    "                     '선릉멀캠이':[5,6,4,2,9,1]}"
   ]
  },
  {
   "cell_type": "code",
   "execution_count": 5,
   "id": "9fb88ab2",
   "metadata": {},
   "outputs": [
    {
     "name": "stdout",
     "output_type": "stream",
     "text": [
      "8\n",
      "3\n",
      "2\n",
      "8\n",
      "1\n",
      "8\n"
     ]
    }
   ],
   "source": [
    "for each_card in cards:\n",
    "    print(each_card)"
   ]
  },
  {
   "cell_type": "code",
   "execution_count": 8,
   "id": "f574bb9c",
   "metadata": {},
   "outputs": [
    {
     "name": "stdout",
     "output_type": "stream",
     "text": [
      "8\n",
      "3\n",
      "2\n",
      "8\n",
      "1\n",
      "8\n"
     ]
    }
   ],
   "source": [
    "for idx in range(len(cards)):\n",
    "    print(cards[idx])"
   ]
  },
  {
   "cell_type": "markdown",
   "id": "86fdc680",
   "metadata": {},
   "source": [
    "## 문제\n",
    "전기 실비 회사가 작업을 하려는 상황이다. 설비 작업을 하려면 전력을 우선 차단해야 하는데, 해당 작업 섹터에 단 한 집이라도 아직 전기를 쓰고 있는 집이 이다면 전자제품 고장 등의 이유로 전력을 강제로 차단할 수 없습니다. 회사는 각 집이 전기를 사용하고 있는지 없는지에 대한 실시간 정보가 있는데, 이걸 어떻게 자동으로 컴퓨터가 확인하게 할 수 있을까요?"
   ]
  },
  {
   "cell_type": "code",
   "execution_count": 11,
   "id": "919a5ddb",
   "metadata": {},
   "outputs": [],
   "source": [
    "houses=[0,1,0,0]\n",
    "#houses=[False,True,False,False]"
   ]
  },
  {
   "cell_type": "code",
   "execution_count": 39,
   "id": "870989e7",
   "metadata": {},
   "outputs": [],
   "source": [
    "def find(a:list) -> str:\n",
    "    if 1 in houses:\n",
    "        print(\"stop\")\n",
    "    else :\n",
    "        print(\"go\")\n",
    "        \n"
   ]
  },
  {
   "cell_type": "code",
   "execution_count": 22,
   "id": "e01a8a00",
   "metadata": {},
   "outputs": [
    {
     "name": "stdout",
     "output_type": "stream",
     "text": [
      "stop\n"
     ]
    }
   ],
   "source": [
    "find(houses)"
   ]
  },
  {
   "cell_type": "code",
   "execution_count": 42,
   "id": "8d881673",
   "metadata": {},
   "outputs": [],
   "source": [
    "houses : list = [0,0,0,1,0,0,0,0]\n",
    "\n",
    "#flag : print만이 아닌 여부를 객체화\n",
    "is_ready : bool = True"
   ]
  },
  {
   "cell_type": "code",
   "execution_count": 45,
   "id": "91490d16",
   "metadata": {},
   "outputs": [
    {
     "name": "stdout",
     "output_type": "stream",
     "text": [
      "False\n"
     ]
    }
   ],
   "source": [
    "for house in houses : \n",
    "    if house == 1:\n",
    "        is_ready = False\n",
    "        break # 효율성을 위해\n",
    "print(is_ready)"
   ]
  },
  {
   "cell_type": "code",
   "execution_count": 38,
   "id": "9bc064c5",
   "metadata": {},
   "outputs": [
    {
     "name": "stdout",
     "output_type": "stream",
     "text": [
      "8\n"
     ]
    }
   ],
   "source": [
    "print(max(cards))"
   ]
  },
  {
   "cell_type": "markdown",
   "id": "9d827db8",
   "metadata": {},
   "source": [
    "- N개의 정수가 주어진다, 이때,최솟값과 최대값을 구하는 프로그램을 구한다.\n",
    "가능한 숫자는 1~999\n"
   ]
  },
  {
   "cell_type": "code",
   "execution_count": 75,
   "id": "ea881055",
   "metadata": {},
   "outputs": [],
   "source": [
    "nums= [1,5,77,26,33,2,6,16,55]"
   ]
  },
  {
   "cell_type": "code",
   "execution_count": 73,
   "id": "f1a2e737",
   "metadata": {},
   "outputs": [
    {
     "name": "stdout",
     "output_type": "stream",
     "text": [
      "77\n"
     ]
    }
   ],
   "source": [
    "max_num = -1\n",
    "for num in nums:\n",
    "    if max_num < num:\n",
    "        max_num = num\n",
    "print(max_num)"
   ]
  },
  {
   "cell_type": "code",
   "execution_count": 77,
   "id": "ba8caa49",
   "metadata": {},
   "outputs": [
    {
     "name": "stdout",
     "output_type": "stream",
     "text": [
      "1\n"
     ]
    }
   ],
   "source": [
    "#풀이1\n",
    "min_num = 1000\n",
    "for num in nums:\n",
    "    if min_num > num: \n",
    "        min_num = num\n",
    "print(min_num)"
   ]
  },
  {
   "cell_type": "code",
   "execution_count": 78,
   "id": "0e293337",
   "metadata": {},
   "outputs": [
    {
     "name": "stdout",
     "output_type": "stream",
     "text": [
      "1\n"
     ]
    }
   ],
   "source": [
    "#풀이2\n",
    "min_num = nums[0]\n",
    "for i in range(1,len(nums)):\n",
    "    if min_num > nums[i]:\n",
    "        min_num = nums\n",
    "print(min_num)"
   ]
  },
  {
   "cell_type": "markdown",
   "id": "f8f5d564",
   "metadata": {},
   "source": [
    "## 입력 문제"
   ]
  },
  {
   "cell_type": "code",
   "execution_count": 81,
   "id": "e3e78437",
   "metadata": {},
   "outputs": [
    {
     "name": "stdout",
     "output_type": "stream",
     "text": [
      "['alex', 'naver.com']\n"
     ]
    }
   ],
   "source": [
    "email = 'alex@naver.com'\n",
    "print(email.split('@'))"
   ]
  },
  {
   "cell_type": "code",
   "execution_count": 90,
   "id": "750c5f06",
   "metadata": {
    "scrolled": true
   },
   "outputs": [
    {
     "name": "stdout",
     "output_type": "stream",
     "text": [
      "1 10 20 30 40 50\n"
     ]
    }
   ],
   "source": [
    "list_original = input().split()"
   ]
  },
  {
   "cell_type": "code",
   "execution_count": 91,
   "id": "dfaa77cb",
   "metadata": {},
   "outputs": [
    {
     "data": {
      "text/plain": [
       "['1', '10', '20', '30', '40', '50']"
      ]
     },
     "execution_count": 91,
     "metadata": {},
     "output_type": "execute_result"
    }
   ],
   "source": [
    "list_original"
   ]
  },
  {
   "cell_type": "code",
   "execution_count": 92,
   "id": "78965ba0",
   "metadata": {},
   "outputs": [
    {
     "name": "stdout",
     "output_type": "stream",
     "text": [
      "1 10 20 30 40 50\n"
     ]
    }
   ],
   "source": [
    "nums = list(map(int,input().split()))"
   ]
  },
  {
   "cell_type": "code",
   "execution_count": 106,
   "id": "7f0d5c10",
   "metadata": {
    "scrolled": false
   },
   "outputs": [
    {
     "name": "stdout",
     "output_type": "stream",
     "text": [
      "1 2\n"
     ]
    }
   ],
   "source": [
    "nums=list(map(int,input().split()))\n",
    "print(sum(nums))"
   ]
  },
  {
   "cell_type": "code",
   "execution_count": 110,
   "id": "29ded70e",
   "metadata": {},
   "outputs": [],
   "source": [
    "a,b = [3,4]\n",
    "print(a,b)"
   ]
  },
  {
   "cell_type": "code",
   "execution_count": 117,
   "id": "2a89e153",
   "metadata": {},
   "outputs": [
    {
     "name": "stdout",
     "output_type": "stream",
     "text": [
      "3 4\n"
     ]
    }
   ],
   "source": [
    "a,b=(map(int,input().split()))\n",
    "print(a+b)"
   ]
  },
  {
   "cell_type": "code",
   "execution_count": null,
   "id": "14c05b65",
   "metadata": {},
   "outputs": [],
   "source": [
    "map(int,(input().split()))"
   ]
  }
 ],
 "metadata": {
  "kernelspec": {
   "display_name": "Python 3 (ipykernel)",
   "language": "python",
   "name": "python3"
  },
  "language_info": {
   "codemirror_mode": {
    "name": "ipython",
    "version": 3
   },
   "file_extension": ".py",
   "mimetype": "text/x-python",
   "name": "python",
   "nbconvert_exporter": "python",
   "pygments_lexer": "ipython3",
   "version": "3.8.12"
  }
 },
 "nbformat": 4,
 "nbformat_minor": 5
}
