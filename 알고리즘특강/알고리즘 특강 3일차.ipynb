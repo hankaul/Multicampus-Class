{
 "cells": [
  {
   "cell_type": "markdown",
   "id": "631be85d",
   "metadata": {},
   "source": [
    "### 2차원 리스트 구조화 하기"
   ]
  },
  {
   "cell_type": "code",
   "execution_count": 10,
   "id": "0b0be533",
   "metadata": {},
   "outputs": [],
   "source": [
    "matrix=[[1,8,4],\n",
    "        [7,3,9],\n",
    "        [5,2,6]]"
   ]
  },
  {
   "cell_type": "code",
   "execution_count": 12,
   "id": "2f587463",
   "metadata": {},
   "outputs": [
    {
     "data": {
      "text/plain": [
       "6"
      ]
     },
     "execution_count": 12,
     "metadata": {},
     "output_type": "execute_result"
    }
   ],
   "source": [
    "matrix[2][2]"
   ]
  },
  {
   "cell_type": "code",
   "execution_count": 22,
   "id": "370a9d15",
   "metadata": {},
   "outputs": [
    {
     "name": "stdout",
     "output_type": "stream",
     "text": [
      "1 8 4 7 3 9 5 2 6 "
     ]
    }
   ],
   "source": [
    "#열 우선 순위\n",
    "for r in range(3):\n",
    "    for c in range(3):\n",
    "        print(matrix[r][c],end=' ')"
   ]
  },
  {
   "cell_type": "code",
   "execution_count": 24,
   "id": "6d584676",
   "metadata": {},
   "outputs": [
    {
     "name": "stdout",
     "output_type": "stream",
     "text": [
      "1\n",
      "7\n",
      "5\n",
      "8\n",
      "3\n",
      "2\n",
      "4\n",
      "9\n",
      "6\n"
     ]
    }
   ],
   "source": [
    "for r in range(3):\n",
    "    for c in range(3):\n",
    "        print(matrix[c][r])"
   ]
  },
  {
   "cell_type": "code",
   "execution_count": null,
   "id": "6b5e86c1",
   "metadata": {},
   "outputs": [],
   "source": [
    "for r in range(3):\n",
    "    for c in range(3):\n",
    "        matrix[r][c],matrix[c][r]=matrix[c][r],matrix[r][c]"
   ]
  },
  {
   "cell_type": "code",
   "execution_count": 74,
   "id": "9d47480c",
   "metadata": {},
   "outputs": [],
   "source": [
    "a=list(range(5,-1,-1))"
   ]
  },
  {
   "cell_type": "code",
   "execution_count": null,
   "id": "8736edc0",
   "metadata": {},
   "outputs": [],
   "source": [
    "V, E = map(int, input().split())  # V = 포도알 갯수, E = 선 갯수\n",
    "# 틀 만들기! 0 으로 채워진 8 * 8 행렬\n",
    "adj_mat = [[0]*(V+1) for _ in range(V+1)] \n",
    "\n",
    "# 실제로 채워넣는 로직\n",
    "for i in range(E):\n",
    "    start, end = map(int, input().split())  # 만약 1 2 를 인풋 받았다면\n",
    "    adj_mat[start][end] = 1  # 일단은 adj_mat[1][2] = 1\n",
    "    adj_mat[end][start] = 1  # 무향 그래프기때문에 파트너도 넣어줌\n",
    "\n",
    "visited = []  # 방문했던 포도알을 기록해주는 곳\n",
    "stack = [1]  # 맨 처음에는 1을 가지고 시작합니다.\n",
    "\n",
    "while stack: # 스택이 빌때까지 돌아라!\n",
    "    current = stack.pop() # 일단 스택에서 뽑고\n",
    "    if current not in visited: # 그 점을 방문하지 않았으면(visited 안에 없으면) visited 안에 추가해줘!\n",
    "        visited.append(current)\n",
    "\n",
    "    for destination in range(V+1):\n",
    "        if adj_mat[current][destination] == 1 and destination not in visited:  # 이어져있고 + 방문하지 않았을때!\n",
    "            stack.append(destination) # 스택에 갈 수 있는 점들을 넣어라!\n",
    "\n",
    "print(visited)\n"
   ]
  },
  {
   "cell_type": "code",
   "execution_count": null,
   "id": "52c00f44",
   "metadata": {},
   "outputs": [],
   "source": [
    "V, E = map(int, input().split())\n",
    "\n",
    "adj_arr = [[0]*(V+1) for _ in range(V+1)]\n",
    "\n",
    "for i in range(E):\n",
    "    start, end = map(int, input().split())\n",
    "    adj_arr[start][end] = 1\n",
    "    adj_arr[end][start] = 1\n",
    "\n",
    "visited = []\n",
    "Queue = [1]\n",
    "\n",
    "while Queue:\n",
    "    current = Queue.pop(0)\n",
    "    if current not in visited:\n",
    "        visited.append(current)\n",
    "\n",
    "    for destination in range(V+1):\n",
    "        if adj_arr[current][destination] and destination not in visited:\n",
    "            Queue.append(destination)\n",
    "            \n",
    "print(visited)"
   ]
  }
 ],
 "metadata": {
  "kernelspec": {
   "display_name": "Python 3 (ipykernel)",
   "language": "python",
   "name": "python3"
  },
  "language_info": {
   "codemirror_mode": {
    "name": "ipython",
    "version": 3
   },
   "file_extension": ".py",
   "mimetype": "text/x-python",
   "name": "python",
   "nbconvert_exporter": "python",
   "pygments_lexer": "ipython3",
   "version": "3.8.12"
  }
 },
 "nbformat": 4,
 "nbformat_minor": 5
}
