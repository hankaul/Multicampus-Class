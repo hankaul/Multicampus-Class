{
 "cells": [
  {
   "cell_type": "code",
   "execution_count": null,
   "id": "1d419397",
   "metadata": {},
   "outputs": [],
   "source": [
    "import pandas as pd\n",
    "\n",
    "# url로 통신하기 위한 객체\n",
    "import requests\n",
    "\n",
    "# json형태의 데이터 처리\n",
    "import json"
   ]
  },
  {
   "cell_type": "code",
   "execution_count": null,
   "id": "0b1dae0d",
   "metadata": {},
   "outputs": [],
   "source": [
    "# Battle ground 대회 데이터 수집\n",
    "Tournament = pd.read_csv(\"pcs3kr_telemetry.csv\")\n",
    "Tournament.head()"
   ]
  },
  {
   "cell_type": "code",
   "execution_count": null,
   "id": "93456b8b",
   "metadata": {},
   "outputs": [],
   "source": [
    "URL = requests.get(Tournament['telemetry_path'][0])\n",
    "TextData = URL.text\n",
    "TextData_Json = json.loads(TextData)"
   ]
  },
  {
   "cell_type": "code",
   "execution_count": null,
   "id": "76bff80c",
   "metadata": {},
   "outputs": [],
   "source": [
    "TextData_Json[0]"
   ]
  },
  {
   "cell_type": "code",
   "execution_count": null,
   "id": "15d954aa",
   "metadata": {},
   "outputs": [],
   "source": [
    "len(TextData_Json)"
   ]
  },
  {
   "cell_type": "code",
   "execution_count": null,
   "id": "3109f4a6",
   "metadata": {},
   "outputs": [],
   "source": [
    "GameLogs = pd.DataFrame(TextData_Json)\n",
    "GameLogs"
   ]
  },
  {
   "cell_type": "code",
   "execution_count": null,
   "id": "b1578ce6",
   "metadata": {},
   "outputs": [],
   "source": [
    "GameLogs.shape"
   ]
  },
  {
   "cell_type": "markdown",
   "id": "55592e73",
   "metadata": {},
   "source": [
    "# concat list of dataframe\n",
    "https://www.statology.org/rbind-in-python/"
   ]
  },
  {
   "cell_type": "code",
   "execution_count": null,
   "id": "ed2b17ff",
   "metadata": {},
   "outputs": [],
   "source": [
    "DFList = []\n",
    "for idx in range(Tournament.shape[0]):\n",
    "    URL = requests.get(Tournament['telemetry_path'][idx])\n",
    "    TextData = URL.text\n",
    "    TextData_Json = json.loads(TextData)\n",
    "    DFList.append(pd.DataFrame(TextData_Json))"
   ]
  },
  {
   "cell_type": "code",
   "execution_count": null,
   "id": "52a1e198",
   "metadata": {},
   "outputs": [],
   "source": [
    "len(DFList)"
   ]
  },
  {
   "cell_type": "code",
   "execution_count": null,
   "id": "56a3917b",
   "metadata": {},
   "outputs": [],
   "source": [
    "BattleGround = pd.concat(DFList)"
   ]
  },
  {
   "cell_type": "code",
   "execution_count": null,
   "id": "3d54abd3",
   "metadata": {},
   "outputs": [],
   "source": [
    "BattleGround.shape"
   ]
  }
 ],
 "metadata": {
  "kernelspec": {
   "display_name": "Python 3 (ipykernel)",
   "language": "python",
   "name": "python3"
  },
  "language_info": {
   "codemirror_mode": {
    "name": "ipython",
    "version": 3
   },
   "file_extension": ".py",
   "mimetype": "text/x-python",
   "name": "python",
   "nbconvert_exporter": "python",
   "pygments_lexer": "ipython3",
   "version": "3.8.10"
  }
 },
 "nbformat": 4,
 "nbformat_minor": 5
}
