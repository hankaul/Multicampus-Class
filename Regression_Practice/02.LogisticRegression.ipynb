{
 "cells": [
  {
   "cell_type": "markdown",
   "id": "a4021b4a",
   "metadata": {},
   "source": [
    "## 참고: https://hleecaster.com/ml-linear-regression-example/"
   ]
  },
  {
   "cell_type": "markdown",
   "id": "54d4f2b0",
   "metadata": {},
   "source": [
    "## 라이브러리 설치, 호출"
   ]
  },
  {
   "cell_type": "markdown",
   "id": "e2853ab4",
   "metadata": {},
   "source": [
    "!pip3 install -U scikit-learn<br>\n",
    "!pip3 install pandas<br>\n",
    "!pip3 install numpy<br>\n",
    "!pip3 install matplotlib<br>\n",
    "!pip3 install statsmodels<br>"
   ]
  },
  {
   "cell_type": "code",
   "execution_count": 5,
   "id": "f1c2d373",
   "metadata": {},
   "outputs": [],
   "source": [
    "from sklearn.linear_model import LinearRegression\n",
    "import pandas as pd\n",
    "import numpy as np\n",
    "import matplotlib.pyplot as plt\n",
    "import statsmodels.api as sm"
   ]
  },
  {
   "cell_type": "markdown",
   "id": "d8a92498",
   "metadata": {},
   "source": [
    "## 데이터 다운로드 (특별할인 판매)"
   ]
  },
  {
   "cell_type": "code",
   "execution_count": 6,
   "id": "cbdefba7",
   "metadata": {},
   "outputs": [
    {
     "name": "stdout",
     "output_type": "stream",
     "text": [
      "         date weekday  busy_day  high_temperature  special_sales\n",
      "0  2002-08-05     Mon         0                28              1\n",
      "1  2002-08-06     Tue         0                24              0\n",
      "2  2002-08-07     Wed         1                26              0\n",
      "3  2002-08-08     Thu         0                24              0\n",
      "4  2002-08-09     Fri         0                23              0\n"
     ]
    }
   ],
   "source": [
    "import pandas as pd\n",
    "df = pd.read_csv('https://raw.githubusercontent.com/jmnote/zdata/master/logistic-regression/special-sales.csv')\n",
    "print(df.head())"
   ]
  },
  {
   "cell_type": "markdown",
   "id": "738d1868",
   "metadata": {},
   "source": [
    "## Input, Feature 설정"
   ]
  },
  {
   "cell_type": "code",
   "execution_count": 3,
   "id": "095048a3",
   "metadata": {},
   "outputs": [],
   "source": [
    "Label = df['special_sales']\n",
    "InputFeature = df[['busy_day','high_temperature']]"
   ]
  },
  {
   "cell_type": "markdown",
   "id": "6ea6be7d",
   "metadata": {},
   "source": [
    "## matplot library를 활용한 point plot"
   ]
  },
  {
   "cell_type": "code",
   "execution_count": 4,
   "id": "c90040ae",
   "metadata": {},
   "outputs": [
    {
     "data": {
      "image/png": "[encoded data removed]",
      "text/plain": [
       "<Figure size 432x288 with 1 Axes>"
      ]
     },
     "metadata": {
      "needs_background": "light"
     },
     "output_type": "display_data"
    },
    {
     "data": {
      "image/png": "[encoded data removed]",
      "text/plain": [
       "<Figure size 432x288 with 1 Axes>"
      ]
     },
     "metadata": {
      "needs_background": "light"
     },
     "output_type": "display_data"
    }
   ],
   "source": [
    "plt.plot(InputFeature['busy_day'], Label, 'o')\n",
    "plt.show()\n",
    "\n",
    "plt.plot(InputFeature['high_temperature'], Label, 'o')\n",
    "plt.show()"
   ]
  },
  {
   "cell_type": "markdown",
   "id": "475ec0b3",
   "metadata": {},
   "source": [
    "## Linear regression 모델 fitting"
   ]
  },
  {
   "cell_type": "code",
   "execution_count": 4,
   "id": "8fdfaee9",
   "metadata": {},
   "outputs": [
    {
     "ename": "NameError",
     "evalue": "name 'InputFeature' is not defined",
     "output_type": "error",
     "traceback": [
      "\u001b[1;31m---------------------------------------------------------------------------\u001b[0m",
      "\u001b[1;31mNameError\u001b[0m                                 Traceback (most recent call last)",
      "\u001b[1;32m~\\AppData\\Local\\Temp/ipykernel_2488/918592503.py\u001b[0m in \u001b[0;36m<module>\u001b[1;34m\u001b[0m\n\u001b[1;32m----> 1\u001b[1;33m \u001b[0mInputFeature\u001b[0m \u001b[1;33m=\u001b[0m \u001b[0msm\u001b[0m\u001b[1;33m.\u001b[0m\u001b[0madd_constant\u001b[0m\u001b[1;33m(\u001b[0m\u001b[0mInputFeature\u001b[0m\u001b[1;33m)\u001b[0m\u001b[1;33m\u001b[0m\u001b[1;33m\u001b[0m\u001b[0m\n\u001b[0m\u001b[0;32m      2\u001b[0m \u001b[0mmodel\u001b[0m \u001b[1;33m=\u001b[0m \u001b[0msm\u001b[0m\u001b[1;33m.\u001b[0m\u001b[0mLogit\u001b[0m\u001b[1;33m(\u001b[0m\u001b[0mLabel\u001b[0m\u001b[1;33m,\u001b[0m \u001b[0mInputFeature\u001b[0m\u001b[1;33m)\u001b[0m\u001b[1;33m\u001b[0m\u001b[1;33m\u001b[0m\u001b[0m\n\u001b[0;32m      3\u001b[0m \u001b[0mmodel\u001b[0m \u001b[1;33m=\u001b[0m \u001b[0mmodel\u001b[0m\u001b[1;33m.\u001b[0m\u001b[0mfit\u001b[0m\u001b[1;33m(\u001b[0m\u001b[1;33m)\u001b[0m\u001b[1;33m\u001b[0m\u001b[1;33m\u001b[0m\u001b[0m\n\u001b[0;32m      4\u001b[0m \u001b[0mprint\u001b[0m\u001b[1;33m(\u001b[0m\u001b[0mresults\u001b[0m\u001b[1;33m.\u001b[0m\u001b[0mparams\u001b[0m\u001b[1;33m)\u001b[0m\u001b[1;33m\u001b[0m\u001b[1;33m\u001b[0m\u001b[0m\n",
      "\u001b[1;31mNameError\u001b[0m: name 'InputFeature' is not defined"
     ]
    }
   ],
   "source": [
    "InputFeature = sm.add_constant(InputFeature)\n",
    "model = sm.Logit(Label, InputFeature)\n",
    "model = model.fit()\n",
    "print(results.params)"
   ]
  },
  {
   "cell_type": "markdown",
   "id": "96d903ad",
   "metadata": {},
   "source": [
    "## 통계모델 분석하기"
   ]
  },
  {
   "cell_type": "code",
   "execution_count": null,
   "id": "75ac0716",
   "metadata": {},
   "outputs": [],
   "source": [
    "print( model.summary() )"
   ]
  },
  {
   "cell_type": "markdown",
   "id": "c65bc674",
   "metadata": {},
   "source": [
    "<h2>Logistic regression 모델 해석하기</h2>\n",
    "Coefficient: ln ( odds ) = 2.4426 * busy_day + 0.5545 * high_temperature + const<br>\n",
    "<br>\n",
    "odds를 알기 위해서는 exponential을 해주어야한다. (log 없애기)<br>"
   ]
  },
  {
   "cell_type": "code",
   "execution_count": null,
   "id": "484a4abb",
   "metadata": {},
   "outputs": [],
   "source": [
    "np.exp(model.params).round(4)"
   ]
  },
  {
   "cell_type": "markdown",
   "id": "9fcf7e71",
   "metadata": {},
   "source": [
    "<h3>p.value</h3>\n",
    "busy_day는 0.05보다 작음, 즉 coef가 0보다 크다는 뜻. 유의한 변수<br>\n",
    "High temperature는 p-value가 0.067로 근소하게 유의하지 않음.<br>\n",
    "하지만 0.1보다 작기에 이를 border라고도 표현함<br>\n",
    "비록 유의하지는 않지만, 어느정도 영향이 있을 것으로 짐작 가능<br>"
   ]
  },
  {
   "cell_type": "code",
   "execution_count": null,
   "id": "e76cd55a",
   "metadata": {},
   "outputs": [],
   "source": [
    "df[['busy_day','high_temperature']]\n",
    "\n"
   ]
  },
  {
   "cell_type": "markdown",
   "id": "8f98b1b6",
   "metadata": {},
   "source": [
    "## 결과 출력 (0 ~ 1 값, 즉 sigmoid 값)"
   ]
  },
  {
   "cell_type": "code",
   "execution_count": null,
   "id": "deb3d40d",
   "metadata": {},
   "outputs": [],
   "source": [
    "model.predict(InputFeature).head()"
   ]
  },
  {
   "cell_type": "code",
   "execution_count": null,
   "id": "4437d070",
   "metadata": {},
   "outputs": [],
   "source": [
    "plt.plot(model.predict(InputFeature), df['busy_day'], 'o')\n",
    "plt.show()"
   ]
  },
  {
   "cell_type": "code",
   "execution_count": null,
   "id": "8a0e5f9b",
   "metadata": {},
   "outputs": [],
   "source": [
    "plt.plot(model.predict(InputFeature), df['high_temperature'], 'o')\n",
    "plt.show()"
   ]
  },
  {
   "cell_type": "markdown",
   "id": "c3e93aec-00c3-40fe-8cd1-2f943fe1db11",
   "metadata": {},
   "source": [
    "\n",
    "Logistic regression을 활용하여, 폐암 환자의 재발을 예측하는 연구를 각자 진행해볼거에요.\n",
    "다만, 예측은 하되, 모델을 꼭 해석할 수 있어야 합니다.\n",
    "1. Logistic regression 모델을 Train 데이터에 학습한다.\n",
    "2. 변수에서 중요한 변수들에 대해서 설명하고, Odds ratio를 구한다.\n",
    "3. 필요없는 변수를 제외한 Feature를 구성한다.\n",
    "4. 최종 모델을 만든다.\n",
    "5. Validation data에 적용하여 예측한다."
   ]
  },
  {
   "cell_type": "markdown",
   "id": "b5ba6855-2b7b-4ce0-b520-126e7affce9c",
   "metadata": {},
   "source": [
    "### 연습문제\n",
    "\n",
    "Logistic regression을 활용하여, 폐암 환자의 재발을 예측하는 연구를 각자 진행해볼거에요.\n",
    "다만, 예측은 하되, 모델을 꼭 해석할 수 있어야 합니다.\n",
    "1. Logistic regression 모델을 Train 데이터에 학습한다.\n",
    "2. 변수에서 중요한 변수들에 대해서 설명하고, Odds ratio를 구한다.\n",
    "3. 필요없는 변수를 제외한 Feature를 구성한다.\n",
    "4. 최종 모델을 만든다.\n",
    "5. Validation data에 적용하여 예측한다."
   ]
  },
  {
   "cell_type": "code",
   "execution_count": 18,
   "id": "9e5df361-5708-4a2e-a334-5278f410a9f1",
   "metadata": {},
   "outputs": [],
   "source": [
    "from scipy import stats"
   ]
  },
  {
   "cell_type": "code",
   "execution_count": 12,
   "id": "3f2b3058-b5c7-438c-95a4-aca037091e52",
   "metadata": {},
   "outputs": [],
   "source": [
    "\n",
    "Train = pd.read_csv('Practice_LungCancer/Train.csv')\n",
    "Valid = pd.read_csv('Practice_LungCancer/Valid.csv')"
   ]
  },
  {
   "cell_type": "code",
   "execution_count": 30,
   "id": "a4d8d605-81cd-4602-8b23-5194a8d95f41",
   "metadata": {},
   "outputs": [
    {
     "data": {
      "text/html": [
       "<div>\n",
       "<style scoped>\n",
       "    .dataframe tbody tr th:only-of-type {\n",
       "        vertical-align: middle;\n",
       "    }\n",
       "\n",
       "    .dataframe tbody tr th {\n",
       "        vertical-align: top;\n",
       "    }\n",
       "\n",
       "    .dataframe thead th {\n",
       "        text-align: right;\n",
       "    }\n",
       "</style>\n",
       "<table border=\"1\" class=\"dataframe\">\n",
       "  <thead>\n",
       "    <tr style=\"text-align: right;\">\n",
       "      <th></th>\n",
       "      <th>Relapse</th>\n",
       "      <th>CEA_Post</th>\n",
       "      <th>Lymphatic</th>\n",
       "      <th>Vascular</th>\n",
       "      <th>pStage</th>\n",
       "      <th>pT</th>\n",
       "      <th>pN</th>\n",
       "      <th>Perineural</th>\n",
       "      <th>Age</th>\n",
       "    </tr>\n",
       "  </thead>\n",
       "  <tbody>\n",
       "    <tr>\n",
       "      <th>Relapse</th>\n",
       "      <td>1.000000</td>\n",
       "      <td>0.163411</td>\n",
       "      <td>0.206385</td>\n",
       "      <td>0.208355</td>\n",
       "      <td>0.180064</td>\n",
       "      <td>0.056499</td>\n",
       "      <td>0.204281</td>\n",
       "      <td>0.130624</td>\n",
       "      <td>-0.001398</td>\n",
       "    </tr>\n",
       "    <tr>\n",
       "      <th>CEA_Post</th>\n",
       "      <td>0.163411</td>\n",
       "      <td>1.000000</td>\n",
       "      <td>0.069175</td>\n",
       "      <td>0.056759</td>\n",
       "      <td>0.121155</td>\n",
       "      <td>-0.050621</td>\n",
       "      <td>0.165132</td>\n",
       "      <td>0.201012</td>\n",
       "      <td>-0.000181</td>\n",
       "    </tr>\n",
       "    <tr>\n",
       "      <th>Lymphatic</th>\n",
       "      <td>0.206385</td>\n",
       "      <td>0.069175</td>\n",
       "      <td>1.000000</td>\n",
       "      <td>0.228239</td>\n",
       "      <td>0.199909</td>\n",
       "      <td>-0.093983</td>\n",
       "      <td>0.319781</td>\n",
       "      <td>0.160543</td>\n",
       "      <td>-0.076858</td>\n",
       "    </tr>\n",
       "    <tr>\n",
       "      <th>Vascular</th>\n",
       "      <td>0.208355</td>\n",
       "      <td>0.056759</td>\n",
       "      <td>0.228239</td>\n",
       "      <td>1.000000</td>\n",
       "      <td>0.129301</td>\n",
       "      <td>0.042075</td>\n",
       "      <td>0.182302</td>\n",
       "      <td>0.250198</td>\n",
       "      <td>0.103310</td>\n",
       "    </tr>\n",
       "    <tr>\n",
       "      <th>pStage</th>\n",
       "      <td>0.180064</td>\n",
       "      <td>0.121155</td>\n",
       "      <td>0.199909</td>\n",
       "      <td>0.129301</td>\n",
       "      <td>1.000000</td>\n",
       "      <td>0.370512</td>\n",
       "      <td>0.770096</td>\n",
       "      <td>0.023054</td>\n",
       "      <td>0.099237</td>\n",
       "    </tr>\n",
       "    <tr>\n",
       "      <th>pT</th>\n",
       "      <td>0.056499</td>\n",
       "      <td>-0.050621</td>\n",
       "      <td>-0.093983</td>\n",
       "      <td>0.042075</td>\n",
       "      <td>0.370512</td>\n",
       "      <td>1.000000</td>\n",
       "      <td>-0.172943</td>\n",
       "      <td>0.014330</td>\n",
       "      <td>0.166362</td>\n",
       "    </tr>\n",
       "    <tr>\n",
       "      <th>pN</th>\n",
       "      <td>0.204281</td>\n",
       "      <td>0.165132</td>\n",
       "      <td>0.319781</td>\n",
       "      <td>0.182302</td>\n",
       "      <td>0.770096</td>\n",
       "      <td>-0.172943</td>\n",
       "      <td>1.000000</td>\n",
       "      <td>0.055978</td>\n",
       "      <td>-0.029191</td>\n",
       "    </tr>\n",
       "    <tr>\n",
       "      <th>Perineural</th>\n",
       "      <td>0.130624</td>\n",
       "      <td>0.201012</td>\n",
       "      <td>0.160543</td>\n",
       "      <td>0.250198</td>\n",
       "      <td>0.023054</td>\n",
       "      <td>0.014330</td>\n",
       "      <td>0.055978</td>\n",
       "      <td>1.000000</td>\n",
       "      <td>0.040122</td>\n",
       "    </tr>\n",
       "    <tr>\n",
       "      <th>Age</th>\n",
       "      <td>-0.001398</td>\n",
       "      <td>-0.000181</td>\n",
       "      <td>-0.076858</td>\n",
       "      <td>0.103310</td>\n",
       "      <td>0.099237</td>\n",
       "      <td>0.166362</td>\n",
       "      <td>-0.029191</td>\n",
       "      <td>0.040122</td>\n",
       "      <td>1.000000</td>\n",
       "    </tr>\n",
       "  </tbody>\n",
       "</table>\n",
       "</div>"
      ],
      "text/plain": [
       "             Relapse  CEA_Post  Lymphatic  Vascular    pStage        pT  \\\n",
       "Relapse     1.000000  0.163411   0.206385  0.208355  0.180064  0.056499   \n",
       "CEA_Post    0.163411  1.000000   0.069175  0.056759  0.121155 -0.050621   \n",
       "Lymphatic   0.206385  0.069175   1.000000  0.228239  0.199909 -0.093983   \n",
       "Vascular    0.208355  0.056759   0.228239  1.000000  0.129301  0.042075   \n",
       "pStage      0.180064  0.121155   0.199909  0.129301  1.000000  0.370512   \n",
       "pT          0.056499 -0.050621  -0.093983  0.042075  0.370512  1.000000   \n",
       "pN          0.204281  0.165132   0.319781  0.182302  0.770096 -0.172943   \n",
       "Perineural  0.130624  0.201012   0.160543  0.250198  0.023054  0.014330   \n",
       "Age        -0.001398 -0.000181  -0.076858  0.103310  0.099237  0.166362   \n",
       "\n",
       "                  pN  Perineural       Age  \n",
       "Relapse     0.204281    0.130624 -0.001398  \n",
       "CEA_Post    0.165132    0.201012 -0.000181  \n",
       "Lymphatic   0.319781    0.160543 -0.076858  \n",
       "Vascular    0.182302    0.250198  0.103310  \n",
       "pStage      0.770096    0.023054  0.099237  \n",
       "pT         -0.172943    0.014330  0.166362  \n",
       "pN          1.000000    0.055978 -0.029191  \n",
       "Perineural  0.055978    1.000000  0.040122  \n",
       "Age        -0.029191    0.040122  1.000000  "
      ]
     },
     "execution_count": 30,
     "metadata": {},
     "output_type": "execute_result"
    }
   ],
   "source": [
    "Train_corr = Train.corr()\n",
    "Train_corr"
   ]
  },
  {
   "cell_type": "code",
   "execution_count": 26,
   "id": "1e92f532-ff58-4d12-baf6-b61b90634cac",
   "metadata": {},
   "outputs": [
    {
     "data": {
      "text/html": [
       "<div>\n",
       "<style scoped>\n",
       "    .dataframe tbody tr th:only-of-type {\n",
       "        vertical-align: middle;\n",
       "    }\n",
       "\n",
       "    .dataframe tbody tr th {\n",
       "        vertical-align: top;\n",
       "    }\n",
       "\n",
       "    .dataframe thead th {\n",
       "        text-align: right;\n",
       "    }\n",
       "</style>\n",
       "<table border=\"1\" class=\"dataframe\">\n",
       "  <thead>\n",
       "    <tr style=\"text-align: right;\">\n",
       "      <th></th>\n",
       "      <th>Relapse</th>\n",
       "      <th>CEA_Post</th>\n",
       "      <th>Lymphatic</th>\n",
       "      <th>Vascular</th>\n",
       "      <th>pStage</th>\n",
       "      <th>pT</th>\n",
       "      <th>pN</th>\n",
       "      <th>Perineural</th>\n",
       "      <th>Age</th>\n",
       "    </tr>\n",
       "  </thead>\n",
       "  <tbody>\n",
       "    <tr>\n",
       "      <th>Relapse</th>\n",
       "      <td>1.0</td>\n",
       "      <td>NaN</td>\n",
       "      <td>NaN</td>\n",
       "      <td>NaN</td>\n",
       "      <td>NaN</td>\n",
       "      <td>NaN</td>\n",
       "      <td>NaN</td>\n",
       "      <td>NaN</td>\n",
       "      <td>NaN</td>\n",
       "    </tr>\n",
       "    <tr>\n",
       "      <th>CEA_Post</th>\n",
       "      <td>NaN</td>\n",
       "      <td>1.0</td>\n",
       "      <td>NaN</td>\n",
       "      <td>NaN</td>\n",
       "      <td>NaN</td>\n",
       "      <td>NaN</td>\n",
       "      <td>NaN</td>\n",
       "      <td>NaN</td>\n",
       "      <td>NaN</td>\n",
       "    </tr>\n",
       "    <tr>\n",
       "      <th>Lymphatic</th>\n",
       "      <td>NaN</td>\n",
       "      <td>NaN</td>\n",
       "      <td>1.0</td>\n",
       "      <td>NaN</td>\n",
       "      <td>NaN</td>\n",
       "      <td>NaN</td>\n",
       "      <td>NaN</td>\n",
       "      <td>NaN</td>\n",
       "      <td>NaN</td>\n",
       "    </tr>\n",
       "    <tr>\n",
       "      <th>Vascular</th>\n",
       "      <td>NaN</td>\n",
       "      <td>NaN</td>\n",
       "      <td>NaN</td>\n",
       "      <td>1.0</td>\n",
       "      <td>NaN</td>\n",
       "      <td>NaN</td>\n",
       "      <td>NaN</td>\n",
       "      <td>NaN</td>\n",
       "      <td>NaN</td>\n",
       "    </tr>\n",
       "    <tr>\n",
       "      <th>pStage</th>\n",
       "      <td>NaN</td>\n",
       "      <td>NaN</td>\n",
       "      <td>NaN</td>\n",
       "      <td>NaN</td>\n",
       "      <td>1.000000</td>\n",
       "      <td>NaN</td>\n",
       "      <td>0.770096</td>\n",
       "      <td>NaN</td>\n",
       "      <td>NaN</td>\n",
       "    </tr>\n",
       "    <tr>\n",
       "      <th>pT</th>\n",
       "      <td>NaN</td>\n",
       "      <td>NaN</td>\n",
       "      <td>NaN</td>\n",
       "      <td>NaN</td>\n",
       "      <td>NaN</td>\n",
       "      <td>1.0</td>\n",
       "      <td>NaN</td>\n",
       "      <td>NaN</td>\n",
       "      <td>NaN</td>\n",
       "    </tr>\n",
       "    <tr>\n",
       "      <th>pN</th>\n",
       "      <td>NaN</td>\n",
       "      <td>NaN</td>\n",
       "      <td>NaN</td>\n",
       "      <td>NaN</td>\n",
       "      <td>0.770096</td>\n",
       "      <td>NaN</td>\n",
       "      <td>1.000000</td>\n",
       "      <td>NaN</td>\n",
       "      <td>NaN</td>\n",
       "    </tr>\n",
       "    <tr>\n",
       "      <th>Perineural</th>\n",
       "      <td>NaN</td>\n",
       "      <td>NaN</td>\n",
       "      <td>NaN</td>\n",
       "      <td>NaN</td>\n",
       "      <td>NaN</td>\n",
       "      <td>NaN</td>\n",
       "      <td>NaN</td>\n",
       "      <td>1.0</td>\n",
       "      <td>NaN</td>\n",
       "    </tr>\n",
       "    <tr>\n",
       "      <th>Age</th>\n",
       "      <td>NaN</td>\n",
       "      <td>NaN</td>\n",
       "      <td>NaN</td>\n",
       "      <td>NaN</td>\n",
       "      <td>NaN</td>\n",
       "      <td>NaN</td>\n",
       "      <td>NaN</td>\n",
       "      <td>NaN</td>\n",
       "      <td>1.0</td>\n",
       "    </tr>\n",
       "  </tbody>\n",
       "</table>\n",
       "</div>"
      ],
      "text/plain": [
       "            Relapse  CEA_Post  Lymphatic  Vascular    pStage   pT        pN  \\\n",
       "Relapse         1.0       NaN        NaN       NaN       NaN  NaN       NaN   \n",
       "CEA_Post        NaN       1.0        NaN       NaN       NaN  NaN       NaN   \n",
       "Lymphatic       NaN       NaN        1.0       NaN       NaN  NaN       NaN   \n",
       "Vascular        NaN       NaN        NaN       1.0       NaN  NaN       NaN   \n",
       "pStage          NaN       NaN        NaN       NaN  1.000000  NaN  0.770096   \n",
       "pT              NaN       NaN        NaN       NaN       NaN  1.0       NaN   \n",
       "pN              NaN       NaN        NaN       NaN  0.770096  NaN  1.000000   \n",
       "Perineural      NaN       NaN        NaN       NaN       NaN  NaN       NaN   \n",
       "Age             NaN       NaN        NaN       NaN       NaN  NaN       NaN   \n",
       "\n",
       "            Perineural  Age  \n",
       "Relapse            NaN  NaN  \n",
       "CEA_Post           NaN  NaN  \n",
       "Lymphatic          NaN  NaN  \n",
       "Vascular           NaN  NaN  \n",
       "pStage             NaN  NaN  \n",
       "pT                 NaN  NaN  \n",
       "pN                 NaN  NaN  \n",
       "Perineural         1.0  NaN  \n",
       "Age                NaN  1.0  "
      ]
     },
     "execution_count": 26,
     "metadata": {},
     "output_type": "execute_result"
    }
   ],
   "source": [
    "Train_corr = Train.corr()\n",
    "Train_corr[Train_corr>0.5]\n",
    "#Train_corr[Train_corr<-0.5]\n",
    "#(pStage,pN) 상관관계가 높음"
   ]
  },
  {
   "cell_type": "code",
   "execution_count": 22,
   "id": "173e32ca-b920-4b4f-8ea9-efae7bfbce19",
   "metadata": {},
   "outputs": [],
   "source": [
    "Train_Relapse = Train['Relapse'].values\n",
    "Train_CEA_Post = Train['CEA_Post'].values"
   ]
  },
  {
   "cell_type": "code",
   "execution_count": 29,
   "id": "fc6a35e7-6517-437f-944e-ccc6b44d0078",
   "metadata": {},
   "outputs": [
    {
     "name": "stdout",
     "output_type": "stream",
     "text": [
      "PointbiserialrResult(correlation=0.16341148592713076, pvalue=0.0011666856220201715)\n"
     ]
    }
   ],
   "source": [
    "print(stats.pointbiserialr(Train_Relapse,Train_CEA_Post))"
   ]
  },
  {
   "cell_type": "markdown",
   "id": "ac7af6d0-bb00-4b6b-b33a-d060c5c52e75",
   "metadata": {},
   "source": [
    "### onewayanova"
   ]
  },
  {
   "cell_type": "code",
   "execution_count": 34,
   "id": "e5384fcf-0c0e-43ba-b32e-a18e130876e1",
   "metadata": {},
   "outputs": [],
   "source": [
    "#onewayAnova\n",
    "Train_1 = Train[Train['Relapse']==1]\n",
    "Train_0 = Train[Train['Relapse']==0]"
   ]
  },
  {
   "cell_type": "code",
   "execution_count": 36,
   "id": "63566d2b-aa38-42ae-9ad7-ddaddc08b1bb",
   "metadata": {},
   "outputs": [
    {
     "data": {
      "text/plain": [
       "F_onewayResult(statistic=10.700018301488583, pvalue=0.0011666856220200398)"
      ]
     },
     "execution_count": 36,
     "metadata": {},
     "output_type": "execute_result"
    }
   ],
   "source": [
    "stats.f_oneway(Train_1['CEA_Post'],Train_0['CEA_Post'])"
   ]
  },
  {
   "cell_type": "code",
   "execution_count": 37,
   "id": "e8c91d87-1c04-4afd-8b23-e6c0317ceaab",
   "metadata": {},
   "outputs": [
    {
     "data": {
      "text/plain": [
       "F_onewayResult(statistic=17.351079024770033, pvalue=3.8286208960709575e-05)"
      ]
     },
     "execution_count": 37,
     "metadata": {},
     "output_type": "execute_result"
    }
   ],
   "source": [
    "stats.f_oneway(Train_1['Lymphatic'],Train_0['Lymphatic'])\n",
    "#기각"
   ]
  },
  {
   "cell_type": "code",
   "execution_count": 38,
   "id": "452fe800-d830-4c05-b25c-e075d542f832",
   "metadata": {},
   "outputs": [
    {
     "data": {
      "text/plain": [
       "F_onewayResult(statistic=17.698863867832955, pvalue=3.213918897345187e-05)"
      ]
     },
     "execution_count": 38,
     "metadata": {},
     "output_type": "execute_result"
    }
   ],
   "source": [
    "stats.f_oneway(Train_1['Vascular'],Train_0['Vascular'])\n",
    "#기각"
   ]
  },
  {
   "cell_type": "code",
   "execution_count": 39,
   "id": "b4834fff-9124-4ae4-b974-e2c6bf8a9cde",
   "metadata": {},
   "outputs": [
    {
     "data": {
      "text/plain": [
       "F_onewayResult(statistic=13.068748823077028, pvalue=0.00033962650068508903)"
      ]
     },
     "execution_count": 39,
     "metadata": {},
     "output_type": "execute_result"
    }
   ],
   "source": [
    "stats.f_oneway(Train_1['pStage'],Train_0['pStage'])"
   ]
  },
  {
   "cell_type": "code",
   "execution_count": 40,
   "id": "666ee901-d2db-42bf-a8b6-3063470ca495",
   "metadata": {},
   "outputs": [
    {
     "data": {
      "text/plain": [
       "F_onewayResult(statistic=1.2489221941968018, pvalue=0.2644463902970978)"
      ]
     },
     "execution_count": 40,
     "metadata": {},
     "output_type": "execute_result"
    }
   ],
   "source": [
    "stats.f_oneway(Train_1['pT'],Train_0['pT'])\n",
    "#기각"
   ]
  },
  {
   "cell_type": "code",
   "execution_count": 41,
   "id": "b71bddbb-40f8-4c45-a5a8-723182821aa5",
   "metadata": {},
   "outputs": [
    {
     "data": {
      "text/plain": [
       "F_onewayResult(statistic=16.98368180005991, pvalue=4.6076781394010623e-05)"
      ]
     },
     "execution_count": 41,
     "metadata": {},
     "output_type": "execute_result"
    }
   ],
   "source": [
    "stats.f_oneway(Train_1['pN'],Train_0['pN'])\n",
    "#기각"
   ]
  },
  {
   "cell_type": "code",
   "execution_count": 42,
   "id": "958a308a-fa70-43bb-9109-032c119b6bb1",
   "metadata": {},
   "outputs": [
    {
     "data": {
      "text/plain": [
       "F_onewayResult(statistic=6.769962265412833, pvalue=0.009623534110100978)"
      ]
     },
     "execution_count": 42,
     "metadata": {},
     "output_type": "execute_result"
    }
   ],
   "source": [
    "stats.f_oneway(Train_1['Perineural'],Train_0['Perineural'])"
   ]
  },
  {
   "cell_type": "code",
   "execution_count": 43,
   "id": "49a75050-a2e9-48d0-9981-4fac892718e7",
   "metadata": {},
   "outputs": [
    {
     "data": {
      "text/plain": [
       "F_onewayResult(statistic=0.0007622270995974077, pvalue=0.977988555194856)"
      ]
     },
     "execution_count": 43,
     "metadata": {},
     "output_type": "execute_result"
    }
   ],
   "source": [
    "stats.f_oneway(Train_1['Age'],Train_0['Age'])\n",
    "#기각"
   ]
  },
  {
   "cell_type": "markdown",
   "id": "7fa6b474-0c04-4e11-9901-0a04c6a28980",
   "metadata": {},
   "source": [
    "> 변수선택 : CEA_Post,pStage,Perineural"
   ]
  },
  {
   "cell_type": "code",
   "execution_count": 62,
   "id": "9cffdd63-c5fd-4c37-9bbd-b7a9187328d9",
   "metadata": {},
   "outputs": [
    {
     "data": {
      "text/html": [
       "<div>\n",
       "<style scoped>\n",
       "    .dataframe tbody tr th:only-of-type {\n",
       "        vertical-align: middle;\n",
       "    }\n",
       "\n",
       "    .dataframe tbody tr th {\n",
       "        vertical-align: top;\n",
       "    }\n",
       "\n",
       "    .dataframe thead th {\n",
       "        text-align: right;\n",
       "    }\n",
       "</style>\n",
       "<table border=\"1\" class=\"dataframe\">\n",
       "  <thead>\n",
       "    <tr style=\"text-align: right;\">\n",
       "      <th></th>\n",
       "      <th>CEA_Post</th>\n",
       "      <th>pStage</th>\n",
       "      <th>Perineural</th>\n",
       "    </tr>\n",
       "  </thead>\n",
       "  <tbody>\n",
       "    <tr>\n",
       "      <th>0</th>\n",
       "      <td>0.0</td>\n",
       "      <td>4</td>\n",
       "      <td>0</td>\n",
       "    </tr>\n",
       "    <tr>\n",
       "      <th>1</th>\n",
       "      <td>1.2</td>\n",
       "      <td>4</td>\n",
       "      <td>1</td>\n",
       "    </tr>\n",
       "    <tr>\n",
       "      <th>2</th>\n",
       "      <td>1.8</td>\n",
       "      <td>4</td>\n",
       "      <td>0</td>\n",
       "    </tr>\n",
       "    <tr>\n",
       "      <th>3</th>\n",
       "      <td>0.0</td>\n",
       "      <td>4</td>\n",
       "      <td>0</td>\n",
       "    </tr>\n",
       "    <tr>\n",
       "      <th>4</th>\n",
       "      <td>52.0</td>\n",
       "      <td>6</td>\n",
       "      <td>0</td>\n",
       "    </tr>\n",
       "    <tr>\n",
       "      <th>...</th>\n",
       "      <td>...</td>\n",
       "      <td>...</td>\n",
       "      <td>...</td>\n",
       "    </tr>\n",
       "    <tr>\n",
       "      <th>387</th>\n",
       "      <td>1.7</td>\n",
       "      <td>4</td>\n",
       "      <td>0</td>\n",
       "    </tr>\n",
       "    <tr>\n",
       "      <th>388</th>\n",
       "      <td>4.1</td>\n",
       "      <td>4</td>\n",
       "      <td>0</td>\n",
       "    </tr>\n",
       "    <tr>\n",
       "      <th>389</th>\n",
       "      <td>2.2</td>\n",
       "      <td>5</td>\n",
       "      <td>0</td>\n",
       "    </tr>\n",
       "    <tr>\n",
       "      <th>390</th>\n",
       "      <td>5.2</td>\n",
       "      <td>4</td>\n",
       "      <td>0</td>\n",
       "    </tr>\n",
       "    <tr>\n",
       "      <th>391</th>\n",
       "      <td>2.8</td>\n",
       "      <td>4</td>\n",
       "      <td>0</td>\n",
       "    </tr>\n",
       "  </tbody>\n",
       "</table>\n",
       "<p>392 rows × 3 columns</p>\n",
       "</div>"
      ],
      "text/plain": [
       "     CEA_Post  pStage  Perineural\n",
       "0         0.0       4           0\n",
       "1         1.2       4           1\n",
       "2         1.8       4           0\n",
       "3         0.0       4           0\n",
       "4        52.0       6           0\n",
       "..        ...     ...         ...\n",
       "387       1.7       4           0\n",
       "388       4.1       4           0\n",
       "389       2.2       5           0\n",
       "390       5.2       4           0\n",
       "391       2.8       4           0\n",
       "\n",
       "[392 rows x 3 columns]"
      ]
     },
     "execution_count": 62,
     "metadata": {},
     "output_type": "execute_result"
    }
   ],
   "source": [
    "Label = Train['Relapse']\n",
    "InputFeature = Train[['CEA_Post','pStage','Perineural']]\n",
    "InputFeature"
   ]
  },
  {
   "cell_type": "code",
   "execution_count": 77,
   "id": "d1f68fa2-2577-440f-a9ef-36155f866e5a",
   "metadata": {},
   "outputs": [
    {
     "name": "stdout",
     "output_type": "stream",
     "text": [
      "Optimization terminated successfully.\n",
      "         Current function value: 0.640642\n",
      "         Iterations 8\n"
     ]
    },
    {
     "name": "stderr",
     "output_type": "stream",
     "text": [
      "C:\\Users\\asd\\anaconda3\\lib\\site-packages\\statsmodels\\tsa\\tsatools.py:142: FutureWarning: In a future version of pandas all arguments of concat except for the argument 'objs' will be keyword-only\n",
      "  x = pd.concat(x[::order], 1)\n"
     ]
    }
   ],
   "source": [
    "InputFeature = sm.add_constant(InputFeature)\n",
    "model = sm.Logit(Label, InputFeature)\n",
    "model = model.fit()"
   ]
  },
  {
   "cell_type": "code",
   "execution_count": 78,
   "id": "2ef9a436-9dd3-4489-94da-c01ba44cda23",
   "metadata": {},
   "outputs": [
    {
     "name": "stdout",
     "output_type": "stream",
     "text": [
      "                           Logit Regression Results                           \n",
      "==============================================================================\n",
      "Dep. Variable:                Relapse   No. Observations:                  392\n",
      "Model:                          Logit   Df Residuals:                      388\n",
      "Method:                           MLE   Df Model:                            3\n",
      "Date:                Fri, 15 Apr 2022   Pseudo R-squ.:                 0.05869\n",
      "Time:                        17:52:52   Log-Likelihood:                -251.13\n",
      "converged:                       True   LL-Null:                       -266.79\n",
      "Covariance Type:            nonrobust   LLR p-value:                 7.292e-07\n",
      "==============================================================================\n",
      "                 coef    std err          z      P>|z|      [0.025      0.975]\n",
      "------------------------------------------------------------------------------\n",
      "const         -1.7781      0.438     -4.061      0.000      -2.636      -0.920\n",
      "CEA_Post       0.0190      0.009      2.143      0.032       0.002       0.036\n",
      "pStage         0.2919      0.099      2.941      0.003       0.097       0.486\n",
      "Perineural     0.7085      0.339      2.090      0.037       0.044       1.373\n",
      "==============================================================================\n"
     ]
    }
   ],
   "source": [
    "print(model.summary())"
   ]
  },
  {
   "cell_type": "code",
   "execution_count": 83,
   "id": "f8413a25-62cb-44db-8022-fb844fd7ca66",
   "metadata": {},
   "outputs": [],
   "source": [
    "predict_InputFeature = Valid[['CEA_Post','pStage','Perineural']]\n",
    "predict_InputFeature_add = sm.add_constant(predict_InputFeature)\n",
    "predict_label = Valid['Relapse']\n",
    "predict = model.predict(predict_InputFeature_add)"
   ]
  },
  {
   "cell_type": "code",
   "execution_count": 93,
   "id": "56c5a15b-68ad-4ccd-b3e1-2ad320d4ee5a",
   "metadata": {},
   "outputs": [
    {
     "data": {
      "text/html": [
       "<div>\n",
       "<style scoped>\n",
       "    .dataframe tbody tr th:only-of-type {\n",
       "        vertical-align: middle;\n",
       "    }\n",
       "\n",
       "    .dataframe tbody tr th {\n",
       "        vertical-align: top;\n",
       "    }\n",
       "\n",
       "    .dataframe thead th {\n",
       "        text-align: right;\n",
       "    }\n",
       "</style>\n",
       "<table border=\"1\" class=\"dataframe\">\n",
       "  <thead>\n",
       "    <tr style=\"text-align: right;\">\n",
       "      <th></th>\n",
       "      <th>level_0</th>\n",
       "      <th>index</th>\n",
       "      <th>0</th>\n",
       "    </tr>\n",
       "  </thead>\n",
       "  <tbody>\n",
       "    <tr>\n",
       "      <th>0</th>\n",
       "      <td>0</td>\n",
       "      <td>0</td>\n",
       "      <td>0.426540</td>\n",
       "    </tr>\n",
       "    <tr>\n",
       "      <th>1</th>\n",
       "      <td>1</td>\n",
       "      <td>1</td>\n",
       "      <td>0.356260</td>\n",
       "    </tr>\n",
       "    <tr>\n",
       "      <th>2</th>\n",
       "      <td>2</td>\n",
       "      <td>2</td>\n",
       "      <td>0.536860</td>\n",
       "    </tr>\n",
       "    <tr>\n",
       "      <th>3</th>\n",
       "      <td>3</td>\n",
       "      <td>3</td>\n",
       "      <td>0.420979</td>\n",
       "    </tr>\n",
       "    <tr>\n",
       "      <th>4</th>\n",
       "      <td>4</td>\n",
       "      <td>4</td>\n",
       "      <td>0.431654</td>\n",
       "    </tr>\n",
       "    <tr>\n",
       "      <th>...</th>\n",
       "      <td>...</td>\n",
       "      <td>...</td>\n",
       "      <td>...</td>\n",
       "    </tr>\n",
       "    <tr>\n",
       "      <th>93</th>\n",
       "      <td>93</td>\n",
       "      <td>93</td>\n",
       "      <td>0.361938</td>\n",
       "    </tr>\n",
       "    <tr>\n",
       "      <th>94</th>\n",
       "      <td>94</td>\n",
       "      <td>94</td>\n",
       "      <td>0.449897</td>\n",
       "    </tr>\n",
       "    <tr>\n",
       "      <th>95</th>\n",
       "      <td>95</td>\n",
       "      <td>95</td>\n",
       "      <td>0.427933</td>\n",
       "    </tr>\n",
       "    <tr>\n",
       "      <th>96</th>\n",
       "      <td>96</td>\n",
       "      <td>96</td>\n",
       "      <td>0.244547</td>\n",
       "    </tr>\n",
       "    <tr>\n",
       "      <th>97</th>\n",
       "      <td>97</td>\n",
       "      <td>97</td>\n",
       "      <td>0.241058</td>\n",
       "    </tr>\n",
       "  </tbody>\n",
       "</table>\n",
       "<p>98 rows × 3 columns</p>\n",
       "</div>"
      ],
      "text/plain": [
       "    level_0  index         0\n",
       "0         0      0  0.426540\n",
       "1         1      1  0.356260\n",
       "2         2      2  0.536860\n",
       "3         3      3  0.420979\n",
       "4         4      4  0.431654\n",
       "..      ...    ...       ...\n",
       "93       93     93  0.361938\n",
       "94       94     94  0.449897\n",
       "95       95     95  0.427933\n",
       "96       96     96  0.244547\n",
       "97       97     97  0.241058\n",
       "\n",
       "[98 rows x 3 columns]"
      ]
     },
     "execution_count": 93,
     "metadata": {},
     "output_type": "execute_result"
    }
   ],
   "source": [
    "predict"
   ]
  },
  {
   "cell_type": "code",
   "execution_count": 99,
   "id": "52d3325d-768e-445f-a1c9-1bd7042979b3",
   "metadata": {},
   "outputs": [
    {
     "data": {
      "text/html": [
       "<div>\n",
       "<style scoped>\n",
       "    .dataframe tbody tr th:only-of-type {\n",
       "        vertical-align: middle;\n",
       "    }\n",
       "\n",
       "    .dataframe tbody tr th {\n",
       "        vertical-align: top;\n",
       "    }\n",
       "\n",
       "    .dataframe thead th {\n",
       "        text-align: right;\n",
       "    }\n",
       "</style>\n",
       "<table border=\"1\" class=\"dataframe\">\n",
       "  <thead>\n",
       "    <tr style=\"text-align: right;\">\n",
       "      <th></th>\n",
       "      <th>level_0</th>\n",
       "      <th>index</th>\n",
       "      <th>0</th>\n",
       "      <th>positvie</th>\n",
       "      <th>positive</th>\n",
       "    </tr>\n",
       "  </thead>\n",
       "  <tbody>\n",
       "    <tr>\n",
       "      <th>0</th>\n",
       "      <td>0</td>\n",
       "      <td>0</td>\n",
       "      <td>0.426540</td>\n",
       "      <td>1</td>\n",
       "      <td>1</td>\n",
       "    </tr>\n",
       "    <tr>\n",
       "      <th>1</th>\n",
       "      <td>1</td>\n",
       "      <td>1</td>\n",
       "      <td>0.356260</td>\n",
       "      <td>0</td>\n",
       "      <td>0</td>\n",
       "    </tr>\n",
       "    <tr>\n",
       "      <th>2</th>\n",
       "      <td>2</td>\n",
       "      <td>2</td>\n",
       "      <td>0.536860</td>\n",
       "      <td>1</td>\n",
       "      <td>1</td>\n",
       "    </tr>\n",
       "    <tr>\n",
       "      <th>3</th>\n",
       "      <td>3</td>\n",
       "      <td>3</td>\n",
       "      <td>0.420979</td>\n",
       "      <td>1</td>\n",
       "      <td>1</td>\n",
       "    </tr>\n",
       "    <tr>\n",
       "      <th>4</th>\n",
       "      <td>4</td>\n",
       "      <td>4</td>\n",
       "      <td>0.431654</td>\n",
       "      <td>1</td>\n",
       "      <td>1</td>\n",
       "    </tr>\n",
       "    <tr>\n",
       "      <th>...</th>\n",
       "      <td>...</td>\n",
       "      <td>...</td>\n",
       "      <td>...</td>\n",
       "      <td>...</td>\n",
       "      <td>...</td>\n",
       "    </tr>\n",
       "    <tr>\n",
       "      <th>93</th>\n",
       "      <td>93</td>\n",
       "      <td>93</td>\n",
       "      <td>0.361938</td>\n",
       "      <td>0</td>\n",
       "      <td>0</td>\n",
       "    </tr>\n",
       "    <tr>\n",
       "      <th>94</th>\n",
       "      <td>94</td>\n",
       "      <td>94</td>\n",
       "      <td>0.449897</td>\n",
       "      <td>1</td>\n",
       "      <td>1</td>\n",
       "    </tr>\n",
       "    <tr>\n",
       "      <th>95</th>\n",
       "      <td>95</td>\n",
       "      <td>95</td>\n",
       "      <td>0.427933</td>\n",
       "      <td>1</td>\n",
       "      <td>1</td>\n",
       "    </tr>\n",
       "    <tr>\n",
       "      <th>96</th>\n",
       "      <td>96</td>\n",
       "      <td>96</td>\n",
       "      <td>0.244547</td>\n",
       "      <td>0</td>\n",
       "      <td>0</td>\n",
       "    </tr>\n",
       "    <tr>\n",
       "      <th>97</th>\n",
       "      <td>97</td>\n",
       "      <td>97</td>\n",
       "      <td>0.241058</td>\n",
       "      <td>0</td>\n",
       "      <td>0</td>\n",
       "    </tr>\n",
       "  </tbody>\n",
       "</table>\n",
       "<p>98 rows × 5 columns</p>\n",
       "</div>"
      ],
      "text/plain": [
       "    level_0  index         0  positvie  positive\n",
       "0         0      0  0.426540         1         1\n",
       "1         1      1  0.356260         0         0\n",
       "2         2      2  0.536860         1         1\n",
       "3         3      3  0.420979         1         1\n",
       "4         4      4  0.431654         1         1\n",
       "..      ...    ...       ...       ...       ...\n",
       "93       93     93  0.361938         0         0\n",
       "94       94     94  0.449897         1         1\n",
       "95       95     95  0.427933         1         1\n",
       "96       96     96  0.244547         0         0\n",
       "97       97     97  0.241058         0         0\n",
       "\n",
       "[98 rows x 5 columns]"
      ]
     },
     "execution_count": 99,
     "metadata": {},
     "output_type": "execute_result"
    }
   ],
   "source": [
    "predict['positive']= np.where(predict.iloc[:,2]>0.4,1,0)\n",
    "predict"
   ]
  },
  {
   "cell_type": "code",
   "execution_count": 100,
   "id": "93fdf25e-7d92-49f3-813c-a4c1403f0e1f",
   "metadata": {},
   "outputs": [
    {
     "name": "stdout",
     "output_type": "stream",
     "text": [
      "              precision    recall  f1-score   support\n",
      "\n",
      "           0       0.73      0.55      0.63        60\n",
      "           1       0.49      0.68      0.57        38\n",
      "\n",
      "    accuracy                           0.60        98\n",
      "   macro avg       0.61      0.62      0.60        98\n",
      "weighted avg       0.64      0.60      0.61        98\n",
      "\n"
     ]
    }
   ],
   "source": [
    "from sklearn.metrics import classification_report\n",
    "\n",
    "print(classification_report(predict_label,predict['positive']))"
   ]
  },
  {
   "cell_type": "code",
   "execution_count": null,
   "id": "13f2ad52-2685-463c-8ef6-1657abe10f5e",
   "metadata": {},
   "outputs": [],
   "source": []
  }
 ],
 "metadata": {
  "kernelspec": {
   "display_name": "Python 3 (ipykernel)",
   "language": "python",
   "name": "python3"
  },
  "language_info": {
   "codemirror_mode": {
    "name": "ipython",
    "version": 3
   },
   "file_extension": ".py",
   "mimetype": "text/x-python",
   "name": "python",
   "nbconvert_exporter": "python",
   "pygments_lexer": "ipython3",
   "version": "3.9.7"
  },
  "widgets": {
   "application/vnd.jupyter.widget-state+json": {
    "state": {},
    "version_major": 2,
    "version_minor": 0
   }
  }
 },
 "nbformat": 4,
 "nbformat_minor": 5
}
