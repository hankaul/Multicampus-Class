{
 "cells": [
  {
   "cell_type": "code",
   "execution_count": 1,
   "id": "a382f580",
   "metadata": {},
   "outputs": [],
   "source": [
    "import pandas as pd"
   ]
  },
  {
   "cell_type": "markdown",
   "id": "42bd1a72",
   "metadata": {},
   "source": [
    "# 1. Series \n",
    "'1차원' 데이터 실수, 정수, 문자열 등"
   ]
  },
  {
   "cell_type": "code",
   "execution_count": 2,
   "id": "0f68510e",
   "metadata": {},
   "outputs": [
    {
     "data": {
      "text/plain": [
       "pandas.core.series.Series"
      ]
     },
     "execution_count": 2,
     "metadata": {},
     "output_type": "execute_result"
    }
   ],
   "source": [
    "# 객체\n",
    "pd.Series"
   ]
  },
  {
   "cell_type": "code",
   "execution_count": 4,
   "id": "a600044b",
   "metadata": {},
   "outputs": [],
   "source": [
    "# 단순 숫자 리스트 만들기\n",
    "Digits = [1, 2, 3]"
   ]
  },
  {
   "cell_type": "code",
   "execution_count": 5,
   "id": "63519919",
   "metadata": {},
   "outputs": [],
   "source": [
    "# Series로 변환\n",
    "Digits_Series = pd.Series(Digits)"
   ]
  },
  {
   "cell_type": "code",
   "execution_count": 6,
   "id": "253c0b50",
   "metadata": {},
   "outputs": [
    {
     "name": "stdout",
     "output_type": "stream",
     "text": [
      "List 출력: [1, 2, 3]\n",
      "Seires 출력:\n",
      " 0    1\n",
      "1    2\n",
      "2    3\n",
      "dtype: int64\n"
     ]
    }
   ],
   "source": [
    "print('List 출력:', Digits)\n",
    "print('Seires 출력:\\r\\n', Digits_Series)"
   ]
  },
  {
   "cell_type": "code",
   "execution_count": 7,
   "id": "8b20c950",
   "metadata": {},
   "outputs": [],
   "source": [
    "# 여러 타입이 혼용되는 리스트\n",
    "Digits = ['1', 2, 3]"
   ]
  },
  {
   "cell_type": "code",
   "execution_count": 8,
   "id": "b48d268c",
   "metadata": {},
   "outputs": [
    {
     "name": "stdout",
     "output_type": "stream",
     "text": [
      "['1', 2, 3]\n"
     ]
    }
   ],
   "source": [
    "print(Digits)"
   ]
  },
  {
   "cell_type": "code",
   "execution_count": 9,
   "id": "06f4d8f5",
   "metadata": {},
   "outputs": [],
   "source": [
    "Digits_Series = pd.Series(Digits)"
   ]
  },
  {
   "cell_type": "code",
   "execution_count": 10,
   "id": "2b48d8e2",
   "metadata": {},
   "outputs": [
    {
     "name": "stdout",
     "output_type": "stream",
     "text": [
      "0    1\n",
      "1    2\n",
      "2    3\n",
      "dtype: object\n"
     ]
    }
   ],
   "source": [
    "# 여러 타입이 혼용된 리스트의 출력, '1' 이라고 표시되지 않음\n",
    "# 주로 많이 나오는 실수들.\n",
    "\n",
    "# csv 파일 안에 data frame으로 자동으로 읽었을 때, 동일한 type으로 변수를 읽는 경우가 종종 발생\n",
    "print(Digits_Series)"
   ]
  },
  {
   "cell_type": "code",
   "execution_count": 11,
   "id": "c4510fda",
   "metadata": {},
   "outputs": [
    {
     "name": "stdout",
     "output_type": "stream",
     "text": [
      "<class 'str'>\n",
      "<class 'int'>\n",
      "<class 'int'>\n"
     ]
    }
   ],
   "source": [
    "print(type(Digits_Series[0]))\n",
    "print(type(Digits_Series[1]))\n",
    "print(type(Digits_Series[2]))"
   ]
  },
  {
   "cell_type": "markdown",
   "id": "6aa6975f",
   "metadata": {},
   "source": [
    "# 딕셔너리 데이터와 Series"
   ]
  },
  {
   "cell_type": "code",
   "execution_count": 1,
   "id": "d187308c",
   "metadata": {},
   "outputs": [],
   "source": [
    "dict_data = {'a':1,'b':2,'c':3}"
   ]
  },
  {
   "cell_type": "code",
   "execution_count": 2,
   "id": "1590b7c5",
   "metadata": {},
   "outputs": [
    {
     "data": {
      "text/plain": [
       "1"
      ]
     },
     "execution_count": 2,
     "metadata": {},
     "output_type": "execute_result"
    }
   ],
   "source": [
    "dict_data['a']"
   ]
  },
  {
   "cell_type": "code",
   "execution_count": 3,
   "id": "a23557ff",
   "metadata": {},
   "outputs": [
    {
     "ename": "NameError",
     "evalue": "name 'a' is not defined",
     "output_type": "error",
     "traceback": [
      "\u001b[1;31m---------------------------------------------------------------------------\u001b[0m",
      "\u001b[1;31mNameError\u001b[0m                                 Traceback (most recent call last)",
      "\u001b[1;32m~\\AppData\\Local\\Temp/ipykernel_17456/2184654635.py\u001b[0m in \u001b[0;36m<module>\u001b[1;34m\u001b[0m\n\u001b[0;32m      1\u001b[0m \u001b[1;31m# Error 발생\u001b[0m\u001b[1;33m\u001b[0m\u001b[1;33m\u001b[0m\u001b[0m\n\u001b[1;32m----> 2\u001b[1;33m \u001b[0mdict_data\u001b[0m\u001b[1;33m[\u001b[0m\u001b[0ma\u001b[0m\u001b[1;33m]\u001b[0m\u001b[1;33m\u001b[0m\u001b[1;33m\u001b[0m\u001b[0m\n\u001b[0m",
      "\u001b[1;31mNameError\u001b[0m: name 'a' is not defined"
     ]
    }
   ],
   "source": [
    "# Error 발생\n",
    "dict_data[a]"
   ]
  },
  {
   "cell_type": "code",
   "execution_count": 15,
   "id": "6c90f93d",
   "metadata": {},
   "outputs": [],
   "source": [
    "# dictionary 타입의 데이터로부터 series 객체 생성\n",
    "series_data = pd.Series(dict_data)"
   ]
  },
  {
   "cell_type": "code",
   "execution_count": 16,
   "id": "7b4d359d",
   "metadata": {},
   "outputs": [
    {
     "name": "stdout",
     "output_type": "stream",
     "text": [
      "a    1\n",
      "b    2\n",
      "c    3\n",
      "dtype: int64\n"
     ]
    }
   ],
   "source": [
    "print(series_data)"
   ]
  },
  {
   "cell_type": "code",
   "execution_count": 17,
   "id": "50a3e3c5",
   "metadata": {},
   "outputs": [
    {
     "name": "stdout",
     "output_type": "stream",
     "text": [
      "Index(['a', 'b', 'c'], dtype='object')\n",
      "[1 2 3]\n"
     ]
    }
   ],
   "source": [
    "print(series_data.index)\n",
    "print(series_data.values)"
   ]
  },
  {
   "cell_type": "code",
   "execution_count": 18,
   "id": "02d92485",
   "metadata": {},
   "outputs": [
    {
     "data": {
      "text/plain": [
       "Index(['a', 'b', 'c'], dtype='object')"
      ]
     },
     "execution_count": 18,
     "metadata": {},
     "output_type": "execute_result"
    }
   ],
   "source": [
    "series_data.index"
   ]
  },
  {
   "cell_type": "code",
   "execution_count": 19,
   "id": "e0787628",
   "metadata": {},
   "outputs": [
    {
     "data": {
      "text/plain": [
       "array([1, 2, 3], dtype=int64)"
      ]
     },
     "execution_count": 19,
     "metadata": {},
     "output_type": "execute_result"
    }
   ],
   "source": [
    "series_data.values"
   ]
  },
  {
   "cell_type": "code",
   "execution_count": 20,
   "id": "f1f98d24",
   "metadata": {},
   "outputs": [],
   "source": [
    "series_data1 = pd.Series([1,2,3], index=['a', 'b', 'c'])"
   ]
  },
  {
   "cell_type": "code",
   "execution_count": 21,
   "id": "45dc916d",
   "metadata": {},
   "outputs": [
    {
     "name": "stdout",
     "output_type": "stream",
     "text": [
      "a    1\n",
      "b    2\n",
      "c    3\n",
      "dtype: int64\n"
     ]
    }
   ],
   "source": [
    "print(series_data)"
   ]
  },
  {
   "cell_type": "code",
   "execution_count": 22,
   "id": "2bf43fe5",
   "metadata": {},
   "outputs": [
    {
     "name": "stdout",
     "output_type": "stream",
     "text": [
      "a    1\n",
      "b    2\n",
      "c    3\n",
      "dtype: int64\n"
     ]
    }
   ],
   "source": [
    "print(series_data1)"
   ]
  },
  {
   "cell_type": "markdown",
   "id": "cc5ef86d",
   "metadata": {},
   "source": [
    "# Series, 1차원 데이터에서 분석 사례"
   ]
  },
  {
   "cell_type": "markdown",
   "id": "3451f6d2",
   "metadata": {},
   "source": [
    "# 1. Categorical data (범주형 변수)"
   ]
  },
  {
   "cell_type": "code",
   "execution_count": 23,
   "id": "1aa7f1ef",
   "metadata": {},
   "outputs": [],
   "source": [
    "import random"
   ]
  },
  {
   "cell_type": "code",
   "execution_count": 24,
   "id": "5c2ee530",
   "metadata": {},
   "outputs": [
    {
     "data": {
      "text/plain": [
       "<bound method Random.sample of <random.Random object at 0x000001D9D5EAB4A0>>"
      ]
     },
     "execution_count": 24,
     "metadata": {},
     "output_type": "execute_result"
    }
   ],
   "source": [
    "random.sample"
   ]
  },
  {
   "cell_type": "code",
   "execution_count": 25,
   "id": "bbc3188f",
   "metadata": {},
   "outputs": [
    {
     "name": "stdout",
     "output_type": "stream",
     "text": [
      "Help on method sample in module random:\n",
      "\n",
      "sample(population, k) method of random.Random instance\n",
      "    Chooses k unique random elements from a population sequence or set.\n",
      "    \n",
      "    Returns a new list containing elements from the population while\n",
      "    leaving the original population unchanged.  The resulting list is\n",
      "    in selection order so that all sub-slices will also be valid random\n",
      "    samples.  This allows raffle winners (the sample) to be partitioned\n",
      "    into grand prize and second place winners (the subslices).\n",
      "    \n",
      "    Members of the population need not be hashable or unique.  If the\n",
      "    population contains repeats, then each occurrence is a possible\n",
      "    selection in the sample.\n",
      "    \n",
      "    To choose a sample in a range of integers, use range as an argument.\n",
      "    This is especially fast and space efficient for sampling from a\n",
      "    large population:   sample(range(10000000), 60)\n",
      "\n"
     ]
    }
   ],
   "source": [
    "help(random.sample)"
   ]
  },
  {
   "cell_type": "markdown",
   "id": "3c27f5fa",
   "metadata": {},
   "source": [
    "https://www.google.com/search?q=python+random"
   ]
  },
  {
   "cell_type": "code",
   "execution_count": 26,
   "id": "bf866aab",
   "metadata": {},
   "outputs": [
    {
     "data": {
      "text/plain": [
       "['Male', 'Female']"
      ]
     },
     "execution_count": 26,
     "metadata": {},
     "output_type": "execute_result"
    }
   ],
   "source": [
    "random.sample( ['Female', 'Male'], 2)"
   ]
  },
  {
   "cell_type": "code",
   "execution_count": 27,
   "id": "7b5edc70",
   "metadata": {},
   "outputs": [
    {
     "ename": "ValueError",
     "evalue": "Sample larger than population or is negative",
     "output_type": "error",
     "traceback": [
      "\u001b[1;31m---------------------------------------------------------------------------\u001b[0m",
      "\u001b[1;31mValueError\u001b[0m                                Traceback (most recent call last)",
      "\u001b[1;32m~\\AppData\\Local\\Temp/ipykernel_10472/2473635311.py\u001b[0m in \u001b[0;36m<module>\u001b[1;34m\u001b[0m\n\u001b[0;32m      1\u001b[0m \u001b[1;31m# 주어진 list 이상의 선택 (중복해서 선택) 하는게 불가능.\u001b[0m\u001b[1;33m\u001b[0m\u001b[1;33m\u001b[0m\u001b[1;33m\u001b[0m\u001b[0m\n\u001b[1;32m----> 2\u001b[1;33m \u001b[0mrandom\u001b[0m\u001b[1;33m.\u001b[0m\u001b[0msample\u001b[0m\u001b[1;33m(\u001b[0m \u001b[1;33m[\u001b[0m\u001b[1;34m'Female'\u001b[0m\u001b[1;33m,\u001b[0m \u001b[1;34m'Male'\u001b[0m\u001b[1;33m]\u001b[0m\u001b[1;33m,\u001b[0m \u001b[1;36m3\u001b[0m\u001b[1;33m)\u001b[0m\u001b[1;33m\u001b[0m\u001b[1;33m\u001b[0m\u001b[0m\n\u001b[0m",
      "\u001b[1;32mc:\\users\\sosal\\appdata\\local\\programs\\python\\python38\\lib\\random.py\u001b[0m in \u001b[0;36msample\u001b[1;34m(self, population, k)\u001b[0m\n\u001b[0;32m    361\u001b[0m         \u001b[0mn\u001b[0m \u001b[1;33m=\u001b[0m \u001b[0mlen\u001b[0m\u001b[1;33m(\u001b[0m\u001b[0mpopulation\u001b[0m\u001b[1;33m)\u001b[0m\u001b[1;33m\u001b[0m\u001b[1;33m\u001b[0m\u001b[0m\n\u001b[0;32m    362\u001b[0m         \u001b[1;32mif\u001b[0m \u001b[1;32mnot\u001b[0m \u001b[1;36m0\u001b[0m \u001b[1;33m<=\u001b[0m \u001b[0mk\u001b[0m \u001b[1;33m<=\u001b[0m \u001b[0mn\u001b[0m\u001b[1;33m:\u001b[0m\u001b[1;33m\u001b[0m\u001b[1;33m\u001b[0m\u001b[0m\n\u001b[1;32m--> 363\u001b[1;33m             \u001b[1;32mraise\u001b[0m \u001b[0mValueError\u001b[0m\u001b[1;33m(\u001b[0m\u001b[1;34m\"Sample larger than population or is negative\"\u001b[0m\u001b[1;33m)\u001b[0m\u001b[1;33m\u001b[0m\u001b[1;33m\u001b[0m\u001b[0m\n\u001b[0m\u001b[0;32m    364\u001b[0m         \u001b[0mresult\u001b[0m \u001b[1;33m=\u001b[0m \u001b[1;33m[\u001b[0m\u001b[1;32mNone\u001b[0m\u001b[1;33m]\u001b[0m \u001b[1;33m*\u001b[0m \u001b[0mk\u001b[0m\u001b[1;33m\u001b[0m\u001b[1;33m\u001b[0m\u001b[0m\n\u001b[0;32m    365\u001b[0m         \u001b[0msetsize\u001b[0m \u001b[1;33m=\u001b[0m \u001b[1;36m21\u001b[0m        \u001b[1;31m# size of a small set minus size of an empty list\u001b[0m\u001b[1;33m\u001b[0m\u001b[1;33m\u001b[0m\u001b[0m\n",
      "\u001b[1;31mValueError\u001b[0m: Sample larger than population or is negative"
     ]
    }
   ],
   "source": [
    "# 주어진 list 이상의 선택 (중복해서 선택) 하는게 불가능.\n",
    "random.sample( ['Female', 'Male'], 3)"
   ]
  },
  {
   "cell_type": "code",
   "execution_count": 28,
   "id": "399fe383",
   "metadata": {},
   "outputs": [],
   "source": [
    "# 구글링: python random sample duplicate"
   ]
  },
  {
   "cell_type": "markdown",
   "id": "ec3dac00",
   "metadata": {},
   "source": [
    "https://www.google.com/search?q=python+random+sample+duplicate"
   ]
  },
  {
   "cell_type": "code",
   "execution_count": 29,
   "id": "72ef143c",
   "metadata": {
    "scrolled": true
   },
   "outputs": [
    {
     "name": "stdout",
     "output_type": "stream",
     "text": [
      "['Female', 'Male', 'Male', 'Male', 'Female', 'Male', 'Female', 'Female', 'Female', 'Male', 'Female', 'Male', 'Male', 'Male', 'Male', 'Male', 'Female', 'Female', 'Male', 'Male', 'Female', 'Male', 'Male', 'Female', 'Male', 'Female', 'Male', 'Female', 'Male', 'Female']\n"
     ]
    }
   ],
   "source": [
    "# random choice는 duplicates 가능\n",
    "Gender = random.choices(['Female', 'Male'], k=30)\n",
    "print(Gender)"
   ]
  },
  {
   "cell_type": "code",
   "execution_count": 30,
   "id": "1252cad0",
   "metadata": {},
   "outputs": [
    {
     "name": "stdout",
     "output_type": "stream",
     "text": [
      "0     Female\n",
      "1       Male\n",
      "2       Male\n",
      "3       Male\n",
      "4     Female\n",
      "5       Male\n",
      "6     Female\n",
      "7     Female\n",
      "8     Female\n",
      "9       Male\n",
      "10    Female\n",
      "11      Male\n",
      "12      Male\n",
      "13      Male\n",
      "14      Male\n",
      "15      Male\n",
      "16    Female\n",
      "17    Female\n",
      "18      Male\n",
      "19      Male\n",
      "20    Female\n",
      "21      Male\n",
      "22      Male\n",
      "23    Female\n",
      "24      Male\n",
      "25    Female\n",
      "26      Male\n",
      "27    Female\n",
      "28      Male\n",
      "29    Female\n",
      "dtype: object\n"
     ]
    }
   ],
   "source": [
    "# Series로 변환 후 출력\n",
    "Gender_SR = pd.Series(Gender)\n",
    "print(Gender_SR)"
   ]
  },
  {
   "cell_type": "code",
   "execution_count": 31,
   "id": "950d73a7",
   "metadata": {},
   "outputs": [
    {
     "data": {
      "text/plain": [
       "Male      17\n",
       "Female    13\n",
       "dtype: int64"
      ]
     },
     "execution_count": 31,
     "metadata": {},
     "output_type": "execute_result"
    }
   ],
   "source": [
    "# 명목형으로서 가능\n",
    "Gender_SR.value_counts()"
   ]
  },
  {
   "cell_type": "markdown",
   "id": "a251486b",
   "metadata": {},
   "source": [
    "# 범주형 변수는 주로 0 / 1 등으로 coding 되어있음"
   ]
  },
  {
   "cell_type": "code",
   "execution_count": 61,
   "id": "3335ce87",
   "metadata": {},
   "outputs": [
    {
     "name": "stdout",
     "output_type": "stream",
     "text": [
      "[0, 1, 1, 0, 1, 0, 1, 1, 1, 0, 1, 1, 1, 1, 0, 1, 1, 1, 1, 1, 0, 1, 1, 1, 1, 1, 0, 0, 0, 0]\n"
     ]
    }
   ],
   "source": [
    "Gender = random.choices([0, 1], k=30)\n",
    "print(Gender)"
   ]
  },
  {
   "cell_type": "code",
   "execution_count": 64,
   "id": "b6855647",
   "metadata": {},
   "outputs": [],
   "source": [
    "Gender_SR = pd.Series(Gender)"
   ]
  },
  {
   "cell_type": "code",
   "execution_count": 67,
   "id": "3d8d53a5",
   "metadata": {},
   "outputs": [
    {
     "data": {
      "text/plain": [
       "count    30.000000\n",
       "mean      0.666667\n",
       "std       0.479463\n",
       "min       0.000000\n",
       "25%       0.000000\n",
       "50%       1.000000\n",
       "75%       1.000000\n",
       "max       1.000000\n",
       "dtype: float64"
      ]
     },
     "execution_count": 67,
     "metadata": {},
     "output_type": "execute_result"
    }
   ],
   "source": [
    "Gender_SR.describe()"
   ]
  },
  {
   "cell_type": "code",
   "execution_count": 73,
   "id": "c709b84a",
   "metadata": {},
   "outputs": [],
   "source": [
    "Gender_SR = Gender_SR.astype(\"category\")"
   ]
  },
  {
   "cell_type": "code",
   "execution_count": 74,
   "id": "3ebae456",
   "metadata": {},
   "outputs": [
    {
     "data": {
      "text/plain": [
       "count     30\n",
       "unique     2\n",
       "top        1\n",
       "freq      20\n",
       "dtype: int64"
      ]
     },
     "execution_count": 74,
     "metadata": {},
     "output_type": "execute_result"
    }
   ],
   "source": [
    "Gender_SR.describe()"
   ]
  },
  {
   "cell_type": "markdown",
   "id": "b2785046",
   "metadata": {},
   "source": [
    "# Categorical data 범주형 변수 시각화"
   ]
  },
  {
   "cell_type": "code",
   "execution_count": 32,
   "id": "9d747452",
   "metadata": {},
   "outputs": [],
   "source": [
    "import seaborn"
   ]
  },
  {
   "cell_type": "code",
   "execution_count": 33,
   "id": "b30219ef",
   "metadata": {},
   "outputs": [],
   "source": [
    "Gender_SR = pd.Series(\n",
    "    random.choices(['Female', 'Male', 'Unknown'], k=50)\n",
    ")"
   ]
  },
  {
   "cell_type": "code",
   "execution_count": 34,
   "id": "372499e8",
   "metadata": {},
   "outputs": [],
   "source": [
    "CountData = Gender_SR.value_counts()"
   ]
  },
  {
   "cell_type": "code",
   "execution_count": 35,
   "id": "b9ce92b1",
   "metadata": {},
   "outputs": [
    {
     "data": {
      "text/plain": [
       "Index(['Male', 'Unknown', 'Female'], dtype='object')"
      ]
     },
     "execution_count": 35,
     "metadata": {},
     "output_type": "execute_result"
    }
   ],
   "source": [
    "CountData.index"
   ]
  },
  {
   "cell_type": "code",
   "execution_count": 36,
   "id": "3aaedc39",
   "metadata": {},
   "outputs": [
    {
     "data": {
      "text/plain": [
       "array([21, 17, 12], dtype=int64)"
      ]
     },
     "execution_count": 36,
     "metadata": {},
     "output_type": "execute_result"
    }
   ],
   "source": [
    "CountData.values"
   ]
  },
  {
   "cell_type": "code",
   "execution_count": 37,
   "id": "f5d6bca5",
   "metadata": {},
   "outputs": [
    {
     "data": {
      "text/plain": [
       "<AxesSubplot:>"
      ]
     },
     "execution_count": 37,
     "metadata": {},
     "output_type": "execute_result"
    },
    {
     "data": {
      "image/png": "[encoded data removed]",
      "text/plain": [
       "<Figure size 432x288 with 1 Axes>"
      ]
     },
     "metadata": {
      "needs_background": "light"
     },
     "output_type": "display_data"
    }
   ],
   "source": [
    "seaborn.barplot(x=CountData.index, y=CountData.values)"
   ]
  },
  {
   "cell_type": "code",
   "execution_count": 38,
   "id": "b14dc8ec",
   "metadata": {},
   "outputs": [
    {
     "data": {
      "text/plain": [
       "Male       21\n",
       "Unknown    17\n",
       "Female     12\n",
       "dtype: int64"
      ]
     },
     "execution_count": 38,
     "metadata": {},
     "output_type": "execute_result"
    }
   ],
   "source": [
    "Gender_SR.value_counts()"
   ]
  },
  {
   "cell_type": "markdown",
   "id": "11726c25",
   "metadata": {},
   "source": [
    "## Y축 Proportion,으로 normalize"
   ]
  },
  {
   "cell_type": "code",
   "execution_count": 39,
   "id": "a09d9060",
   "metadata": {},
   "outputs": [
    {
     "data": {
      "text/plain": [
       "Male       0.42\n",
       "Unknown    0.34\n",
       "Female     0.24\n",
       "dtype: float64"
      ]
     },
     "execution_count": 39,
     "metadata": {},
     "output_type": "execute_result"
    }
   ],
   "source": [
    "Gender_SR.value_counts(normalize=True)"
   ]
  },
  {
   "cell_type": "code",
   "execution_count": 40,
   "id": "d665330d",
   "metadata": {},
   "outputs": [],
   "source": [
    "Count_normalized = Gender_SR.value_counts(normalize=True)"
   ]
  },
  {
   "cell_type": "code",
   "execution_count": 41,
   "id": "f0ea90ec",
   "metadata": {},
   "outputs": [
    {
     "data": {
      "text/plain": [
       "Index(['Male', 'Unknown', 'Female'], dtype='object')"
      ]
     },
     "execution_count": 41,
     "metadata": {},
     "output_type": "execute_result"
    }
   ],
   "source": [
    "Count_normalized.index"
   ]
  },
  {
   "cell_type": "code",
   "execution_count": 42,
   "id": "c63c217a",
   "metadata": {},
   "outputs": [
    {
     "data": {
      "text/plain": [
       "<AxesSubplot:>"
      ]
     },
     "execution_count": 42,
     "metadata": {},
     "output_type": "execute_result"
    },
    {
     "data": {
      "image/png": "[encoded data removed]",
      "text/plain": [
       "<Figure size 432x288 with 1 Axes>"
      ]
     },
     "metadata": {
      "needs_background": "light"
     },
     "output_type": "display_data"
    }
   ],
   "source": [
    "seaborn.barplot(x=Count_normalized.index, y=Count_normalized.values)"
   ]
  },
  {
   "cell_type": "code",
   "execution_count": 84,
   "id": "660f85e4",
   "metadata": {},
   "outputs": [],
   "source": [
    "# Category type의 경우 자동으로 count plot 가능"
   ]
  },
  {
   "cell_type": "code",
   "execution_count": 75,
   "id": "a04b35e2",
   "metadata": {},
   "outputs": [],
   "source": [
    "Gender = random.choices([0, 1], k=30)\n",
    "Gender_SR = pd.Series(Gender)\n",
    "Gender_SR = Gender_SR.astype(\"category\")"
   ]
  },
  {
   "cell_type": "code",
   "execution_count": 83,
   "id": "b7e5e861",
   "metadata": {},
   "outputs": [
    {
     "data": {
      "text/plain": [
       "<AxesSubplot:ylabel='count'>"
      ]
     },
     "execution_count": 83,
     "metadata": {},
     "output_type": "execute_result"
    },
    {
     "data": {
      "image/png": "[encoded data removed]",
      "text/plain": [
       "<Figure size 432x288 with 1 Axes>"
      ]
     },
     "metadata": {
      "needs_background": "light"
     },
     "output_type": "display_data"
    }
   ],
   "source": [
    "seaborn.countplot(data=Gender_SR, x=Gender_SR.index)"
   ]
  },
  {
   "cell_type": "markdown",
   "id": "8b78b95a",
   "metadata": {},
   "source": [
    "# 2. 연속형변수 및 시각화"
   ]
  },
  {
   "cell_type": "code",
   "execution_count": 43,
   "id": "563db737",
   "metadata": {},
   "outputs": [],
   "source": [
    "import numpy as np"
   ]
  },
  {
   "cell_type": "code",
   "execution_count": 44,
   "id": "9dca2bd8",
   "metadata": {},
   "outputs": [
    {
     "name": "stdout",
     "output_type": "stream",
     "text": [
      "Help on built-in function normal:\n",
      "\n",
      "normal(...) method of numpy.random.mtrand.RandomState instance\n",
      "    normal(loc=0.0, scale=1.0, size=None)\n",
      "    \n",
      "    Draw random samples from a normal (Gaussian) distribution.\n",
      "    \n",
      "    The probability density function of the normal distribution, first\n",
      "    derived by De Moivre and 200 years later by both Gauss and Laplace\n",
      "    independently [2]_, is often called the bell curve because of\n",
      "    its characteristic shape (see the example below).\n",
      "    \n",
      "    The normal distributions occurs often in nature.  For example, it\n",
      "    describes the commonly occurring distribution of samples influenced\n",
      "    by a large number of tiny, random disturbances, each with its own\n",
      "    unique distribution [2]_.\n",
      "    \n",
      "    .. note::\n",
      "        New code should use the ``normal`` method of a ``default_rng()``\n",
      "        instance instead; please see the :ref:`random-quick-start`.\n",
      "    \n",
      "    Parameters\n",
      "    ----------\n",
      "    loc : float or array_like of floats\n",
      "        Mean (\"centre\") of the distribution.\n",
      "    scale : float or array_like of floats\n",
      "        Standard deviation (spread or \"width\") of the distribution. Must be\n",
      "        non-negative.\n",
      "    size : int or tuple of ints, optional\n",
      "        Output shape.  If the given shape is, e.g., ``(m, n, k)``, then\n",
      "        ``m * n * k`` samples are drawn.  If size is ``None`` (default),\n",
      "        a single value is returned if ``loc`` and ``scale`` are both scalars.\n",
      "        Otherwise, ``np.broadcast(loc, scale).size`` samples are drawn.\n",
      "    \n",
      "    Returns\n",
      "    -------\n",
      "    out : ndarray or scalar\n",
      "        Drawn samples from the parameterized normal distribution.\n",
      "    \n",
      "    See Also\n",
      "    --------\n",
      "    scipy.stats.norm : probability density function, distribution or\n",
      "        cumulative density function, etc.\n",
      "    Generator.normal: which should be used for new code.\n",
      "    \n",
      "    Notes\n",
      "    -----\n",
      "    The probability density for the Gaussian distribution is\n",
      "    \n",
      "    .. math:: p(x) = \\frac{1}{\\sqrt{ 2 \\pi \\sigma^2 }}\n",
      "                     e^{ - \\frac{ (x - \\mu)^2 } {2 \\sigma^2} },\n",
      "    \n",
      "    where :math:`\\mu` is the mean and :math:`\\sigma` the standard\n",
      "    deviation. The square of the standard deviation, :math:`\\sigma^2`,\n",
      "    is called the variance.\n",
      "    \n",
      "    The function has its peak at the mean, and its \"spread\" increases with\n",
      "    the standard deviation (the function reaches 0.607 times its maximum at\n",
      "    :math:`x + \\sigma` and :math:`x - \\sigma` [2]_).  This implies that\n",
      "    normal is more likely to return samples lying close to the mean, rather\n",
      "    than those far away.\n",
      "    \n",
      "    References\n",
      "    ----------\n",
      "    .. [1] Wikipedia, \"Normal distribution\",\n",
      "           https://en.wikipedia.org/wiki/Normal_distribution\n",
      "    .. [2] P. R. Peebles Jr., \"Central Limit Theorem\" in \"Probability,\n",
      "           Random Variables and Random Signal Principles\", 4th ed., 2001,\n",
      "           pp. 51, 51, 125.\n",
      "    \n",
      "    Examples\n",
      "    --------\n",
      "    Draw samples from the distribution:\n",
      "    \n",
      "    >>> mu, sigma = 0, 0.1 # mean and standard deviation\n",
      "    >>> s = np.random.normal(mu, sigma, 1000)\n",
      "    \n",
      "    Verify the mean and the variance:\n",
      "    \n",
      "    >>> abs(mu - np.mean(s))\n",
      "    0.0  # may vary\n",
      "    \n",
      "    >>> abs(sigma - np.std(s, ddof=1))\n",
      "    0.1  # may vary\n",
      "    \n",
      "    Display the histogram of the samples, along with\n",
      "    the probability density function:\n",
      "    \n",
      "    >>> import matplotlib.pyplot as plt\n",
      "    >>> count, bins, ignored = plt.hist(s, 30, density=True)\n",
      "    >>> plt.plot(bins, 1/(sigma * np.sqrt(2 * np.pi)) *\n",
      "    ...                np.exp( - (bins - mu)**2 / (2 * sigma**2) ),\n",
      "    ...          linewidth=2, color='r')\n",
      "    >>> plt.show()\n",
      "    \n",
      "    Two-by-four array of samples from N(3, 6.25):\n",
      "    \n",
      "    >>> np.random.normal(3, 2.5, size=(2, 4))\n",
      "    array([[-4.49401501,  4.00950034, -1.81814867,  7.29718677],   # random\n",
      "           [ 0.39924804,  4.68456316,  4.99394529,  4.84057254]])  # random\n",
      "\n"
     ]
    }
   ],
   "source": [
    "help(np.random.normal)"
   ]
  },
  {
   "cell_type": "markdown",
   "id": "10da4bbb",
   "metadata": {},
   "source": [
    "https://www.google.com/search?q=python+generate+normal+distribution+data"
   ]
  },
  {
   "cell_type": "code",
   "execution_count": 45,
   "id": "31160bb7",
   "metadata": {},
   "outputs": [],
   "source": [
    "Temperature = np.random.normal(30,3,100)"
   ]
  },
  {
   "cell_type": "code",
   "execution_count": 46,
   "id": "7f43a291",
   "metadata": {},
   "outputs": [
    {
     "name": "stdout",
     "output_type": "stream",
     "text": [
      "[27.59186898 27.17050948 29.37541493 30.82973128 31.91071012 29.13036313\n",
      " 30.52243787 29.94302195 30.2518401  28.70222535 27.90563871 25.56830686\n",
      " 29.16037487 29.05391993 30.78839775 31.00631449 31.42753584 30.83949777\n",
      " 29.25830326 30.02526526 30.07209563 26.60351604 32.91564843 28.63030289\n",
      " 31.16468515 36.86400578 29.45592625 26.63713293 30.54142496 33.67775777\n",
      " 34.58817281 31.59245777 30.81348606 32.23041489 31.86087177 30.96799149\n",
      " 31.23419545 25.3172901  37.76787917 27.65610748 29.08167303 27.81042948\n",
      " 34.61764598 28.36796429 29.49830681 27.22373135 34.05211847 28.1779109\n",
      " 39.5580962  35.9261171  25.72502096 33.29084644 33.21177618 33.19241408\n",
      " 31.40679333 26.93109324 33.53693333 30.9600771  32.40731694 28.65489061\n",
      " 28.02507353 26.98540334 28.5294069  27.67581889 32.82665015 26.58722752\n",
      " 31.73787054 32.25811488 36.21490187 29.10027816 27.16568507 28.13305083\n",
      " 28.92779285 28.6831173  30.27240477 27.91263463 27.26088882 25.19207203\n",
      " 27.58474062 32.07071108 31.69618917 30.71666606 26.59469941 35.56021102\n",
      " 31.92769363 33.47120187 30.28773592 30.59867255 34.19326146 27.86880604\n",
      " 33.28537605 32.33967358 37.15935861 30.07079403 30.01651097 28.44080775\n",
      " 32.15527101 35.34603152 30.95100689 32.70725133]\n"
     ]
    }
   ],
   "source": [
    "print(Temperature)"
   ]
  },
  {
   "cell_type": "code",
   "execution_count": 47,
   "id": "90df81c2",
   "metadata": {},
   "outputs": [
    {
     "data": {
      "text/plain": [
       "0     27.591869\n",
       "1     27.170509\n",
       "2     29.375415\n",
       "3     30.829731\n",
       "4     31.910710\n",
       "        ...    \n",
       "95    28.440808\n",
       "96    32.155271\n",
       "97    35.346032\n",
       "98    30.951007\n",
       "99    32.707251\n",
       "Length: 100, dtype: float64"
      ]
     },
     "execution_count": 47,
     "metadata": {},
     "output_type": "execute_result"
    }
   ],
   "source": [
    "pd.Series(Temperature)"
   ]
  },
  {
   "cell_type": "code",
   "execution_count": 48,
   "id": "7549fcdd",
   "metadata": {},
   "outputs": [],
   "source": [
    "Temperature_SR = pd.Series(Temperature)"
   ]
  },
  {
   "cell_type": "code",
   "execution_count": 49,
   "id": "44c27c00",
   "metadata": {},
   "outputs": [
    {
     "data": {
      "text/plain": [
       "48"
      ]
     },
     "execution_count": 49,
     "metadata": {},
     "output_type": "execute_result"
    }
   ],
   "source": [
    "# 최대값 index 출력\n",
    "Temperature_SR.argmax()"
   ]
  },
  {
   "cell_type": "code",
   "execution_count": 50,
   "id": "45059186",
   "metadata": {},
   "outputs": [
    {
     "data": {
      "text/plain": [
       "39.55809620014093"
      ]
     },
     "execution_count": 50,
     "metadata": {},
     "output_type": "execute_result"
    }
   ],
   "source": [
    "# 최대값 출력\n",
    "Temperature_SR[Temperature_SR.argmax()]"
   ]
  },
  {
   "cell_type": "code",
   "execution_count": 51,
   "id": "ee8f6b5b",
   "metadata": {},
   "outputs": [
    {
     "data": {
      "text/plain": [
       "77"
      ]
     },
     "execution_count": 51,
     "metadata": {},
     "output_type": "execute_result"
    }
   ],
   "source": [
    "# 최소값 index 출력\n",
    "Temperature_SR.argmin()"
   ]
  },
  {
   "cell_type": "code",
   "execution_count": 52,
   "id": "746c70f4",
   "metadata": {},
   "outputs": [
    {
     "data": {
      "text/plain": [
       "25.192072030316847"
      ]
     },
     "execution_count": 52,
     "metadata": {},
     "output_type": "execute_result"
    }
   ],
   "source": [
    "# 최소값 출력\n",
    "Temperature_SR[Temperature_SR.argmin()]"
   ]
  },
  {
   "cell_type": "code",
   "execution_count": 53,
   "id": "2951b65b",
   "metadata": {},
   "outputs": [
    {
     "data": {
      "text/plain": [
       "0     77\n",
       "1     37\n",
       "2     11\n",
       "3     50\n",
       "4     65\n",
       "      ..\n",
       "95    68\n",
       "96    25\n",
       "97    92\n",
       "98    38\n",
       "99    48\n",
       "Length: 100, dtype: int64"
      ]
     },
     "execution_count": 53,
     "metadata": {},
     "output_type": "execute_result"
    }
   ],
   "source": [
    "Temperature_SR.argsort()"
   ]
  },
  {
   "cell_type": "markdown",
   "id": "6f41e620",
   "metadata": {},
   "source": [
    "Temperature_SR. 탭탭!"
   ]
  },
  {
   "cell_type": "code",
   "execution_count": 54,
   "id": "df5b59ff",
   "metadata": {},
   "outputs": [
    {
     "data": {
      "text/plain": [
       "77    25.192072\n",
       "37    25.317290\n",
       "11    25.568307\n",
       "50    25.725021\n",
       "65    26.587228\n",
       "        ...    \n",
       "68    36.214902\n",
       "25    36.864006\n",
       "92    37.159359\n",
       "38    37.767879\n",
       "48    39.558096\n",
       "Length: 100, dtype: float64"
      ]
     },
     "execution_count": 54,
     "metadata": {},
     "output_type": "execute_result"
    }
   ],
   "source": [
    "# 데이터 정렬\n",
    "Temperature_SR[Temperature_SR.argsort()]"
   ]
  },
  {
   "cell_type": "code",
   "execution_count": 55,
   "id": "5e8935bf",
   "metadata": {},
   "outputs": [
    {
     "data": {
      "text/plain": [
       "<AxesSubplot:>"
      ]
     },
     "execution_count": 55,
     "metadata": {},
     "output_type": "execute_result"
    },
    {
     "data": {
      "image/png": "[encoded data removed]",
      "text/plain": [
       "<Figure size 432x288 with 1 Axes>"
      ]
     },
     "metadata": {
      "needs_background": "light"
     },
     "output_type": "display_data"
    }
   ],
   "source": [
    "# index가 x축으로 보낸 후, Line plot\n",
    "# => 아무런 정보가 없는 쓰레기 plot\n",
    "Temperature_SR.plot()"
   ]
  },
  {
   "cell_type": "code",
   "execution_count": 56,
   "id": "ba86a503",
   "metadata": {},
   "outputs": [
    {
     "data": {
      "text/plain": [
       "<AxesSubplot:ylabel='Density'>"
      ]
     },
     "execution_count": 56,
     "metadata": {},
     "output_type": "execute_result"
    },
    {
     "data": {
      "image/png": "[encoded data removed]",
      "text/plain": [
       "<Figure size 432x288 with 1 Axes>"
      ]
     },
     "metadata": {
      "needs_background": "light"
     },
     "output_type": "display_data"
    }
   ],
   "source": [
    "# Density plot\n",
    "Temperature_SR.plot.density()"
   ]
  },
  {
   "cell_type": "code",
   "execution_count": 58,
   "id": "c99c224f",
   "metadata": {},
   "outputs": [
    {
     "data": {
      "text/plain": [
       "30.53215259259658"
      ]
     },
     "execution_count": 58,
     "metadata": {},
     "output_type": "execute_result"
    }
   ],
   "source": [
    "# 평균\n",
    "Temperature_SR.mean()"
   ]
  },
  {
   "cell_type": "code",
   "execution_count": 60,
   "id": "a72684e1",
   "metadata": {},
   "outputs": [
    {
     "data": {
      "text/plain": [
       "2.932037388990244"
      ]
     },
     "execution_count": 60,
     "metadata": {},
     "output_type": "execute_result"
    }
   ],
   "source": [
    "# 표준편차\n",
    "Temperature_SR.std()"
   ]
  }
 ],
 "metadata": {
  "kernelspec": {
   "display_name": "Python 3 (ipykernel)",
   "language": "python",
   "name": "python3"
  },
  "language_info": {
   "codemirror_mode": {
    "name": "ipython",
    "version": 3
   },
   "file_extension": ".py",
   "mimetype": "text/x-python",
   "name": "python",
   "nbconvert_exporter": "python",
   "pygments_lexer": "ipython3",
   "version": "3.9.7"
  },
  "widgets": {
   "application/vnd.jupyter.widget-state+json": {
    "state": {},
    "version_major": 2,
    "version_minor": 0
   }
  }
 },
 "nbformat": 4,
 "nbformat_minor": 5
}
