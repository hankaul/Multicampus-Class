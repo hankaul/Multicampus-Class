{
 "cells": [
  {
   "cell_type": "code",
   "execution_count": 1,
   "id": "52eda7c1",
   "metadata": {},
   "outputs": [],
   "source": [
    "from flask import Flask\n",
    "from flask import request\n",
    "app = Flask(__name__)\n",
    "\n",
    "@app.route(\"/\", methods=['GET','POST'])\n",
    "def hello_world():\n",
    "    \n",
    "    return \"<p>Hello world</p>\" \n",
    "\n",
    "\n",
    "@app.route(\"/sosal\", methods=['GET','POST'])\n",
    "def hello_world1():\n",
    "    return \"hello world1\" \n",
    "\n",
    "\n",
    "@app.route(\"/sosal1\", methods=['GET','POST'])\n",
    "def hello_world2():\n",
    "    name = request.args.get('name')\n",
    "    if not name:\n",
    "        name = \"Not Available\"\n",
    "    return name"
   ]
  },
  {
   "cell_type": "code",
   "execution_count": null,
   "id": "179dc1ea",
   "metadata": {},
   "outputs": [
    {
     "name": "stdout",
     "output_type": "stream",
     "text": [
      " * Serving Flask app \"__main__\" (lazy loading)\n",
      " * Environment: production\n",
      "\u001b[31m   WARNING: This is a development server. Do not use it in a production deployment.\u001b[0m\n",
      "\u001b[2m   Use a production WSGI server instead.\u001b[0m\n",
      " * Debug mode: off\n"
     ]
    },
    {
     "name": "stderr",
     "output_type": "stream",
     "text": [
      " * Running on http://127.0.0.1:5000/ (Press CTRL+C to quit)\n",
      "127.0.0.1 - - [26/Apr/2022 17:28:39] \"GET / HTTP/1.1\" 200 -\n",
      "127.0.0.1 - - [26/Apr/2022 17:28:39] \"GET /favicon.ico HTTP/1.1\" 404 -\n"
     ]
    }
   ],
   "source": [
    "app.run(host='127.0.0.1', port=5000)"
   ]
  },
  {
   "cell_type": "code",
   "execution_count": null,
   "id": "22d4ce02-d6b3-48e3-9138-52f60b5e0aa3",
   "metadata": {},
   "outputs": [],
   "source": []
  }
 ],
 "metadata": {
  "kernelspec": {
   "display_name": "Python 3 (ipykernel)",
   "language": "python",
   "name": "python3"
  },
  "language_info": {
   "codemirror_mode": {
    "name": "ipython",
    "version": 3
   },
   "file_extension": ".py",
   "mimetype": "text/x-python",
   "name": "python",
   "nbconvert_exporter": "python",
   "pygments_lexer": "ipython3",
   "version": "3.9.7"
  },
  "widgets": {
   "application/vnd.jupyter.widget-state+json": {
    "state": {},
    "version_major": 2,
    "version_minor": 0
   }
  }
 },
 "nbformat": 4,
 "nbformat_minor": 5
}
