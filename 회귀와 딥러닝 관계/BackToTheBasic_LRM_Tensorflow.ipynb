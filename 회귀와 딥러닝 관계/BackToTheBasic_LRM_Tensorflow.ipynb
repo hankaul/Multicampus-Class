{
 "cells": [
  {
   "cell_type": "markdown",
   "id": "9e5c4c65",
   "metadata": {},
   "source": [
    "!pip3 install pandas<br>\n",
    "!pip3 install numpy<br>\n",
    "!pip3 install matplotlib<br>\n",
    "!pip3 install statsmodels<br>"
   ]
  },
  {
   "cell_type": "code",
   "execution_count": 1,
   "id": "ac596566",
   "metadata": {},
   "outputs": [],
   "source": [
    "import tensorflow as tf\n",
    "import pandas as pd\n",
    "import numpy as np\n",
    "import matplotlib.pyplot as plt\n",
    "import statsmodels.api as sm\n",
    "\n",
    "from tensorflow.keras.models import Sequential, load_model\n",
    "from tensorflow.keras.layers import Dense\n",
    "from tensorflow.keras.optimizers import SGD, Adam"
   ]
  },
  {
   "cell_type": "markdown",
   "id": "b3a9b526",
   "metadata": {},
   "source": [
    "연속형 임의의 데이터 생성"
   ]
  },
  {
   "cell_type": "code",
   "execution_count": 2,
   "id": "2f066d8a",
   "metadata": {},
   "outputs": [],
   "source": [
    "np.random.seed(0)\n",
    "\n",
    "Temperature = np.random.normal(30,3,100)\n",
    "IceAmericano = Temperature + np.random.normal(100,8,100)"
   ]
  },
  {
   "cell_type": "markdown",
   "id": "569500e2",
   "metadata": {},
   "source": [
    "데이터 프레임 형태로 2개 데이터 합치기<br>"
   ]
  },
  {
   "cell_type": "code",
   "execution_count": 6,
   "id": "db19541d",
   "metadata": {},
   "outputs": [],
   "source": [
    "Data = pd.DataFrame({\n",
    "    'Temp':Temperature,\n",
    "    'Sales':IceAmericano\n",
    "})"
   ]
  },
  {
   "cell_type": "code",
   "execution_count": 17,
   "id": "bab9c9f7",
   "metadata": {},
   "outputs": [
    {
     "data": {
      "image/png": "[encoded data removed]",
      "text/plain": [
       "<Figure size 432x288 with 1 Axes>"
      ]
     },
     "metadata": {
      "needs_background": "light"
     },
     "output_type": "display_data"
    }
   ],
   "source": [
    "plt.plot(Data['Temp'], Data['Sales'], 'o')\n",
    "plt.show()"
   ]
  },
  {
   "cell_type": "markdown",
   "id": "d3aa1d78",
   "metadata": {},
   "source": [
    "선형회귀 모델, 딥러닝 framework (keras)로 만들기"
   ]
  },
  {
   "cell_type": "code",
   "execution_count": 23,
   "id": "f2722f6c",
   "metadata": {},
   "outputs": [],
   "source": [
    "model = Sequential()\n",
    "model.add(Dense(1, activation='linear', input_shape=(1,)))\n",
    "\n",
    "model.compile(loss='mse',optimizer=Adam(learning_rate=0.5))"
   ]
  },
  {
   "cell_type": "code",
   "execution_count": 24,
   "id": "18dae18d",
   "metadata": {},
   "outputs": [
    {
     "name": "stdout",
     "output_type": "stream",
     "text": [
      "Epoch 1/50\n",
      "4/4 [==============================] - 0s 0s/step - loss: 5924.9113\n",
      "Epoch 2/50\n",
      "4/4 [==============================] - 0s 5ms/step - loss: 431.5233\n",
      "Epoch 3/50\n",
      "4/4 [==============================] - 0s 5ms/step - loss: 826.9814\n",
      "Epoch 4/50\n",
      "4/4 [==============================] - 0s 0s/step - loss: 1266.4396\n",
      "Epoch 5/50\n",
      "4/4 [==============================] - 0s 5ms/step - loss: 414.2502\n",
      "Epoch 6/50\n",
      "4/4 [==============================] - 0s 5ms/step - loss: 212.9620\n",
      "Epoch 7/50\n",
      "4/4 [==============================] - 0s 0s/step - loss: 477.2809\n",
      "Epoch 8/50\n",
      "4/4 [==============================] - 0s 5ms/step - loss: 338.0076\n",
      "Epoch 9/50\n",
      "4/4 [==============================] - 0s 0s/step - loss: 153.7899\n",
      "Epoch 10/50\n",
      "4/4 [==============================] - 0s 0s/step - loss: 235.7452\n",
      "Epoch 11/50\n",
      "4/4 [==============================] - 0s 5ms/step - loss: 214.8511\n",
      "Epoch 12/50\n",
      "4/4 [==============================] - 0s 5ms/step - loss: 135.0141\n",
      "Epoch 13/50\n",
      "4/4 [==============================] - 0s 0s/step - loss: 168.5704\n",
      "Epoch 14/50\n",
      "4/4 [==============================] - 0s 5ms/step - loss: 181.9687\n",
      "Epoch 15/50\n",
      "4/4 [==============================] - 0s 0s/step - loss: 137.5544\n",
      "Epoch 16/50\n",
      "4/4 [==============================] - 0s 0s/step - loss: 170.5248\n",
      "Epoch 17/50\n",
      "4/4 [==============================] - 0s 5ms/step - loss: 163.8051\n",
      "Epoch 18/50\n",
      "4/4 [==============================] - 0s 0s/step - loss: 137.6807\n",
      "Epoch 19/50\n",
      "4/4 [==============================] - 0s 0s/step - loss: 155.7191\n",
      "Epoch 20/50\n",
      "4/4 [==============================] - 0s 5ms/step - loss: 147.0867\n",
      "Epoch 21/50\n",
      "4/4 [==============================] - 0s 0s/step - loss: 135.4394\n",
      "Epoch 22/50\n",
      "4/4 [==============================] - 0s 0s/step - loss: 147.1535\n",
      "Epoch 23/50\n",
      "4/4 [==============================] - 0s 5ms/step - loss: 144.9802\n",
      "Epoch 24/50\n",
      "4/4 [==============================] - 0s 0s/step - loss: 147.5014\n",
      "Epoch 25/50\n",
      "4/4 [==============================] - 0s 0s/step - loss: 145.0778\n",
      "Epoch 26/50\n",
      "4/4 [==============================] - 0s 5ms/step - loss: 132.8554\n",
      "Epoch 27/50\n",
      "4/4 [==============================] - 0s 0s/step - loss: 151.3027\n",
      "Epoch 28/50\n",
      "4/4 [==============================] - 0s 0s/step - loss: 154.0671\n",
      "Epoch 29/50\n",
      "4/4 [==============================] - 0s 5ms/step - loss: 155.4914\n",
      "Epoch 30/50\n",
      "4/4 [==============================] - 0s 0s/step - loss: 158.0186\n",
      "Epoch 31/50\n",
      "4/4 [==============================] - 0s 0s/step - loss: 150.8513\n",
      "Epoch 32/50\n",
      "4/4 [==============================] - 0s 5ms/step - loss: 153.8162\n",
      "Epoch 33/50\n",
      "4/4 [==============================] - 0s 0s/step - loss: 144.1978\n",
      "Epoch 34/50\n",
      "4/4 [==============================] - 0s 0s/step - loss: 133.7089\n",
      "Epoch 35/50\n",
      "4/4 [==============================] - 0s 5ms/step - loss: 132.6242\n",
      "Epoch 36/50\n",
      "4/4 [==============================] - 0s 0s/step - loss: 140.0706\n",
      "Epoch 37/50\n",
      "4/4 [==============================] - 0s 0s/step - loss: 138.3164\n",
      "Epoch 38/50\n",
      "4/4 [==============================] - 0s 5ms/step - loss: 153.9228\n",
      "Epoch 39/50\n",
      "4/4 [==============================] - 0s 0s/step - loss: 160.5603\n",
      "Epoch 40/50\n",
      "4/4 [==============================] - 0s 0s/step - loss: 142.4920\n",
      "Epoch 41/50\n",
      "4/4 [==============================] - 0s 5ms/step - loss: 133.5438\n",
      "Epoch 42/50\n",
      "4/4 [==============================] - 0s 0s/step - loss: 142.7105\n",
      "Epoch 43/50\n",
      "4/4 [==============================] - 0s 0s/step - loss: 147.9660\n",
      "Epoch 44/50\n",
      "4/4 [==============================] - 0s 5ms/step - loss: 127.8445\n",
      "Epoch 45/50\n",
      "4/4 [==============================] - 0s 0s/step - loss: 146.1152\n",
      "Epoch 46/50\n",
      "4/4 [==============================] - 0s 0s/step - loss: 125.9804\n",
      "Epoch 47/50\n",
      "4/4 [==============================] - 0s 5ms/step - loss: 133.0442\n",
      "Epoch 48/50\n",
      "4/4 [==============================] - 0s 0s/step - loss: 139.8034\n",
      "Epoch 49/50\n",
      "4/4 [==============================] - 0s 0s/step - loss: 136.5768\n",
      "Epoch 50/50\n",
      "4/4 [==============================] - 0s 5ms/step - loss: 140.2402\n"
     ]
    },
    {
     "data": {
      "text/plain": [
       "<tensorflow.python.keras.callbacks.History at 0x27d15e20130>"
      ]
     },
     "execution_count": 24,
     "metadata": {},
     "output_type": "execute_result"
    }
   ],
   "source": [
    "model.fit(x=Data[['Temp']], y=Data[['Sales']], epochs=50, shuffle=True)"
   ]
  },
  {
   "cell_type": "code",
   "execution_count": 25,
   "id": "94372311",
   "metadata": {},
   "outputs": [
    {
     "data": {
      "text/plain": [
       "array([[151.84605 ],\n",
       "       [135.08057 ],\n",
       "       [142.19269 ],\n",
       "       [157.70757 ],\n",
       "       [153.1184  ],\n",
       "       [118.14863 ],\n",
       "       [141.84052 ],\n",
       "       [128.30115 ],\n",
       "       [128.89288 ],\n",
       "       [135.20891 ],\n",
       "       [131.93233 ],\n",
       "       [148.03815 ],\n",
       "       [139.51663 ],\n",
       "       [131.65735 ],\n",
       "       [135.61781 ],\n",
       "       [134.26332 ],\n",
       "       [148.52747 ],\n",
       "       [127.6398  ],\n",
       "       [134.01003 ],\n",
       "       [119.66283 ],\n",
       "       [ 98.779396],\n",
       "       [138.1962  ],\n",
       "       [140.78764 ],\n",
       "       [121.03871 ],\n",
       "       [158.06235 ],\n",
       "       [112.28409 ],\n",
       "       [130.72417 ],\n",
       "       [127.86075 ],\n",
       "       [149.00317 ],\n",
       "       [148.22359 ],\n",
       "       [132.06635 ],\n",
       "       [134.8102  ],\n",
       "       [119.248695],\n",
       "       [105.81301 ],\n",
       "       [125.88502 ],\n",
       "       [132.08359 ],\n",
       "       [145.28487 ],\n",
       "       [144.94177 ],\n",
       "       [125.40052 ],\n",
       "       [126.44566 ],\n",
       "       [117.272484],\n",
       "       [112.7063  ],\n",
       "       [109.187584],\n",
       "       [154.14133 ],\n",
       "       [123.89684 ],\n",
       "       [124.77671 ],\n",
       "       [114.76186 ],\n",
       "       [139.71887 ],\n",
       "       [110.32306 ],\n",
       "       [127.54659 ],\n",
       "       [119.15428 ],\n",
       "       [134.91763 ],\n",
       "       [123.882675],\n",
       "       [115.64892 ],\n",
       "       [129.81526 ],\n",
       "       [135.4269  ],\n",
       "       [130.97934 ],\n",
       "       [133.87978 ],\n",
       "       [122.364365],\n",
       "       [125.70273 ],\n",
       "       [121.895546],\n",
       "       [125.74192 ],\n",
       "       [120.16618 ],\n",
       "       [108.94158 ],\n",
       "       [132.34267 ],\n",
       "       [125.22284 ],\n",
       "       [110.12269 ],\n",
       "       [135.85037 ],\n",
       "       [119.008835],\n",
       "       [130.80022 ],\n",
       "       [139.12393 ],\n",
       "       [131.7472  ],\n",
       "       [144.16762 ],\n",
       "       [114.98275 ],\n",
       "       [135.10742 ],\n",
       "       [121.743744],\n",
       "       [119.45753 ],\n",
       "       [123.04625 ],\n",
       "       [126.33196 ],\n",
       "       [130.85208 ],\n",
       "       [115.83923 ],\n",
       "       [141.23499 ],\n",
       "       [135.88579 ],\n",
       "       [111.27762 ],\n",
       "       [148.45583 ],\n",
       "       [153.46664 ],\n",
       "       [144.65167 ],\n",
       "       [127.94998 ],\n",
       "       [116.9996  ],\n",
       "       [143.1234  ],\n",
       "       [125.20568 ],\n",
       "       [145.18843 ],\n",
       "       [132.72188 ],\n",
       "       [142.16689 ],\n",
       "       [134.54227 ],\n",
       "       [138.84715 ],\n",
       "       [130.29076 ],\n",
       "       [152.11426 ],\n",
       "       [131.72173 ],\n",
       "       [135.10309 ]], dtype=float32)"
      ]
     },
     "execution_count": 25,
     "metadata": {},
     "output_type": "execute_result"
    }
   ],
   "source": []
  },
  {
   "cell_type": "code",
   "execution_count": 26,
   "id": "dda2d344",
   "metadata": {},
   "outputs": [
    {
     "data": {
      "image/png": "[encoded data removed]",
      "text/plain": [
       "<Figure size 432x288 with 1 Axes>"
      ]
     },
     "metadata": {
      "needs_background": "light"
     },
     "output_type": "display_data"
    }
   ],
   "source": [
    "plt.plot(Data['Temp'], Data['Sales'], 'o')\n",
    "plt.plot(Data['Temp'], model.predict(Data[['Temp']]))\n",
    "plt.show()"
   ]
  }
 ],
 "metadata": {
  "kernelspec": {
   "display_name": "Python 3 (ipykernel)",
   "language": "python",
   "name": "python3"
  },
  "language_info": {
   "codemirror_mode": {
    "name": "ipython",
    "version": 3
   },
   "file_extension": ".py",
   "mimetype": "text/x-python",
   "name": "python",
   "nbconvert_exporter": "python",
   "pygments_lexer": "ipython3",
   "version": "3.9.7"
  },
  "widgets": {
   "application/vnd.jupyter.widget-state+json": {
    "state": {},
    "version_major": 2,
    "version_minor": 0
   }
  }
 },
 "nbformat": 4,
 "nbformat_minor": 5
}
